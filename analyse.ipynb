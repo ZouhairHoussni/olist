{
 "cells": [
  {
   "cell_type": "code",
   "execution_count": null,
   "metadata": {},
   "outputs": [],
   "source": []
  }
 ],
 "metadata": {
  "kernelspec": {
   "display_name": "model_env",
   "language": "python",
   "name": "python3"
  },
  "language_info": {
   "name": "python",
   "version": "3.9.15 (main, Nov 24 2022, 14:31:59) \n[GCC 11.2.0]"
  },
  "orig_nbformat": 4,
  "vscode": {
   "interpreter": {
    "hash": "b0ccbecc6e0aafc6ccc6ffa588f3248f9ee48af41cea802920ac51a94fbfb1b9"
   }
  }
 },
 "nbformat": 4,
 "nbformat_minor": 2
}
