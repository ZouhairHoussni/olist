{
 "cells": [
  {
   "cell_type": "code",
   "execution_count": 563,
   "metadata": {},
   "outputs": [],
   "source": [
    "# Import module for data manipulation\n",
    "import pandas as pd\n",
    "# Import module for linear algebra\n",
    "import numpy as np\n",
    "# Import module for data visualization\n",
    "import matplotlib.pyplot as plt\n",
    "import plotly.graph_objects as go\n",
    "import plotly.express as px\n",
    "import seaborn as sns\n",
    "# Import module for k-means\n",
    "from sklearn.cluster import KMeans, DBSCAN\n",
    "#import module k-prototype\n",
    "from kmodes.kprototypes import KPrototypes\n",
    "# Ignore warnings\n",
    "import warnings\n",
    "warnings.filterwarnings('ignore', category = FutureWarning)\n",
    "# Format scientific notation from Pandas\n",
    "pd.set_option('display.max_columns', None)\n",
    "\n",
    "#Pour l'Ari\n",
    "from sklearn.metrics.cluster import adjusted_rand_score\n",
    "\n",
    "# prepocessing sklearn\n",
    "from sklearn.compose import make_column_transformer,make_column_selector\n",
    "from sklearn.preprocessing import OneHotEncoder, StandardScaler, RobustScaler, MinMaxScaler, FunctionTransformer\n",
    "from sklearn.decomposition import PCA\n",
    "from sklearn.pipeline import make_pipeline\n",
    "from sklearn.manifold import TSNE\n",
    "\n",
    "#Pour la localisation du coude\n",
    "from kneed import KneeLocator, DataGenerator as dg"
   ]
  },
  {
   "cell_type": "code",
   "execution_count": 564,
   "metadata": {},
   "outputs": [
    {
     "data": {
      "text/html": [
       "<div>\n",
       "<style scoped>\n",
       "    .dataframe tbody tr th:only-of-type {\n",
       "        vertical-align: middle;\n",
       "    }\n",
       "\n",
       "    .dataframe tbody tr th {\n",
       "        vertical-align: top;\n",
       "    }\n",
       "\n",
       "    .dataframe thead th {\n",
       "        text-align: right;\n",
       "    }\n",
       "</style>\n",
       "<table border=\"1\" class=\"dataframe\">\n",
       "  <thead>\n",
       "    <tr style=\"text-align: right;\">\n",
       "      <th></th>\n",
       "      <th>payment_type</th>\n",
       "      <th>product_category</th>\n",
       "      <th>payment_installments</th>\n",
       "      <th>orders</th>\n",
       "      <th>products</th>\n",
       "      <th>sellers</th>\n",
       "      <th>payment_value</th>\n",
       "      <th>review_score</th>\n",
       "      <th>price</th>\n",
       "      <th>freight_value</th>\n",
       "      <th>recency</th>\n",
       "    </tr>\n",
       "  </thead>\n",
       "  <tbody>\n",
       "    <tr>\n",
       "      <th>0</th>\n",
       "      <td>credit_card</td>\n",
       "      <td>Home</td>\n",
       "      <td>8</td>\n",
       "      <td>1</td>\n",
       "      <td>1</td>\n",
       "      <td>1</td>\n",
       "      <td>141.90</td>\n",
       "      <td>5.0</td>\n",
       "      <td>129.90</td>\n",
       "      <td>12.00</td>\n",
       "      <td>112</td>\n",
       "    </tr>\n",
       "    <tr>\n",
       "      <th>1</th>\n",
       "      <td>credit_card</td>\n",
       "      <td>Health_Beauty</td>\n",
       "      <td>1</td>\n",
       "      <td>1</td>\n",
       "      <td>1</td>\n",
       "      <td>1</td>\n",
       "      <td>27.19</td>\n",
       "      <td>4.0</td>\n",
       "      <td>18.90</td>\n",
       "      <td>8.29</td>\n",
       "      <td>115</td>\n",
       "    </tr>\n",
       "    <tr>\n",
       "      <th>2</th>\n",
       "      <td>credit_card</td>\n",
       "      <td>Office_Supplies</td>\n",
       "      <td>8</td>\n",
       "      <td>1</td>\n",
       "      <td>1</td>\n",
       "      <td>1</td>\n",
       "      <td>86.22</td>\n",
       "      <td>3.0</td>\n",
       "      <td>69.00</td>\n",
       "      <td>17.22</td>\n",
       "      <td>538</td>\n",
       "    </tr>\n",
       "    <tr>\n",
       "      <th>3</th>\n",
       "      <td>credit_card</td>\n",
       "      <td>Technology</td>\n",
       "      <td>4</td>\n",
       "      <td>1</td>\n",
       "      <td>1</td>\n",
       "      <td>1</td>\n",
       "      <td>43.62</td>\n",
       "      <td>4.0</td>\n",
       "      <td>25.99</td>\n",
       "      <td>17.63</td>\n",
       "      <td>322</td>\n",
       "    </tr>\n",
       "    <tr>\n",
       "      <th>4</th>\n",
       "      <td>credit_card</td>\n",
       "      <td>Technology</td>\n",
       "      <td>6</td>\n",
       "      <td>1</td>\n",
       "      <td>1</td>\n",
       "      <td>1</td>\n",
       "      <td>196.89</td>\n",
       "      <td>5.0</td>\n",
       "      <td>180.00</td>\n",
       "      <td>16.89</td>\n",
       "      <td>289</td>\n",
       "    </tr>\n",
       "    <tr>\n",
       "      <th>...</th>\n",
       "      <td>...</td>\n",
       "      <td>...</td>\n",
       "      <td>...</td>\n",
       "      <td>...</td>\n",
       "      <td>...</td>\n",
       "      <td>...</td>\n",
       "      <td>...</td>\n",
       "      <td>...</td>\n",
       "      <td>...</td>\n",
       "      <td>...</td>\n",
       "      <td>...</td>\n",
       "    </tr>\n",
       "    <tr>\n",
       "      <th>91474</th>\n",
       "      <td>credit_card</td>\n",
       "      <td>Health_Beauty</td>\n",
       "      <td>10</td>\n",
       "      <td>2</td>\n",
       "      <td>2</td>\n",
       "      <td>2</td>\n",
       "      <td>4134.84</td>\n",
       "      <td>5.0</td>\n",
       "      <td>785.00</td>\n",
       "      <td>248.71</td>\n",
       "      <td>448</td>\n",
       "    </tr>\n",
       "    <tr>\n",
       "      <th>91475</th>\n",
       "      <td>credit_card</td>\n",
       "      <td>Baby</td>\n",
       "      <td>1</td>\n",
       "      <td>1</td>\n",
       "      <td>1</td>\n",
       "      <td>1</td>\n",
       "      <td>84.58</td>\n",
       "      <td>4.0</td>\n",
       "      <td>64.89</td>\n",
       "      <td>19.69</td>\n",
       "      <td>263</td>\n",
       "    </tr>\n",
       "    <tr>\n",
       "      <th>91476</th>\n",
       "      <td>credit_card</td>\n",
       "      <td>Automotive</td>\n",
       "      <td>1</td>\n",
       "      <td>1</td>\n",
       "      <td>1</td>\n",
       "      <td>1</td>\n",
       "      <td>112.46</td>\n",
       "      <td>5.0</td>\n",
       "      <td>89.90</td>\n",
       "      <td>22.56</td>\n",
       "      <td>569</td>\n",
       "    </tr>\n",
       "    <tr>\n",
       "      <th>91477</th>\n",
       "      <td>credit_card</td>\n",
       "      <td>Fashion_Accessories</td>\n",
       "      <td>5</td>\n",
       "      <td>1</td>\n",
       "      <td>1</td>\n",
       "      <td>1</td>\n",
       "      <td>133.69</td>\n",
       "      <td>5.0</td>\n",
       "      <td>115.00</td>\n",
       "      <td>18.69</td>\n",
       "      <td>120</td>\n",
       "    </tr>\n",
       "    <tr>\n",
       "      <th>91478</th>\n",
       "      <td>credit_card</td>\n",
       "      <td>Health_Beauty</td>\n",
       "      <td>4</td>\n",
       "      <td>1</td>\n",
       "      <td>1</td>\n",
       "      <td>1</td>\n",
       "      <td>71.56</td>\n",
       "      <td>5.0</td>\n",
       "      <td>56.99</td>\n",
       "      <td>14.57</td>\n",
       "      <td>485</td>\n",
       "    </tr>\n",
       "  </tbody>\n",
       "</table>\n",
       "<p>91479 rows × 11 columns</p>\n",
       "</div>"
      ],
      "text/plain": [
       "      payment_type     product_category  payment_installments  orders  \\\n",
       "0      credit_card                 Home                     8       1   \n",
       "1      credit_card        Health_Beauty                     1       1   \n",
       "2      credit_card      Office_Supplies                     8       1   \n",
       "3      credit_card           Technology                     4       1   \n",
       "4      credit_card           Technology                     6       1   \n",
       "...            ...                  ...                   ...     ...   \n",
       "91474  credit_card        Health_Beauty                    10       2   \n",
       "91475  credit_card                 Baby                     1       1   \n",
       "91476  credit_card           Automotive                     1       1   \n",
       "91477  credit_card  Fashion_Accessories                     5       1   \n",
       "91478  credit_card        Health_Beauty                     4       1   \n",
       "\n",
       "       products  sellers  payment_value  review_score   price  freight_value  \\\n",
       "0             1        1         141.90           5.0  129.90          12.00   \n",
       "1             1        1          27.19           4.0   18.90           8.29   \n",
       "2             1        1          86.22           3.0   69.00          17.22   \n",
       "3             1        1          43.62           4.0   25.99          17.63   \n",
       "4             1        1         196.89           5.0  180.00          16.89   \n",
       "...         ...      ...            ...           ...     ...            ...   \n",
       "91474         2        2        4134.84           5.0  785.00         248.71   \n",
       "91475         1        1          84.58           4.0   64.89          19.69   \n",
       "91476         1        1         112.46           5.0   89.90          22.56   \n",
       "91477         1        1         133.69           5.0  115.00          18.69   \n",
       "91478         1        1          71.56           5.0   56.99          14.57   \n",
       "\n",
       "       recency  \n",
       "0          112  \n",
       "1          115  \n",
       "2          538  \n",
       "3          322  \n",
       "4          289  \n",
       "...        ...  \n",
       "91474      448  \n",
       "91475      263  \n",
       "91476      569  \n",
       "91477      120  \n",
       "91478      485  \n",
       "\n",
       "[91479 rows x 11 columns]"
      ]
     },
     "execution_count": 564,
     "metadata": {},
     "output_type": "execute_result"
    }
   ],
   "source": [
    "df = pd.read_csv('data.csv')\n",
    "df.rename(columns={\"order_item_id\": \"orders\", \"product_id\": \"products\", \"seller_id\":'sellers'}, inplace=True)\n",
    "df['payment_installments']=df['payment_installments'].astype('int64')\n",
    "df= df.drop(['customer_city','customer_state','customer_zip_code_prefix','seller_city','seller_state','customer_unique_id.1','order_purchase_timestamp','customer_unique_id'], axis=1)\n",
    "df"
   ]
  },
  {
   "cell_type": "code",
   "execution_count": 565,
   "metadata": {},
   "outputs": [
    {
     "data": {
      "text/plain": [
       "Home                   22393\n",
       "Technology             13021\n",
       "Health_Beauty          11351\n",
       "Fashion_Accessories     8533\n",
       "Toys_Games              7941\n",
       "Sports_Leisure          7101\n",
       "other                   6291\n",
       "Construction_Tools      5003\n",
       "Automotive              3722\n",
       "Office_Supplies         3370\n",
       "Baby                    2753\n",
       "Name: product_category, dtype: int64"
      ]
     },
     "execution_count": 565,
     "metadata": {},
     "output_type": "execute_result"
    }
   ],
   "source": [
    "from collections import Counter\n",
    "\n",
    "outre_cat=list((Counter(df.product_category.value_counts().index.to_list())-Counter(df.product_category.value_counts().index.to_list()[0:10])).elements())\n",
    "outre_cat\n",
    "df.replace(outre_cat,\"other\", inplace=True)\n",
    "df.product_category.value_counts()"
   ]
  },
  {
   "cell_type": "code",
   "execution_count": 566,
   "metadata": {},
   "outputs": [],
   "source": [
    "transformer = make_column_transformer(\n",
    "    (OneHotEncoder(sparse=False),make_column_selector(dtype_exclude=np.number)),\n",
    "    (MinMaxScaler(),make_column_selector(dtype_include=np.number))\n",
    "    )"
   ]
  },
  {
   "cell_type": "code",
   "execution_count": 567,
   "metadata": {},
   "outputs": [
    {
     "data": {
      "text/html": [
       "<div>\n",
       "<style scoped>\n",
       "    .dataframe tbody tr th:only-of-type {\n",
       "        vertical-align: middle;\n",
       "    }\n",
       "\n",
       "    .dataframe tbody tr th {\n",
       "        vertical-align: top;\n",
       "    }\n",
       "\n",
       "    .dataframe thead th {\n",
       "        text-align: right;\n",
       "    }\n",
       "</style>\n",
       "<table border=\"1\" class=\"dataframe\">\n",
       "  <thead>\n",
       "    <tr style=\"text-align: right;\">\n",
       "      <th></th>\n",
       "      <th>0</th>\n",
       "      <th>1</th>\n",
       "      <th>2</th>\n",
       "      <th>3</th>\n",
       "      <th>4</th>\n",
       "      <th>5</th>\n",
       "      <th>6</th>\n",
       "      <th>7</th>\n",
       "      <th>8</th>\n",
       "      <th>9</th>\n",
       "      <th>10</th>\n",
       "      <th>11</th>\n",
       "      <th>12</th>\n",
       "      <th>13</th>\n",
       "      <th>14</th>\n",
       "      <th>15</th>\n",
       "      <th>16</th>\n",
       "      <th>17</th>\n",
       "      <th>18</th>\n",
       "      <th>19</th>\n",
       "      <th>20</th>\n",
       "      <th>21</th>\n",
       "      <th>22</th>\n",
       "      <th>23</th>\n",
       "    </tr>\n",
       "  </thead>\n",
       "  <tbody>\n",
       "    <tr>\n",
       "      <th>0</th>\n",
       "      <td>0.0</td>\n",
       "      <td>1.0</td>\n",
       "      <td>0.0</td>\n",
       "      <td>0.0</td>\n",
       "      <td>0.0</td>\n",
       "      <td>0.0</td>\n",
       "      <td>0.0</td>\n",
       "      <td>0.0</td>\n",
       "      <td>0.0</td>\n",
       "      <td>1.0</td>\n",
       "      <td>0.0</td>\n",
       "      <td>0.0</td>\n",
       "      <td>0.0</td>\n",
       "      <td>0.0</td>\n",
       "      <td>0.0</td>\n",
       "      <td>0.333333</td>\n",
       "      <td>0.000000</td>\n",
       "      <td>0.000000</td>\n",
       "      <td>0.000000</td>\n",
       "      <td>0.001210</td>\n",
       "      <td>1.00</td>\n",
       "      <td>0.019164</td>\n",
       "      <td>0.029291</td>\n",
       "      <td>0.159712</td>\n",
       "    </tr>\n",
       "    <tr>\n",
       "      <th>1</th>\n",
       "      <td>0.0</td>\n",
       "      <td>1.0</td>\n",
       "      <td>0.0</td>\n",
       "      <td>0.0</td>\n",
       "      <td>0.0</td>\n",
       "      <td>0.0</td>\n",
       "      <td>0.0</td>\n",
       "      <td>0.0</td>\n",
       "      <td>1.0</td>\n",
       "      <td>0.0</td>\n",
       "      <td>0.0</td>\n",
       "      <td>0.0</td>\n",
       "      <td>0.0</td>\n",
       "      <td>0.0</td>\n",
       "      <td>0.0</td>\n",
       "      <td>0.041667</td>\n",
       "      <td>0.000000</td>\n",
       "      <td>0.000000</td>\n",
       "      <td>0.000000</td>\n",
       "      <td>0.000161</td>\n",
       "      <td>0.75</td>\n",
       "      <td>0.002680</td>\n",
       "      <td>0.020235</td>\n",
       "      <td>0.164029</td>\n",
       "    </tr>\n",
       "    <tr>\n",
       "      <th>2</th>\n",
       "      <td>0.0</td>\n",
       "      <td>1.0</td>\n",
       "      <td>0.0</td>\n",
       "      <td>0.0</td>\n",
       "      <td>0.0</td>\n",
       "      <td>0.0</td>\n",
       "      <td>0.0</td>\n",
       "      <td>0.0</td>\n",
       "      <td>0.0</td>\n",
       "      <td>0.0</td>\n",
       "      <td>1.0</td>\n",
       "      <td>0.0</td>\n",
       "      <td>0.0</td>\n",
       "      <td>0.0</td>\n",
       "      <td>0.0</td>\n",
       "      <td>0.333333</td>\n",
       "      <td>0.000000</td>\n",
       "      <td>0.000000</td>\n",
       "      <td>0.000000</td>\n",
       "      <td>0.000701</td>\n",
       "      <td>0.50</td>\n",
       "      <td>0.010120</td>\n",
       "      <td>0.042033</td>\n",
       "      <td>0.772662</td>\n",
       "    </tr>\n",
       "    <tr>\n",
       "      <th>3</th>\n",
       "      <td>0.0</td>\n",
       "      <td>1.0</td>\n",
       "      <td>0.0</td>\n",
       "      <td>0.0</td>\n",
       "      <td>0.0</td>\n",
       "      <td>0.0</td>\n",
       "      <td>0.0</td>\n",
       "      <td>0.0</td>\n",
       "      <td>0.0</td>\n",
       "      <td>0.0</td>\n",
       "      <td>0.0</td>\n",
       "      <td>0.0</td>\n",
       "      <td>1.0</td>\n",
       "      <td>0.0</td>\n",
       "      <td>0.0</td>\n",
       "      <td>0.166667</td>\n",
       "      <td>0.000000</td>\n",
       "      <td>0.000000</td>\n",
       "      <td>0.000000</td>\n",
       "      <td>0.000311</td>\n",
       "      <td>0.75</td>\n",
       "      <td>0.003733</td>\n",
       "      <td>0.043034</td>\n",
       "      <td>0.461871</td>\n",
       "    </tr>\n",
       "    <tr>\n",
       "      <th>4</th>\n",
       "      <td>0.0</td>\n",
       "      <td>1.0</td>\n",
       "      <td>0.0</td>\n",
       "      <td>0.0</td>\n",
       "      <td>0.0</td>\n",
       "      <td>0.0</td>\n",
       "      <td>0.0</td>\n",
       "      <td>0.0</td>\n",
       "      <td>0.0</td>\n",
       "      <td>0.0</td>\n",
       "      <td>0.0</td>\n",
       "      <td>0.0</td>\n",
       "      <td>1.0</td>\n",
       "      <td>0.0</td>\n",
       "      <td>0.0</td>\n",
       "      <td>0.250000</td>\n",
       "      <td>0.000000</td>\n",
       "      <td>0.000000</td>\n",
       "      <td>0.000000</td>\n",
       "      <td>0.001714</td>\n",
       "      <td>1.00</td>\n",
       "      <td>0.026603</td>\n",
       "      <td>0.041227</td>\n",
       "      <td>0.414388</td>\n",
       "    </tr>\n",
       "    <tr>\n",
       "      <th>...</th>\n",
       "      <td>...</td>\n",
       "      <td>...</td>\n",
       "      <td>...</td>\n",
       "      <td>...</td>\n",
       "      <td>...</td>\n",
       "      <td>...</td>\n",
       "      <td>...</td>\n",
       "      <td>...</td>\n",
       "      <td>...</td>\n",
       "      <td>...</td>\n",
       "      <td>...</td>\n",
       "      <td>...</td>\n",
       "      <td>...</td>\n",
       "      <td>...</td>\n",
       "      <td>...</td>\n",
       "      <td>...</td>\n",
       "      <td>...</td>\n",
       "      <td>...</td>\n",
       "      <td>...</td>\n",
       "      <td>...</td>\n",
       "      <td>...</td>\n",
       "      <td>...</td>\n",
       "      <td>...</td>\n",
       "      <td>...</td>\n",
       "    </tr>\n",
       "    <tr>\n",
       "      <th>91474</th>\n",
       "      <td>0.0</td>\n",
       "      <td>1.0</td>\n",
       "      <td>0.0</td>\n",
       "      <td>0.0</td>\n",
       "      <td>0.0</td>\n",
       "      <td>0.0</td>\n",
       "      <td>0.0</td>\n",
       "      <td>0.0</td>\n",
       "      <td>1.0</td>\n",
       "      <td>0.0</td>\n",
       "      <td>0.0</td>\n",
       "      <td>0.0</td>\n",
       "      <td>0.0</td>\n",
       "      <td>0.0</td>\n",
       "      <td>0.0</td>\n",
       "      <td>0.416667</td>\n",
       "      <td>0.013514</td>\n",
       "      <td>0.013514</td>\n",
       "      <td>0.013514</td>\n",
       "      <td>0.037741</td>\n",
       "      <td>1.00</td>\n",
       "      <td>0.116444</td>\n",
       "      <td>0.607084</td>\n",
       "      <td>0.643165</td>\n",
       "    </tr>\n",
       "    <tr>\n",
       "      <th>91475</th>\n",
       "      <td>0.0</td>\n",
       "      <td>1.0</td>\n",
       "      <td>0.0</td>\n",
       "      <td>0.0</td>\n",
       "      <td>0.0</td>\n",
       "      <td>1.0</td>\n",
       "      <td>0.0</td>\n",
       "      <td>0.0</td>\n",
       "      <td>0.0</td>\n",
       "      <td>0.0</td>\n",
       "      <td>0.0</td>\n",
       "      <td>0.0</td>\n",
       "      <td>0.0</td>\n",
       "      <td>0.0</td>\n",
       "      <td>0.0</td>\n",
       "      <td>0.041667</td>\n",
       "      <td>0.000000</td>\n",
       "      <td>0.000000</td>\n",
       "      <td>0.000000</td>\n",
       "      <td>0.000686</td>\n",
       "      <td>0.75</td>\n",
       "      <td>0.009510</td>\n",
       "      <td>0.048062</td>\n",
       "      <td>0.376978</td>\n",
       "    </tr>\n",
       "    <tr>\n",
       "      <th>91476</th>\n",
       "      <td>0.0</td>\n",
       "      <td>1.0</td>\n",
       "      <td>0.0</td>\n",
       "      <td>0.0</td>\n",
       "      <td>1.0</td>\n",
       "      <td>0.0</td>\n",
       "      <td>0.0</td>\n",
       "      <td>0.0</td>\n",
       "      <td>0.0</td>\n",
       "      <td>0.0</td>\n",
       "      <td>0.0</td>\n",
       "      <td>0.0</td>\n",
       "      <td>0.0</td>\n",
       "      <td>0.0</td>\n",
       "      <td>0.0</td>\n",
       "      <td>0.041667</td>\n",
       "      <td>0.000000</td>\n",
       "      <td>0.000000</td>\n",
       "      <td>0.000000</td>\n",
       "      <td>0.000941</td>\n",
       "      <td>1.00</td>\n",
       "      <td>0.013224</td>\n",
       "      <td>0.055067</td>\n",
       "      <td>0.817266</td>\n",
       "    </tr>\n",
       "    <tr>\n",
       "      <th>91477</th>\n",
       "      <td>0.0</td>\n",
       "      <td>1.0</td>\n",
       "      <td>0.0</td>\n",
       "      <td>0.0</td>\n",
       "      <td>0.0</td>\n",
       "      <td>0.0</td>\n",
       "      <td>0.0</td>\n",
       "      <td>1.0</td>\n",
       "      <td>0.0</td>\n",
       "      <td>0.0</td>\n",
       "      <td>0.0</td>\n",
       "      <td>0.0</td>\n",
       "      <td>0.0</td>\n",
       "      <td>0.0</td>\n",
       "      <td>0.0</td>\n",
       "      <td>0.208333</td>\n",
       "      <td>0.000000</td>\n",
       "      <td>0.000000</td>\n",
       "      <td>0.000000</td>\n",
       "      <td>0.001135</td>\n",
       "      <td>1.00</td>\n",
       "      <td>0.016951</td>\n",
       "      <td>0.045621</td>\n",
       "      <td>0.171223</td>\n",
       "    </tr>\n",
       "    <tr>\n",
       "      <th>91478</th>\n",
       "      <td>0.0</td>\n",
       "      <td>1.0</td>\n",
       "      <td>0.0</td>\n",
       "      <td>0.0</td>\n",
       "      <td>0.0</td>\n",
       "      <td>0.0</td>\n",
       "      <td>0.0</td>\n",
       "      <td>0.0</td>\n",
       "      <td>1.0</td>\n",
       "      <td>0.0</td>\n",
       "      <td>0.0</td>\n",
       "      <td>0.0</td>\n",
       "      <td>0.0</td>\n",
       "      <td>0.0</td>\n",
       "      <td>0.0</td>\n",
       "      <td>0.166667</td>\n",
       "      <td>0.000000</td>\n",
       "      <td>0.000000</td>\n",
       "      <td>0.000000</td>\n",
       "      <td>0.000567</td>\n",
       "      <td>1.00</td>\n",
       "      <td>0.008337</td>\n",
       "      <td>0.035564</td>\n",
       "      <td>0.696403</td>\n",
       "    </tr>\n",
       "  </tbody>\n",
       "</table>\n",
       "<p>91479 rows × 24 columns</p>\n",
       "</div>"
      ],
      "text/plain": [
       "        0    1    2    3    4    5    6    7    8    9    10   11   12   13  \\\n",
       "0      0.0  1.0  0.0  0.0  0.0  0.0  0.0  0.0  0.0  1.0  0.0  0.0  0.0  0.0   \n",
       "1      0.0  1.0  0.0  0.0  0.0  0.0  0.0  0.0  1.0  0.0  0.0  0.0  0.0  0.0   \n",
       "2      0.0  1.0  0.0  0.0  0.0  0.0  0.0  0.0  0.0  0.0  1.0  0.0  0.0  0.0   \n",
       "3      0.0  1.0  0.0  0.0  0.0  0.0  0.0  0.0  0.0  0.0  0.0  0.0  1.0  0.0   \n",
       "4      0.0  1.0  0.0  0.0  0.0  0.0  0.0  0.0  0.0  0.0  0.0  0.0  1.0  0.0   \n",
       "...    ...  ...  ...  ...  ...  ...  ...  ...  ...  ...  ...  ...  ...  ...   \n",
       "91474  0.0  1.0  0.0  0.0  0.0  0.0  0.0  0.0  1.0  0.0  0.0  0.0  0.0  0.0   \n",
       "91475  0.0  1.0  0.0  0.0  0.0  1.0  0.0  0.0  0.0  0.0  0.0  0.0  0.0  0.0   \n",
       "91476  0.0  1.0  0.0  0.0  1.0  0.0  0.0  0.0  0.0  0.0  0.0  0.0  0.0  0.0   \n",
       "91477  0.0  1.0  0.0  0.0  0.0  0.0  0.0  1.0  0.0  0.0  0.0  0.0  0.0  0.0   \n",
       "91478  0.0  1.0  0.0  0.0  0.0  0.0  0.0  0.0  1.0  0.0  0.0  0.0  0.0  0.0   \n",
       "\n",
       "        14        15        16        17        18        19    20        21  \\\n",
       "0      0.0  0.333333  0.000000  0.000000  0.000000  0.001210  1.00  0.019164   \n",
       "1      0.0  0.041667  0.000000  0.000000  0.000000  0.000161  0.75  0.002680   \n",
       "2      0.0  0.333333  0.000000  0.000000  0.000000  0.000701  0.50  0.010120   \n",
       "3      0.0  0.166667  0.000000  0.000000  0.000000  0.000311  0.75  0.003733   \n",
       "4      0.0  0.250000  0.000000  0.000000  0.000000  0.001714  1.00  0.026603   \n",
       "...    ...       ...       ...       ...       ...       ...   ...       ...   \n",
       "91474  0.0  0.416667  0.013514  0.013514  0.013514  0.037741  1.00  0.116444   \n",
       "91475  0.0  0.041667  0.000000  0.000000  0.000000  0.000686  0.75  0.009510   \n",
       "91476  0.0  0.041667  0.000000  0.000000  0.000000  0.000941  1.00  0.013224   \n",
       "91477  0.0  0.208333  0.000000  0.000000  0.000000  0.001135  1.00  0.016951   \n",
       "91478  0.0  0.166667  0.000000  0.000000  0.000000  0.000567  1.00  0.008337   \n",
       "\n",
       "             22        23  \n",
       "0      0.029291  0.159712  \n",
       "1      0.020235  0.164029  \n",
       "2      0.042033  0.772662  \n",
       "3      0.043034  0.461871  \n",
       "4      0.041227  0.414388  \n",
       "...         ...       ...  \n",
       "91474  0.607084  0.643165  \n",
       "91475  0.048062  0.376978  \n",
       "91476  0.055067  0.817266  \n",
       "91477  0.045621  0.171223  \n",
       "91478  0.035564  0.696403  \n",
       "\n",
       "[91479 rows x 24 columns]"
      ]
     },
     "execution_count": 567,
     "metadata": {},
     "output_type": "execute_result"
    }
   ],
   "source": [
    "df = transformer.fit_transform(df)\n",
    "df=pd.DataFrame(df)\n",
    "df"
   ]
  },
  {
   "cell_type": "code",
   "execution_count": 568,
   "metadata": {},
   "outputs": [
    {
     "name": "stdout",
     "output_type": "stream",
     "text": [
      "Cluster initiation: 1\n",
      "Cluster initiation: 2\n",
      "Cluster initiation: 3\n",
      "Cluster initiation: 4\n",
      "Cluster initiation: 5\n",
      "Cluster initiation: 6\n",
      "Cluster initiation: 7\n",
      "Cluster initiation: 8\n",
      "Cluster initiation: 9\n"
     ]
    }
   ],
   "source": [
    "# Choose optimal K using Elbow method\n",
    "inertia = []\n",
    "for cluster in range(1, 10):\n",
    "        kmeans = KMeans( n_clusters = cluster)\n",
    "        kmeans.fit(df)\n",
    "        inertia.append(kmeans.inertia_)\n",
    "        print('Cluster initiation: {}'.format(cluster))\n",
    "\n"
   ]
  },
  {
   "cell_type": "code",
   "execution_count": 569,
   "metadata": {},
   "outputs": [
    {
     "data": {
      "text/plain": [
       "Text(0, 0.5, 'Cout du modèle (inertia)')"
      ]
     },
     "execution_count": 569,
     "metadata": {},
     "output_type": "execute_result"
    },
    {
     "data": {
      "image/png": "[encoded data removed]",
      "text/plain": [
       "<Figure size 600x600 with 1 Axes>"
      ]
     },
     "metadata": {},
     "output_type": "display_data"
    }
   ],
   "source": [
    "x,y = range(1,9),inertia[:-1]\n",
    "kl = KneeLocator(x,y, curve='convex')\n",
    "kl.plot_knee()\n",
    "plt.xlabel('nombre de cluster')\n",
    "plt.ylabel('Cout du modèle (inertia)')"
   ]
  },
  {
   "cell_type": "code",
   "execution_count": 570,
   "metadata": {},
   "outputs": [
    {
     "data": {
      "text/html": [
       "<div>\n",
       "<style scoped>\n",
       "    .dataframe tbody tr th:only-of-type {\n",
       "        vertical-align: middle;\n",
       "    }\n",
       "\n",
       "    .dataframe tbody tr th {\n",
       "        vertical-align: top;\n",
       "    }\n",
       "\n",
       "    .dataframe thead th {\n",
       "        text-align: right;\n",
       "    }\n",
       "</style>\n",
       "<table border=\"1\" class=\"dataframe\">\n",
       "  <thead>\n",
       "    <tr style=\"text-align: right;\">\n",
       "      <th></th>\n",
       "      <th>payment_type</th>\n",
       "      <th>product_category</th>\n",
       "      <th>payment_installments</th>\n",
       "      <th>orders</th>\n",
       "      <th>products</th>\n",
       "      <th>sellers</th>\n",
       "      <th>payment_value</th>\n",
       "      <th>review_score</th>\n",
       "      <th>price</th>\n",
       "      <th>freight_value</th>\n",
       "      <th>recency</th>\n",
       "    </tr>\n",
       "  </thead>\n",
       "  <tbody>\n",
       "    <tr>\n",
       "      <th>0</th>\n",
       "      <td>credit_card</td>\n",
       "      <td>Home</td>\n",
       "      <td>8</td>\n",
       "      <td>1</td>\n",
       "      <td>1</td>\n",
       "      <td>1</td>\n",
       "      <td>141.90</td>\n",
       "      <td>5.0</td>\n",
       "      <td>129.90</td>\n",
       "      <td>12.00</td>\n",
       "      <td>112</td>\n",
       "    </tr>\n",
       "    <tr>\n",
       "      <th>1</th>\n",
       "      <td>credit_card</td>\n",
       "      <td>Health_Beauty</td>\n",
       "      <td>1</td>\n",
       "      <td>1</td>\n",
       "      <td>1</td>\n",
       "      <td>1</td>\n",
       "      <td>27.19</td>\n",
       "      <td>4.0</td>\n",
       "      <td>18.90</td>\n",
       "      <td>8.29</td>\n",
       "      <td>115</td>\n",
       "    </tr>\n",
       "    <tr>\n",
       "      <th>2</th>\n",
       "      <td>credit_card</td>\n",
       "      <td>Office_Supplies</td>\n",
       "      <td>8</td>\n",
       "      <td>1</td>\n",
       "      <td>1</td>\n",
       "      <td>1</td>\n",
       "      <td>86.22</td>\n",
       "      <td>3.0</td>\n",
       "      <td>69.00</td>\n",
       "      <td>17.22</td>\n",
       "      <td>538</td>\n",
       "    </tr>\n",
       "    <tr>\n",
       "      <th>3</th>\n",
       "      <td>credit_card</td>\n",
       "      <td>Technology</td>\n",
       "      <td>4</td>\n",
       "      <td>1</td>\n",
       "      <td>1</td>\n",
       "      <td>1</td>\n",
       "      <td>43.62</td>\n",
       "      <td>4.0</td>\n",
       "      <td>25.99</td>\n",
       "      <td>17.63</td>\n",
       "      <td>322</td>\n",
       "    </tr>\n",
       "    <tr>\n",
       "      <th>4</th>\n",
       "      <td>credit_card</td>\n",
       "      <td>Technology</td>\n",
       "      <td>6</td>\n",
       "      <td>1</td>\n",
       "      <td>1</td>\n",
       "      <td>1</td>\n",
       "      <td>196.89</td>\n",
       "      <td>5.0</td>\n",
       "      <td>180.00</td>\n",
       "      <td>16.89</td>\n",
       "      <td>289</td>\n",
       "    </tr>\n",
       "    <tr>\n",
       "      <th>...</th>\n",
       "      <td>...</td>\n",
       "      <td>...</td>\n",
       "      <td>...</td>\n",
       "      <td>...</td>\n",
       "      <td>...</td>\n",
       "      <td>...</td>\n",
       "      <td>...</td>\n",
       "      <td>...</td>\n",
       "      <td>...</td>\n",
       "      <td>...</td>\n",
       "      <td>...</td>\n",
       "    </tr>\n",
       "    <tr>\n",
       "      <th>91474</th>\n",
       "      <td>credit_card</td>\n",
       "      <td>Health_Beauty</td>\n",
       "      <td>10</td>\n",
       "      <td>2</td>\n",
       "      <td>2</td>\n",
       "      <td>2</td>\n",
       "      <td>4134.84</td>\n",
       "      <td>5.0</td>\n",
       "      <td>785.00</td>\n",
       "      <td>248.71</td>\n",
       "      <td>448</td>\n",
       "    </tr>\n",
       "    <tr>\n",
       "      <th>91475</th>\n",
       "      <td>credit_card</td>\n",
       "      <td>Baby</td>\n",
       "      <td>1</td>\n",
       "      <td>1</td>\n",
       "      <td>1</td>\n",
       "      <td>1</td>\n",
       "      <td>84.58</td>\n",
       "      <td>4.0</td>\n",
       "      <td>64.89</td>\n",
       "      <td>19.69</td>\n",
       "      <td>263</td>\n",
       "    </tr>\n",
       "    <tr>\n",
       "      <th>91476</th>\n",
       "      <td>credit_card</td>\n",
       "      <td>Automotive</td>\n",
       "      <td>1</td>\n",
       "      <td>1</td>\n",
       "      <td>1</td>\n",
       "      <td>1</td>\n",
       "      <td>112.46</td>\n",
       "      <td>5.0</td>\n",
       "      <td>89.90</td>\n",
       "      <td>22.56</td>\n",
       "      <td>569</td>\n",
       "    </tr>\n",
       "    <tr>\n",
       "      <th>91477</th>\n",
       "      <td>credit_card</td>\n",
       "      <td>Fashion_Accessories</td>\n",
       "      <td>5</td>\n",
       "      <td>1</td>\n",
       "      <td>1</td>\n",
       "      <td>1</td>\n",
       "      <td>133.69</td>\n",
       "      <td>5.0</td>\n",
       "      <td>115.00</td>\n",
       "      <td>18.69</td>\n",
       "      <td>120</td>\n",
       "    </tr>\n",
       "    <tr>\n",
       "      <th>91478</th>\n",
       "      <td>credit_card</td>\n",
       "      <td>Health_Beauty</td>\n",
       "      <td>4</td>\n",
       "      <td>1</td>\n",
       "      <td>1</td>\n",
       "      <td>1</td>\n",
       "      <td>71.56</td>\n",
       "      <td>5.0</td>\n",
       "      <td>56.99</td>\n",
       "      <td>14.57</td>\n",
       "      <td>485</td>\n",
       "    </tr>\n",
       "  </tbody>\n",
       "</table>\n",
       "<p>91479 rows × 11 columns</p>\n",
       "</div>"
      ],
      "text/plain": [
       "      payment_type     product_category  payment_installments  orders  \\\n",
       "0      credit_card                 Home                     8       1   \n",
       "1      credit_card        Health_Beauty                     1       1   \n",
       "2      credit_card      Office_Supplies                     8       1   \n",
       "3      credit_card           Technology                     4       1   \n",
       "4      credit_card           Technology                     6       1   \n",
       "...            ...                  ...                   ...     ...   \n",
       "91474  credit_card        Health_Beauty                    10       2   \n",
       "91475  credit_card                 Baby                     1       1   \n",
       "91476  credit_card           Automotive                     1       1   \n",
       "91477  credit_card  Fashion_Accessories                     5       1   \n",
       "91478  credit_card        Health_Beauty                     4       1   \n",
       "\n",
       "       products  sellers  payment_value  review_score   price  freight_value  \\\n",
       "0             1        1         141.90           5.0  129.90          12.00   \n",
       "1             1        1          27.19           4.0   18.90           8.29   \n",
       "2             1        1          86.22           3.0   69.00          17.22   \n",
       "3             1        1          43.62           4.0   25.99          17.63   \n",
       "4             1        1         196.89           5.0  180.00          16.89   \n",
       "...         ...      ...            ...           ...     ...            ...   \n",
       "91474         2        2        4134.84           5.0  785.00         248.71   \n",
       "91475         1        1          84.58           4.0   64.89          19.69   \n",
       "91476         1        1         112.46           5.0   89.90          22.56   \n",
       "91477         1        1         133.69           5.0  115.00          18.69   \n",
       "91478         1        1          71.56           5.0   56.99          14.57   \n",
       "\n",
       "       recency  \n",
       "0          112  \n",
       "1          115  \n",
       "2          538  \n",
       "3          322  \n",
       "4          289  \n",
       "...        ...  \n",
       "91474      448  \n",
       "91475      263  \n",
       "91476      569  \n",
       "91477      120  \n",
       "91478      485  \n",
       "\n",
       "[91479 rows x 11 columns]"
      ]
     },
     "execution_count": 570,
     "metadata": {},
     "output_type": "execute_result"
    }
   ],
   "source": [
    "df = pd.read_csv('data.csv')\n",
    "df.rename(columns={\"order_item_id\": \"orders\", \"product_id\": \"products\", \"seller_id\":'sellers'}, inplace=True)\n",
    "df['payment_installments']=df['payment_installments'].astype('int64')\n",
    "df= df.drop(['customer_city','customer_state','customer_zip_code_prefix','seller_city','seller_state','customer_unique_id.1','order_purchase_timestamp','customer_unique_id'], axis=1)\n",
    "df"
   ]
  },
  {
   "cell_type": "code",
   "execution_count": 571,
   "metadata": {},
   "outputs": [
    {
     "data": {
      "text/plain": [
       "array([2.1972245773362196, 0.6931471805599453, 0.6931471805599453,\n",
       "       0.6931471805599453, 4.9621450849358215, 1.791759469228055,\n",
       "       4.874433672915854, 2.5649493574615367, 4.727387818712341,\n",
       "       'credit_card', 'Home'], dtype=object)"
      ]
     },
     "execution_count": 571,
     "metadata": {},
     "output_type": "execute_result"
    }
   ],
   "source": [
    "a = FunctionTransformer(func=np.log1p)\n",
    "preprocessing = make_column_transformer((a,make_column_selector(dtype_include=np.number)),remainder='passthrough')\n",
    "log=preprocessing.fit_transform(df)\n",
    "log[0]"
   ]
  },
  {
   "cell_type": "code",
   "execution_count": 572,
   "metadata": {},
   "outputs": [
    {
     "data": {
      "image/png": "[encoded data removed]",
      "text/plain": [
       "<Figure size 640x480 with 1 Axes>"
      ]
     },
     "metadata": {},
     "output_type": "display_data"
    }
   ],
   "source": [
    "func_log = FunctionTransformer(func=np.log1p)\n",
    "func_abs=FunctionTransformer(func=np.abs)\n",
    "\n",
    "pipe_num= make_pipeline(func_abs,func_log)\n",
    "\n",
    "transformer = make_column_transformer(\n",
    "    (OneHotEncoder(sparse=False),make_column_selector(dtype_exclude=['float','int'])),\n",
    "    (pipe_num,make_column_selector(dtype_include=['float','int']))\n",
    "    )\n",
    "\n",
    "pipe_pca= make_pipeline(transformer,PCA(n_components=0.95))\n",
    "\n",
    "df_acp=pd.DataFrame(pipe_pca.fit_transform(df))\n",
    "\n",
    "\n",
    "clustering =KMeans(n_clusters=8).fit(df_acp)\n",
    "df_acp['cluster_labels']=pd.Series(clustering.labels_)\n",
    "\n",
    "\n",
    "plt.scatter(df_acp.iloc[:,0],df_acp.iloc[:,1],c=df_acp.cluster_labels)\n",
    "plt.show()"
   ]
  },
  {
   "cell_type": "code",
   "execution_count": 573,
   "metadata": {},
   "outputs": [
    {
     "data": {
      "text/html": [
       "<div>\n",
       "<style scoped>\n",
       "    .dataframe tbody tr th:only-of-type {\n",
       "        vertical-align: middle;\n",
       "    }\n",
       "\n",
       "    .dataframe tbody tr th {\n",
       "        vertical-align: top;\n",
       "    }\n",
       "\n",
       "    .dataframe thead th {\n",
       "        text-align: right;\n",
       "    }\n",
       "</style>\n",
       "<table border=\"1\" class=\"dataframe\">\n",
       "  <thead>\n",
       "    <tr style=\"text-align: right;\">\n",
       "      <th></th>\n",
       "      <th>payment_type</th>\n",
       "      <th>product_category</th>\n",
       "      <th>payment_installments</th>\n",
       "      <th>orders</th>\n",
       "      <th>products</th>\n",
       "      <th>sellers</th>\n",
       "      <th>payment_value</th>\n",
       "      <th>review_score</th>\n",
       "      <th>price</th>\n",
       "      <th>freight_value</th>\n",
       "      <th>recency</th>\n",
       "      <th>cluster_labels</th>\n",
       "    </tr>\n",
       "  </thead>\n",
       "  <tbody>\n",
       "    <tr>\n",
       "      <th>0</th>\n",
       "      <td>credit_card</td>\n",
       "      <td>Home</td>\n",
       "      <td>8</td>\n",
       "      <td>1</td>\n",
       "      <td>1</td>\n",
       "      <td>1</td>\n",
       "      <td>141.90</td>\n",
       "      <td>5.0</td>\n",
       "      <td>129.90</td>\n",
       "      <td>12.00</td>\n",
       "      <td>112</td>\n",
       "      <td>6</td>\n",
       "    </tr>\n",
       "    <tr>\n",
       "      <th>1</th>\n",
       "      <td>credit_card</td>\n",
       "      <td>Health_Beauty</td>\n",
       "      <td>1</td>\n",
       "      <td>1</td>\n",
       "      <td>1</td>\n",
       "      <td>1</td>\n",
       "      <td>27.19</td>\n",
       "      <td>4.0</td>\n",
       "      <td>18.90</td>\n",
       "      <td>8.29</td>\n",
       "      <td>115</td>\n",
       "      <td>1</td>\n",
       "    </tr>\n",
       "    <tr>\n",
       "      <th>2</th>\n",
       "      <td>credit_card</td>\n",
       "      <td>Office_Supplies</td>\n",
       "      <td>8</td>\n",
       "      <td>1</td>\n",
       "      <td>1</td>\n",
       "      <td>1</td>\n",
       "      <td>86.22</td>\n",
       "      <td>3.0</td>\n",
       "      <td>69.00</td>\n",
       "      <td>17.22</td>\n",
       "      <td>538</td>\n",
       "      <td>3</td>\n",
       "    </tr>\n",
       "    <tr>\n",
       "      <th>3</th>\n",
       "      <td>credit_card</td>\n",
       "      <td>Technology</td>\n",
       "      <td>4</td>\n",
       "      <td>1</td>\n",
       "      <td>1</td>\n",
       "      <td>1</td>\n",
       "      <td>43.62</td>\n",
       "      <td>4.0</td>\n",
       "      <td>25.99</td>\n",
       "      <td>17.63</td>\n",
       "      <td>322</td>\n",
       "      <td>1</td>\n",
       "    </tr>\n",
       "    <tr>\n",
       "      <th>4</th>\n",
       "      <td>credit_card</td>\n",
       "      <td>Technology</td>\n",
       "      <td>6</td>\n",
       "      <td>1</td>\n",
       "      <td>1</td>\n",
       "      <td>1</td>\n",
       "      <td>196.89</td>\n",
       "      <td>5.0</td>\n",
       "      <td>180.00</td>\n",
       "      <td>16.89</td>\n",
       "      <td>289</td>\n",
       "      <td>6</td>\n",
       "    </tr>\n",
       "    <tr>\n",
       "      <th>...</th>\n",
       "      <td>...</td>\n",
       "      <td>...</td>\n",
       "      <td>...</td>\n",
       "      <td>...</td>\n",
       "      <td>...</td>\n",
       "      <td>...</td>\n",
       "      <td>...</td>\n",
       "      <td>...</td>\n",
       "      <td>...</td>\n",
       "      <td>...</td>\n",
       "      <td>...</td>\n",
       "      <td>...</td>\n",
       "    </tr>\n",
       "    <tr>\n",
       "      <th>91474</th>\n",
       "      <td>credit_card</td>\n",
       "      <td>Health_Beauty</td>\n",
       "      <td>10</td>\n",
       "      <td>2</td>\n",
       "      <td>2</td>\n",
       "      <td>2</td>\n",
       "      <td>4134.84</td>\n",
       "      <td>5.0</td>\n",
       "      <td>785.00</td>\n",
       "      <td>248.71</td>\n",
       "      <td>448</td>\n",
       "      <td>5</td>\n",
       "    </tr>\n",
       "    <tr>\n",
       "      <th>91475</th>\n",
       "      <td>credit_card</td>\n",
       "      <td>Baby</td>\n",
       "      <td>1</td>\n",
       "      <td>1</td>\n",
       "      <td>1</td>\n",
       "      <td>1</td>\n",
       "      <td>84.58</td>\n",
       "      <td>4.0</td>\n",
       "      <td>64.89</td>\n",
       "      <td>19.69</td>\n",
       "      <td>263</td>\n",
       "      <td>3</td>\n",
       "    </tr>\n",
       "    <tr>\n",
       "      <th>91476</th>\n",
       "      <td>credit_card</td>\n",
       "      <td>Automotive</td>\n",
       "      <td>1</td>\n",
       "      <td>1</td>\n",
       "      <td>1</td>\n",
       "      <td>1</td>\n",
       "      <td>112.46</td>\n",
       "      <td>5.0</td>\n",
       "      <td>89.90</td>\n",
       "      <td>22.56</td>\n",
       "      <td>569</td>\n",
       "      <td>3</td>\n",
       "    </tr>\n",
       "    <tr>\n",
       "      <th>91477</th>\n",
       "      <td>credit_card</td>\n",
       "      <td>Fashion_Accessories</td>\n",
       "      <td>5</td>\n",
       "      <td>1</td>\n",
       "      <td>1</td>\n",
       "      <td>1</td>\n",
       "      <td>133.69</td>\n",
       "      <td>5.0</td>\n",
       "      <td>115.00</td>\n",
       "      <td>18.69</td>\n",
       "      <td>120</td>\n",
       "      <td>6</td>\n",
       "    </tr>\n",
       "    <tr>\n",
       "      <th>91478</th>\n",
       "      <td>credit_card</td>\n",
       "      <td>Health_Beauty</td>\n",
       "      <td>4</td>\n",
       "      <td>1</td>\n",
       "      <td>1</td>\n",
       "      <td>1</td>\n",
       "      <td>71.56</td>\n",
       "      <td>5.0</td>\n",
       "      <td>56.99</td>\n",
       "      <td>14.57</td>\n",
       "      <td>485</td>\n",
       "      <td>3</td>\n",
       "    </tr>\n",
       "  </tbody>\n",
       "</table>\n",
       "<p>91479 rows × 12 columns</p>\n",
       "</div>"
      ],
      "text/plain": [
       "      payment_type     product_category  payment_installments  orders  \\\n",
       "0      credit_card                 Home                     8       1   \n",
       "1      credit_card        Health_Beauty                     1       1   \n",
       "2      credit_card      Office_Supplies                     8       1   \n",
       "3      credit_card           Technology                     4       1   \n",
       "4      credit_card           Technology                     6       1   \n",
       "...            ...                  ...                   ...     ...   \n",
       "91474  credit_card        Health_Beauty                    10       2   \n",
       "91475  credit_card                 Baby                     1       1   \n",
       "91476  credit_card           Automotive                     1       1   \n",
       "91477  credit_card  Fashion_Accessories                     5       1   \n",
       "91478  credit_card        Health_Beauty                     4       1   \n",
       "\n",
       "       products  sellers  payment_value  review_score   price  freight_value  \\\n",
       "0             1        1         141.90           5.0  129.90          12.00   \n",
       "1             1        1          27.19           4.0   18.90           8.29   \n",
       "2             1        1          86.22           3.0   69.00          17.22   \n",
       "3             1        1          43.62           4.0   25.99          17.63   \n",
       "4             1        1         196.89           5.0  180.00          16.89   \n",
       "...         ...      ...            ...           ...     ...            ...   \n",
       "91474         2        2        4134.84           5.0  785.00         248.71   \n",
       "91475         1        1          84.58           4.0   64.89          19.69   \n",
       "91476         1        1         112.46           5.0   89.90          22.56   \n",
       "91477         1        1         133.69           5.0  115.00          18.69   \n",
       "91478         1        1          71.56           5.0   56.99          14.57   \n",
       "\n",
       "       recency  cluster_labels  \n",
       "0          112               6  \n",
       "1          115               1  \n",
       "2          538               3  \n",
       "3          322               1  \n",
       "4          289               6  \n",
       "...        ...             ...  \n",
       "91474      448               5  \n",
       "91475      263               3  \n",
       "91476      569               3  \n",
       "91477      120               6  \n",
       "91478      485               3  \n",
       "\n",
       "[91479 rows x 12 columns]"
      ]
     },
     "execution_count": 573,
     "metadata": {},
     "output_type": "execute_result"
    }
   ],
   "source": [
    "df['cluster_labels']=pd.Series(clustering.labels_)\n",
    "df"
   ]
  },
  {
   "cell_type": "code",
   "execution_count": 574,
   "metadata": {},
   "outputs": [
    {
     "name": "stderr",
     "output_type": "stream",
     "text": [
      "/tmp/ipykernel_61276/322794499.py:6: SettingWithCopyWarning:\n",
      "\n",
      "\n",
      "A value is trying to be set on a copy of a slice from a DataFrame.\n",
      "Try using .loc[row_indexer,col_indexer] = value instead\n",
      "\n",
      "See the caveats in the documentation: https://pandas.pydata.org/pandas-docs/stable/user_guide/indexing.html#returning-a-view-versus-a-copy\n",
      "\n"
     ]
    },
    {
     "data": {
      "text/html": [
       "<div>\n",
       "<style scoped>\n",
       "    .dataframe tbody tr th:only-of-type {\n",
       "        vertical-align: middle;\n",
       "    }\n",
       "\n",
       "    .dataframe tbody tr th {\n",
       "        vertical-align: top;\n",
       "    }\n",
       "\n",
       "    .dataframe thead th {\n",
       "        text-align: right;\n",
       "    }\n",
       "</style>\n",
       "<table border=\"1\" class=\"dataframe\">\n",
       "  <thead>\n",
       "    <tr style=\"text-align: right;\">\n",
       "      <th></th>\n",
       "      <th>payment_installments</th>\n",
       "      <th>orders</th>\n",
       "      <th>products</th>\n",
       "      <th>sellers</th>\n",
       "      <th>payment_value</th>\n",
       "      <th>review_score</th>\n",
       "      <th>price</th>\n",
       "      <th>freight_value</th>\n",
       "      <th>recency</th>\n",
       "      <th>cluster_labels</th>\n",
       "    </tr>\n",
       "  </thead>\n",
       "  <tbody>\n",
       "    <tr>\n",
       "      <th>0</th>\n",
       "      <td>3.100126</td>\n",
       "      <td>5.000000</td>\n",
       "      <td>5.000000</td>\n",
       "      <td>5.000000</td>\n",
       "      <td>4.430038</td>\n",
       "      <td>1.000000</td>\n",
       "      <td>1.407591</td>\n",
       "      <td>1.624634</td>\n",
       "      <td>4.557770</td>\n",
       "      <td>1.000000</td>\n",
       "    </tr>\n",
       "    <tr>\n",
       "      <th>1</th>\n",
       "      <td>1.359306</td>\n",
       "      <td>1.104172</td>\n",
       "      <td>1.104172</td>\n",
       "      <td>1.104172</td>\n",
       "      <td>1.000000</td>\n",
       "      <td>4.211831</td>\n",
       "      <td>1.000000</td>\n",
       "      <td>1.000000</td>\n",
       "      <td>4.821775</td>\n",
       "      <td>1.571429</td>\n",
       "    </tr>\n",
       "    <tr>\n",
       "      <th>2</th>\n",
       "      <td>1.000000</td>\n",
       "      <td>1.165426</td>\n",
       "      <td>1.165426</td>\n",
       "      <td>1.165426</td>\n",
       "      <td>1.463350</td>\n",
       "      <td>3.997037</td>\n",
       "      <td>1.516805</td>\n",
       "      <td>1.768987</td>\n",
       "      <td>4.838319</td>\n",
       "      <td>2.142857</td>\n",
       "    </tr>\n",
       "    <tr>\n",
       "      <th>3</th>\n",
       "      <td>2.192884</td>\n",
       "      <td>1.114978</td>\n",
       "      <td>1.114978</td>\n",
       "      <td>1.114978</td>\n",
       "      <td>1.226619</td>\n",
       "      <td>4.147099</td>\n",
       "      <td>1.276658</td>\n",
       "      <td>1.294124</td>\n",
       "      <td>4.808895</td>\n",
       "      <td>2.714286</td>\n",
       "    </tr>\n",
       "    <tr>\n",
       "      <th>4</th>\n",
       "      <td>1.509589</td>\n",
       "      <td>1.132171</td>\n",
       "      <td>1.132171</td>\n",
       "      <td>1.132171</td>\n",
       "      <td>1.123464</td>\n",
       "      <td>5.000000</td>\n",
       "      <td>1.130920</td>\n",
       "      <td>1.210562</td>\n",
       "      <td>1.000000</td>\n",
       "      <td>3.285714</td>\n",
       "    </tr>\n",
       "    <tr>\n",
       "      <th>5</th>\n",
       "      <td>5.000000</td>\n",
       "      <td>1.294959</td>\n",
       "      <td>1.294959</td>\n",
       "      <td>1.294959</td>\n",
       "      <td>5.000000</td>\n",
       "      <td>3.505756</td>\n",
       "      <td>5.000000</td>\n",
       "      <td>5.000000</td>\n",
       "      <td>4.309682</td>\n",
       "      <td>3.857143</td>\n",
       "    </tr>\n",
       "    <tr>\n",
       "      <th>6</th>\n",
       "      <td>3.854438</td>\n",
       "      <td>1.000000</td>\n",
       "      <td>1.000000</td>\n",
       "      <td>1.000000</td>\n",
       "      <td>1.713424</td>\n",
       "      <td>3.959335</td>\n",
       "      <td>1.930793</td>\n",
       "      <td>2.202792</td>\n",
       "      <td>5.000000</td>\n",
       "      <td>4.428571</td>\n",
       "    </tr>\n",
       "    <tr>\n",
       "      <th>7</th>\n",
       "      <td>3.047520</td>\n",
       "      <td>1.229566</td>\n",
       "      <td>1.229566</td>\n",
       "      <td>1.229566</td>\n",
       "      <td>1.860950</td>\n",
       "      <td>4.930618</td>\n",
       "      <td>1.877286</td>\n",
       "      <td>2.706181</td>\n",
       "      <td>1.068425</td>\n",
       "      <td>5.000000</td>\n",
       "    </tr>\n",
       "  </tbody>\n",
       "</table>\n",
       "</div>"
      ],
      "text/plain": [
       "   payment_installments    orders  products   sellers  payment_value  \\\n",
       "0              3.100126  5.000000  5.000000  5.000000       4.430038   \n",
       "1              1.359306  1.104172  1.104172  1.104172       1.000000   \n",
       "2              1.000000  1.165426  1.165426  1.165426       1.463350   \n",
       "3              2.192884  1.114978  1.114978  1.114978       1.226619   \n",
       "4              1.509589  1.132171  1.132171  1.132171       1.123464   \n",
       "5              5.000000  1.294959  1.294959  1.294959       5.000000   \n",
       "6              3.854438  1.000000  1.000000  1.000000       1.713424   \n",
       "7              3.047520  1.229566  1.229566  1.229566       1.860950   \n",
       "\n",
       "   review_score     price  freight_value   recency  cluster_labels  \n",
       "0      1.000000  1.407591       1.624634  4.557770        1.000000  \n",
       "1      4.211831  1.000000       1.000000  4.821775        1.571429  \n",
       "2      3.997037  1.516805       1.768987  4.838319        2.142857  \n",
       "3      4.147099  1.276658       1.294124  4.808895        2.714286  \n",
       "4      5.000000  1.130920       1.210562  1.000000        3.285714  \n",
       "5      3.505756  5.000000       5.000000  4.309682        3.857143  \n",
       "6      3.959335  1.930793       2.202792  5.000000        4.428571  \n",
       "7      4.930618  1.877286       2.706181  1.068425        5.000000  "
      ]
     },
     "execution_count": 574,
     "metadata": {},
     "output_type": "execute_result"
    }
   ],
   "source": [
    "df_num=df[['payment_installments','orders','products','sellers','payment_value','review_score','price','freight_value','recency']]\n",
    "\n",
    "mms=MinMaxScaler(feature_range=(1,5))\n",
    "\n",
    "num_cols= df.select_dtypes(include='number').columns.to_list()\n",
    "df_num['cluster_labels']=pd.Series(clustering.labels_)\n",
    "\n",
    "list_agg = {}\n",
    "for col in num_cols:\n",
    "    list_agg[f'{col}'] = 'mean'\n",
    "\n",
    "df_mean=df_num.groupby('cluster_labels').agg(list_agg)\n",
    "\n",
    "\n",
    "df_mms=pd.DataFrame(mms.fit_transform(df_mean),columns=['payment_installments','orders','products','sellers','payment_value','review_score','price','freight_value','recency','cluster_labels'])\n",
    "df_mms\n"
   ]
  },
  {
   "cell_type": "code",
   "execution_count": 575,
   "metadata": {},
   "outputs": [
    {
     "data": {
      "application/vnd.plotly.v1+json": {
       "config": {
        "plotlyServerURL": "https://plot.ly"
       },
       "data": [
        {
         "fill": "toself",
         "name": "Cluster 0",
         "r": [
          3.100125724504192,
          5,
          5,
          5,
          4.430037840682976,
          1,
          1.4075911144524889,
          1.6246341490407639,
          4.557770118544143,
          1
         ],
         "theta": [
          "payment_installments",
          "orders",
          "products",
          "sellers",
          "payment_value",
          "review_score",
          "price",
          "freight_value",
          "recency",
          "cluster_labels"
         ],
         "type": "scatterpolar"
        },
        {
         "fill": "toself",
         "name": "Cluster 1",
         "r": [
          1.3593055758547155,
          1.1041720807933002,
          1.1041720807933002,
          1.1041720807933002,
          1,
          4.211830643780651,
          1,
          1,
          4.821775481675991,
          1.5714285714285714
         ],
         "theta": [
          "payment_installments",
          "orders",
          "products",
          "sellers",
          "payment_value",
          "review_score",
          "price",
          "freight_value",
          "recency",
          "cluster_labels"
         ],
         "type": "scatterpolar"
        },
        {
         "fill": "toself",
         "name": "Cluster 2",
         "r": [
          1,
          1.1654263906768652,
          1.1654263906768652,
          1.1654263906768652,
          1.463350174886937,
          3.997037022392938,
          1.5168048679093264,
          1.768986829539119,
          4.838318629224305,
          2.142857142857143
         ],
         "theta": [
          "payment_installments",
          "orders",
          "products",
          "sellers",
          "payment_value",
          "review_score",
          "price",
          "freight_value",
          "recency",
          "cluster_labels"
         ],
         "type": "scatterpolar"
        },
        {
         "fill": "toself",
         "name": "Cluster 3",
         "r": [
          2.1928835681263226,
          1.1149784259324278,
          1.1149784259324278,
          1.1149784259324278,
          1.2266186127303231,
          4.147099187375396,
          1.2766576542065864,
          1.2941239416408112,
          4.808894602381643,
          2.7142857142857144
         ],
         "theta": [
          "payment_installments",
          "orders",
          "products",
          "sellers",
          "payment_value",
          "review_score",
          "price",
          "freight_value",
          "recency",
          "cluster_labels"
         ],
         "type": "scatterpolar"
        },
        {
         "fill": "toself",
         "name": "Cluster 4",
         "r": [
          1.5095891945031004,
          1.132170604199254,
          1.132170604199254,
          1.132170604199254,
          1.1234640213719171,
          5,
          1.1309203669566745,
          1.2105623008259538,
          1,
          3.2857142857142856
         ],
         "theta": [
          "payment_installments",
          "orders",
          "products",
          "sellers",
          "payment_value",
          "review_score",
          "price",
          "freight_value",
          "recency",
          "cluster_labels"
         ],
         "type": "scatterpolar"
        },
        {
         "fill": "toself",
         "name": "Cluster 5",
         "r": [
          5,
          1.2949589477602714,
          1.2949589477602714,
          1.2949589477602714,
          5.000000000000001,
          3.5057563501949964,
          5.000000000000001,
          5,
          4.309681883384664,
          3.8571428571428568
         ],
         "theta": [
          "payment_installments",
          "orders",
          "products",
          "sellers",
          "payment_value",
          "review_score",
          "price",
          "freight_value",
          "recency",
          "cluster_labels"
         ],
         "type": "scatterpolar"
        },
        {
         "fill": "toself",
         "name": "Cluster 6",
         "r": [
          3.854438132936446,
          1,
          1,
          1,
          1.7134244440541078,
          3.9593354250076906,
          1.9307925807126165,
          2.2027921026989112,
          5,
          4.428571428571429
         ],
         "theta": [
          "payment_installments",
          "orders",
          "products",
          "sellers",
          "payment_value",
          "review_score",
          "price",
          "freight_value",
          "recency",
          "cluster_labels"
         ],
         "type": "scatterpolar"
        },
        {
         "fill": "toself",
         "name": "Cluster 7",
         "r": [
          3.0475195380163123,
          1.2295661124486568,
          1.2295661124486568,
          1.2295661124486568,
          1.860950463942026,
          4.930618286360954,
          1.8772859802286552,
          2.7061809428382917,
          1.0684250998293372,
          5
         ],
         "theta": [
          "payment_installments",
          "orders",
          "products",
          "sellers",
          "payment_value",
          "review_score",
          "price",
          "freight_value",
          "recency",
          "cluster_labels"
         ],
         "type": "scatterpolar"
        }
       ],
       "layout": {
        "height": 780,
        "polar": {
         "radialaxis": {
          "range": [
           0,
           5
          ],
          "visible": true
         }
        },
        "showlegend": true,
        "template": {
         "data": {
          "bar": [
           {
            "error_x": {
             "color": "#2a3f5f"
            },
            "error_y": {
             "color": "#2a3f5f"
            },
            "marker": {
             "line": {
              "color": "#E5ECF6",
              "width": 0.5
             },
             "pattern": {
              "fillmode": "overlay",
              "size": 10,
              "solidity": 0.2
             }
            },
            "type": "bar"
           }
          ],
          "barpolar": [
           {
            "marker": {
             "line": {
              "color": "#E5ECF6",
              "width": 0.5
             },
             "pattern": {
              "fillmode": "overlay",
              "size": 10,
              "solidity": 0.2
             }
            },
            "type": "barpolar"
           }
          ],
          "carpet": [
           {
            "aaxis": {
             "endlinecolor": "#2a3f5f",
             "gridcolor": "white",
             "linecolor": "white",
             "minorgridcolor": "white",
             "startlinecolor": "#2a3f5f"
            },
            "baxis": {
             "endlinecolor": "#2a3f5f",
             "gridcolor": "white",
             "linecolor": "white",
             "minorgridcolor": "white",
             "startlinecolor": "#2a3f5f"
            },
            "type": "carpet"
           }
          ],
          "choropleth": [
           {
            "colorbar": {
             "outlinewidth": 0,
             "ticks": ""
            },
            "type": "choropleth"
           }
          ],
          "contour": [
           {
            "colorbar": {
             "outlinewidth": 0,
             "ticks": ""
            },
            "colorscale": [
             [
              0,
              "#0d0887"
             ],
             [
              0.1111111111111111,
              "#46039f"
             ],
             [
              0.2222222222222222,
              "#7201a8"
             ],
             [
              0.3333333333333333,
              "#9c179e"
             ],
             [
              0.4444444444444444,
              "#bd3786"
             ],
             [
              0.5555555555555556,
              "#d8576b"
             ],
             [
              0.6666666666666666,
              "#ed7953"
             ],
             [
              0.7777777777777778,
              "#fb9f3a"
             ],
             [
              0.8888888888888888,
              "#fdca26"
             ],
             [
              1,
              "#f0f921"
             ]
            ],
            "type": "contour"
           }
          ],
          "contourcarpet": [
           {
            "colorbar": {
             "outlinewidth": 0,
             "ticks": ""
            },
            "type": "contourcarpet"
           }
          ],
          "heatmap": [
           {
            "colorbar": {
             "outlinewidth": 0,
             "ticks": ""
            },
            "colorscale": [
             [
              0,
              "#0d0887"
             ],
             [
              0.1111111111111111,
              "#46039f"
             ],
             [
              0.2222222222222222,
              "#7201a8"
             ],
             [
              0.3333333333333333,
              "#9c179e"
             ],
             [
              0.4444444444444444,
              "#bd3786"
             ],
             [
              0.5555555555555556,
              "#d8576b"
             ],
             [
              0.6666666666666666,
              "#ed7953"
             ],
             [
              0.7777777777777778,
              "#fb9f3a"
             ],
             [
              0.8888888888888888,
              "#fdca26"
             ],
             [
              1,
              "#f0f921"
             ]
            ],
            "type": "heatmap"
           }
          ],
          "heatmapgl": [
           {
            "colorbar": {
             "outlinewidth": 0,
             "ticks": ""
            },
            "colorscale": [
             [
              0,
              "#0d0887"
             ],
             [
              0.1111111111111111,
              "#46039f"
             ],
             [
              0.2222222222222222,
              "#7201a8"
             ],
             [
              0.3333333333333333,
              "#9c179e"
             ],
             [
              0.4444444444444444,
              "#bd3786"
             ],
             [
              0.5555555555555556,
              "#d8576b"
             ],
             [
              0.6666666666666666,
              "#ed7953"
             ],
             [
              0.7777777777777778,
              "#fb9f3a"
             ],
             [
              0.8888888888888888,
              "#fdca26"
             ],
             [
              1,
              "#f0f921"
             ]
            ],
            "type": "heatmapgl"
           }
          ],
          "histogram": [
           {
            "marker": {
             "pattern": {
              "fillmode": "overlay",
              "size": 10,
              "solidity": 0.2
             }
            },
            "type": "histogram"
           }
          ],
          "histogram2d": [
           {
            "colorbar": {
             "outlinewidth": 0,
             "ticks": ""
            },
            "colorscale": [
             [
              0,
              "#0d0887"
             ],
             [
              0.1111111111111111,
              "#46039f"
             ],
             [
              0.2222222222222222,
              "#7201a8"
             ],
             [
              0.3333333333333333,
              "#9c179e"
             ],
             [
              0.4444444444444444,
              "#bd3786"
             ],
             [
              0.5555555555555556,
              "#d8576b"
             ],
             [
              0.6666666666666666,
              "#ed7953"
             ],
             [
              0.7777777777777778,
              "#fb9f3a"
             ],
             [
              0.8888888888888888,
              "#fdca26"
             ],
             [
              1,
              "#f0f921"
             ]
            ],
            "type": "histogram2d"
           }
          ],
          "histogram2dcontour": [
           {
            "colorbar": {
             "outlinewidth": 0,
             "ticks": ""
            },
            "colorscale": [
             [
              0,
              "#0d0887"
             ],
             [
              0.1111111111111111,
              "#46039f"
             ],
             [
              0.2222222222222222,
              "#7201a8"
             ],
             [
              0.3333333333333333,
              "#9c179e"
             ],
             [
              0.4444444444444444,
              "#bd3786"
             ],
             [
              0.5555555555555556,
              "#d8576b"
             ],
             [
              0.6666666666666666,
              "#ed7953"
             ],
             [
              0.7777777777777778,
              "#fb9f3a"
             ],
             [
              0.8888888888888888,
              "#fdca26"
             ],
             [
              1,
              "#f0f921"
             ]
            ],
            "type": "histogram2dcontour"
           }
          ],
          "mesh3d": [
           {
            "colorbar": {
             "outlinewidth": 0,
             "ticks": ""
            },
            "type": "mesh3d"
           }
          ],
          "parcoords": [
           {
            "line": {
             "colorbar": {
              "outlinewidth": 0,
              "ticks": ""
             }
            },
            "type": "parcoords"
           }
          ],
          "pie": [
           {
            "automargin": true,
            "type": "pie"
           }
          ],
          "scatter": [
           {
            "fillpattern": {
             "fillmode": "overlay",
             "size": 10,
             "solidity": 0.2
            },
            "type": "scatter"
           }
          ],
          "scatter3d": [
           {
            "line": {
             "colorbar": {
              "outlinewidth": 0,
              "ticks": ""
             }
            },
            "marker": {
             "colorbar": {
              "outlinewidth": 0,
              "ticks": ""
             }
            },
            "type": "scatter3d"
           }
          ],
          "scattercarpet": [
           {
            "marker": {
             "colorbar": {
              "outlinewidth": 0,
              "ticks": ""
             }
            },
            "type": "scattercarpet"
           }
          ],
          "scattergeo": [
           {
            "marker": {
             "colorbar": {
              "outlinewidth": 0,
              "ticks": ""
             }
            },
            "type": "scattergeo"
           }
          ],
          "scattergl": [
           {
            "marker": {
             "colorbar": {
              "outlinewidth": 0,
              "ticks": ""
             }
            },
            "type": "scattergl"
           }
          ],
          "scattermapbox": [
           {
            "marker": {
             "colorbar": {
              "outlinewidth": 0,
              "ticks": ""
             }
            },
            "type": "scattermapbox"
           }
          ],
          "scatterpolar": [
           {
            "marker": {
             "colorbar": {
              "outlinewidth": 0,
              "ticks": ""
             }
            },
            "type": "scatterpolar"
           }
          ],
          "scatterpolargl": [
           {
            "marker": {
             "colorbar": {
              "outlinewidth": 0,
              "ticks": ""
             }
            },
            "type": "scatterpolargl"
           }
          ],
          "scatterternary": [
           {
            "marker": {
             "colorbar": {
              "outlinewidth": 0,
              "ticks": ""
             }
            },
            "type": "scatterternary"
           }
          ],
          "surface": [
           {
            "colorbar": {
             "outlinewidth": 0,
             "ticks": ""
            },
            "colorscale": [
             [
              0,
              "#0d0887"
             ],
             [
              0.1111111111111111,
              "#46039f"
             ],
             [
              0.2222222222222222,
              "#7201a8"
             ],
             [
              0.3333333333333333,
              "#9c179e"
             ],
             [
              0.4444444444444444,
              "#bd3786"
             ],
             [
              0.5555555555555556,
              "#d8576b"
             ],
             [
              0.6666666666666666,
              "#ed7953"
             ],
             [
              0.7777777777777778,
              "#fb9f3a"
             ],
             [
              0.8888888888888888,
              "#fdca26"
             ],
             [
              1,
              "#f0f921"
             ]
            ],
            "type": "surface"
           }
          ],
          "table": [
           {
            "cells": {
             "fill": {
              "color": "#EBF0F8"
             },
             "line": {
              "color": "white"
             }
            },
            "header": {
             "fill": {
              "color": "#C8D4E3"
             },
             "line": {
              "color": "white"
             }
            },
            "type": "table"
           }
          ]
         },
         "layout": {
          "annotationdefaults": {
           "arrowcolor": "#2a3f5f",
           "arrowhead": 0,
           "arrowwidth": 1
          },
          "autotypenumbers": "strict",
          "coloraxis": {
           "colorbar": {
            "outlinewidth": 0,
            "ticks": ""
           }
          },
          "colorscale": {
           "diverging": [
            [
             0,
             "#8e0152"
            ],
            [
             0.1,
             "#c51b7d"
            ],
            [
             0.2,
             "#de77ae"
            ],
            [
             0.3,
             "#f1b6da"
            ],
            [
             0.4,
             "#fde0ef"
            ],
            [
             0.5,
             "#f7f7f7"
            ],
            [
             0.6,
             "#e6f5d0"
            ],
            [
             0.7,
             "#b8e186"
            ],
            [
             0.8,
             "#7fbc41"
            ],
            [
             0.9,
             "#4d9221"
            ],
            [
             1,
             "#276419"
            ]
           ],
           "sequential": [
            [
             0,
             "#0d0887"
            ],
            [
             0.1111111111111111,
             "#46039f"
            ],
            [
             0.2222222222222222,
             "#7201a8"
            ],
            [
             0.3333333333333333,
             "#9c179e"
            ],
            [
             0.4444444444444444,
             "#bd3786"
            ],
            [
             0.5555555555555556,
             "#d8576b"
            ],
            [
             0.6666666666666666,
             "#ed7953"
            ],
            [
             0.7777777777777778,
             "#fb9f3a"
            ],
            [
             0.8888888888888888,
             "#fdca26"
            ],
            [
             1,
             "#f0f921"
            ]
           ],
           "sequentialminus": [
            [
             0,
             "#0d0887"
            ],
            [
             0.1111111111111111,
             "#46039f"
            ],
            [
             0.2222222222222222,
             "#7201a8"
            ],
            [
             0.3333333333333333,
             "#9c179e"
            ],
            [
             0.4444444444444444,
             "#bd3786"
            ],
            [
             0.5555555555555556,
             "#d8576b"
            ],
            [
             0.6666666666666666,
             "#ed7953"
            ],
            [
             0.7777777777777778,
             "#fb9f3a"
            ],
            [
             0.8888888888888888,
             "#fdca26"
            ],
            [
             1,
             "#f0f921"
            ]
           ]
          },
          "colorway": [
           "#636efa",
           "#EF553B",
           "#00cc96",
           "#ab63fa",
           "#FFA15A",
           "#19d3f3",
           "#FF6692",
           "#B6E880",
           "#FF97FF",
           "#FECB52"
          ],
          "font": {
           "color": "#2a3f5f"
          },
          "geo": {
           "bgcolor": "white",
           "lakecolor": "white",
           "landcolor": "#E5ECF6",
           "showlakes": true,
           "showland": true,
           "subunitcolor": "white"
          },
          "hoverlabel": {
           "align": "left"
          },
          "hovermode": "closest",
          "mapbox": {
           "style": "light"
          },
          "paper_bgcolor": "white",
          "plot_bgcolor": "#E5ECF6",
          "polar": {
           "angularaxis": {
            "gridcolor": "white",
            "linecolor": "white",
            "ticks": ""
           },
           "bgcolor": "#E5ECF6",
           "radialaxis": {
            "gridcolor": "white",
            "linecolor": "white",
            "ticks": ""
           }
          },
          "scene": {
           "xaxis": {
            "backgroundcolor": "#E5ECF6",
            "gridcolor": "white",
            "gridwidth": 2,
            "linecolor": "white",
            "showbackground": true,
            "ticks": "",
            "zerolinecolor": "white"
           },
           "yaxis": {
            "backgroundcolor": "#E5ECF6",
            "gridcolor": "white",
            "gridwidth": 2,
            "linecolor": "white",
            "showbackground": true,
            "ticks": "",
            "zerolinecolor": "white"
           },
           "zaxis": {
            "backgroundcolor": "#E5ECF6",
            "gridcolor": "white",
            "gridwidth": 2,
            "linecolor": "white",
            "showbackground": true,
            "ticks": "",
            "zerolinecolor": "white"
           }
          },
          "shapedefaults": {
           "line": {
            "color": "#2a3f5f"
           }
          },
          "ternary": {
           "aaxis": {
            "gridcolor": "white",
            "linecolor": "white",
            "ticks": ""
           },
           "baxis": {
            "gridcolor": "white",
            "linecolor": "white",
            "ticks": ""
           },
           "bgcolor": "#E5ECF6",
           "caxis": {
            "gridcolor": "white",
            "linecolor": "white",
            "ticks": ""
           }
          },
          "title": {
           "x": 0.05
          },
          "xaxis": {
           "automargin": true,
           "gridcolor": "white",
           "linecolor": "white",
           "ticks": "",
           "title": {
            "standoff": 15
           },
           "zerolinecolor": "white",
           "zerolinewidth": 2
          },
          "yaxis": {
           "automargin": true,
           "gridcolor": "white",
           "linecolor": "white",
           "ticks": "",
           "title": {
            "standoff": 15
           },
           "zerolinecolor": "white",
           "zerolinewidth": 2
          }
         }
        },
        "width": 780
       }
      }
     },
     "metadata": {},
     "output_type": "display_data"
    }
   ],
   "source": [
    "# Créer une figure en radar pour chaque cluster\n",
    "fig = go.Figure()\n",
    "\n",
    "for cluster, row in df_mms.iterrows():\n",
    "    values = row.values.tolist()\n",
    "    \n",
    "\n",
    "    \n",
    "\n",
    "    fig.add_trace(go.Scatterpolar(\n",
    "        r=values,\n",
    "        theta=num_cols,\n",
    "        fill='toself',\n",
    "        name=f'Cluster {cluster}'\n",
    "    ))\n",
    "\n",
    "# Mettre en forme la figurenum_cols,\n",
    "fig.update_layout(\n",
    "    polar=dict(\n",
    "        radialaxis=dict(\n",
    "            visible=True,\n",
    "            range=[0, 5]\n",
    "        ),\n",
    "    ),\n",
    "    showlegend=True,\n",
    "    width=780,\n",
    "    height=780\n",
    "\n",
    ")\n",
    "\n",
    "# Afficher la figure\n",
    "fig.show()\n",
    "figsize = (60,60)"
   ]
  },
  {
   "cell_type": "code",
   "execution_count": 576,
   "metadata": {},
   "outputs": [],
   "source": [
    "# func_log = FunctionTransformer(func=np.log1p)\n",
    "# func_abs=FunctionTransformer(func=np.abs)\n",
    "\n",
    "# pipe_num= make_pipeline(func_abs,func_log)\n",
    "\n",
    "# transformer = make_column_transformer(\n",
    "#     (OneHotEncoder(sparse=False),make_column_selector(dtype_exclude=['float','int'])),\n",
    "#     (pipe_num,make_column_selector(dtype_include=np.number)),remainder='passthrough')\n",
    "\n",
    "\n",
    "# pipe_tsne = make_pipeline(transformer,TSNE()) \n",
    "# array_tsne=pipe_tsne.fit_transform(df)\n",
    "\n",
    "# kprototype = KPrototypes(n_jobs = -1, n_clusters =4, init = 'Huang', random_state = 0)\n",
    "# kprototype.fit_predict(array_tsne, categorical = [9,10])\n",
    "\n",
    "# df_tsne=pd.DataFrame(array_tsne,columns=['f1','f2'])\n",
    "# df_tsne['cluster_labels']=pd.Series(kprototype.labels_)\n",
    "\n",
    "# plt.scatter(df_tsne.f1,df_tsne.f2,c=df_tsne.cluster_labels)\n",
    "# plt.show()"
   ]
  },
  {
   "cell_type": "code",
   "execution_count": 577,
   "metadata": {},
   "outputs": [
    {
     "data": {
      "text/html": [
       "<div>\n",
       "<style scoped>\n",
       "    .dataframe tbody tr th:only-of-type {\n",
       "        vertical-align: middle;\n",
       "    }\n",
       "\n",
       "    .dataframe tbody tr th {\n",
       "        vertical-align: top;\n",
       "    }\n",
       "\n",
       "    .dataframe thead th {\n",
       "        text-align: right;\n",
       "    }\n",
       "</style>\n",
       "<table border=\"1\" class=\"dataframe\">\n",
       "  <thead>\n",
       "    <tr style=\"text-align: right;\">\n",
       "      <th></th>\n",
       "      <th>Agro_Industry_Commerce</th>\n",
       "      <th>Arts_Music</th>\n",
       "      <th>Automotive</th>\n",
       "      <th>Baby</th>\n",
       "      <th>Books</th>\n",
       "      <th>Construction_Tools</th>\n",
       "      <th>Fashion_Accessories</th>\n",
       "      <th>Food_Beverage</th>\n",
       "      <th>Furniture</th>\n",
       "      <th>Gardening</th>\n",
       "      <th>Health_Beauty</th>\n",
       "      <th>Home</th>\n",
       "      <th>Market_place</th>\n",
       "      <th>Office_Supplies</th>\n",
       "      <th>Party_Supplies</th>\n",
       "      <th>Pet_Supplies</th>\n",
       "      <th>Signaling_Security</th>\n",
       "      <th>Sports_Leisure</th>\n",
       "      <th>Technology</th>\n",
       "      <th>Toys_Games</th>\n",
       "    </tr>\n",
       "  </thead>\n",
       "  <tbody>\n",
       "    <tr>\n",
       "      <th>0</th>\n",
       "      <td>1.931900</td>\n",
       "      <td>1.000000</td>\n",
       "      <td>1.000000</td>\n",
       "      <td>1.000000</td>\n",
       "      <td>1.248023</td>\n",
       "      <td>5.000000</td>\n",
       "      <td>1.000000</td>\n",
       "      <td>2.420743</td>\n",
       "      <td>3.771818</td>\n",
       "      <td>3.868781</td>\n",
       "      <td>1.000000</td>\n",
       "      <td>5.000000</td>\n",
       "      <td>1.934883</td>\n",
       "      <td>3.316358</td>\n",
       "      <td>2.215926</td>\n",
       "      <td>2.179542</td>\n",
       "      <td>5.000000</td>\n",
       "      <td>3.168688</td>\n",
       "      <td>1.314760</td>\n",
       "      <td>1.000000</td>\n",
       "    </tr>\n",
       "    <tr>\n",
       "      <th>1</th>\n",
       "      <td>1.000000</td>\n",
       "      <td>1.541880</td>\n",
       "      <td>2.827747</td>\n",
       "      <td>1.259979</td>\n",
       "      <td>5.000000</td>\n",
       "      <td>1.000000</td>\n",
       "      <td>1.026901</td>\n",
       "      <td>3.176994</td>\n",
       "      <td>1.000000</td>\n",
       "      <td>5.000000</td>\n",
       "      <td>2.046596</td>\n",
       "      <td>1.021166</td>\n",
       "      <td>5.000000</td>\n",
       "      <td>1.000000</td>\n",
       "      <td>3.269332</td>\n",
       "      <td>1.000000</td>\n",
       "      <td>2.856961</td>\n",
       "      <td>1.973781</td>\n",
       "      <td>5.000000</td>\n",
       "      <td>2.308040</td>\n",
       "    </tr>\n",
       "    <tr>\n",
       "      <th>2</th>\n",
       "      <td>1.688884</td>\n",
       "      <td>2.274711</td>\n",
       "      <td>2.488069</td>\n",
       "      <td>3.192647</td>\n",
       "      <td>2.637172</td>\n",
       "      <td>3.687934</td>\n",
       "      <td>2.668126</td>\n",
       "      <td>2.022790</td>\n",
       "      <td>3.231626</td>\n",
       "      <td>1.557091</td>\n",
       "      <td>2.604913</td>\n",
       "      <td>2.338604</td>\n",
       "      <td>3.734546</td>\n",
       "      <td>3.977780</td>\n",
       "      <td>2.501899</td>\n",
       "      <td>2.449117</td>\n",
       "      <td>2.641918</td>\n",
       "      <td>5.000000</td>\n",
       "      <td>1.374376</td>\n",
       "      <td>3.543485</td>\n",
       "    </tr>\n",
       "    <tr>\n",
       "      <th>3</th>\n",
       "      <td>1.492143</td>\n",
       "      <td>1.700894</td>\n",
       "      <td>1.735704</td>\n",
       "      <td>3.834474</td>\n",
       "      <td>2.384970</td>\n",
       "      <td>3.141852</td>\n",
       "      <td>2.492276</td>\n",
       "      <td>2.516400</td>\n",
       "      <td>1.656664</td>\n",
       "      <td>2.013437</td>\n",
       "      <td>3.459075</td>\n",
       "      <td>3.107117</td>\n",
       "      <td>3.248223</td>\n",
       "      <td>2.755483</td>\n",
       "      <td>3.112200</td>\n",
       "      <td>2.888262</td>\n",
       "      <td>1.000000</td>\n",
       "      <td>4.472360</td>\n",
       "      <td>1.005658</td>\n",
       "      <td>3.524954</td>\n",
       "    </tr>\n",
       "    <tr>\n",
       "      <th>4</th>\n",
       "      <td>1.216396</td>\n",
       "      <td>2.492260</td>\n",
       "      <td>5.000000</td>\n",
       "      <td>5.000000</td>\n",
       "      <td>4.930343</td>\n",
       "      <td>2.544575</td>\n",
       "      <td>1.919529</td>\n",
       "      <td>5.000000</td>\n",
       "      <td>2.145234</td>\n",
       "      <td>4.858980</td>\n",
       "      <td>4.006155</td>\n",
       "      <td>2.326179</td>\n",
       "      <td>1.362364</td>\n",
       "      <td>1.839486</td>\n",
       "      <td>5.000000</td>\n",
       "      <td>3.438654</td>\n",
       "      <td>4.488498</td>\n",
       "      <td>3.273370</td>\n",
       "      <td>1.759171</td>\n",
       "      <td>1.590890</td>\n",
       "    </tr>\n",
       "    <tr>\n",
       "      <th>5</th>\n",
       "      <td>5.000000</td>\n",
       "      <td>5.000000</td>\n",
       "      <td>4.572923</td>\n",
       "      <td>4.920261</td>\n",
       "      <td>1.000000</td>\n",
       "      <td>4.140800</td>\n",
       "      <td>5.000000</td>\n",
       "      <td>1.000000</td>\n",
       "      <td>4.532792</td>\n",
       "      <td>3.836393</td>\n",
       "      <td>4.926231</td>\n",
       "      <td>1.000000</td>\n",
       "      <td>1.005243</td>\n",
       "      <td>2.364591</td>\n",
       "      <td>1.043846</td>\n",
       "      <td>1.346785</td>\n",
       "      <td>3.526137</td>\n",
       "      <td>1.000000</td>\n",
       "      <td>1.167563</td>\n",
       "      <td>4.082888</td>\n",
       "    </tr>\n",
       "    <tr>\n",
       "      <th>6</th>\n",
       "      <td>1.261901</td>\n",
       "      <td>1.607829</td>\n",
       "      <td>3.155560</td>\n",
       "      <td>3.792620</td>\n",
       "      <td>1.727311</td>\n",
       "      <td>2.225894</td>\n",
       "      <td>4.223052</td>\n",
       "      <td>1.377974</td>\n",
       "      <td>3.984997</td>\n",
       "      <td>1.000000</td>\n",
       "      <td>3.092251</td>\n",
       "      <td>1.910216</td>\n",
       "      <td>2.601665</td>\n",
       "      <td>5.000000</td>\n",
       "      <td>1.000000</td>\n",
       "      <td>2.331799</td>\n",
       "      <td>1.596383</td>\n",
       "      <td>4.473735</td>\n",
       "      <td>1.025574</td>\n",
       "      <td>5.000000</td>\n",
       "    </tr>\n",
       "    <tr>\n",
       "      <th>7</th>\n",
       "      <td>2.382317</td>\n",
       "      <td>2.118262</td>\n",
       "      <td>3.139792</td>\n",
       "      <td>4.113579</td>\n",
       "      <td>1.116411</td>\n",
       "      <td>3.878387</td>\n",
       "      <td>3.896353</td>\n",
       "      <td>2.072108</td>\n",
       "      <td>5.000000</td>\n",
       "      <td>2.225599</td>\n",
       "      <td>5.000000</td>\n",
       "      <td>2.535127</td>\n",
       "      <td>1.000000</td>\n",
       "      <td>3.182319</td>\n",
       "      <td>2.293565</td>\n",
       "      <td>5.000000</td>\n",
       "      <td>4.572593</td>\n",
       "      <td>1.571986</td>\n",
       "      <td>1.000000</td>\n",
       "      <td>1.873317</td>\n",
       "    </tr>\n",
       "  </tbody>\n",
       "</table>\n",
       "</div>"
      ],
      "text/plain": [
       "   Agro_Industry_Commerce  Arts_Music  Automotive      Baby     Books  \\\n",
       "0                1.931900    1.000000    1.000000  1.000000  1.248023   \n",
       "1                1.000000    1.541880    2.827747  1.259979  5.000000   \n",
       "2                1.688884    2.274711    2.488069  3.192647  2.637172   \n",
       "3                1.492143    1.700894    1.735704  3.834474  2.384970   \n",
       "4                1.216396    2.492260    5.000000  5.000000  4.930343   \n",
       "5                5.000000    5.000000    4.572923  4.920261  1.000000   \n",
       "6                1.261901    1.607829    3.155560  3.792620  1.727311   \n",
       "7                2.382317    2.118262    3.139792  4.113579  1.116411   \n",
       "\n",
       "   Construction_Tools  Fashion_Accessories  Food_Beverage  Furniture  \\\n",
       "0            5.000000             1.000000       2.420743   3.771818   \n",
       "1            1.000000             1.026901       3.176994   1.000000   \n",
       "2            3.687934             2.668126       2.022790   3.231626   \n",
       "3            3.141852             2.492276       2.516400   1.656664   \n",
       "4            2.544575             1.919529       5.000000   2.145234   \n",
       "5            4.140800             5.000000       1.000000   4.532792   \n",
       "6            2.225894             4.223052       1.377974   3.984997   \n",
       "7            3.878387             3.896353       2.072108   5.000000   \n",
       "\n",
       "   Gardening  Health_Beauty      Home  Market_place  Office_Supplies  \\\n",
       "0   3.868781       1.000000  5.000000      1.934883         3.316358   \n",
       "1   5.000000       2.046596  1.021166      5.000000         1.000000   \n",
       "2   1.557091       2.604913  2.338604      3.734546         3.977780   \n",
       "3   2.013437       3.459075  3.107117      3.248223         2.755483   \n",
       "4   4.858980       4.006155  2.326179      1.362364         1.839486   \n",
       "5   3.836393       4.926231  1.000000      1.005243         2.364591   \n",
       "6   1.000000       3.092251  1.910216      2.601665         5.000000   \n",
       "7   2.225599       5.000000  2.535127      1.000000         3.182319   \n",
       "\n",
       "   Party_Supplies  Pet_Supplies  Signaling_Security  Sports_Leisure  \\\n",
       "0        2.215926      2.179542            5.000000        3.168688   \n",
       "1        3.269332      1.000000            2.856961        1.973781   \n",
       "2        2.501899      2.449117            2.641918        5.000000   \n",
       "3        3.112200      2.888262            1.000000        4.472360   \n",
       "4        5.000000      3.438654            4.488498        3.273370   \n",
       "5        1.043846      1.346785            3.526137        1.000000   \n",
       "6        1.000000      2.331799            1.596383        4.473735   \n",
       "7        2.293565      5.000000            4.572593        1.571986   \n",
       "\n",
       "   Technology  Toys_Games  \n",
       "0    1.314760    1.000000  \n",
       "1    5.000000    2.308040  \n",
       "2    1.374376    3.543485  \n",
       "3    1.005658    3.524954  \n",
       "4    1.759171    1.590890  \n",
       "5    1.167563    4.082888  \n",
       "6    1.025574    5.000000  \n",
       "7    1.000000    1.873317  "
      ]
     },
     "execution_count": 577,
     "metadata": {},
     "output_type": "execute_result"
    }
   ],
   "source": [
    "dummy_product=pd.get_dummies(df.product_category,sparse=False)\n",
    "prod_col=dummy_product.columns.to_list()\n",
    "\n",
    "list_agg = {}\n",
    "for col in prod_col:\n",
    "    list_agg[f'{col}'] = 'sum'\n",
    "\n",
    "dummy_product['cluster_labels']=pd.Series(clustering.labels_)\n",
    "\n",
    "df_cat=dummy_product.groupby('cluster_labels').agg(list_agg)\n",
    "\n",
    "cluster_count=dummy_product.cluster_labels.value_counts().sort_index().to_list()\n",
    "for i in range(len(cluster_count)):\n",
    "    df_cat.iloc[i]=(df_cat.iloc[i])/(cluster_count[i])\n",
    "\n",
    "\n",
    "df_mms_cat=pd.DataFrame(mms.fit_transform(df_cat), columns=prod_col)\n",
    "df_mms_cat\n"
   ]
  },
  {
   "cell_type": "code",
   "execution_count": 578,
   "metadata": {},
   "outputs": [
    {
     "data": {
      "application/vnd.plotly.v1+json": {
       "config": {
        "plotlyServerURL": "https://plot.ly"
       },
       "data": [
        {
         "fill": "toself",
         "name": "Cluster 0",
         "r": [
          1.9319003243622839,
          1,
          1,
          1,
          1.2480226930588572,
          5.000000000000001,
          1,
          2.4207428819542427,
          3.7718175549832553,
          3.868780860285857,
          1,
          5,
          1.9348828682638177,
          3.3163582631888033,
          2.2159255706830736,
          2.1795423711079405,
          5,
          3.1686881074005218,
          1.3147604711696568,
          1
         ],
         "theta": [
          "Agro_Industry_Commerce",
          "Arts_Music",
          "Automotive",
          "Baby",
          "Books",
          "Construction_Tools",
          "Fashion_Accessories",
          "Food_Beverage",
          "Furniture",
          "Gardening",
          "Health_Beauty",
          "Home",
          "Market_place",
          "Office_Supplies",
          "Party_Supplies",
          "Pet_Supplies",
          "Signaling_Security",
          "Sports_Leisure",
          "Technology",
          "Toys_Games"
         ],
         "type": "scatterpolar"
        },
        {
         "fill": "toself",
         "name": "Cluster 1",
         "r": [
          1,
          1.54188040621676,
          2.8277471305724267,
          1.2599791039549153,
          5,
          1,
          1.0269008563516326,
          3.176993826028092,
          1,
          5,
          2.046596161182859,
          1.0211660811457,
          5.000000000000001,
          1,
          3.269332376993904,
          1,
          2.8569607351239292,
          1.9737814440192194,
          5,
          2.3080402423651076
         ],
         "theta": [
          "Agro_Industry_Commerce",
          "Arts_Music",
          "Automotive",
          "Baby",
          "Books",
          "Construction_Tools",
          "Fashion_Accessories",
          "Food_Beverage",
          "Furniture",
          "Gardening",
          "Health_Beauty",
          "Home",
          "Market_place",
          "Office_Supplies",
          "Party_Supplies",
          "Pet_Supplies",
          "Signaling_Security",
          "Sports_Leisure",
          "Technology",
          "Toys_Games"
         ],
         "type": "scatterpolar"
        },
        {
         "fill": "toself",
         "name": "Cluster 2",
         "r": [
          1.6888841540348865,
          2.2747107640132107,
          2.4880693036591053,
          3.1926468419786733,
          2.637172427373774,
          3.687933592492211,
          2.6681261914851437,
          2.0227901355078712,
          3.231625947374056,
          1.5570905314272865,
          2.604913355466884,
          2.3386037866025653,
          3.734545669322353,
          3.9777804842277336,
          2.5018989291065727,
          2.449116742906182,
          2.6419175392002154,
          5,
          1.3743764046341438,
          3.543484923154309
         ],
         "theta": [
          "Agro_Industry_Commerce",
          "Arts_Music",
          "Automotive",
          "Baby",
          "Books",
          "Construction_Tools",
          "Fashion_Accessories",
          "Food_Beverage",
          "Furniture",
          "Gardening",
          "Health_Beauty",
          "Home",
          "Market_place",
          "Office_Supplies",
          "Party_Supplies",
          "Pet_Supplies",
          "Signaling_Security",
          "Sports_Leisure",
          "Technology",
          "Toys_Games"
         ],
         "type": "scatterpolar"
        },
        {
         "fill": "toself",
         "name": "Cluster 3",
         "r": [
          1.4921429092477205,
          1.7008935869270516,
          1.7357035105889667,
          3.83447357675018,
          2.384969991930085,
          3.1418518303617367,
          2.4922762970708274,
          2.516400284997519,
          1.656664493800859,
          2.0134365634625553,
          3.4590750148037026,
          3.1071166857127515,
          3.248222936169599,
          2.7554826723721666,
          3.1122000394955576,
          2.888262427774377,
          1,
          4.4723604700699156,
          1.0056580224905785,
          3.524953850320733
         ],
         "theta": [
          "Agro_Industry_Commerce",
          "Arts_Music",
          "Automotive",
          "Baby",
          "Books",
          "Construction_Tools",
          "Fashion_Accessories",
          "Food_Beverage",
          "Furniture",
          "Gardening",
          "Health_Beauty",
          "Home",
          "Market_place",
          "Office_Supplies",
          "Party_Supplies",
          "Pet_Supplies",
          "Signaling_Security",
          "Sports_Leisure",
          "Technology",
          "Toys_Games"
         ],
         "type": "scatterpolar"
        },
        {
         "fill": "toself",
         "name": "Cluster 4",
         "r": [
          1.216396428081748,
          2.4922596218103257,
          5,
          5,
          4.930342584644318,
          2.544574964893044,
          1.9195288916908724,
          5,
          2.1452344518670756,
          4.858980150210008,
          4.006154911167879,
          2.32617871962752,
          1.3623640234226917,
          1.839486113377224,
          5,
          3.4386536505821024,
          4.488498321121127,
          3.2733697751521147,
          1.759170570765192,
          1.5908901444617685
         ],
         "theta": [
          "Agro_Industry_Commerce",
          "Arts_Music",
          "Automotive",
          "Baby",
          "Books",
          "Construction_Tools",
          "Fashion_Accessories",
          "Food_Beverage",
          "Furniture",
          "Gardening",
          "Health_Beauty",
          "Home",
          "Market_place",
          "Office_Supplies",
          "Party_Supplies",
          "Pet_Supplies",
          "Signaling_Security",
          "Sports_Leisure",
          "Technology",
          "Toys_Games"
         ],
         "type": "scatterpolar"
        },
        {
         "fill": "toself",
         "name": "Cluster 5",
         "r": [
          5.000000000000001,
          4.999999999999999,
          4.572923394763807,
          4.920261333925718,
          1,
          4.140800101560012,
          5,
          1,
          4.53279171462246,
          3.836393387931529,
          4.9262312824783105,
          1,
          1.0052425310659907,
          2.3645910416021243,
          1.0438462006128786,
          1.3467846544415978,
          3.5261374773717717,
          1,
          1.1675626219942785,
          4.082888054398433
         ],
         "theta": [
          "Agro_Industry_Commerce",
          "Arts_Music",
          "Automotive",
          "Baby",
          "Books",
          "Construction_Tools",
          "Fashion_Accessories",
          "Food_Beverage",
          "Furniture",
          "Gardening",
          "Health_Beauty",
          "Home",
          "Market_place",
          "Office_Supplies",
          "Party_Supplies",
          "Pet_Supplies",
          "Signaling_Security",
          "Sports_Leisure",
          "Technology",
          "Toys_Games"
         ],
         "type": "scatterpolar"
        },
        {
         "fill": "toself",
         "name": "Cluster 6",
         "r": [
          1.2619013063406603,
          1.6078289645090318,
          3.1555601759872194,
          3.7926200054804298,
          1.7273106343328681,
          2.2258944319281313,
          4.223051716035771,
          1.377973765109815,
          3.984996976190275,
          1,
          3.092250843004982,
          1.910216322797396,
          2.6016649123708726,
          5.000000000000001,
          1,
          2.3317988537301715,
          1.596382862678181,
          4.473735310927484,
          1.0255741560922256,
          5
         ],
         "theta": [
          "Agro_Industry_Commerce",
          "Arts_Music",
          "Automotive",
          "Baby",
          "Books",
          "Construction_Tools",
          "Fashion_Accessories",
          "Food_Beverage",
          "Furniture",
          "Gardening",
          "Health_Beauty",
          "Home",
          "Market_place",
          "Office_Supplies",
          "Party_Supplies",
          "Pet_Supplies",
          "Signaling_Security",
          "Sports_Leisure",
          "Technology",
          "Toys_Games"
         ],
         "type": "scatterpolar"
        },
        {
         "fill": "toself",
         "name": "Cluster 7",
         "r": [
          2.3823171698857926,
          2.118261554658316,
          3.139792220934304,
          4.1135787673243875,
          1.1164113315377466,
          3.8783870223818377,
          3.896352505173645,
          2.0721080955453166,
          5,
          2.2255990973315756,
          5,
          2.535126803621384,
          1,
          3.182319172298521,
          2.293565121823735,
          5.000000000000001,
          4.572593003542067,
          1.5719863533663032,
          1,
          1.873317397142532
         ],
         "theta": [
          "Agro_Industry_Commerce",
          "Arts_Music",
          "Automotive",
          "Baby",
          "Books",
          "Construction_Tools",
          "Fashion_Accessories",
          "Food_Beverage",
          "Furniture",
          "Gardening",
          "Health_Beauty",
          "Home",
          "Market_place",
          "Office_Supplies",
          "Party_Supplies",
          "Pet_Supplies",
          "Signaling_Security",
          "Sports_Leisure",
          "Technology",
          "Toys_Games"
         ],
         "type": "scatterpolar"
        }
       ],
       "layout": {
        "height": 780,
        "polar": {
         "radialaxis": {
          "range": [
           0,
           5
          ],
          "visible": true
         }
        },
        "showlegend": true,
        "template": {
         "data": {
          "bar": [
           {
            "error_x": {
             "color": "#2a3f5f"
            },
            "error_y": {
             "color": "#2a3f5f"
            },
            "marker": {
             "line": {
              "color": "#E5ECF6",
              "width": 0.5
             },
             "pattern": {
              "fillmode": "overlay",
              "size": 10,
              "solidity": 0.2
             }
            },
            "type": "bar"
           }
          ],
          "barpolar": [
           {
            "marker": {
             "line": {
              "color": "#E5ECF6",
              "width": 0.5
             },
             "pattern": {
              "fillmode": "overlay",
              "size": 10,
              "solidity": 0.2
             }
            },
            "type": "barpolar"
           }
          ],
          "carpet": [
           {
            "aaxis": {
             "endlinecolor": "#2a3f5f",
             "gridcolor": "white",
             "linecolor": "white",
             "minorgridcolor": "white",
             "startlinecolor": "#2a3f5f"
            },
            "baxis": {
             "endlinecolor": "#2a3f5f",
             "gridcolor": "white",
             "linecolor": "white",
             "minorgridcolor": "white",
             "startlinecolor": "#2a3f5f"
            },
            "type": "carpet"
           }
          ],
          "choropleth": [
           {
            "colorbar": {
             "outlinewidth": 0,
             "ticks": ""
            },
            "type": "choropleth"
           }
          ],
          "contour": [
           {
            "colorbar": {
             "outlinewidth": 0,
             "ticks": ""
            },
            "colorscale": [
             [
              0,
              "#0d0887"
             ],
             [
              0.1111111111111111,
              "#46039f"
             ],
             [
              0.2222222222222222,
              "#7201a8"
             ],
             [
              0.3333333333333333,
              "#9c179e"
             ],
             [
              0.4444444444444444,
              "#bd3786"
             ],
             [
              0.5555555555555556,
              "#d8576b"
             ],
             [
              0.6666666666666666,
              "#ed7953"
             ],
             [
              0.7777777777777778,
              "#fb9f3a"
             ],
             [
              0.8888888888888888,
              "#fdca26"
             ],
             [
              1,
              "#f0f921"
             ]
            ],
            "type": "contour"
           }
          ],
          "contourcarpet": [
           {
            "colorbar": {
             "outlinewidth": 0,
             "ticks": ""
            },
            "type": "contourcarpet"
           }
          ],
          "heatmap": [
           {
            "colorbar": {
             "outlinewidth": 0,
             "ticks": ""
            },
            "colorscale": [
             [
              0,
              "#0d0887"
             ],
             [
              0.1111111111111111,
              "#46039f"
             ],
             [
              0.2222222222222222,
              "#7201a8"
             ],
             [
              0.3333333333333333,
              "#9c179e"
             ],
             [
              0.4444444444444444,
              "#bd3786"
             ],
             [
              0.5555555555555556,
              "#d8576b"
             ],
             [
              0.6666666666666666,
              "#ed7953"
             ],
             [
              0.7777777777777778,
              "#fb9f3a"
             ],
             [
              0.8888888888888888,
              "#fdca26"
             ],
             [
              1,
              "#f0f921"
             ]
            ],
            "type": "heatmap"
           }
          ],
          "heatmapgl": [
           {
            "colorbar": {
             "outlinewidth": 0,
             "ticks": ""
            },
            "colorscale": [
             [
              0,
              "#0d0887"
             ],
             [
              0.1111111111111111,
              "#46039f"
             ],
             [
              0.2222222222222222,
              "#7201a8"
             ],
             [
              0.3333333333333333,
              "#9c179e"
             ],
             [
              0.4444444444444444,
              "#bd3786"
             ],
             [
              0.5555555555555556,
              "#d8576b"
             ],
             [
              0.6666666666666666,
              "#ed7953"
             ],
             [
              0.7777777777777778,
              "#fb9f3a"
             ],
             [
              0.8888888888888888,
              "#fdca26"
             ],
             [
              1,
              "#f0f921"
             ]
            ],
            "type": "heatmapgl"
           }
          ],
          "histogram": [
           {
            "marker": {
             "pattern": {
              "fillmode": "overlay",
              "size": 10,
              "solidity": 0.2
             }
            },
            "type": "histogram"
           }
          ],
          "histogram2d": [
           {
            "colorbar": {
             "outlinewidth": 0,
             "ticks": ""
            },
            "colorscale": [
             [
              0,
              "#0d0887"
             ],
             [
              0.1111111111111111,
              "#46039f"
             ],
             [
              0.2222222222222222,
              "#7201a8"
             ],
             [
              0.3333333333333333,
              "#9c179e"
             ],
             [
              0.4444444444444444,
              "#bd3786"
             ],
             [
              0.5555555555555556,
              "#d8576b"
             ],
             [
              0.6666666666666666,
              "#ed7953"
             ],
             [
              0.7777777777777778,
              "#fb9f3a"
             ],
             [
              0.8888888888888888,
              "#fdca26"
             ],
             [
              1,
              "#f0f921"
             ]
            ],
            "type": "histogram2d"
           }
          ],
          "histogram2dcontour": [
           {
            "colorbar": {
             "outlinewidth": 0,
             "ticks": ""
            },
            "colorscale": [
             [
              0,
              "#0d0887"
             ],
             [
              0.1111111111111111,
              "#46039f"
             ],
             [
              0.2222222222222222,
              "#7201a8"
             ],
             [
              0.3333333333333333,
              "#9c179e"
             ],
             [
              0.4444444444444444,
              "#bd3786"
             ],
             [
              0.5555555555555556,
              "#d8576b"
             ],
             [
              0.6666666666666666,
              "#ed7953"
             ],
             [
              0.7777777777777778,
              "#fb9f3a"
             ],
             [
              0.8888888888888888,
              "#fdca26"
             ],
             [
              1,
              "#f0f921"
             ]
            ],
            "type": "histogram2dcontour"
           }
          ],
          "mesh3d": [
           {
            "colorbar": {
             "outlinewidth": 0,
             "ticks": ""
            },
            "type": "mesh3d"
           }
          ],
          "parcoords": [
           {
            "line": {
             "colorbar": {
              "outlinewidth": 0,
              "ticks": ""
             }
            },
            "type": "parcoords"
           }
          ],
          "pie": [
           {
            "automargin": true,
            "type": "pie"
           }
          ],
          "scatter": [
           {
            "fillpattern": {
             "fillmode": "overlay",
             "size": 10,
             "solidity": 0.2
            },
            "type": "scatter"
           }
          ],
          "scatter3d": [
           {
            "line": {
             "colorbar": {
              "outlinewidth": 0,
              "ticks": ""
             }
            },
            "marker": {
             "colorbar": {
              "outlinewidth": 0,
              "ticks": ""
             }
            },
            "type": "scatter3d"
           }
          ],
          "scattercarpet": [
           {
            "marker": {
             "colorbar": {
              "outlinewidth": 0,
              "ticks": ""
             }
            },
            "type": "scattercarpet"
           }
          ],
          "scattergeo": [
           {
            "marker": {
             "colorbar": {
              "outlinewidth": 0,
              "ticks": ""
             }
            },
            "type": "scattergeo"
           }
          ],
          "scattergl": [
           {
            "marker": {
             "colorbar": {
              "outlinewidth": 0,
              "ticks": ""
             }
            },
            "type": "scattergl"
           }
          ],
          "scattermapbox": [
           {
            "marker": {
             "colorbar": {
              "outlinewidth": 0,
              "ticks": ""
             }
            },
            "type": "scattermapbox"
           }
          ],
          "scatterpolar": [
           {
            "marker": {
             "colorbar": {
              "outlinewidth": 0,
              "ticks": ""
             }
            },
            "type": "scatterpolar"
           }
          ],
          "scatterpolargl": [
           {
            "marker": {
             "colorbar": {
              "outlinewidth": 0,
              "ticks": ""
             }
            },
            "type": "scatterpolargl"
           }
          ],
          "scatterternary": [
           {
            "marker": {
             "colorbar": {
              "outlinewidth": 0,
              "ticks": ""
             }
            },
            "type": "scatterternary"
           }
          ],
          "surface": [
           {
            "colorbar": {
             "outlinewidth": 0,
             "ticks": ""
            },
            "colorscale": [
             [
              0,
              "#0d0887"
             ],
             [
              0.1111111111111111,
              "#46039f"
             ],
             [
              0.2222222222222222,
              "#7201a8"
             ],
             [
              0.3333333333333333,
              "#9c179e"
             ],
             [
              0.4444444444444444,
              "#bd3786"
             ],
             [
              0.5555555555555556,
              "#d8576b"
             ],
             [
              0.6666666666666666,
              "#ed7953"
             ],
             [
              0.7777777777777778,
              "#fb9f3a"
             ],
             [
              0.8888888888888888,
              "#fdca26"
             ],
             [
              1,
              "#f0f921"
             ]
            ],
            "type": "surface"
           }
          ],
          "table": [
           {
            "cells": {
             "fill": {
              "color": "#EBF0F8"
             },
             "line": {
              "color": "white"
             }
            },
            "header": {
             "fill": {
              "color": "#C8D4E3"
             },
             "line": {
              "color": "white"
             }
            },
            "type": "table"
           }
          ]
         },
         "layout": {
          "annotationdefaults": {
           "arrowcolor": "#2a3f5f",
           "arrowhead": 0,
           "arrowwidth": 1
          },
          "autotypenumbers": "strict",
          "coloraxis": {
           "colorbar": {
            "outlinewidth": 0,
            "ticks": ""
           }
          },
          "colorscale": {
           "diverging": [
            [
             0,
             "#8e0152"
            ],
            [
             0.1,
             "#c51b7d"
            ],
            [
             0.2,
             "#de77ae"
            ],
            [
             0.3,
             "#f1b6da"
            ],
            [
             0.4,
             "#fde0ef"
            ],
            [
             0.5,
             "#f7f7f7"
            ],
            [
             0.6,
             "#e6f5d0"
            ],
            [
             0.7,
             "#b8e186"
            ],
            [
             0.8,
             "#7fbc41"
            ],
            [
             0.9,
             "#4d9221"
            ],
            [
             1,
             "#276419"
            ]
           ],
           "sequential": [
            [
             0,
             "#0d0887"
            ],
            [
             0.1111111111111111,
             "#46039f"
            ],
            [
             0.2222222222222222,
             "#7201a8"
            ],
            [
             0.3333333333333333,
             "#9c179e"
            ],
            [
             0.4444444444444444,
             "#bd3786"
            ],
            [
             0.5555555555555556,
             "#d8576b"
            ],
            [
             0.6666666666666666,
             "#ed7953"
            ],
            [
             0.7777777777777778,
             "#fb9f3a"
            ],
            [
             0.8888888888888888,
             "#fdca26"
            ],
            [
             1,
             "#f0f921"
            ]
           ],
           "sequentialminus": [
            [
             0,
             "#0d0887"
            ],
            [
             0.1111111111111111,
             "#46039f"
            ],
            [
             0.2222222222222222,
             "#7201a8"
            ],
            [
             0.3333333333333333,
             "#9c179e"
            ],
            [
             0.4444444444444444,
             "#bd3786"
            ],
            [
             0.5555555555555556,
             "#d8576b"
            ],
            [
             0.6666666666666666,
             "#ed7953"
            ],
            [
             0.7777777777777778,
             "#fb9f3a"
            ],
            [
             0.8888888888888888,
             "#fdca26"
            ],
            [
             1,
             "#f0f921"
            ]
           ]
          },
          "colorway": [
           "#636efa",
           "#EF553B",
           "#00cc96",
           "#ab63fa",
           "#FFA15A",
           "#19d3f3",
           "#FF6692",
           "#B6E880",
           "#FF97FF",
           "#FECB52"
          ],
          "font": {
           "color": "#2a3f5f"
          },
          "geo": {
           "bgcolor": "white",
           "lakecolor": "white",
           "landcolor": "#E5ECF6",
           "showlakes": true,
           "showland": true,
           "subunitcolor": "white"
          },
          "hoverlabel": {
           "align": "left"
          },
          "hovermode": "closest",
          "mapbox": {
           "style": "light"
          },
          "paper_bgcolor": "white",
          "plot_bgcolor": "#E5ECF6",
          "polar": {
           "angularaxis": {
            "gridcolor": "white",
            "linecolor": "white",
            "ticks": ""
           },
           "bgcolor": "#E5ECF6",
           "radialaxis": {
            "gridcolor": "white",
            "linecolor": "white",
            "ticks": ""
           }
          },
          "scene": {
           "xaxis": {
            "backgroundcolor": "#E5ECF6",
            "gridcolor": "white",
            "gridwidth": 2,
            "linecolor": "white",
            "showbackground": true,
            "ticks": "",
            "zerolinecolor": "white"
           },
           "yaxis": {
            "backgroundcolor": "#E5ECF6",
            "gridcolor": "white",
            "gridwidth": 2,
            "linecolor": "white",
            "showbackground": true,
            "ticks": "",
            "zerolinecolor": "white"
           },
           "zaxis": {
            "backgroundcolor": "#E5ECF6",
            "gridcolor": "white",
            "gridwidth": 2,
            "linecolor": "white",
            "showbackground": true,
            "ticks": "",
            "zerolinecolor": "white"
           }
          },
          "shapedefaults": {
           "line": {
            "color": "#2a3f5f"
           }
          },
          "ternary": {
           "aaxis": {
            "gridcolor": "white",
            "linecolor": "white",
            "ticks": ""
           },
           "baxis": {
            "gridcolor": "white",
            "linecolor": "white",
            "ticks": ""
           },
           "bgcolor": "#E5ECF6",
           "caxis": {
            "gridcolor": "white",
            "linecolor": "white",
            "ticks": ""
           }
          },
          "title": {
           "x": 0.05
          },
          "xaxis": {
           "automargin": true,
           "gridcolor": "white",
           "linecolor": "white",
           "ticks": "",
           "title": {
            "standoff": 15
           },
           "zerolinecolor": "white",
           "zerolinewidth": 2
          },
          "yaxis": {
           "automargin": true,
           "gridcolor": "white",
           "linecolor": "white",
           "ticks": "",
           "title": {
            "standoff": 15
           },
           "zerolinecolor": "white",
           "zerolinewidth": 2
          }
         }
        },
        "width": 780
       }
      }
     },
     "metadata": {},
     "output_type": "display_data"
    }
   ],
   "source": [
    "# Créer une figure en radar pour chaque cluster\n",
    "fig = go.Figure()\n",
    "\n",
    "for cluster, row in df_mms_cat.iterrows():\n",
    "    values = row.values.tolist()\n",
    "    \n",
    "\n",
    "    \n",
    "\n",
    "    fig.add_trace(go.Scatterpolar(\n",
    "        r=values,\n",
    "        theta=prod_col,\n",
    "        fill='toself',\n",
    "        name=f'Cluster {cluster}'\n",
    "    ))\n",
    "\n",
    "# Mettre en forme la figurenum_cols,\n",
    "fig.update_layout(\n",
    "    polar=dict(\n",
    "        radialaxis=dict(\n",
    "            visible=True,\n",
    "            range=[0, 5]\n",
    "        ),\n",
    "    ),\n",
    "    showlegend=True,\n",
    "    width=780,\n",
    "    height=780\n",
    "\n",
    ")\n",
    "\n",
    "# Afficher la figure\n",
    "fig.show()\n",
    "figsize = (60,60)"
   ]
  },
  {
   "cell_type": "code",
   "execution_count": 579,
   "metadata": {},
   "outputs": [
    {
     "data": {
      "text/html": [
       "<div>\n",
       "<style scoped>\n",
       "    .dataframe tbody tr th:only-of-type {\n",
       "        vertical-align: middle;\n",
       "    }\n",
       "\n",
       "    .dataframe tbody tr th {\n",
       "        vertical-align: top;\n",
       "    }\n",
       "\n",
       "    .dataframe thead th {\n",
       "        text-align: right;\n",
       "    }\n",
       "</style>\n",
       "<table border=\"1\" class=\"dataframe\">\n",
       "  <thead>\n",
       "    <tr style=\"text-align: right;\">\n",
       "      <th></th>\n",
       "      <th>index</th>\n",
       "      <th>payment_type</th>\n",
       "      <th>product_category</th>\n",
       "      <th>payment_installments</th>\n",
       "      <th>orders</th>\n",
       "      <th>products</th>\n",
       "      <th>sellers</th>\n",
       "      <th>payment_value</th>\n",
       "      <th>review_score</th>\n",
       "      <th>price</th>\n",
       "      <th>freight_value</th>\n",
       "      <th>order_purchase_timestamp</th>\n",
       "      <th>recency</th>\n",
       "    </tr>\n",
       "  </thead>\n",
       "  <tbody>\n",
       "    <tr>\n",
       "      <th>0</th>\n",
       "      <td>71848</td>\n",
       "      <td>credit_card</td>\n",
       "      <td>Office_Supplies</td>\n",
       "      <td>5</td>\n",
       "      <td>1</td>\n",
       "      <td>1</td>\n",
       "      <td>1</td>\n",
       "      <td>115.22</td>\n",
       "      <td>2.0</td>\n",
       "      <td>86.99</td>\n",
       "      <td>28.23</td>\n",
       "      <td>2016-10</td>\n",
       "      <td>695</td>\n",
       "    </tr>\n",
       "    <tr>\n",
       "      <th>1</th>\n",
       "      <td>50256</td>\n",
       "      <td>credit_card</td>\n",
       "      <td>Sports_Leisure</td>\n",
       "      <td>3</td>\n",
       "      <td>1</td>\n",
       "      <td>1</td>\n",
       "      <td>1</td>\n",
       "      <td>61.16</td>\n",
       "      <td>5.0</td>\n",
       "      <td>49.99</td>\n",
       "      <td>11.17</td>\n",
       "      <td>2016-10</td>\n",
       "      <td>691</td>\n",
       "    </tr>\n",
       "    <tr>\n",
       "      <th>2</th>\n",
       "      <td>14113</td>\n",
       "      <td>credit_card</td>\n",
       "      <td>Sports_Leisure</td>\n",
       "      <td>10</td>\n",
       "      <td>1</td>\n",
       "      <td>1</td>\n",
       "      <td>1</td>\n",
       "      <td>818.12</td>\n",
       "      <td>5.0</td>\n",
       "      <td>649.00</td>\n",
       "      <td>169.12</td>\n",
       "      <td>2016-10</td>\n",
       "      <td>694</td>\n",
       "    </tr>\n",
       "    <tr>\n",
       "      <th>3</th>\n",
       "      <td>11864</td>\n",
       "      <td>boleto</td>\n",
       "      <td>Health_Beauty</td>\n",
       "      <td>1</td>\n",
       "      <td>1</td>\n",
       "      <td>1</td>\n",
       "      <td>1</td>\n",
       "      <td>87.53</td>\n",
       "      <td>4.0</td>\n",
       "      <td>69.90</td>\n",
       "      <td>17.63</td>\n",
       "      <td>2016-10</td>\n",
       "      <td>692</td>\n",
       "    </tr>\n",
       "    <tr>\n",
       "      <th>4</th>\n",
       "      <td>91385</td>\n",
       "      <td>credit_card</td>\n",
       "      <td>Home</td>\n",
       "      <td>6</td>\n",
       "      <td>2</td>\n",
       "      <td>2</td>\n",
       "      <td>2</td>\n",
       "      <td>218.04</td>\n",
       "      <td>5.0</td>\n",
       "      <td>43.65</td>\n",
       "      <td>10.86</td>\n",
       "      <td>2016-10</td>\n",
       "      <td>690</td>\n",
       "    </tr>\n",
       "    <tr>\n",
       "      <th>...</th>\n",
       "      <td>...</td>\n",
       "      <td>...</td>\n",
       "      <td>...</td>\n",
       "      <td>...</td>\n",
       "      <td>...</td>\n",
       "      <td>...</td>\n",
       "      <td>...</td>\n",
       "      <td>...</td>\n",
       "      <td>...</td>\n",
       "      <td>...</td>\n",
       "      <td>...</td>\n",
       "      <td>...</td>\n",
       "      <td>...</td>\n",
       "    </tr>\n",
       "    <tr>\n",
       "      <th>91474</th>\n",
       "      <td>83793</td>\n",
       "      <td>debit_card</td>\n",
       "      <td>Home</td>\n",
       "      <td>1</td>\n",
       "      <td>1</td>\n",
       "      <td>1</td>\n",
       "      <td>1</td>\n",
       "      <td>151.54</td>\n",
       "      <td>5.0</td>\n",
       "      <td>129.99</td>\n",
       "      <td>21.55</td>\n",
       "      <td>2018-08</td>\n",
       "      <td>28</td>\n",
       "    </tr>\n",
       "    <tr>\n",
       "      <th>91475</th>\n",
       "      <td>23285</td>\n",
       "      <td>credit_card</td>\n",
       "      <td>Technology</td>\n",
       "      <td>1</td>\n",
       "      <td>1</td>\n",
       "      <td>1</td>\n",
       "      <td>1</td>\n",
       "      <td>57.60</td>\n",
       "      <td>5.0</td>\n",
       "      <td>49.99</td>\n",
       "      <td>7.61</td>\n",
       "      <td>2018-08</td>\n",
       "      <td>17</td>\n",
       "    </tr>\n",
       "    <tr>\n",
       "      <th>91476</th>\n",
       "      <td>23293</td>\n",
       "      <td>credit_card</td>\n",
       "      <td>Technology</td>\n",
       "      <td>1</td>\n",
       "      <td>1</td>\n",
       "      <td>1</td>\n",
       "      <td>1</td>\n",
       "      <td>62.86</td>\n",
       "      <td>5.0</td>\n",
       "      <td>54.90</td>\n",
       "      <td>7.96</td>\n",
       "      <td>2018-08</td>\n",
       "      <td>22</td>\n",
       "    </tr>\n",
       "    <tr>\n",
       "      <th>91477</th>\n",
       "      <td>55011</td>\n",
       "      <td>credit_card</td>\n",
       "      <td>Fashion_Accessories</td>\n",
       "      <td>3</td>\n",
       "      <td>2</td>\n",
       "      <td>2</td>\n",
       "      <td>2</td>\n",
       "      <td>1089.04</td>\n",
       "      <td>4.0</td>\n",
       "      <td>252.40</td>\n",
       "      <td>19.86</td>\n",
       "      <td>2018-08</td>\n",
       "      <td>25</td>\n",
       "    </tr>\n",
       "    <tr>\n",
       "      <th>91478</th>\n",
       "      <td>45739</td>\n",
       "      <td>boleto</td>\n",
       "      <td>Home</td>\n",
       "      <td>1</td>\n",
       "      <td>1</td>\n",
       "      <td>1</td>\n",
       "      <td>1</td>\n",
       "      <td>30.69</td>\n",
       "      <td>5.0</td>\n",
       "      <td>17.90</td>\n",
       "      <td>12.79</td>\n",
       "      <td>2018-08</td>\n",
       "      <td>10</td>\n",
       "    </tr>\n",
       "  </tbody>\n",
       "</table>\n",
       "<p>91479 rows × 13 columns</p>\n",
       "</div>"
      ],
      "text/plain": [
       "       index payment_type     product_category  payment_installments  orders  \\\n",
       "0      71848  credit_card      Office_Supplies                     5       1   \n",
       "1      50256  credit_card       Sports_Leisure                     3       1   \n",
       "2      14113  credit_card       Sports_Leisure                    10       1   \n",
       "3      11864       boleto        Health_Beauty                     1       1   \n",
       "4      91385  credit_card                 Home                     6       2   \n",
       "...      ...          ...                  ...                   ...     ...   \n",
       "91474  83793   debit_card                 Home                     1       1   \n",
       "91475  23285  credit_card           Technology                     1       1   \n",
       "91476  23293  credit_card           Technology                     1       1   \n",
       "91477  55011  credit_card  Fashion_Accessories                     3       2   \n",
       "91478  45739       boleto                 Home                     1       1   \n",
       "\n",
       "       products  sellers  payment_value  review_score   price  freight_value  \\\n",
       "0             1        1         115.22           2.0   86.99          28.23   \n",
       "1             1        1          61.16           5.0   49.99          11.17   \n",
       "2             1        1         818.12           5.0  649.00         169.12   \n",
       "3             1        1          87.53           4.0   69.90          17.63   \n",
       "4             2        2         218.04           5.0   43.65          10.86   \n",
       "...         ...      ...            ...           ...     ...            ...   \n",
       "91474         1        1         151.54           5.0  129.99          21.55   \n",
       "91475         1        1          57.60           5.0   49.99           7.61   \n",
       "91476         1        1          62.86           5.0   54.90           7.96   \n",
       "91477         2        2        1089.04           4.0  252.40          19.86   \n",
       "91478         1        1          30.69           5.0   17.90          12.79   \n",
       "\n",
       "      order_purchase_timestamp  recency  \n",
       "0                      2016-10      695  \n",
       "1                      2016-10      691  \n",
       "2                      2016-10      694  \n",
       "3                      2016-10      692  \n",
       "4                      2016-10      690  \n",
       "...                        ...      ...  \n",
       "91474                  2018-08       28  \n",
       "91475                  2018-08       17  \n",
       "91476                  2018-08       22  \n",
       "91477                  2018-08       25  \n",
       "91478                  2018-08       10  \n",
       "\n",
       "[91479 rows x 13 columns]"
      ]
     },
     "execution_count": 579,
     "metadata": {},
     "output_type": "execute_result"
    }
   ],
   "source": [
    "df= pd.read_csv('data.csv')\n",
    "df.rename(columns={\"order_item_id\": \"orders\", \"product_id\": \"products\", \"seller_id\":'sellers'}, inplace=True)\n",
    "df['payment_installments']=df['payment_installments'].astype('int64')\n",
    "df= df.drop(['customer_city','customer_state','customer_zip_code_prefix','seller_city','seller_state','customer_unique_id.1','customer_unique_id'], axis=1)\n",
    "df[\"order_purchase_timestamp\"] = pd.to_datetime(df[\"order_purchase_timestamp\"]).dt.strftime('%Y-%m')\n",
    "df=df.sort_values('order_purchase_timestamp').reset_index()\n",
    "df"
   ]
  },
  {
   "cell_type": "code",
   "execution_count": 580,
   "metadata": {},
   "outputs": [],
   "source": [
    "\n",
    "df_ari_t0=df[df['order_purchase_timestamp']<'2017-10']\n",
    "df_ari_t0=df_ari_t0.drop('order_purchase_timestamp',axis=1)\n",
    "\n",
    "df_ari_t1=df[df['order_purchase_timestamp']<'2018-01']\n",
    "df_ari_t1=df_ari_t1.drop('order_purchase_timestamp',axis=1)\n",
    "\n",
    "df_ari_t2=df[df['order_purchase_timestamp']<'2018-04']\n",
    "df_ari_t2=df_ari_t2.drop('order_purchase_timestamp',axis=1)\n",
    "\n",
    "df_ari_t3=df[df['order_purchase_timestamp']<'2018-07']\n",
    "df_ari_t3=df_ari_t3.drop('order_purchase_timestamp',axis=1)\n",
    "\n",
    "df_ari_t4=df[df['order_purchase_timestamp']<'2018-07']\n",
    "df_ari_t4=df_ari_t4.drop('order_purchase_timestamp',axis=1)\n"
   ]
  },
  {
   "cell_type": "code",
   "execution_count": 581,
   "metadata": {},
   "outputs": [],
   "source": [
    "index=df_ari_t0.index.to_list()"
   ]
  },
  {
   "cell_type": "code",
   "execution_count": 582,
   "metadata": {},
   "outputs": [],
   "source": [
    "func_log = FunctionTransformer(func=np.log1p)\n",
    "func_abs=FunctionTransformer(func=np.abs)\n",
    "\n",
    "pipe_num= make_pipeline(func_abs,func_log)\n",
    "\n",
    "transformer = make_column_transformer(\n",
    "    (OneHotEncoder(sparse=False),make_column_selector(dtype_exclude=np.number)),\n",
    "    (pipe_num,make_column_selector(dtype_include=np.number))\n",
    "    )\n",
    "\n",
    "pipe_pca= make_pipeline(transformer,PCA(n_components=0.95))\n",
    "\n",
    "df_acp_t0=pd.DataFrame(pipe_pca.fit_transform(df_ari_t0))\n",
    "\n",
    "\n",
    "\n",
    "clustering_t0 =KMeans(n_clusters=8).fit(df_acp_t0)\n",
    "df_acp_t0['cluster_labels_t0']=pd.Series(clustering_t0.labels_)\n",
    "df_ari_t0['cluster_labels_t0']=pd.Series(clustering_t0.labels_)\n"
   ]
  },
  {
   "cell_type": "code",
   "execution_count": 583,
   "metadata": {},
   "outputs": [],
   "source": [
    "\n",
    "\n",
    "df_acp_t1=pd.DataFrame(pipe_pca.fit_transform(df_ari_t1))\n",
    "\n",
    "\n",
    "\n",
    "clustering_t1 =KMeans(n_clusters=8).fit(df_acp_t1)\n",
    "df_acp_t1['cluster_labels_t1']=pd.Series(clustering_t1.labels_)\n",
    "df_ari_t1['cluster_labels_t1']=pd.Series(clustering_t1.labels_)\n",
    "\n"
   ]
  },
  {
   "cell_type": "code",
   "execution_count": 584,
   "metadata": {},
   "outputs": [],
   "source": [
    "df_acp_t2=pd.DataFrame(pipe_pca.fit_transform(df_ari_t2))\n",
    "\n",
    "\n",
    "\n",
    "clustering_t2 =KMeans(n_clusters=8).fit(df_acp_t2)\n",
    "df_acp_t2['cluster_labels_t2']=pd.Series(clustering_t2.labels_)\n",
    "df_ari_t2['cluster_labels_t2']=pd.Series(clustering_t2.labels_)\n"
   ]
  },
  {
   "cell_type": "code",
   "execution_count": 585,
   "metadata": {},
   "outputs": [],
   "source": [
    "df_acp_t3=pd.DataFrame(pipe_pca.fit_transform(df_ari_t3))\n",
    "\n",
    "\n",
    "\n",
    "clustering_t3 =KMeans(n_clusters=8).fit(df_acp_t3)\n",
    "df_acp_t3['cluster_labels_t3']=pd.Series(clustering_t3.labels_)\n",
    "df_ari_t3['cluster_labels_t3']=pd.Series(clustering_t3.labels_)\n",
    "\n"
   ]
  },
  {
   "cell_type": "code",
   "execution_count": 586,
   "metadata": {},
   "outputs": [],
   "source": [
    "df_acp_t4=pd.DataFrame(pipe_pca.fit_transform(df_ari_t4))\n",
    "\n",
    "\n",
    "\n",
    "clustering_t4 =KMeans(n_clusters=8).fit(df_acp_t4)\n",
    "df_acp_t4['cluster_labels_t4']=pd.Series(clustering_t4.labels_)\n",
    "df_ari_t4['cluster_labels_t4']=pd.Series(clustering_t4.labels_)"
   ]
  },
  {
   "cell_type": "code",
   "execution_count": 587,
   "metadata": {},
   "outputs": [],
   "source": [
    "cluster_t0=df_ari_t0['cluster_labels_t0'].loc[index].to_list()\n",
    "cluster_t1=df_ari_t1['cluster_labels_t1'].loc[index].to_list()\n",
    "cluster_t2=df_ari_t2['cluster_labels_t2'].loc[index].to_list()\n",
    "cluster_t3=df_ari_t3['cluster_labels_t3'].loc[index].to_list()\n",
    "cluster_t4=df_ari_t4['cluster_labels_t4'].loc[index].to_list()\n",
    "\n"
   ]
  },
  {
   "cell_type": "code",
   "execution_count": 588,
   "metadata": {},
   "outputs": [],
   "source": [
    "# df_cluster_ari=pd.DataFrame(df_ari_t0).join(df_ari_t1).join(df_ari_t2).join(df_ari_t3).join(df_ari)"
   ]
  },
  {
   "cell_type": "code",
   "execution_count": 589,
   "metadata": {},
   "outputs": [
    {
     "data": {
      "text/plain": [
       "0.9590733956219096"
      ]
     },
     "execution_count": 589,
     "metadata": {},
     "output_type": "execute_result"
    }
   ],
   "source": [
    "adjusted_rand_score(cluster_t0,cluster_t1)"
   ]
  },
  {
   "cell_type": "code",
   "execution_count": 590,
   "metadata": {},
   "outputs": [
    {
     "data": {
      "text/plain": [
       "0.9259608122120608"
      ]
     },
     "execution_count": 590,
     "metadata": {},
     "output_type": "execute_result"
    }
   ],
   "source": [
    "adjusted_rand_score(cluster_t0,cluster_t2)"
   ]
  },
  {
   "cell_type": "code",
   "execution_count": 591,
   "metadata": {},
   "outputs": [
    {
     "data": {
      "text/plain": [
       "0.7242574759529605"
      ]
     },
     "execution_count": 591,
     "metadata": {},
     "output_type": "execute_result"
    }
   ],
   "source": [
    "adjusted_rand_score(cluster_t0,cluster_t3)"
   ]
  },
  {
   "cell_type": "code",
   "execution_count": 592,
   "metadata": {},
   "outputs": [
    {
     "data": {
      "text/plain": [
       "0.9305802245526008"
      ]
     },
     "execution_count": 592,
     "metadata": {},
     "output_type": "execute_result"
    }
   ],
   "source": [
    "adjusted_rand_score(cluster_t0,cluster_t4)"
   ]
  }
 ],
 "metadata": {
  "kernelspec": {
   "display_name": "datascience_env",
   "language": "python",
   "name": "python3"
  },
  "language_info": {
   "codemirror_mode": {
    "name": "ipython",
    "version": 3
   },
   "file_extension": ".py",
   "mimetype": "text/x-python",
   "name": "python",
   "nbconvert_exporter": "python",
   "pygments_lexer": "ipython3",
   "version": "3.9.12"
  },
  "orig_nbformat": 4,
  "vscode": {
   "interpreter": {
    "hash": "e48bd86671c665102a0c6a972f64dec55f72ec0b4a13e9063e0389fef656118c"
   }
  }
 },
 "nbformat": 4,
 "nbformat_minor": 2
}
