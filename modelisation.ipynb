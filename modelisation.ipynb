{
 "cells": [
  {
   "cell_type": "code",
   "execution_count": 2,
   "metadata": {},
   "outputs": [],
   "source": [
    "# Import module for data manipulation\n",
    "import pandas as pd\n",
    "# Import module for linear algebra\n",
    "import numpy as np\n",
    "# Import module for data visualization\n",
    "import matplotlib.pyplot as plt\n",
    "import plotly.graph_objects as go\n",
    "import plotly.express as px\n",
    "import seaborn as sns\n",
    "# Import module for k-means\n",
    "from sklearn.cluster import KMeans, DBSCAN\n",
    "#import module k-prototype\n",
    "from kmodes.kprototypes import KPrototypes\n",
    "# Ignore warnings\n",
    "import warnings\n",
    "warnings.filterwarnings('ignore', category = FutureWarning)\n",
    "# Format scientific notation from Pandas\n",
    "pd.set_option('display.max_columns', None)\n",
    "\n",
    "\n",
    "# prepocessing sklearn\n",
    "from sklearn.compose import make_column_transformer,make_column_selector\n",
    "from sklearn.preprocessing import OneHotEncoder, StandardScaler, RobustScaler, MinMaxScaler, FunctionTransformer\n",
    "from sklearn.decomposition import PCA\n",
    "from sklearn.pipeline import make_pipeline\n",
    "from sklearn.manifold import TSNE\n",
    "\n",
    "#Pour la localisation du coude\n",
    "from kneed import KneeLocator, DataGenerator as dg"
   ]
  },
  {
   "cell_type": "code",
   "execution_count": 3,
   "metadata": {},
   "outputs": [
    {
     "data": {
      "text/html": [
       "<div>\n",
       "<style scoped>\n",
       "    .dataframe tbody tr th:only-of-type {\n",
       "        vertical-align: middle;\n",
       "    }\n",
       "\n",
       "    .dataframe tbody tr th {\n",
       "        vertical-align: top;\n",
       "    }\n",
       "\n",
       "    .dataframe thead th {\n",
       "        text-align: right;\n",
       "    }\n",
       "</style>\n",
       "<table border=\"1\" class=\"dataframe\">\n",
       "  <thead>\n",
       "    <tr style=\"text-align: right;\">\n",
       "      <th></th>\n",
       "      <th>payment_type</th>\n",
       "      <th>product_category</th>\n",
       "      <th>payment_installments</th>\n",
       "      <th>orders</th>\n",
       "      <th>products</th>\n",
       "      <th>sellers</th>\n",
       "      <th>payment_value</th>\n",
       "      <th>review_score</th>\n",
       "      <th>price</th>\n",
       "      <th>freight_value</th>\n",
       "      <th>recency</th>\n",
       "    </tr>\n",
       "  </thead>\n",
       "  <tbody>\n",
       "    <tr>\n",
       "      <th>0</th>\n",
       "      <td>credit_card</td>\n",
       "      <td>Home</td>\n",
       "      <td>8</td>\n",
       "      <td>1</td>\n",
       "      <td>1</td>\n",
       "      <td>1</td>\n",
       "      <td>141.90</td>\n",
       "      <td>5.0</td>\n",
       "      <td>129.90</td>\n",
       "      <td>12.00</td>\n",
       "      <td>112</td>\n",
       "    </tr>\n",
       "    <tr>\n",
       "      <th>1</th>\n",
       "      <td>credit_card</td>\n",
       "      <td>Health_Beauty</td>\n",
       "      <td>1</td>\n",
       "      <td>1</td>\n",
       "      <td>1</td>\n",
       "      <td>1</td>\n",
       "      <td>27.19</td>\n",
       "      <td>4.0</td>\n",
       "      <td>18.90</td>\n",
       "      <td>8.29</td>\n",
       "      <td>115</td>\n",
       "    </tr>\n",
       "    <tr>\n",
       "      <th>2</th>\n",
       "      <td>credit_card</td>\n",
       "      <td>Office_Supplies</td>\n",
       "      <td>8</td>\n",
       "      <td>1</td>\n",
       "      <td>1</td>\n",
       "      <td>1</td>\n",
       "      <td>86.22</td>\n",
       "      <td>3.0</td>\n",
       "      <td>69.00</td>\n",
       "      <td>17.22</td>\n",
       "      <td>538</td>\n",
       "    </tr>\n",
       "    <tr>\n",
       "      <th>3</th>\n",
       "      <td>credit_card</td>\n",
       "      <td>Technology</td>\n",
       "      <td>4</td>\n",
       "      <td>1</td>\n",
       "      <td>1</td>\n",
       "      <td>1</td>\n",
       "      <td>43.62</td>\n",
       "      <td>4.0</td>\n",
       "      <td>25.99</td>\n",
       "      <td>17.63</td>\n",
       "      <td>322</td>\n",
       "    </tr>\n",
       "    <tr>\n",
       "      <th>4</th>\n",
       "      <td>credit_card</td>\n",
       "      <td>Technology</td>\n",
       "      <td>6</td>\n",
       "      <td>1</td>\n",
       "      <td>1</td>\n",
       "      <td>1</td>\n",
       "      <td>196.89</td>\n",
       "      <td>5.0</td>\n",
       "      <td>180.00</td>\n",
       "      <td>16.89</td>\n",
       "      <td>289</td>\n",
       "    </tr>\n",
       "    <tr>\n",
       "      <th>...</th>\n",
       "      <td>...</td>\n",
       "      <td>...</td>\n",
       "      <td>...</td>\n",
       "      <td>...</td>\n",
       "      <td>...</td>\n",
       "      <td>...</td>\n",
       "      <td>...</td>\n",
       "      <td>...</td>\n",
       "      <td>...</td>\n",
       "      <td>...</td>\n",
       "      <td>...</td>\n",
       "    </tr>\n",
       "    <tr>\n",
       "      <th>91474</th>\n",
       "      <td>credit_card</td>\n",
       "      <td>Health_Beauty</td>\n",
       "      <td>10</td>\n",
       "      <td>2</td>\n",
       "      <td>2</td>\n",
       "      <td>2</td>\n",
       "      <td>4134.84</td>\n",
       "      <td>5.0</td>\n",
       "      <td>785.00</td>\n",
       "      <td>248.71</td>\n",
       "      <td>448</td>\n",
       "    </tr>\n",
       "    <tr>\n",
       "      <th>91475</th>\n",
       "      <td>credit_card</td>\n",
       "      <td>Baby</td>\n",
       "      <td>1</td>\n",
       "      <td>1</td>\n",
       "      <td>1</td>\n",
       "      <td>1</td>\n",
       "      <td>84.58</td>\n",
       "      <td>4.0</td>\n",
       "      <td>64.89</td>\n",
       "      <td>19.69</td>\n",
       "      <td>263</td>\n",
       "    </tr>\n",
       "    <tr>\n",
       "      <th>91476</th>\n",
       "      <td>credit_card</td>\n",
       "      <td>Automotive</td>\n",
       "      <td>1</td>\n",
       "      <td>1</td>\n",
       "      <td>1</td>\n",
       "      <td>1</td>\n",
       "      <td>112.46</td>\n",
       "      <td>5.0</td>\n",
       "      <td>89.90</td>\n",
       "      <td>22.56</td>\n",
       "      <td>569</td>\n",
       "    </tr>\n",
       "    <tr>\n",
       "      <th>91477</th>\n",
       "      <td>credit_card</td>\n",
       "      <td>Fashion_Accessories</td>\n",
       "      <td>5</td>\n",
       "      <td>1</td>\n",
       "      <td>1</td>\n",
       "      <td>1</td>\n",
       "      <td>133.69</td>\n",
       "      <td>5.0</td>\n",
       "      <td>115.00</td>\n",
       "      <td>18.69</td>\n",
       "      <td>120</td>\n",
       "    </tr>\n",
       "    <tr>\n",
       "      <th>91478</th>\n",
       "      <td>credit_card</td>\n",
       "      <td>Health_Beauty</td>\n",
       "      <td>4</td>\n",
       "      <td>1</td>\n",
       "      <td>1</td>\n",
       "      <td>1</td>\n",
       "      <td>71.56</td>\n",
       "      <td>5.0</td>\n",
       "      <td>56.99</td>\n",
       "      <td>14.57</td>\n",
       "      <td>485</td>\n",
       "    </tr>\n",
       "  </tbody>\n",
       "</table>\n",
       "<p>91479 rows × 11 columns</p>\n",
       "</div>"
      ],
      "text/plain": [
       "      payment_type     product_category  payment_installments  orders  \\\n",
       "0      credit_card                 Home                     8       1   \n",
       "1      credit_card        Health_Beauty                     1       1   \n",
       "2      credit_card      Office_Supplies                     8       1   \n",
       "3      credit_card           Technology                     4       1   \n",
       "4      credit_card           Technology                     6       1   \n",
       "...            ...                  ...                   ...     ...   \n",
       "91474  credit_card        Health_Beauty                    10       2   \n",
       "91475  credit_card                 Baby                     1       1   \n",
       "91476  credit_card           Automotive                     1       1   \n",
       "91477  credit_card  Fashion_Accessories                     5       1   \n",
       "91478  credit_card        Health_Beauty                     4       1   \n",
       "\n",
       "       products  sellers  payment_value  review_score   price  freight_value  \\\n",
       "0             1        1         141.90           5.0  129.90          12.00   \n",
       "1             1        1          27.19           4.0   18.90           8.29   \n",
       "2             1        1          86.22           3.0   69.00          17.22   \n",
       "3             1        1          43.62           4.0   25.99          17.63   \n",
       "4             1        1         196.89           5.0  180.00          16.89   \n",
       "...         ...      ...            ...           ...     ...            ...   \n",
       "91474         2        2        4134.84           5.0  785.00         248.71   \n",
       "91475         1        1          84.58           4.0   64.89          19.69   \n",
       "91476         1        1         112.46           5.0   89.90          22.56   \n",
       "91477         1        1         133.69           5.0  115.00          18.69   \n",
       "91478         1        1          71.56           5.0   56.99          14.57   \n",
       "\n",
       "       recency  \n",
       "0          112  \n",
       "1          115  \n",
       "2          538  \n",
       "3          322  \n",
       "4          289  \n",
       "...        ...  \n",
       "91474      448  \n",
       "91475      263  \n",
       "91476      569  \n",
       "91477      120  \n",
       "91478      485  \n",
       "\n",
       "[91479 rows x 11 columns]"
      ]
     },
     "execution_count": 3,
     "metadata": {},
     "output_type": "execute_result"
    }
   ],
   "source": [
    "df = pd.read_csv('data.csv')\n",
    "df.rename(columns={\"order_item_id\": \"orders\", \"product_id\": \"products\", \"seller_id\":'sellers'}, inplace=True)\n",
    "df['payment_installments']=df['payment_installments'].astype('int64')\n",
    "df= df.drop(['customer_city','customer_state','customer_zip_code_prefix','seller_city','seller_state','customer_unique_id.1','order_purchase_timestamp','customer_unique_id'], axis=1)\n",
    "df"
   ]
  },
  {
   "cell_type": "code",
   "execution_count": 4,
   "metadata": {},
   "outputs": [
    {
     "data": {
      "text/plain": [
       "Home                   22393\n",
       "Technology             13021\n",
       "Health_Beauty          11351\n",
       "Fashion_Accessories     8533\n",
       "Toys_Games              7941\n",
       "Sports_Leisure          7101\n",
       "other                   6291\n",
       "Construction_Tools      5003\n",
       "Automotive              3722\n",
       "Office_Supplies         3370\n",
       "Baby                    2753\n",
       "Name: product_category, dtype: int64"
      ]
     },
     "execution_count": 4,
     "metadata": {},
     "output_type": "execute_result"
    }
   ],
   "source": [
    "from collections import Counter\n",
    "\n",
    "outre_cat=list((Counter(df.product_category.value_counts().index.to_list())-Counter(df.product_category.value_counts().index.to_list()[0:10])).elements())\n",
    "outre_cat\n",
    "df.replace(outre_cat,\"other\", inplace=True)\n",
    "df.product_category.value_counts()"
   ]
  },
  {
   "cell_type": "code",
   "execution_count": 50,
   "metadata": {},
   "outputs": [],
   "source": [
    "transformer = make_column_transformer(\n",
    "    (OneHotEncoder(sparse=False),make_column_selector(dtype_exclude=np.number)),\n",
    "    (MinMaxScaler(),make_column_selector(dtype_include=np.number))\n",
    "    )"
   ]
  },
  {
   "cell_type": "code",
   "execution_count": 51,
   "metadata": {},
   "outputs": [
    {
     "data": {
      "text/html": [
       "<div>\n",
       "<style scoped>\n",
       "    .dataframe tbody tr th:only-of-type {\n",
       "        vertical-align: middle;\n",
       "    }\n",
       "\n",
       "    .dataframe tbody tr th {\n",
       "        vertical-align: top;\n",
       "    }\n",
       "\n",
       "    .dataframe thead th {\n",
       "        text-align: right;\n",
       "    }\n",
       "</style>\n",
       "<table border=\"1\" class=\"dataframe\">\n",
       "  <thead>\n",
       "    <tr style=\"text-align: right;\">\n",
       "      <th></th>\n",
       "      <th>0</th>\n",
       "      <th>1</th>\n",
       "      <th>2</th>\n",
       "      <th>3</th>\n",
       "      <th>4</th>\n",
       "      <th>5</th>\n",
       "      <th>6</th>\n",
       "      <th>7</th>\n",
       "      <th>8</th>\n",
       "      <th>9</th>\n",
       "      <th>10</th>\n",
       "      <th>11</th>\n",
       "      <th>12</th>\n",
       "      <th>13</th>\n",
       "      <th>14</th>\n",
       "      <th>15</th>\n",
       "      <th>16</th>\n",
       "      <th>17</th>\n",
       "      <th>18</th>\n",
       "      <th>19</th>\n",
       "      <th>20</th>\n",
       "      <th>21</th>\n",
       "      <th>22</th>\n",
       "      <th>23</th>\n",
       "    </tr>\n",
       "  </thead>\n",
       "  <tbody>\n",
       "    <tr>\n",
       "      <th>0</th>\n",
       "      <td>0.0</td>\n",
       "      <td>1.0</td>\n",
       "      <td>0.0</td>\n",
       "      <td>0.0</td>\n",
       "      <td>0.0</td>\n",
       "      <td>0.0</td>\n",
       "      <td>0.0</td>\n",
       "      <td>0.0</td>\n",
       "      <td>0.0</td>\n",
       "      <td>1.0</td>\n",
       "      <td>0.0</td>\n",
       "      <td>0.0</td>\n",
       "      <td>0.0</td>\n",
       "      <td>0.0</td>\n",
       "      <td>0.0</td>\n",
       "      <td>0.333333</td>\n",
       "      <td>0.000000</td>\n",
       "      <td>0.000000</td>\n",
       "      <td>0.000000</td>\n",
       "      <td>0.001210</td>\n",
       "      <td>1.00</td>\n",
       "      <td>0.019164</td>\n",
       "      <td>0.029291</td>\n",
       "      <td>0.159712</td>\n",
       "    </tr>\n",
       "    <tr>\n",
       "      <th>1</th>\n",
       "      <td>0.0</td>\n",
       "      <td>1.0</td>\n",
       "      <td>0.0</td>\n",
       "      <td>0.0</td>\n",
       "      <td>0.0</td>\n",
       "      <td>0.0</td>\n",
       "      <td>0.0</td>\n",
       "      <td>0.0</td>\n",
       "      <td>1.0</td>\n",
       "      <td>0.0</td>\n",
       "      <td>0.0</td>\n",
       "      <td>0.0</td>\n",
       "      <td>0.0</td>\n",
       "      <td>0.0</td>\n",
       "      <td>0.0</td>\n",
       "      <td>0.041667</td>\n",
       "      <td>0.000000</td>\n",
       "      <td>0.000000</td>\n",
       "      <td>0.000000</td>\n",
       "      <td>0.000161</td>\n",
       "      <td>0.75</td>\n",
       "      <td>0.002680</td>\n",
       "      <td>0.020235</td>\n",
       "      <td>0.164029</td>\n",
       "    </tr>\n",
       "    <tr>\n",
       "      <th>2</th>\n",
       "      <td>0.0</td>\n",
       "      <td>1.0</td>\n",
       "      <td>0.0</td>\n",
       "      <td>0.0</td>\n",
       "      <td>0.0</td>\n",
       "      <td>0.0</td>\n",
       "      <td>0.0</td>\n",
       "      <td>0.0</td>\n",
       "      <td>0.0</td>\n",
       "      <td>0.0</td>\n",
       "      <td>1.0</td>\n",
       "      <td>0.0</td>\n",
       "      <td>0.0</td>\n",
       "      <td>0.0</td>\n",
       "      <td>0.0</td>\n",
       "      <td>0.333333</td>\n",
       "      <td>0.000000</td>\n",
       "      <td>0.000000</td>\n",
       "      <td>0.000000</td>\n",
       "      <td>0.000701</td>\n",
       "      <td>0.50</td>\n",
       "      <td>0.010120</td>\n",
       "      <td>0.042033</td>\n",
       "      <td>0.772662</td>\n",
       "    </tr>\n",
       "    <tr>\n",
       "      <th>3</th>\n",
       "      <td>0.0</td>\n",
       "      <td>1.0</td>\n",
       "      <td>0.0</td>\n",
       "      <td>0.0</td>\n",
       "      <td>0.0</td>\n",
       "      <td>0.0</td>\n",
       "      <td>0.0</td>\n",
       "      <td>0.0</td>\n",
       "      <td>0.0</td>\n",
       "      <td>0.0</td>\n",
       "      <td>0.0</td>\n",
       "      <td>0.0</td>\n",
       "      <td>1.0</td>\n",
       "      <td>0.0</td>\n",
       "      <td>0.0</td>\n",
       "      <td>0.166667</td>\n",
       "      <td>0.000000</td>\n",
       "      <td>0.000000</td>\n",
       "      <td>0.000000</td>\n",
       "      <td>0.000311</td>\n",
       "      <td>0.75</td>\n",
       "      <td>0.003733</td>\n",
       "      <td>0.043034</td>\n",
       "      <td>0.461871</td>\n",
       "    </tr>\n",
       "    <tr>\n",
       "      <th>4</th>\n",
       "      <td>0.0</td>\n",
       "      <td>1.0</td>\n",
       "      <td>0.0</td>\n",
       "      <td>0.0</td>\n",
       "      <td>0.0</td>\n",
       "      <td>0.0</td>\n",
       "      <td>0.0</td>\n",
       "      <td>0.0</td>\n",
       "      <td>0.0</td>\n",
       "      <td>0.0</td>\n",
       "      <td>0.0</td>\n",
       "      <td>0.0</td>\n",
       "      <td>1.0</td>\n",
       "      <td>0.0</td>\n",
       "      <td>0.0</td>\n",
       "      <td>0.250000</td>\n",
       "      <td>0.000000</td>\n",
       "      <td>0.000000</td>\n",
       "      <td>0.000000</td>\n",
       "      <td>0.001714</td>\n",
       "      <td>1.00</td>\n",
       "      <td>0.026603</td>\n",
       "      <td>0.041227</td>\n",
       "      <td>0.414388</td>\n",
       "    </tr>\n",
       "    <tr>\n",
       "      <th>...</th>\n",
       "      <td>...</td>\n",
       "      <td>...</td>\n",
       "      <td>...</td>\n",
       "      <td>...</td>\n",
       "      <td>...</td>\n",
       "      <td>...</td>\n",
       "      <td>...</td>\n",
       "      <td>...</td>\n",
       "      <td>...</td>\n",
       "      <td>...</td>\n",
       "      <td>...</td>\n",
       "      <td>...</td>\n",
       "      <td>...</td>\n",
       "      <td>...</td>\n",
       "      <td>...</td>\n",
       "      <td>...</td>\n",
       "      <td>...</td>\n",
       "      <td>...</td>\n",
       "      <td>...</td>\n",
       "      <td>...</td>\n",
       "      <td>...</td>\n",
       "      <td>...</td>\n",
       "      <td>...</td>\n",
       "      <td>...</td>\n",
       "    </tr>\n",
       "    <tr>\n",
       "      <th>91474</th>\n",
       "      <td>0.0</td>\n",
       "      <td>1.0</td>\n",
       "      <td>0.0</td>\n",
       "      <td>0.0</td>\n",
       "      <td>0.0</td>\n",
       "      <td>0.0</td>\n",
       "      <td>0.0</td>\n",
       "      <td>0.0</td>\n",
       "      <td>1.0</td>\n",
       "      <td>0.0</td>\n",
       "      <td>0.0</td>\n",
       "      <td>0.0</td>\n",
       "      <td>0.0</td>\n",
       "      <td>0.0</td>\n",
       "      <td>0.0</td>\n",
       "      <td>0.416667</td>\n",
       "      <td>0.013514</td>\n",
       "      <td>0.013514</td>\n",
       "      <td>0.013514</td>\n",
       "      <td>0.037741</td>\n",
       "      <td>1.00</td>\n",
       "      <td>0.116444</td>\n",
       "      <td>0.607084</td>\n",
       "      <td>0.643165</td>\n",
       "    </tr>\n",
       "    <tr>\n",
       "      <th>91475</th>\n",
       "      <td>0.0</td>\n",
       "      <td>1.0</td>\n",
       "      <td>0.0</td>\n",
       "      <td>0.0</td>\n",
       "      <td>0.0</td>\n",
       "      <td>1.0</td>\n",
       "      <td>0.0</td>\n",
       "      <td>0.0</td>\n",
       "      <td>0.0</td>\n",
       "      <td>0.0</td>\n",
       "      <td>0.0</td>\n",
       "      <td>0.0</td>\n",
       "      <td>0.0</td>\n",
       "      <td>0.0</td>\n",
       "      <td>0.0</td>\n",
       "      <td>0.041667</td>\n",
       "      <td>0.000000</td>\n",
       "      <td>0.000000</td>\n",
       "      <td>0.000000</td>\n",
       "      <td>0.000686</td>\n",
       "      <td>0.75</td>\n",
       "      <td>0.009510</td>\n",
       "      <td>0.048062</td>\n",
       "      <td>0.376978</td>\n",
       "    </tr>\n",
       "    <tr>\n",
       "      <th>91476</th>\n",
       "      <td>0.0</td>\n",
       "      <td>1.0</td>\n",
       "      <td>0.0</td>\n",
       "      <td>0.0</td>\n",
       "      <td>1.0</td>\n",
       "      <td>0.0</td>\n",
       "      <td>0.0</td>\n",
       "      <td>0.0</td>\n",
       "      <td>0.0</td>\n",
       "      <td>0.0</td>\n",
       "      <td>0.0</td>\n",
       "      <td>0.0</td>\n",
       "      <td>0.0</td>\n",
       "      <td>0.0</td>\n",
       "      <td>0.0</td>\n",
       "      <td>0.041667</td>\n",
       "      <td>0.000000</td>\n",
       "      <td>0.000000</td>\n",
       "      <td>0.000000</td>\n",
       "      <td>0.000941</td>\n",
       "      <td>1.00</td>\n",
       "      <td>0.013224</td>\n",
       "      <td>0.055067</td>\n",
       "      <td>0.817266</td>\n",
       "    </tr>\n",
       "    <tr>\n",
       "      <th>91477</th>\n",
       "      <td>0.0</td>\n",
       "      <td>1.0</td>\n",
       "      <td>0.0</td>\n",
       "      <td>0.0</td>\n",
       "      <td>0.0</td>\n",
       "      <td>0.0</td>\n",
       "      <td>0.0</td>\n",
       "      <td>1.0</td>\n",
       "      <td>0.0</td>\n",
       "      <td>0.0</td>\n",
       "      <td>0.0</td>\n",
       "      <td>0.0</td>\n",
       "      <td>0.0</td>\n",
       "      <td>0.0</td>\n",
       "      <td>0.0</td>\n",
       "      <td>0.208333</td>\n",
       "      <td>0.000000</td>\n",
       "      <td>0.000000</td>\n",
       "      <td>0.000000</td>\n",
       "      <td>0.001135</td>\n",
       "      <td>1.00</td>\n",
       "      <td>0.016951</td>\n",
       "      <td>0.045621</td>\n",
       "      <td>0.171223</td>\n",
       "    </tr>\n",
       "    <tr>\n",
       "      <th>91478</th>\n",
       "      <td>0.0</td>\n",
       "      <td>1.0</td>\n",
       "      <td>0.0</td>\n",
       "      <td>0.0</td>\n",
       "      <td>0.0</td>\n",
       "      <td>0.0</td>\n",
       "      <td>0.0</td>\n",
       "      <td>0.0</td>\n",
       "      <td>1.0</td>\n",
       "      <td>0.0</td>\n",
       "      <td>0.0</td>\n",
       "      <td>0.0</td>\n",
       "      <td>0.0</td>\n",
       "      <td>0.0</td>\n",
       "      <td>0.0</td>\n",
       "      <td>0.166667</td>\n",
       "      <td>0.000000</td>\n",
       "      <td>0.000000</td>\n",
       "      <td>0.000000</td>\n",
       "      <td>0.000567</td>\n",
       "      <td>1.00</td>\n",
       "      <td>0.008337</td>\n",
       "      <td>0.035564</td>\n",
       "      <td>0.696403</td>\n",
       "    </tr>\n",
       "  </tbody>\n",
       "</table>\n",
       "<p>91479 rows × 24 columns</p>\n",
       "</div>"
      ],
      "text/plain": [
       "        0    1    2    3    4    5    6    7    8    9    10   11   12   13  \\\n",
       "0      0.0  1.0  0.0  0.0  0.0  0.0  0.0  0.0  0.0  1.0  0.0  0.0  0.0  0.0   \n",
       "1      0.0  1.0  0.0  0.0  0.0  0.0  0.0  0.0  1.0  0.0  0.0  0.0  0.0  0.0   \n",
       "2      0.0  1.0  0.0  0.0  0.0  0.0  0.0  0.0  0.0  0.0  1.0  0.0  0.0  0.0   \n",
       "3      0.0  1.0  0.0  0.0  0.0  0.0  0.0  0.0  0.0  0.0  0.0  0.0  1.0  0.0   \n",
       "4      0.0  1.0  0.0  0.0  0.0  0.0  0.0  0.0  0.0  0.0  0.0  0.0  1.0  0.0   \n",
       "...    ...  ...  ...  ...  ...  ...  ...  ...  ...  ...  ...  ...  ...  ...   \n",
       "91474  0.0  1.0  0.0  0.0  0.0  0.0  0.0  0.0  1.0  0.0  0.0  0.0  0.0  0.0   \n",
       "91475  0.0  1.0  0.0  0.0  0.0  1.0  0.0  0.0  0.0  0.0  0.0  0.0  0.0  0.0   \n",
       "91476  0.0  1.0  0.0  0.0  1.0  0.0  0.0  0.0  0.0  0.0  0.0  0.0  0.0  0.0   \n",
       "91477  0.0  1.0  0.0  0.0  0.0  0.0  0.0  1.0  0.0  0.0  0.0  0.0  0.0  0.0   \n",
       "91478  0.0  1.0  0.0  0.0  0.0  0.0  0.0  0.0  1.0  0.0  0.0  0.0  0.0  0.0   \n",
       "\n",
       "        14        15        16        17        18        19    20        21  \\\n",
       "0      0.0  0.333333  0.000000  0.000000  0.000000  0.001210  1.00  0.019164   \n",
       "1      0.0  0.041667  0.000000  0.000000  0.000000  0.000161  0.75  0.002680   \n",
       "2      0.0  0.333333  0.000000  0.000000  0.000000  0.000701  0.50  0.010120   \n",
       "3      0.0  0.166667  0.000000  0.000000  0.000000  0.000311  0.75  0.003733   \n",
       "4      0.0  0.250000  0.000000  0.000000  0.000000  0.001714  1.00  0.026603   \n",
       "...    ...       ...       ...       ...       ...       ...   ...       ...   \n",
       "91474  0.0  0.416667  0.013514  0.013514  0.013514  0.037741  1.00  0.116444   \n",
       "91475  0.0  0.041667  0.000000  0.000000  0.000000  0.000686  0.75  0.009510   \n",
       "91476  0.0  0.041667  0.000000  0.000000  0.000000  0.000941  1.00  0.013224   \n",
       "91477  0.0  0.208333  0.000000  0.000000  0.000000  0.001135  1.00  0.016951   \n",
       "91478  0.0  0.166667  0.000000  0.000000  0.000000  0.000567  1.00  0.008337   \n",
       "\n",
       "             22        23  \n",
       "0      0.029291  0.159712  \n",
       "1      0.020235  0.164029  \n",
       "2      0.042033  0.772662  \n",
       "3      0.043034  0.461871  \n",
       "4      0.041227  0.414388  \n",
       "...         ...       ...  \n",
       "91474  0.607084  0.643165  \n",
       "91475  0.048062  0.376978  \n",
       "91476  0.055067  0.817266  \n",
       "91477  0.045621  0.171223  \n",
       "91478  0.035564  0.696403  \n",
       "\n",
       "[91479 rows x 24 columns]"
      ]
     },
     "execution_count": 51,
     "metadata": {},
     "output_type": "execute_result"
    }
   ],
   "source": [
    "df = transformer.fit_transform(df)\n",
    "df=pd.DataFrame(df)\n",
    "df"
   ]
  },
  {
   "cell_type": "code",
   "execution_count": 45,
   "metadata": {},
   "outputs": [
    {
     "name": "stdout",
     "output_type": "stream",
     "text": [
      "Cluster initiation: 1\n",
      "Cluster initiation: 2\n",
      "Cluster initiation: 3\n",
      "Cluster initiation: 4\n",
      "Cluster initiation: 5\n",
      "Cluster initiation: 6\n",
      "Cluster initiation: 7\n",
      "Cluster initiation: 8\n",
      "Cluster initiation: 9\n"
     ]
    }
   ],
   "source": [
    "# Choose optimal K using Elbow method\n",
    "inertia = []\n",
    "for cluster in range(1, 10):\n",
    "        kmeans = KMeans( n_clusters = cluster)\n",
    "        kmeans.fit(df)\n",
    "        inertia.append(kmeans.inertia_)\n",
    "        print('Cluster initiation: {}'.format(cluster))\n",
    "\n"
   ]
  },
  {
   "cell_type": "code",
   "execution_count": 46,
   "metadata": {},
   "outputs": [
    {
     "data": {
      "text/plain": [
       "Text(0, 0.5, 'Cout du modèle (inertia)')"
      ]
     },
     "execution_count": 46,
     "metadata": {},
     "output_type": "execute_result"
    },
    {
     "data": {
      "image/png": "[encoded data removed]",
      "text/plain": [
       "<Figure size 600x600 with 1 Axes>"
      ]
     },
     "metadata": {},
     "output_type": "display_data"
    }
   ],
   "source": [
    "x,y = range(1,9),inertia[:-1]\n",
    "kl = KneeLocator(x,y, curve='convex')\n",
    "kl.plot_knee()\n",
    "plt.xlabel('nombre de cluster')\n",
    "plt.ylabel('Cout du modèle (inertia)')"
   ]
  },
  {
   "cell_type": "code",
   "execution_count": 52,
   "metadata": {},
   "outputs": [
    {
     "data": {
      "text/plain": [
       "array([2, 1, 1, ..., 1, 1, 1], dtype=int32)"
      ]
     },
     "execution_count": 52,
     "metadata": {},
     "output_type": "execute_result"
    }
   ],
   "source": [
    "kmeans = KMeans(n_clusters=4)\n",
    "kmeans.fit(df)\n",
    "kmeans.predict(df)"
   ]
  },
  {
   "cell_type": "code",
   "execution_count": 326,
   "metadata": {},
   "outputs": [
    {
     "data": {
      "text/html": [
       "<div>\n",
       "<style scoped>\n",
       "    .dataframe tbody tr th:only-of-type {\n",
       "        vertical-align: middle;\n",
       "    }\n",
       "\n",
       "    .dataframe tbody tr th {\n",
       "        vertical-align: top;\n",
       "    }\n",
       "\n",
       "    .dataframe thead th {\n",
       "        text-align: right;\n",
       "    }\n",
       "</style>\n",
       "<table border=\"1\" class=\"dataframe\">\n",
       "  <thead>\n",
       "    <tr style=\"text-align: right;\">\n",
       "      <th></th>\n",
       "      <th>payment_type</th>\n",
       "      <th>product_category</th>\n",
       "      <th>payment_installments</th>\n",
       "      <th>orders</th>\n",
       "      <th>products</th>\n",
       "      <th>sellers</th>\n",
       "      <th>payment_value</th>\n",
       "      <th>review_score</th>\n",
       "      <th>price</th>\n",
       "      <th>freight_value</th>\n",
       "      <th>recency</th>\n",
       "    </tr>\n",
       "  </thead>\n",
       "  <tbody>\n",
       "    <tr>\n",
       "      <th>0</th>\n",
       "      <td>credit_card</td>\n",
       "      <td>Home</td>\n",
       "      <td>8</td>\n",
       "      <td>1</td>\n",
       "      <td>1</td>\n",
       "      <td>1</td>\n",
       "      <td>141.90</td>\n",
       "      <td>5.0</td>\n",
       "      <td>129.90</td>\n",
       "      <td>12.00</td>\n",
       "      <td>112</td>\n",
       "    </tr>\n",
       "    <tr>\n",
       "      <th>1</th>\n",
       "      <td>credit_card</td>\n",
       "      <td>Health_Beauty</td>\n",
       "      <td>1</td>\n",
       "      <td>1</td>\n",
       "      <td>1</td>\n",
       "      <td>1</td>\n",
       "      <td>27.19</td>\n",
       "      <td>4.0</td>\n",
       "      <td>18.90</td>\n",
       "      <td>8.29</td>\n",
       "      <td>115</td>\n",
       "    </tr>\n",
       "    <tr>\n",
       "      <th>2</th>\n",
       "      <td>credit_card</td>\n",
       "      <td>Office_Supplies</td>\n",
       "      <td>8</td>\n",
       "      <td>1</td>\n",
       "      <td>1</td>\n",
       "      <td>1</td>\n",
       "      <td>86.22</td>\n",
       "      <td>3.0</td>\n",
       "      <td>69.00</td>\n",
       "      <td>17.22</td>\n",
       "      <td>538</td>\n",
       "    </tr>\n",
       "    <tr>\n",
       "      <th>3</th>\n",
       "      <td>credit_card</td>\n",
       "      <td>Technology</td>\n",
       "      <td>4</td>\n",
       "      <td>1</td>\n",
       "      <td>1</td>\n",
       "      <td>1</td>\n",
       "      <td>43.62</td>\n",
       "      <td>4.0</td>\n",
       "      <td>25.99</td>\n",
       "      <td>17.63</td>\n",
       "      <td>322</td>\n",
       "    </tr>\n",
       "    <tr>\n",
       "      <th>4</th>\n",
       "      <td>credit_card</td>\n",
       "      <td>Technology</td>\n",
       "      <td>6</td>\n",
       "      <td>1</td>\n",
       "      <td>1</td>\n",
       "      <td>1</td>\n",
       "      <td>196.89</td>\n",
       "      <td>5.0</td>\n",
       "      <td>180.00</td>\n",
       "      <td>16.89</td>\n",
       "      <td>289</td>\n",
       "    </tr>\n",
       "    <tr>\n",
       "      <th>...</th>\n",
       "      <td>...</td>\n",
       "      <td>...</td>\n",
       "      <td>...</td>\n",
       "      <td>...</td>\n",
       "      <td>...</td>\n",
       "      <td>...</td>\n",
       "      <td>...</td>\n",
       "      <td>...</td>\n",
       "      <td>...</td>\n",
       "      <td>...</td>\n",
       "      <td>...</td>\n",
       "    </tr>\n",
       "    <tr>\n",
       "      <th>91474</th>\n",
       "      <td>credit_card</td>\n",
       "      <td>Health_Beauty</td>\n",
       "      <td>10</td>\n",
       "      <td>2</td>\n",
       "      <td>2</td>\n",
       "      <td>2</td>\n",
       "      <td>4134.84</td>\n",
       "      <td>5.0</td>\n",
       "      <td>785.00</td>\n",
       "      <td>248.71</td>\n",
       "      <td>448</td>\n",
       "    </tr>\n",
       "    <tr>\n",
       "      <th>91475</th>\n",
       "      <td>credit_card</td>\n",
       "      <td>Baby</td>\n",
       "      <td>1</td>\n",
       "      <td>1</td>\n",
       "      <td>1</td>\n",
       "      <td>1</td>\n",
       "      <td>84.58</td>\n",
       "      <td>4.0</td>\n",
       "      <td>64.89</td>\n",
       "      <td>19.69</td>\n",
       "      <td>263</td>\n",
       "    </tr>\n",
       "    <tr>\n",
       "      <th>91476</th>\n",
       "      <td>credit_card</td>\n",
       "      <td>Automotive</td>\n",
       "      <td>1</td>\n",
       "      <td>1</td>\n",
       "      <td>1</td>\n",
       "      <td>1</td>\n",
       "      <td>112.46</td>\n",
       "      <td>5.0</td>\n",
       "      <td>89.90</td>\n",
       "      <td>22.56</td>\n",
       "      <td>569</td>\n",
       "    </tr>\n",
       "    <tr>\n",
       "      <th>91477</th>\n",
       "      <td>credit_card</td>\n",
       "      <td>Fashion_Accessories</td>\n",
       "      <td>5</td>\n",
       "      <td>1</td>\n",
       "      <td>1</td>\n",
       "      <td>1</td>\n",
       "      <td>133.69</td>\n",
       "      <td>5.0</td>\n",
       "      <td>115.00</td>\n",
       "      <td>18.69</td>\n",
       "      <td>120</td>\n",
       "    </tr>\n",
       "    <tr>\n",
       "      <th>91478</th>\n",
       "      <td>credit_card</td>\n",
       "      <td>Health_Beauty</td>\n",
       "      <td>4</td>\n",
       "      <td>1</td>\n",
       "      <td>1</td>\n",
       "      <td>1</td>\n",
       "      <td>71.56</td>\n",
       "      <td>5.0</td>\n",
       "      <td>56.99</td>\n",
       "      <td>14.57</td>\n",
       "      <td>485</td>\n",
       "    </tr>\n",
       "  </tbody>\n",
       "</table>\n",
       "<p>91479 rows × 11 columns</p>\n",
       "</div>"
      ],
      "text/plain": [
       "      payment_type     product_category  payment_installments  orders  \\\n",
       "0      credit_card                 Home                     8       1   \n",
       "1      credit_card        Health_Beauty                     1       1   \n",
       "2      credit_card      Office_Supplies                     8       1   \n",
       "3      credit_card           Technology                     4       1   \n",
       "4      credit_card           Technology                     6       1   \n",
       "...            ...                  ...                   ...     ...   \n",
       "91474  credit_card        Health_Beauty                    10       2   \n",
       "91475  credit_card                 Baby                     1       1   \n",
       "91476  credit_card           Automotive                     1       1   \n",
       "91477  credit_card  Fashion_Accessories                     5       1   \n",
       "91478  credit_card        Health_Beauty                     4       1   \n",
       "\n",
       "       products  sellers  payment_value  review_score   price  freight_value  \\\n",
       "0             1        1         141.90           5.0  129.90          12.00   \n",
       "1             1        1          27.19           4.0   18.90           8.29   \n",
       "2             1        1          86.22           3.0   69.00          17.22   \n",
       "3             1        1          43.62           4.0   25.99          17.63   \n",
       "4             1        1         196.89           5.0  180.00          16.89   \n",
       "...         ...      ...            ...           ...     ...            ...   \n",
       "91474         2        2        4134.84           5.0  785.00         248.71   \n",
       "91475         1        1          84.58           4.0   64.89          19.69   \n",
       "91476         1        1         112.46           5.0   89.90          22.56   \n",
       "91477         1        1         133.69           5.0  115.00          18.69   \n",
       "91478         1        1          71.56           5.0   56.99          14.57   \n",
       "\n",
       "       recency  \n",
       "0          112  \n",
       "1          115  \n",
       "2          538  \n",
       "3          322  \n",
       "4          289  \n",
       "...        ...  \n",
       "91474      448  \n",
       "91475      263  \n",
       "91476      569  \n",
       "91477      120  \n",
       "91478      485  \n",
       "\n",
       "[91479 rows x 11 columns]"
      ]
     },
     "execution_count": 326,
     "metadata": {},
     "output_type": "execute_result"
    }
   ],
   "source": [
    "df = pd.read_csv('data.csv')\n",
    "df.rename(columns={\"order_item_id\": \"orders\", \"product_id\": \"products\", \"seller_id\":'sellers'}, inplace=True)\n",
    "df['payment_installments']=df['payment_installments'].astype('int64')\n",
    "df= df.drop(['customer_city','customer_state','customer_zip_code_prefix','seller_city','seller_state','customer_unique_id.1','order_purchase_timestamp','customer_unique_id'], axis=1)\n",
    "df"
   ]
  },
  {
   "cell_type": "code",
   "execution_count": 114,
   "metadata": {},
   "outputs": [
    {
     "data": {
      "text/plain": [
       "array([2.1972245773362196, 0.6931471805599453, 0.6931471805599453,\n",
       "       0.6931471805599453, 4.9621450849358215, 1.791759469228055,\n",
       "       4.874433672915854, 2.5649493574615367, 4.727387818712341,\n",
       "       'credit_card', 'Home'], dtype=object)"
      ]
     },
     "execution_count": 114,
     "metadata": {},
     "output_type": "execute_result"
    }
   ],
   "source": [
    "a = FunctionTransformer(func=np.log1p)\n",
    "preprocessing = make_column_transformer((a,make_column_selector(dtype_include=np.number)),remainder='passthrough')\n",
    "log=preprocessing.fit_transform(df)\n",
    "log[0]"
   ]
  },
  {
   "cell_type": "code",
   "execution_count": 109,
   "metadata": {},
   "outputs": [
    {
     "data": {
      "text/plain": [
       "array([0, 2, 0, ..., 0, 0, 0], dtype=uint16)"
      ]
     },
     "execution_count": 109,
     "metadata": {},
     "output_type": "execute_result"
    }
   ],
   "source": [
    "kprototype = KPrototypes(n_jobs = -1, n_clusters =4, init = 'Huang', random_state = 0)\n",
    "kprototype.fit_predict(log, categorical = [9,10])"
   ]
  },
  {
   "cell_type": "code",
   "execution_count": 119,
   "metadata": {},
   "outputs": [],
   "source": [
    "transformer = make_column_transformer(\n",
    "    (OneHotEncoder(sparse=False),make_column_selector(dtype_exclude=np.number)),\n",
    "    (a,make_column_selector(dtype_include=np.number))\n",
    "    )\n",
    "\n"
   ]
  },
  {
   "cell_type": "code",
   "execution_count": 120,
   "metadata": {},
   "outputs": [
    {
     "data": {
      "text/html": [
       "<div>\n",
       "<style scoped>\n",
       "    .dataframe tbody tr th:only-of-type {\n",
       "        vertical-align: middle;\n",
       "    }\n",
       "\n",
       "    .dataframe tbody tr th {\n",
       "        vertical-align: top;\n",
       "    }\n",
       "\n",
       "    .dataframe thead tr th {\n",
       "        text-align: left;\n",
       "    }\n",
       "\n",
       "    .dataframe thead tr:last-of-type th {\n",
       "        text-align: right;\n",
       "    }\n",
       "</style>\n",
       "<table border=\"1\" class=\"dataframe\">\n",
       "  <thead>\n",
       "    <tr>\n",
       "      <th></th>\n",
       "      <th colspan=\"8\" halign=\"left\">f1</th>\n",
       "      <th colspan=\"8\" halign=\"left\">f2</th>\n",
       "    </tr>\n",
       "    <tr>\n",
       "      <th></th>\n",
       "      <th>count</th>\n",
       "      <th>mean</th>\n",
       "      <th>std</th>\n",
       "      <th>min</th>\n",
       "      <th>25%</th>\n",
       "      <th>50%</th>\n",
       "      <th>75%</th>\n",
       "      <th>max</th>\n",
       "      <th>count</th>\n",
       "      <th>mean</th>\n",
       "      <th>std</th>\n",
       "      <th>min</th>\n",
       "      <th>25%</th>\n",
       "      <th>50%</th>\n",
       "      <th>75%</th>\n",
       "      <th>max</th>\n",
       "    </tr>\n",
       "    <tr>\n",
       "      <th>cluster_labels</th>\n",
       "      <th></th>\n",
       "      <th></th>\n",
       "      <th></th>\n",
       "      <th></th>\n",
       "      <th></th>\n",
       "      <th></th>\n",
       "      <th></th>\n",
       "      <th></th>\n",
       "      <th></th>\n",
       "      <th></th>\n",
       "      <th></th>\n",
       "      <th></th>\n",
       "      <th></th>\n",
       "      <th></th>\n",
       "      <th></th>\n",
       "      <th></th>\n",
       "    </tr>\n",
       "  </thead>\n",
       "  <tbody>\n",
       "    <tr>\n",
       "      <th>0</th>\n",
       "      <td>36182.0</td>\n",
       "      <td>-7.407209</td>\n",
       "      <td>61.744591</td>\n",
       "      <td>-127.949379</td>\n",
       "      <td>-62.205286</td>\n",
       "      <td>-10.779665</td>\n",
       "      <td>37.292496</td>\n",
       "      <td>131.431152</td>\n",
       "      <td>36182.0</td>\n",
       "      <td>6.669052</td>\n",
       "      <td>60.210869</td>\n",
       "      <td>-120.301292</td>\n",
       "      <td>-35.771955</td>\n",
       "      <td>5.894869</td>\n",
       "      <td>54.464774</td>\n",
       "      <td>127.680733</td>\n",
       "    </tr>\n",
       "    <tr>\n",
       "      <th>1</th>\n",
       "      <td>14100.0</td>\n",
       "      <td>-17.476286</td>\n",
       "      <td>55.634636</td>\n",
       "      <td>-114.663200</td>\n",
       "      <td>-59.998670</td>\n",
       "      <td>-20.381799</td>\n",
       "      <td>18.067651</td>\n",
       "      <td>131.352600</td>\n",
       "      <td>14100.0</td>\n",
       "      <td>4.695980</td>\n",
       "      <td>49.417736</td>\n",
       "      <td>-111.139824</td>\n",
       "      <td>-29.744415</td>\n",
       "      <td>6.527676</td>\n",
       "      <td>46.538960</td>\n",
       "      <td>119.543457</td>\n",
       "    </tr>\n",
       "    <tr>\n",
       "      <th>2</th>\n",
       "      <td>27226.0</td>\n",
       "      <td>18.016830</td>\n",
       "      <td>59.660580</td>\n",
       "      <td>-127.916985</td>\n",
       "      <td>-27.554313</td>\n",
       "      <td>26.440255</td>\n",
       "      <td>63.176668</td>\n",
       "      <td>132.736603</td>\n",
       "      <td>27226.0</td>\n",
       "      <td>-13.650376</td>\n",
       "      <td>67.670456</td>\n",
       "      <td>-134.997467</td>\n",
       "      <td>-69.465002</td>\n",
       "      <td>-21.217380</td>\n",
       "      <td>34.674914</td>\n",
       "      <td>125.887268</td>\n",
       "    </tr>\n",
       "    <tr>\n",
       "      <th>3</th>\n",
       "      <td>13971.0</td>\n",
       "      <td>1.051694</td>\n",
       "      <td>55.229038</td>\n",
       "      <td>-125.036728</td>\n",
       "      <td>-44.307789</td>\n",
       "      <td>-0.729433</td>\n",
       "      <td>48.666428</td>\n",
       "      <td>130.325333</td>\n",
       "      <td>13971.0</td>\n",
       "      <td>4.909513</td>\n",
       "      <td>58.657417</td>\n",
       "      <td>-129.261826</td>\n",
       "      <td>-41.621489</td>\n",
       "      <td>1.877501</td>\n",
       "      <td>57.318092</td>\n",
       "      <td>113.913689</td>\n",
       "    </tr>\n",
       "  </tbody>\n",
       "</table>\n",
       "</div>"
      ],
      "text/plain": [
       "                     f1                                               \\\n",
       "                  count       mean        std         min        25%   \n",
       "cluster_labels                                                         \n",
       "0               36182.0  -7.407209  61.744591 -127.949379 -62.205286   \n",
       "1               14100.0 -17.476286  55.634636 -114.663200 -59.998670   \n",
       "2               27226.0  18.016830  59.660580 -127.916985 -27.554313   \n",
       "3               13971.0   1.051694  55.229038 -125.036728 -44.307789   \n",
       "\n",
       "                                                       f2             \\\n",
       "                      50%        75%         max    count       mean   \n",
       "cluster_labels                                                         \n",
       "0              -10.779665  37.292496  131.431152  36182.0   6.669052   \n",
       "1              -20.381799  18.067651  131.352600  14100.0   4.695980   \n",
       "2               26.440255  63.176668  132.736603  27226.0 -13.650376   \n",
       "3               -0.729433  48.666428  130.325333  13971.0   4.909513   \n",
       "\n",
       "                                                                        \\\n",
       "                      std         min        25%        50%        75%   \n",
       "cluster_labels                                                           \n",
       "0               60.210869 -120.301292 -35.771955   5.894869  54.464774   \n",
       "1               49.417736 -111.139824 -29.744415   6.527676  46.538960   \n",
       "2               67.670456 -134.997467 -69.465002 -21.217380  34.674914   \n",
       "3               58.657417 -129.261826 -41.621489   1.877501  57.318092   \n",
       "\n",
       "                            \n",
       "                       max  \n",
       "cluster_labels              \n",
       "0               127.680733  \n",
       "1               119.543457  \n",
       "2               125.887268  \n",
       "3               113.913689  "
      ]
     },
     "execution_count": 120,
     "metadata": {},
     "output_type": "execute_result"
    }
   ],
   "source": [
    "\n",
    "transform_array=transformer.fit_transform(df)\n",
    "\n",
    "df_log=pd.DataFrame(transform_array)\n",
    "\n",
    "pipe_tsne = make_pipeline(transformer,TSNE()) \n",
    "array_tsne=pipe_tsne.fit_transform(df_log)\n",
    "\n",
    "df_tsne=pd.DataFrame(array_tsne,columns=['f1','f2'])\n",
    "df_tsne['cluster_labels']=pd.Series(kprototype.labels_)\n",
    "\n",
    "df_tsne.groupby('cluster_labels').describe()"
   ]
  },
  {
   "cell_type": "code",
   "execution_count": 121,
   "metadata": {},
   "outputs": [
    {
     "data": {
      "image/png": "[encoded data removed]",
      "text/plain": [
       "<Figure size 640x480 with 1 Axes>"
      ]
     },
     "metadata": {},
     "output_type": "display_data"
    }
   ],
   "source": [
    "plt.scatter(df_tsne.f1,df_tsne.f2,c=df_tsne.cluster_labels)\n",
    "plt.show()"
   ]
  },
  {
   "cell_type": "code",
   "execution_count": 124,
   "metadata": {},
   "outputs": [
    {
     "data": {
      "text/html": [
       "<div>\n",
       "<style scoped>\n",
       "    .dataframe tbody tr th:only-of-type {\n",
       "        vertical-align: middle;\n",
       "    }\n",
       "\n",
       "    .dataframe tbody tr th {\n",
       "        vertical-align: top;\n",
       "    }\n",
       "\n",
       "    .dataframe thead tr th {\n",
       "        text-align: left;\n",
       "    }\n",
       "\n",
       "    .dataframe thead tr:last-of-type th {\n",
       "        text-align: right;\n",
       "    }\n",
       "</style>\n",
       "<table border=\"1\" class=\"dataframe\">\n",
       "  <thead>\n",
       "    <tr>\n",
       "      <th></th>\n",
       "      <th colspan=\"8\" halign=\"left\">f1</th>\n",
       "      <th colspan=\"8\" halign=\"left\">f2</th>\n",
       "    </tr>\n",
       "    <tr>\n",
       "      <th></th>\n",
       "      <th>count</th>\n",
       "      <th>mean</th>\n",
       "      <th>std</th>\n",
       "      <th>min</th>\n",
       "      <th>25%</th>\n",
       "      <th>50%</th>\n",
       "      <th>75%</th>\n",
       "      <th>max</th>\n",
       "      <th>count</th>\n",
       "      <th>mean</th>\n",
       "      <th>std</th>\n",
       "      <th>min</th>\n",
       "      <th>25%</th>\n",
       "      <th>50%</th>\n",
       "      <th>75%</th>\n",
       "      <th>max</th>\n",
       "    </tr>\n",
       "    <tr>\n",
       "      <th>cluster_labels</th>\n",
       "      <th></th>\n",
       "      <th></th>\n",
       "      <th></th>\n",
       "      <th></th>\n",
       "      <th></th>\n",
       "      <th></th>\n",
       "      <th></th>\n",
       "      <th></th>\n",
       "      <th></th>\n",
       "      <th></th>\n",
       "      <th></th>\n",
       "      <th></th>\n",
       "      <th></th>\n",
       "      <th></th>\n",
       "      <th></th>\n",
       "      <th></th>\n",
       "    </tr>\n",
       "  </thead>\n",
       "  <tbody>\n",
       "    <tr>\n",
       "      <th>0</th>\n",
       "      <td>36182.0</td>\n",
       "      <td>0.269302</td>\n",
       "      <td>0.479563</td>\n",
       "      <td>-0.739226</td>\n",
       "      <td>-0.127198</td>\n",
       "      <td>0.259433</td>\n",
       "      <td>0.654620</td>\n",
       "      <td>1.385133</td>\n",
       "      <td>36182.0</td>\n",
       "      <td>-0.387238</td>\n",
       "      <td>0.488569</td>\n",
       "      <td>-1.434815</td>\n",
       "      <td>-0.795234</td>\n",
       "      <td>-0.435813</td>\n",
       "      <td>-0.025884</td>\n",
       "      <td>0.844789</td>\n",
       "    </tr>\n",
       "    <tr>\n",
       "      <th>1</th>\n",
       "      <td>14100.0</td>\n",
       "      <td>2.039527</td>\n",
       "      <td>0.789750</td>\n",
       "      <td>0.674333</td>\n",
       "      <td>1.438097</td>\n",
       "      <td>1.820902</td>\n",
       "      <td>2.451766</td>\n",
       "      <td>6.731699</td>\n",
       "      <td>14100.0</td>\n",
       "      <td>-0.082386</td>\n",
       "      <td>0.747309</td>\n",
       "      <td>-1.439737</td>\n",
       "      <td>-0.653564</td>\n",
       "      <td>-0.203596</td>\n",
       "      <td>0.360255</td>\n",
       "      <td>3.619074</td>\n",
       "    </tr>\n",
       "    <tr>\n",
       "      <th>2</th>\n",
       "      <td>27226.0</td>\n",
       "      <td>-1.330522</td>\n",
       "      <td>0.565643</td>\n",
       "      <td>-3.979125</td>\n",
       "      <td>-1.716944</td>\n",
       "      <td>-1.242614</td>\n",
       "      <td>-0.857410</td>\n",
       "      <td>-0.399303</td>\n",
       "      <td>27226.0</td>\n",
       "      <td>-0.296800</td>\n",
       "      <td>0.563275</td>\n",
       "      <td>-1.405327</td>\n",
       "      <td>-0.747072</td>\n",
       "      <td>-0.359895</td>\n",
       "      <td>0.083994</td>\n",
       "      <td>2.205270</td>\n",
       "    </tr>\n",
       "    <tr>\n",
       "      <th>3</th>\n",
       "      <td>13971.0</td>\n",
       "      <td>-0.162940</td>\n",
       "      <td>0.900872</td>\n",
       "      <td>-4.032302</td>\n",
       "      <td>-0.772653</td>\n",
       "      <td>-0.124715</td>\n",
       "      <td>0.492475</td>\n",
       "      <td>3.005466</td>\n",
       "      <td>13971.0</td>\n",
       "      <td>1.664403</td>\n",
       "      <td>0.687679</td>\n",
       "      <td>0.496728</td>\n",
       "      <td>1.080961</td>\n",
       "      <td>1.580487</td>\n",
       "      <td>2.090979</td>\n",
       "      <td>4.498288</td>\n",
       "    </tr>\n",
       "  </tbody>\n",
       "</table>\n",
       "</div>"
      ],
      "text/plain": [
       "                     f1                                                    \\\n",
       "                  count      mean       std       min       25%       50%   \n",
       "cluster_labels                                                              \n",
       "0               36182.0  0.269302  0.479563 -0.739226 -0.127198  0.259433   \n",
       "1               14100.0  2.039527  0.789750  0.674333  1.438097  1.820902   \n",
       "2               27226.0 -1.330522  0.565643 -3.979125 -1.716944 -1.242614   \n",
       "3               13971.0 -0.162940  0.900872 -4.032302 -0.772653 -0.124715   \n",
       "\n",
       "                                         f2                                \\\n",
       "                     75%       max    count      mean       std       min   \n",
       "cluster_labels                                                              \n",
       "0               0.654620  1.385133  36182.0 -0.387238  0.488569 -1.434815   \n",
       "1               2.451766  6.731699  14100.0 -0.082386  0.747309 -1.439737   \n",
       "2              -0.857410 -0.399303  27226.0 -0.296800  0.563275 -1.405327   \n",
       "3               0.492475  3.005466  13971.0  1.664403  0.687679  0.496728   \n",
       "\n",
       "                                                        \n",
       "                     25%       50%       75%       max  \n",
       "cluster_labels                                          \n",
       "0              -0.795234 -0.435813 -0.025884  0.844789  \n",
       "1              -0.653564 -0.203596  0.360255  3.619074  \n",
       "2              -0.747072 -0.359895  0.083994  2.205270  \n",
       "3               1.080961  1.580487  2.090979  4.498288  "
      ]
     },
     "execution_count": 124,
     "metadata": {},
     "output_type": "execute_result"
    }
   ],
   "source": [
    "# a = FunctionTransformer(func=np.log1p)\n",
    "# preprocessing = make_column_transformer((a,make_column_selector(dtype_include=np.number)),remainder='passthrough')\n",
    "# log=preprocessing.fit_transform(df)\n",
    "\n",
    "# kprototype = KPrototypes(n_jobs = -1, n_clusters =4, init = 'Huang', random_state = 0)\n",
    "# kprototype.fit_predict(log, categorical = [9,10])\n",
    "\n",
    "# transformer = make_column_transformer(\n",
    "#     (OneHotEncoder(sparse=False),make_column_selector(dtype_exclude=np.number)),\n",
    "#     (a,make_column_selector(dtype_include=np.number))\n",
    "#     )\n",
    "\n",
    "# transform_array=transformer.fit_transform(df)\n",
    "\n",
    "# df_transform=pd.DataFrame(transform_array)\n",
    "\n",
    "\n",
    "# pca = PCA(n_components=0.95)\n",
    "# df_pca=pd.DataFrame(pca.fit_transform(df_transform))\n",
    "\n",
    "# df_pca['cluster_labels']=pd.Series(kprototype.labels_)\n",
    "\n",
    "# df_pca.groupby('cluster_labels').describe()\n",
    "\n",
    "# plt.scatter(df_pca.iloc[:,0],df_pca.iloc[:,1],c=df_pca.cluster_labels)\n",
    "# plt.show()"
   ]
  },
  {
   "cell_type": "code",
   "execution_count": 6,
   "metadata": {},
   "outputs": [
    {
     "data": {
      "image/png": "[encoded data removed]",
      "text/plain": [
       "<Figure size 640x480 with 1 Axes>"
      ]
     },
     "metadata": {},
     "output_type": "display_data"
    }
   ],
   "source": [
    "func_log = FunctionTransformer(func=np.log1p)\n",
    "func_abs=FunctionTransformer(func=np.abs)\n",
    "\n",
    "pipe_num= make_pipeline(func_abs,func_log)\n",
    "\n",
    "transformer = make_column_transformer(\n",
    "    (OneHotEncoder(sparse=False),make_column_selector(dtype_exclude=['float','int'])),\n",
    "    (pipe_num,make_column_selector(dtype_include=['float','int']))\n",
    "    )\n",
    "\n",
    "pipe_pca= make_pipeline(transformer,PCA(n_components=0.95))\n",
    "\n",
    "df_acp=pd.DataFrame(pipe_pca.fit_transform(df))\n",
    "\n",
    "\n",
    "clustering =KMeans(n_clusters=8).fit(df_acp)\n",
    "df_acp['cluster_labels']=pd.Series(clustering.labels_)\n",
    "\n",
    "\n",
    "plt.scatter(df_acp.iloc[:,0],df_acp.iloc[:,1],c=df_acp.cluster_labels)\n",
    "plt.show()"
   ]
  },
  {
   "cell_type": "code",
   "execution_count": 7,
   "metadata": {},
   "outputs": [
    {
     "name": "stderr",
     "output_type": "stream",
     "text": [
      "/tmp/ipykernel_54326/3797345276.py:6: SettingWithCopyWarning: \n",
      "A value is trying to be set on a copy of a slice from a DataFrame.\n",
      "Try using .loc[row_indexer,col_indexer] = value instead\n",
      "\n",
      "See the caveats in the documentation: https://pandas.pydata.org/pandas-docs/stable/user_guide/indexing.html#returning-a-view-versus-a-copy\n",
      "  df_num['cluster_labels']=pd.Series(clustering.labels_)\n"
     ]
    },
    {
     "data": {
      "text/html": [
       "<div>\n",
       "<style scoped>\n",
       "    .dataframe tbody tr th:only-of-type {\n",
       "        vertical-align: middle;\n",
       "    }\n",
       "\n",
       "    .dataframe tbody tr th {\n",
       "        vertical-align: top;\n",
       "    }\n",
       "\n",
       "    .dataframe thead th {\n",
       "        text-align: right;\n",
       "    }\n",
       "</style>\n",
       "<table border=\"1\" class=\"dataframe\">\n",
       "  <thead>\n",
       "    <tr style=\"text-align: right;\">\n",
       "      <th></th>\n",
       "      <th>payment_installments</th>\n",
       "      <th>orders</th>\n",
       "      <th>products</th>\n",
       "      <th>sellers</th>\n",
       "      <th>payment_value</th>\n",
       "      <th>review_score</th>\n",
       "      <th>price</th>\n",
       "      <th>freight_value</th>\n",
       "      <th>recency</th>\n",
       "    </tr>\n",
       "  </thead>\n",
       "  <tbody>\n",
       "    <tr>\n",
       "      <th>0</th>\n",
       "      <td>5.0</td>\n",
       "      <td>1.0</td>\n",
       "      <td>1.0</td>\n",
       "      <td>1.0</td>\n",
       "      <td>5.000000</td>\n",
       "      <td>5.0</td>\n",
       "      <td>5.000000</td>\n",
       "      <td>5.000000</td>\n",
       "      <td>4.159664</td>\n",
       "    </tr>\n",
       "    <tr>\n",
       "      <th>1</th>\n",
       "      <td>1.8</td>\n",
       "      <td>5.0</td>\n",
       "      <td>5.0</td>\n",
       "      <td>5.0</td>\n",
       "      <td>3.995630</td>\n",
       "      <td>1.0</td>\n",
       "      <td>1.412780</td>\n",
       "      <td>1.562699</td>\n",
       "      <td>4.487395</td>\n",
       "    </tr>\n",
       "    <tr>\n",
       "      <th>2</th>\n",
       "      <td>2.6</td>\n",
       "      <td>1.0</td>\n",
       "      <td>1.0</td>\n",
       "      <td>1.0</td>\n",
       "      <td>1.947547</td>\n",
       "      <td>5.0</td>\n",
       "      <td>1.925780</td>\n",
       "      <td>2.649905</td>\n",
       "      <td>1.050420</td>\n",
       "    </tr>\n",
       "    <tr>\n",
       "      <th>3</th>\n",
       "      <td>3.4</td>\n",
       "      <td>1.0</td>\n",
       "      <td>1.0</td>\n",
       "      <td>1.0</td>\n",
       "      <td>1.967023</td>\n",
       "      <td>5.0</td>\n",
       "      <td>2.101449</td>\n",
       "      <td>2.122852</td>\n",
       "      <td>5.000000</td>\n",
       "    </tr>\n",
       "    <tr>\n",
       "      <th>4</th>\n",
       "      <td>1.0</td>\n",
       "      <td>1.0</td>\n",
       "      <td>1.0</td>\n",
       "      <td>1.0</td>\n",
       "      <td>1.546256</td>\n",
       "      <td>5.0</td>\n",
       "      <td>1.531313</td>\n",
       "      <td>1.654360</td>\n",
       "      <td>4.882353</td>\n",
       "    </tr>\n",
       "    <tr>\n",
       "      <th>5</th>\n",
       "      <td>1.8</td>\n",
       "      <td>1.0</td>\n",
       "      <td>1.0</td>\n",
       "      <td>1.0</td>\n",
       "      <td>1.314327</td>\n",
       "      <td>5.0</td>\n",
       "      <td>1.310935</td>\n",
       "      <td>1.274984</td>\n",
       "      <td>4.831933</td>\n",
       "    </tr>\n",
       "    <tr>\n",
       "      <th>6</th>\n",
       "      <td>1.0</td>\n",
       "      <td>1.0</td>\n",
       "      <td>1.0</td>\n",
       "      <td>1.0</td>\n",
       "      <td>1.154524</td>\n",
       "      <td>5.0</td>\n",
       "      <td>1.136056</td>\n",
       "      <td>1.287715</td>\n",
       "      <td>1.000000</td>\n",
       "    </tr>\n",
       "    <tr>\n",
       "      <th>7</th>\n",
       "      <td>1.0</td>\n",
       "      <td>1.0</td>\n",
       "      <td>1.0</td>\n",
       "      <td>1.0</td>\n",
       "      <td>1.000000</td>\n",
       "      <td>5.0</td>\n",
       "      <td>1.000000</td>\n",
       "      <td>1.000000</td>\n",
       "      <td>4.747899</td>\n",
       "    </tr>\n",
       "  </tbody>\n",
       "</table>\n",
       "</div>"
      ],
      "text/plain": [
       "   payment_installments  orders  products  sellers  payment_value  \\\n",
       "0                   5.0     1.0       1.0      1.0       5.000000   \n",
       "1                   1.8     5.0       5.0      5.0       3.995630   \n",
       "2                   2.6     1.0       1.0      1.0       1.947547   \n",
       "3                   3.4     1.0       1.0      1.0       1.967023   \n",
       "4                   1.0     1.0       1.0      1.0       1.546256   \n",
       "5                   1.8     1.0       1.0      1.0       1.314327   \n",
       "6                   1.0     1.0       1.0      1.0       1.154524   \n",
       "7                   1.0     1.0       1.0      1.0       1.000000   \n",
       "\n",
       "   review_score     price  freight_value   recency  \n",
       "0           5.0  5.000000       5.000000  4.159664  \n",
       "1           1.0  1.412780       1.562699  4.487395  \n",
       "2           5.0  1.925780       2.649905  1.050420  \n",
       "3           5.0  2.101449       2.122852  5.000000  \n",
       "4           5.0  1.531313       1.654360  4.882353  \n",
       "5           5.0  1.310935       1.274984  4.831933  \n",
       "6           5.0  1.136056       1.287715  1.000000  \n",
       "7           5.0  1.000000       1.000000  4.747899  "
      ]
     },
     "execution_count": 7,
     "metadata": {},
     "output_type": "execute_result"
    }
   ],
   "source": [
    "df_num=df[['payment_installments','orders','products','sellers','payment_value','review_score','price','freight_value','recency']]\n",
    "\n",
    "mms=MinMaxScaler(feature_range=(1,5))\n",
    "\n",
    "num_cols= df.select_dtypes(include='number').columns\n",
    "df_num['cluster_labels']=pd.Series(clustering.labels_)\n",
    "\n",
    "list_agg = {}\n",
    "for col in num_cols:\n",
    "    list_agg[f'{col}'] = 'median'\n",
    "\n",
    "df_mean=df_num.groupby('cluster_labels').agg(list_agg)\n",
    "\n",
    "\n",
    "df_mms=pd.DataFrame(mms.fit_transform(df_mean),columns=['payment_installments','orders','products','sellers','payment_value','review_score','price','freight_value','recency'])\n",
    "df_mms\n"
   ]
  },
  {
   "cell_type": "code",
   "execution_count": 337,
   "metadata": {},
   "outputs": [
    {
     "data": {
      "application/vnd.plotly.v1+json": {
       "config": {
        "plotlyServerURL": "https://plot.ly"
       },
       "data": [
        {
         "fill": "toself",
         "name": "Cluster 0",
         "r": [
          1.8,
          5,
          5,
          5,
          3.9884902068916444,
          1,
          1.4131503841931943,
          1.5594936708860758,
          4.470588235294118
         ],
         "theta": [
          "payment_installments",
          "orders",
          "products",
          "sellers",
          "payment_value",
          "review_score",
          "price",
          "freight_value",
          "recency"
         ],
         "type": "scatterpolar"
        },
        {
         "fill": "toself",
         "name": "Cluster 1",
         "r": [
          1,
          1,
          1,
          1,
          1,
          5,
          1,
          1,
          4.7478991596638656
         ],
         "theta": [
          "payment_installments",
          "orders",
          "products",
          "sellers",
          "payment_value",
          "review_score",
          "price",
          "freight_value",
          "recency"
         ],
         "type": "scatterpolar"
        },
        {
         "fill": "toself",
         "name": "Cluster 2",
         "r": [
          1,
          1,
          1,
          1,
          1.5450696458114672,
          5,
          1.5311964873765094,
          1.6506329113924054,
          4.882352941176471
         ],
         "theta": [
          "payment_installments",
          "orders",
          "products",
          "sellers",
          "payment_value",
          "review_score",
          "price",
          "freight_value",
          "recency"
         ],
         "type": "scatterpolar"
        },
        {
         "fill": "toself",
         "name": "Cluster 3",
         "r": [
          1.8,
          1,
          1,
          1,
          1.3155497838578265,
          5,
          1.310867178924259,
          1.278481012658228,
          4.84873949579832
         ],
         "theta": [
          "payment_installments",
          "orders",
          "products",
          "sellers",
          "payment_value",
          "review_score",
          "price",
          "freight_value",
          "recency"
         ],
         "type": "scatterpolar"
        },
        {
         "fill": "toself",
         "name": "Cluster 4",
         "r": [
          2.6000000000000005,
          1,
          1,
          1,
          1.937149769626243,
          5,
          1.9219758507135016,
          2.6253164556962028,
          1.050420168067227
         ],
         "theta": [
          "payment_installments",
          "orders",
          "products",
          "sellers",
          "payment_value",
          "review_score",
          "price",
          "freight_value",
          "recency"
         ],
         "type": "scatterpolar"
        },
        {
         "fill": "toself",
         "name": "Cluster 5",
         "r": [
          3.4000000000000004,
          1,
          1,
          1,
          1.9686727269492823,
          5,
          2.1012074643249177,
          2.118987341772152,
          5
         ],
         "theta": [
          "payment_installments",
          "orders",
          "products",
          "sellers",
          "payment_value",
          "review_score",
          "price",
          "freight_value",
          "recency"
         ],
         "type": "scatterpolar"
        },
        {
         "fill": "toself",
         "name": "Cluster 6",
         "r": [
          1,
          1,
          1,
          1,
          1.1499297315567572,
          5,
          1.13602634467618,
          1.2860759493670892,
          1
         ],
         "theta": [
          "payment_installments",
          "orders",
          "products",
          "sellers",
          "payment_value",
          "review_score",
          "price",
          "freight_value",
          "recency"
         ],
         "type": "scatterpolar"
        },
        {
         "fill": "toself",
         "name": "Cluster 7",
         "r": [
          5.000000000000001,
          1,
          1,
          1,
          5,
          5,
          5,
          5,
          4.126050420168067
         ],
         "theta": [
          "payment_installments",
          "orders",
          "products",
          "sellers",
          "payment_value",
          "review_score",
          "price",
          "freight_value",
          "recency"
         ],
         "type": "scatterpolar"
        }
       ],
       "layout": {
        "height": 780,
        "polar": {
         "radialaxis": {
          "range": [
           0,
           5
          ],
          "visible": true
         }
        },
        "showlegend": true,
        "template": {
         "data": {
          "bar": [
           {
            "error_x": {
             "color": "#2a3f5f"
            },
            "error_y": {
             "color": "#2a3f5f"
            },
            "marker": {
             "line": {
              "color": "#E5ECF6",
              "width": 0.5
             },
             "pattern": {
              "fillmode": "overlay",
              "size": 10,
              "solidity": 0.2
             }
            },
            "type": "bar"
           }
          ],
          "barpolar": [
           {
            "marker": {
             "line": {
              "color": "#E5ECF6",
              "width": 0.5
             },
             "pattern": {
              "fillmode": "overlay",
              "size": 10,
              "solidity": 0.2
             }
            },
            "type": "barpolar"
           }
          ],
          "carpet": [
           {
            "aaxis": {
             "endlinecolor": "#2a3f5f",
             "gridcolor": "white",
             "linecolor": "white",
             "minorgridcolor": "white",
             "startlinecolor": "#2a3f5f"
            },
            "baxis": {
             "endlinecolor": "#2a3f5f",
             "gridcolor": "white",
             "linecolor": "white",
             "minorgridcolor": "white",
             "startlinecolor": "#2a3f5f"
            },
            "type": "carpet"
           }
          ],
          "choropleth": [
           {
            "colorbar": {
             "outlinewidth": 0,
             "ticks": ""
            },
            "type": "choropleth"
           }
          ],
          "contour": [
           {
            "colorbar": {
             "outlinewidth": 0,
             "ticks": ""
            },
            "colorscale": [
             [
              0,
              "#0d0887"
             ],
             [
              0.1111111111111111,
              "#46039f"
             ],
             [
              0.2222222222222222,
              "#7201a8"
             ],
             [
              0.3333333333333333,
              "#9c179e"
             ],
             [
              0.4444444444444444,
              "#bd3786"
             ],
             [
              0.5555555555555556,
              "#d8576b"
             ],
             [
              0.6666666666666666,
              "#ed7953"
             ],
             [
              0.7777777777777778,
              "#fb9f3a"
             ],
             [
              0.8888888888888888,
              "#fdca26"
             ],
             [
              1,
              "#f0f921"
             ]
            ],
            "type": "contour"
           }
          ],
          "contourcarpet": [
           {
            "colorbar": {
             "outlinewidth": 0,
             "ticks": ""
            },
            "type": "contourcarpet"
           }
          ],
          "heatmap": [
           {
            "colorbar": {
             "outlinewidth": 0,
             "ticks": ""
            },
            "colorscale": [
             [
              0,
              "#0d0887"
             ],
             [
              0.1111111111111111,
              "#46039f"
             ],
             [
              0.2222222222222222,
              "#7201a8"
             ],
             [
              0.3333333333333333,
              "#9c179e"
             ],
             [
              0.4444444444444444,
              "#bd3786"
             ],
             [
              0.5555555555555556,
              "#d8576b"
             ],
             [
              0.6666666666666666,
              "#ed7953"
             ],
             [
              0.7777777777777778,
              "#fb9f3a"
             ],
             [
              0.8888888888888888,
              "#fdca26"
             ],
             [
              1,
              "#f0f921"
             ]
            ],
            "type": "heatmap"
           }
          ],
          "heatmapgl": [
           {
            "colorbar": {
             "outlinewidth": 0,
             "ticks": ""
            },
            "colorscale": [
             [
              0,
              "#0d0887"
             ],
             [
              0.1111111111111111,
              "#46039f"
             ],
             [
              0.2222222222222222,
              "#7201a8"
             ],
             [
              0.3333333333333333,
              "#9c179e"
             ],
             [
              0.4444444444444444,
              "#bd3786"
             ],
             [
              0.5555555555555556,
              "#d8576b"
             ],
             [
              0.6666666666666666,
              "#ed7953"
             ],
             [
              0.7777777777777778,
              "#fb9f3a"
             ],
             [
              0.8888888888888888,
              "#fdca26"
             ],
             [
              1,
              "#f0f921"
             ]
            ],
            "type": "heatmapgl"
           }
          ],
          "histogram": [
           {
            "marker": {
             "pattern": {
              "fillmode": "overlay",
              "size": 10,
              "solidity": 0.2
             }
            },
            "type": "histogram"
           }
          ],
          "histogram2d": [
           {
            "colorbar": {
             "outlinewidth": 0,
             "ticks": ""
            },
            "colorscale": [
             [
              0,
              "#0d0887"
             ],
             [
              0.1111111111111111,
              "#46039f"
             ],
             [
              0.2222222222222222,
              "#7201a8"
             ],
             [
              0.3333333333333333,
              "#9c179e"
             ],
             [
              0.4444444444444444,
              "#bd3786"
             ],
             [
              0.5555555555555556,
              "#d8576b"
             ],
             [
              0.6666666666666666,
              "#ed7953"
             ],
             [
              0.7777777777777778,
              "#fb9f3a"
             ],
             [
              0.8888888888888888,
              "#fdca26"
             ],
             [
              1,
              "#f0f921"
             ]
            ],
            "type": "histogram2d"
           }
          ],
          "histogram2dcontour": [
           {
            "colorbar": {
             "outlinewidth": 0,
             "ticks": ""
            },
            "colorscale": [
             [
              0,
              "#0d0887"
             ],
             [
              0.1111111111111111,
              "#46039f"
             ],
             [
              0.2222222222222222,
              "#7201a8"
             ],
             [
              0.3333333333333333,
              "#9c179e"
             ],
             [
              0.4444444444444444,
              "#bd3786"
             ],
             [
              0.5555555555555556,
              "#d8576b"
             ],
             [
              0.6666666666666666,
              "#ed7953"
             ],
             [
              0.7777777777777778,
              "#fb9f3a"
             ],
             [
              0.8888888888888888,
              "#fdca26"
             ],
             [
              1,
              "#f0f921"
             ]
            ],
            "type": "histogram2dcontour"
           }
          ],
          "mesh3d": [
           {
            "colorbar": {
             "outlinewidth": 0,
             "ticks": ""
            },
            "type": "mesh3d"
           }
          ],
          "parcoords": [
           {
            "line": {
             "colorbar": {
              "outlinewidth": 0,
              "ticks": ""
             }
            },
            "type": "parcoords"
           }
          ],
          "pie": [
           {
            "automargin": true,
            "type": "pie"
           }
          ],
          "scatter": [
           {
            "fillpattern": {
             "fillmode": "overlay",
             "size": 10,
             "solidity": 0.2
            },
            "type": "scatter"
           }
          ],
          "scatter3d": [
           {
            "line": {
             "colorbar": {
              "outlinewidth": 0,
              "ticks": ""
             }
            },
            "marker": {
             "colorbar": {
              "outlinewidth": 0,
              "ticks": ""
             }
            },
            "type": "scatter3d"
           }
          ],
          "scattercarpet": [
           {
            "marker": {
             "colorbar": {
              "outlinewidth": 0,
              "ticks": ""
             }
            },
            "type": "scattercarpet"
           }
          ],
          "scattergeo": [
           {
            "marker": {
             "colorbar": {
              "outlinewidth": 0,
              "ticks": ""
             }
            },
            "type": "scattergeo"
           }
          ],
          "scattergl": [
           {
            "marker": {
             "colorbar": {
              "outlinewidth": 0,
              "ticks": ""
             }
            },
            "type": "scattergl"
           }
          ],
          "scattermapbox": [
           {
            "marker": {
             "colorbar": {
              "outlinewidth": 0,
              "ticks": ""
             }
            },
            "type": "scattermapbox"
           }
          ],
          "scatterpolar": [
           {
            "marker": {
             "colorbar": {
              "outlinewidth": 0,
              "ticks": ""
             }
            },
            "type": "scatterpolar"
           }
          ],
          "scatterpolargl": [
           {
            "marker": {
             "colorbar": {
              "outlinewidth": 0,
              "ticks": ""
             }
            },
            "type": "scatterpolargl"
           }
          ],
          "scatterternary": [
           {
            "marker": {
             "colorbar": {
              "outlinewidth": 0,
              "ticks": ""
             }
            },
            "type": "scatterternary"
           }
          ],
          "surface": [
           {
            "colorbar": {
             "outlinewidth": 0,
             "ticks": ""
            },
            "colorscale": [
             [
              0,
              "#0d0887"
             ],
             [
              0.1111111111111111,
              "#46039f"
             ],
             [
              0.2222222222222222,
              "#7201a8"
             ],
             [
              0.3333333333333333,
              "#9c179e"
             ],
             [
              0.4444444444444444,
              "#bd3786"
             ],
             [
              0.5555555555555556,
              "#d8576b"
             ],
             [
              0.6666666666666666,
              "#ed7953"
             ],
             [
              0.7777777777777778,
              "#fb9f3a"
             ],
             [
              0.8888888888888888,
              "#fdca26"
             ],
             [
              1,
              "#f0f921"
             ]
            ],
            "type": "surface"
           }
          ],
          "table": [
           {
            "cells": {
             "fill": {
              "color": "#EBF0F8"
             },
             "line": {
              "color": "white"
             }
            },
            "header": {
             "fill": {
              "color": "#C8D4E3"
             },
             "line": {
              "color": "white"
             }
            },
            "type": "table"
           }
          ]
         },
         "layout": {
          "annotationdefaults": {
           "arrowcolor": "#2a3f5f",
           "arrowhead": 0,
           "arrowwidth": 1
          },
          "autotypenumbers": "strict",
          "coloraxis": {
           "colorbar": {
            "outlinewidth": 0,
            "ticks": ""
           }
          },
          "colorscale": {
           "diverging": [
            [
             0,
             "#8e0152"
            ],
            [
             0.1,
             "#c51b7d"
            ],
            [
             0.2,
             "#de77ae"
            ],
            [
             0.3,
             "#f1b6da"
            ],
            [
             0.4,
             "#fde0ef"
            ],
            [
             0.5,
             "#f7f7f7"
            ],
            [
             0.6,
             "#e6f5d0"
            ],
            [
             0.7,
             "#b8e186"
            ],
            [
             0.8,
             "#7fbc41"
            ],
            [
             0.9,
             "#4d9221"
            ],
            [
             1,
             "#276419"
            ]
           ],
           "sequential": [
            [
             0,
             "#0d0887"
            ],
            [
             0.1111111111111111,
             "#46039f"
            ],
            [
             0.2222222222222222,
             "#7201a8"
            ],
            [
             0.3333333333333333,
             "#9c179e"
            ],
            [
             0.4444444444444444,
             "#bd3786"
            ],
            [
             0.5555555555555556,
             "#d8576b"
            ],
            [
             0.6666666666666666,
             "#ed7953"
            ],
            [
             0.7777777777777778,
             "#fb9f3a"
            ],
            [
             0.8888888888888888,
             "#fdca26"
            ],
            [
             1,
             "#f0f921"
            ]
           ],
           "sequentialminus": [
            [
             0,
             "#0d0887"
            ],
            [
             0.1111111111111111,
             "#46039f"
            ],
            [
             0.2222222222222222,
             "#7201a8"
            ],
            [
             0.3333333333333333,
             "#9c179e"
            ],
            [
             0.4444444444444444,
             "#bd3786"
            ],
            [
             0.5555555555555556,
             "#d8576b"
            ],
            [
             0.6666666666666666,
             "#ed7953"
            ],
            [
             0.7777777777777778,
             "#fb9f3a"
            ],
            [
             0.8888888888888888,
             "#fdca26"
            ],
            [
             1,
             "#f0f921"
            ]
           ]
          },
          "colorway": [
           "#636efa",
           "#EF553B",
           "#00cc96",
           "#ab63fa",
           "#FFA15A",
           "#19d3f3",
           "#FF6692",
           "#B6E880",
           "#FF97FF",
           "#FECB52"
          ],
          "font": {
           "color": "#2a3f5f"
          },
          "geo": {
           "bgcolor": "white",
           "lakecolor": "white",
           "landcolor": "#E5ECF6",
           "showlakes": true,
           "showland": true,
           "subunitcolor": "white"
          },
          "hoverlabel": {
           "align": "left"
          },
          "hovermode": "closest",
          "mapbox": {
           "style": "light"
          },
          "paper_bgcolor": "white",
          "plot_bgcolor": "#E5ECF6",
          "polar": {
           "angularaxis": {
            "gridcolor": "white",
            "linecolor": "white",
            "ticks": ""
           },
           "bgcolor": "#E5ECF6",
           "radialaxis": {
            "gridcolor": "white",
            "linecolor": "white",
            "ticks": ""
           }
          },
          "scene": {
           "xaxis": {
            "backgroundcolor": "#E5ECF6",
            "gridcolor": "white",
            "gridwidth": 2,
            "linecolor": "white",
            "showbackground": true,
            "ticks": "",
            "zerolinecolor": "white"
           },
           "yaxis": {
            "backgroundcolor": "#E5ECF6",
            "gridcolor": "white",
            "gridwidth": 2,
            "linecolor": "white",
            "showbackground": true,
            "ticks": "",
            "zerolinecolor": "white"
           },
           "zaxis": {
            "backgroundcolor": "#E5ECF6",
            "gridcolor": "white",
            "gridwidth": 2,
            "linecolor": "white",
            "showbackground": true,
            "ticks": "",
            "zerolinecolor": "white"
           }
          },
          "shapedefaults": {
           "line": {
            "color": "#2a3f5f"
           }
          },
          "ternary": {
           "aaxis": {
            "gridcolor": "white",
            "linecolor": "white",
            "ticks": ""
           },
           "baxis": {
            "gridcolor": "white",
            "linecolor": "white",
            "ticks": ""
           },
           "bgcolor": "#E5ECF6",
           "caxis": {
            "gridcolor": "white",
            "linecolor": "white",
            "ticks": ""
           }
          },
          "title": {
           "x": 0.05
          },
          "xaxis": {
           "automargin": true,
           "gridcolor": "white",
           "linecolor": "white",
           "ticks": "",
           "title": {
            "standoff": 15
           },
           "zerolinecolor": "white",
           "zerolinewidth": 2
          },
          "yaxis": {
           "automargin": true,
           "gridcolor": "white",
           "linecolor": "white",
           "ticks": "",
           "title": {
            "standoff": 15
           },
           "zerolinecolor": "white",
           "zerolinewidth": 2
          }
         }
        },
        "width": 780
       }
      }
     },
     "metadata": {},
     "output_type": "display_data"
    }
   ],
   "source": [
    "# Créer une figure en radar pour chaque cluster\n",
    "fig = go.Figure()\n",
    "\n",
    "for cluster, row in df_mms.iterrows():\n",
    "    values = row.values.tolist()\n",
    "    \n",
    "\n",
    "    \n",
    "\n",
    "    fig.add_trace(go.Scatterpolar(\n",
    "        r=values,\n",
    "        theta=num_cols,\n",
    "        fill='toself',\n",
    "        name=f'Cluster {cluster}'\n",
    "    ))\n",
    "\n",
    "# Mettre en forme la figurenum_cols,\n",
    "fig.update_layout(\n",
    "    polar=dict(\n",
    "        radialaxis=dict(\n",
    "            visible=True,\n",
    "            range=[0, 5]\n",
    "        ),\n",
    "    ),\n",
    "    showlegend=True,\n",
    "    width=780,\n",
    "    height=780\n",
    "\n",
    ")\n",
    "\n",
    "# Afficher la figure\n",
    "fig.show()\n",
    "figsize = (60,60)"
   ]
  },
  {
   "cell_type": "code",
   "execution_count": 316,
   "metadata": {},
   "outputs": [
    {
     "ename": "AssertionError",
     "evalue": "All columns are categorical, use k-modes instead of k-prototypes.",
     "output_type": "error",
     "traceback": [
      "\u001b[0;31m---------------------------------------------------------------------------\u001b[0m",
      "\u001b[0;31mAssertionError\u001b[0m                            Traceback (most recent call last)",
      "Cell \u001b[0;32mIn[316], line 15\u001b[0m\n\u001b[1;32m     12\u001b[0m array_tsne\u001b[39m=\u001b[39mpipe_tsne\u001b[39m.\u001b[39mfit_transform(df)\n\u001b[1;32m     14\u001b[0m kprototype \u001b[39m=\u001b[39m KPrototypes(n_jobs \u001b[39m=\u001b[39m \u001b[39m-\u001b[39m\u001b[39m1\u001b[39m, n_clusters \u001b[39m=\u001b[39m\u001b[39m4\u001b[39m, init \u001b[39m=\u001b[39m \u001b[39m'\u001b[39m\u001b[39mHuang\u001b[39m\u001b[39m'\u001b[39m, random_state \u001b[39m=\u001b[39m \u001b[39m0\u001b[39m)\n\u001b[0;32m---> 15\u001b[0m kprototype\u001b[39m.\u001b[39;49mfit_predict(array_tsne, categorical \u001b[39m=\u001b[39;49m [\u001b[39m9\u001b[39;49m,\u001b[39m10\u001b[39;49m])\n\u001b[1;32m     17\u001b[0m df_tsne\u001b[39m=\u001b[39mpd\u001b[39m.\u001b[39mDataFrame(array_tsne,columns\u001b[39m=\u001b[39m[\u001b[39m'\u001b[39m\u001b[39mf1\u001b[39m\u001b[39m'\u001b[39m,\u001b[39m'\u001b[39m\u001b[39mf2\u001b[39m\u001b[39m'\u001b[39m])\n\u001b[1;32m     18\u001b[0m df_tsne[\u001b[39m'\u001b[39m\u001b[39mcluster_labels\u001b[39m\u001b[39m'\u001b[39m]\u001b[39m=\u001b[39mpd\u001b[39m.\u001b[39mSeries(kprototype\u001b[39m.\u001b[39mlabels_)\n",
      "File \u001b[0;32m~/miniconda3/envs/model_env/lib/python3.9/site-packages/kmodes/kmodes.py:154\u001b[0m, in \u001b[0;36mKModes.fit_predict\u001b[0;34m(self, X, y, **kwargs)\u001b[0m\n\u001b[1;32m    148\u001b[0m \u001b[39mdef\u001b[39;00m \u001b[39mfit_predict\u001b[39m(\u001b[39mself\u001b[39m, X, y\u001b[39m=\u001b[39m\u001b[39mNone\u001b[39;00m, \u001b[39m*\u001b[39m\u001b[39m*\u001b[39mkwargs):\n\u001b[1;32m    149\u001b[0m     \u001b[39m\"\"\"Compute cluster centroids and predict cluster index for each sample.\u001b[39;00m\n\u001b[1;32m    150\u001b[0m \n\u001b[1;32m    151\u001b[0m \u001b[39m    Convenience method; equivalent to calling fit(X) followed by\u001b[39;00m\n\u001b[1;32m    152\u001b[0m \u001b[39m    predict(X).\u001b[39;00m\n\u001b[1;32m    153\u001b[0m \u001b[39m    \"\"\"\u001b[39;00m\n\u001b[0;32m--> 154\u001b[0m     \u001b[39mreturn\u001b[39;00m \u001b[39mself\u001b[39;49m\u001b[39m.\u001b[39;49mfit(X, \u001b[39m*\u001b[39;49m\u001b[39m*\u001b[39;49mkwargs)\u001b[39m.\u001b[39mpredict(X, \u001b[39m*\u001b[39m\u001b[39m*\u001b[39mkwargs)\n",
      "File \u001b[0;32m~/miniconda3/envs/model_env/lib/python3.9/site-packages/kmodes/kprototypes.py:161\u001b[0m, in \u001b[0;36mKPrototypes.fit\u001b[0;34m(self, X, y, categorical, sample_weight)\u001b[0m\n\u001b[1;32m    155\u001b[0m kmodes\u001b[39m.\u001b[39m_validate_sample_weight(sample_weight, n_samples\u001b[39m=\u001b[39mX\u001b[39m.\u001b[39mshape[\u001b[39m0\u001b[39m],\n\u001b[1;32m    156\u001b[0m                                n_clusters\u001b[39m=\u001b[39m\u001b[39mself\u001b[39m\u001b[39m.\u001b[39mn_clusters)\n\u001b[1;32m    158\u001b[0m \u001b[39m# If self.gamma is None, gamma will be automatically determined from\u001b[39;00m\n\u001b[1;32m    159\u001b[0m \u001b[39m# the data. The function below returns its value.\u001b[39;00m\n\u001b[1;32m    160\u001b[0m \u001b[39mself\u001b[39m\u001b[39m.\u001b[39m_enc_cluster_centroids, \u001b[39mself\u001b[39m\u001b[39m.\u001b[39m_enc_map, \u001b[39mself\u001b[39m\u001b[39m.\u001b[39mlabels_, \u001b[39mself\u001b[39m\u001b[39m.\u001b[39mcost_, \\\n\u001b[0;32m--> 161\u001b[0m \u001b[39mself\u001b[39m\u001b[39m.\u001b[39mn_iter_, \u001b[39mself\u001b[39m\u001b[39m.\u001b[39mepoch_costs_, \u001b[39mself\u001b[39m\u001b[39m.\u001b[39mgamma \u001b[39m=\u001b[39m k_prototypes(\n\u001b[1;32m    162\u001b[0m     X,\n\u001b[1;32m    163\u001b[0m     categorical,\n\u001b[1;32m    164\u001b[0m     \u001b[39mself\u001b[39;49m\u001b[39m.\u001b[39;49mn_clusters,\n\u001b[1;32m    165\u001b[0m     \u001b[39mself\u001b[39;49m\u001b[39m.\u001b[39;49mmax_iter,\n\u001b[1;32m    166\u001b[0m     \u001b[39mself\u001b[39;49m\u001b[39m.\u001b[39;49mnum_dissim,\n\u001b[1;32m    167\u001b[0m     \u001b[39mself\u001b[39;49m\u001b[39m.\u001b[39;49mcat_dissim,\n\u001b[1;32m    168\u001b[0m     \u001b[39mself\u001b[39;49m\u001b[39m.\u001b[39;49mgamma,\n\u001b[1;32m    169\u001b[0m     \u001b[39mself\u001b[39;49m\u001b[39m.\u001b[39;49minit,\n\u001b[1;32m    170\u001b[0m     \u001b[39mself\u001b[39;49m\u001b[39m.\u001b[39;49mn_init,\n\u001b[1;32m    171\u001b[0m     \u001b[39mself\u001b[39;49m\u001b[39m.\u001b[39;49mverbose,\n\u001b[1;32m    172\u001b[0m     random_state,\n\u001b[1;32m    173\u001b[0m     \u001b[39mself\u001b[39;49m\u001b[39m.\u001b[39;49mn_jobs,\n\u001b[1;32m    174\u001b[0m     sample_weight,\n\u001b[1;32m    175\u001b[0m )\n\u001b[1;32m    177\u001b[0m \u001b[39mreturn\u001b[39;00m \u001b[39mself\u001b[39m\n",
      "File \u001b[0;32m~/miniconda3/envs/model_env/lib/python3.9/site-packages/kmodes/kprototypes.py:261\u001b[0m, in \u001b[0;36mk_prototypes\u001b[0;34m(X, categorical, n_clusters, max_iter, num_dissim, cat_dissim, gamma, init, n_init, verbose, random_state, n_jobs, sample_weight)\u001b[0m\n\u001b[1;32m    259\u001b[0m \u001b[39mif\u001b[39;00m \u001b[39misinstance\u001b[39m(categorical, \u001b[39mint\u001b[39m):\n\u001b[1;32m    260\u001b[0m     categorical \u001b[39m=\u001b[39m [categorical]\n\u001b[0;32m--> 261\u001b[0m \u001b[39massert\u001b[39;00m \u001b[39mlen\u001b[39m(categorical) \u001b[39m!=\u001b[39m X\u001b[39m.\u001b[39mshape[\u001b[39m1\u001b[39m], \\\n\u001b[1;32m    262\u001b[0m     \u001b[39m\"\u001b[39m\u001b[39mAll columns are categorical, use k-modes instead of k-prototypes.\u001b[39m\u001b[39m\"\u001b[39m\n\u001b[1;32m    263\u001b[0m \u001b[39massert\u001b[39;00m \u001b[39mmax\u001b[39m(categorical) \u001b[39m<\u001b[39m X\u001b[39m.\u001b[39mshape[\u001b[39m1\u001b[39m], \\\n\u001b[1;32m    264\u001b[0m     \u001b[39m\"\u001b[39m\u001b[39mCategorical index larger than number of columns.\u001b[39m\u001b[39m\"\u001b[39m\n\u001b[1;32m    266\u001b[0m ncatattrs \u001b[39m=\u001b[39m \u001b[39mlen\u001b[39m(categorical)\n",
      "\u001b[0;31mAssertionError\u001b[0m: All columns are categorical, use k-modes instead of k-prototypes."
     ]
    }
   ],
   "source": [
    "# func_log = FunctionTransformer(func=np.log1p)\n",
    "# func_abs=FunctionTransformer(func=np.abs)\n",
    "\n",
    "# pipe_num= make_pipeline(func_abs,func_log)\n",
    "\n",
    "# transformer = make_column_transformer(\n",
    "#     (OneHotEncoder(sparse=False),make_column_selector(dtype_exclude=['float','int'])),\n",
    "#     (pipe_num,make_column_selector(dtype_include=np.number)),remainder='passthrough')\n",
    "\n",
    "\n",
    "# pipe_tsne = make_pipeline(transformer,TSNE()) \n",
    "# array_tsne=pipe_tsne.fit_transform(df)\n",
    "\n",
    "# kprototype = KPrototypes(n_jobs = -1, n_clusters =4, init = 'Huang', random_state = 0)\n",
    "# kprototype.fit_predict(array_tsne, categorical = [9,10])\n",
    "\n",
    "# df_tsne=pd.DataFrame(array_tsne,columns=['f1','f2'])\n",
    "# df_tsne['cluster_labels']=pd.Series(kprototype.labels_)\n",
    "\n",
    "# plt.scatter(df_tsne.f1,df_tsne.f2,c=df_tsne.cluster_labels)\n",
    "# plt.show()"
   ]
  },
  {
   "cell_type": "code",
   "execution_count": 19,
   "metadata": {},
   "outputs": [
    {
     "data": {
      "text/html": [
       "<div>\n",
       "<style scoped>\n",
       "    .dataframe tbody tr th:only-of-type {\n",
       "        vertical-align: middle;\n",
       "    }\n",
       "\n",
       "    .dataframe tbody tr th {\n",
       "        vertical-align: top;\n",
       "    }\n",
       "\n",
       "    .dataframe thead th {\n",
       "        text-align: right;\n",
       "    }\n",
       "</style>\n",
       "<table border=\"1\" class=\"dataframe\">\n",
       "  <thead>\n",
       "    <tr style=\"text-align: right;\">\n",
       "      <th></th>\n",
       "      <th>Automotive</th>\n",
       "      <th>Baby</th>\n",
       "      <th>Construction_Tools</th>\n",
       "      <th>Fashion_Accessories</th>\n",
       "      <th>Health_Beauty</th>\n",
       "      <th>Home</th>\n",
       "      <th>Office_Supplies</th>\n",
       "      <th>Sports_Leisure</th>\n",
       "      <th>Technology</th>\n",
       "      <th>Toys_Games</th>\n",
       "      <th>other</th>\n",
       "    </tr>\n",
       "  </thead>\n",
       "  <tbody>\n",
       "    <tr>\n",
       "      <th>0</th>\n",
       "      <td>2.324547</td>\n",
       "      <td>1.795812</td>\n",
       "      <td>1.507865</td>\n",
       "      <td>2.097168</td>\n",
       "      <td>1.787416</td>\n",
       "      <td>1.000000</td>\n",
       "      <td>1.000000</td>\n",
       "      <td>1.000000</td>\n",
       "      <td>1.000000</td>\n",
       "      <td>1.842625</td>\n",
       "      <td>1.486815</td>\n",
       "    </tr>\n",
       "    <tr>\n",
       "      <th>1</th>\n",
       "      <td>1.000000</td>\n",
       "      <td>1.000000</td>\n",
       "      <td>1.993258</td>\n",
       "      <td>1.000000</td>\n",
       "      <td>1.000000</td>\n",
       "      <td>2.271028</td>\n",
       "      <td>1.342105</td>\n",
       "      <td>1.412184</td>\n",
       "      <td>1.082995</td>\n",
       "      <td>1.000000</td>\n",
       "      <td>1.000000</td>\n",
       "    </tr>\n",
       "    <tr>\n",
       "      <th>2</th>\n",
       "      <td>2.390445</td>\n",
       "      <td>2.109948</td>\n",
       "      <td>2.033708</td>\n",
       "      <td>2.325930</td>\n",
       "      <td>2.402247</td>\n",
       "      <td>1.855236</td>\n",
       "      <td>1.668421</td>\n",
       "      <td>1.401815</td>\n",
       "      <td>1.088128</td>\n",
       "      <td>1.449926</td>\n",
       "      <td>2.058824</td>\n",
       "    </tr>\n",
       "    <tr>\n",
       "      <th>3</th>\n",
       "      <td>5.000000</td>\n",
       "      <td>4.078534</td>\n",
       "      <td>2.914607</td>\n",
       "      <td>5.000000</td>\n",
       "      <td>3.887191</td>\n",
       "      <td>3.127789</td>\n",
       "      <td>5.000000</td>\n",
       "      <td>4.141931</td>\n",
       "      <td>1.798289</td>\n",
       "      <td>5.000000</td>\n",
       "      <td>3.137931</td>\n",
       "    </tr>\n",
       "    <tr>\n",
       "      <th>4</th>\n",
       "      <td>2.897858</td>\n",
       "      <td>2.542757</td>\n",
       "      <td>2.964045</td>\n",
       "      <td>2.550250</td>\n",
       "      <td>2.414831</td>\n",
       "      <td>2.419035</td>\n",
       "      <td>2.800000</td>\n",
       "      <td>2.988334</td>\n",
       "      <td>1.615187</td>\n",
       "      <td>2.730636</td>\n",
       "      <td>2.659229</td>\n",
       "    </tr>\n",
       "    <tr>\n",
       "      <th>5</th>\n",
       "      <td>4.321252</td>\n",
       "      <td>5.000000</td>\n",
       "      <td>5.000000</td>\n",
       "      <td>4.320378</td>\n",
       "      <td>5.000000</td>\n",
       "      <td>5.000000</td>\n",
       "      <td>3.894737</td>\n",
       "      <td>5.000000</td>\n",
       "      <td>2.062674</td>\n",
       "      <td>4.518500</td>\n",
       "      <td>5.000000</td>\n",
       "    </tr>\n",
       "    <tr>\n",
       "      <th>6</th>\n",
       "      <td>3.056013</td>\n",
       "      <td>2.193717</td>\n",
       "      <td>1.134831</td>\n",
       "      <td>1.464187</td>\n",
       "      <td>1.960000</td>\n",
       "      <td>1.656113</td>\n",
       "      <td>1.031579</td>\n",
       "      <td>1.653273</td>\n",
       "      <td>1.400428</td>\n",
       "      <td>1.282190</td>\n",
       "      <td>2.472617</td>\n",
       "    </tr>\n",
       "    <tr>\n",
       "      <th>7</th>\n",
       "      <td>3.734761</td>\n",
       "      <td>2.075044</td>\n",
       "      <td>1.000000</td>\n",
       "      <td>1.939478</td>\n",
       "      <td>2.591011</td>\n",
       "      <td>1.950601</td>\n",
       "      <td>1.294737</td>\n",
       "      <td>2.402463</td>\n",
       "      <td>5.000000</td>\n",
       "      <td>2.357671</td>\n",
       "      <td>3.275862</td>\n",
       "    </tr>\n",
       "  </tbody>\n",
       "</table>\n",
       "</div>"
      ],
      "text/plain": [
       "   Automotive      Baby  Construction_Tools  Fashion_Accessories  \\\n",
       "0    2.324547  1.795812            1.507865             2.097168   \n",
       "1    1.000000  1.000000            1.993258             1.000000   \n",
       "2    2.390445  2.109948            2.033708             2.325930   \n",
       "3    5.000000  4.078534            2.914607             5.000000   \n",
       "4    2.897858  2.542757            2.964045             2.550250   \n",
       "5    4.321252  5.000000            5.000000             4.320378   \n",
       "6    3.056013  2.193717            1.134831             1.464187   \n",
       "7    3.734761  2.075044            1.000000             1.939478   \n",
       "\n",
       "   Health_Beauty      Home  Office_Supplies  Sports_Leisure  Technology  \\\n",
       "0       1.787416  1.000000         1.000000        1.000000    1.000000   \n",
       "1       1.000000  2.271028         1.342105        1.412184    1.082995   \n",
       "2       2.402247  1.855236         1.668421        1.401815    1.088128   \n",
       "3       3.887191  3.127789         5.000000        4.141931    1.798289   \n",
       "4       2.414831  2.419035         2.800000        2.988334    1.615187   \n",
       "5       5.000000  5.000000         3.894737        5.000000    2.062674   \n",
       "6       1.960000  1.656113         1.031579        1.653273    1.400428   \n",
       "7       2.591011  1.950601         1.294737        2.402463    5.000000   \n",
       "\n",
       "   Toys_Games     other  \n",
       "0    1.842625  1.486815  \n",
       "1    1.000000  1.000000  \n",
       "2    1.449926  2.058824  \n",
       "3    5.000000  3.137931  \n",
       "4    2.730636  2.659229  \n",
       "5    4.518500  5.000000  \n",
       "6    1.282190  2.472617  \n",
       "7    2.357671  3.275862  "
      ]
     },
     "execution_count": 19,
     "metadata": {},
     "output_type": "execute_result"
    }
   ],
   "source": [
    "dummy_product=pd.get_dummies(df.product_category,sparse=False)\n",
    "prod_col=dummy_product.columns.to_list()\n",
    "\n",
    "list_agg = {}\n",
    "for col in prod_col:\n",
    "    list_agg[f'{col}'] = 'sum'\n",
    "\n",
    "dummy_product['cluster_labels']=pd.Series(clustering.labels_)\n",
    "\n",
    "df_cat=dummy_product.groupby('cluster_labels').agg(list_agg)\n",
    "df_mms_cat=pd.DataFrame(mms.fit_transform(df_cat), columns=prod_col)\n",
    "df_mms_cat"
   ]
  },
  {
   "cell_type": "code",
   "execution_count": 20,
   "metadata": {},
   "outputs": [
    {
     "data": {
      "application/vnd.plotly.v1+json": {
       "config": {
        "plotlyServerURL": "https://plot.ly"
       },
       "data": [
        {
         "fill": "toself",
         "name": "Cluster 0",
         "r": [
          2.324546952224053,
          1.7958115183246073,
          1.5078651685393256,
          2.0971682398667406,
          1.7874157303370788,
          1,
          1,
          1,
          1,
          1.8426245683275777,
          1.486815415821501
         ],
         "theta": [
          "Automotive",
          "Baby",
          "Construction_Tools",
          "Fashion_Accessories",
          "Health_Beauty",
          "Home",
          "Office_Supplies",
          "Sports_Leisure",
          "Technology",
          "Toys_Games",
          "other"
         ],
         "type": "scatterpolar"
        },
        {
         "fill": "toself",
         "name": "Cluster 1",
         "r": [
          1,
          1,
          1.9932584269662923,
          1,
          1,
          2.2710280373831777,
          1.3421052631578947,
          1.4121840570317563,
          1.0829946524064171,
          1,
          1
         ],
         "theta": [
          "Automotive",
          "Baby",
          "Construction_Tools",
          "Fashion_Accessories",
          "Health_Beauty",
          "Home",
          "Office_Supplies",
          "Sports_Leisure",
          "Technology",
          "Toys_Games",
          "other"
         ],
         "type": "scatterpolar"
        },
        {
         "fill": "toself",
         "name": "Cluster 2",
         "r": [
          2.3904448105436575,
          2.1099476439790577,
          2.033707865168539,
          2.325930038867296,
          2.402247191011236,
          1.8552355521647912,
          1.668421052631579,
          1.4018146467919637,
          1.0881283422459893,
          1.4499259990133202,
          2.0588235294117645
         ],
         "theta": [
          "Automotive",
          "Baby",
          "Construction_Tools",
          "Fashion_Accessories",
          "Health_Beauty",
          "Home",
          "Office_Supplies",
          "Sports_Leisure",
          "Technology",
          "Toys_Games",
          "other"
         ],
         "type": "scatterpolar"
        },
        {
         "fill": "toself",
         "name": "Cluster 3",
         "r": [
          5,
          4.0785340314136125,
          2.914606741573034,
          5,
          3.887191011235955,
          3.1277894335304213,
          5,
          4.141931302657161,
          1.798288770053476,
          5,
          3.137931034482759
         ],
         "theta": [
          "Automotive",
          "Baby",
          "Construction_Tools",
          "Fashion_Accessories",
          "Health_Beauty",
          "Home",
          "Office_Supplies",
          "Sports_Leisure",
          "Technology",
          "Toys_Games",
          "other"
         ],
         "type": "scatterpolar"
        },
        {
         "fill": "toself",
         "name": "Cluster 4",
         "r": [
          2.8978583196046133,
          2.542757417102967,
          2.964044943820225,
          2.5502498611882287,
          2.414831460674157,
          2.4190349036810987,
          2.8,
          2.988334413480233,
          1.6151871657754011,
          2.7306364084854464,
          2.659229208924949
         ],
         "theta": [
          "Automotive",
          "Baby",
          "Construction_Tools",
          "Fashion_Accessories",
          "Health_Beauty",
          "Home",
          "Office_Supplies",
          "Sports_Leisure",
          "Technology",
          "Toys_Games",
          "other"
         ],
         "type": "scatterpolar"
        },
        {
         "fill": "toself",
         "name": "Cluster 5",
         "r": [
          4.3212520593080725,
          5,
          5,
          4.3203775680177685,
          5,
          5,
          3.894736842105263,
          5,
          2.0626737967914437,
          4.518500246669956,
          5
         ],
         "theta": [
          "Automotive",
          "Baby",
          "Construction_Tools",
          "Fashion_Accessories",
          "Health_Beauty",
          "Home",
          "Office_Supplies",
          "Sports_Leisure",
          "Technology",
          "Toys_Games",
          "other"
         ],
         "type": "scatterpolar"
        },
        {
         "fill": "toself",
         "name": "Cluster 6",
         "r": [
          3.0560131795716643,
          2.193717277486911,
          1.1348314606741572,
          1.4641865630205442,
          1.96,
          1.6561129124547016,
          1.0315789473684212,
          1.6532728451069345,
          1.400427807486631,
          1.282190429205723,
          2.4726166328600403
         ],
         "theta": [
          "Automotive",
          "Baby",
          "Construction_Tools",
          "Fashion_Accessories",
          "Health_Beauty",
          "Home",
          "Office_Supplies",
          "Sports_Leisure",
          "Technology",
          "Toys_Games",
          "other"
         ],
         "type": "scatterpolar"
        },
        {
         "fill": "toself",
         "name": "Cluster 7",
         "r": [
          3.7347611202635917,
          2.075043630017452,
          1,
          1.9394780677401444,
          2.5910112359550563,
          1.9506008010680909,
          1.2947368421052632,
          2.4024627349319507,
          5,
          2.357671435619142,
          3.275862068965517
         ],
         "theta": [
          "Automotive",
          "Baby",
          "Construction_Tools",
          "Fashion_Accessories",
          "Health_Beauty",
          "Home",
          "Office_Supplies",
          "Sports_Leisure",
          "Technology",
          "Toys_Games",
          "other"
         ],
         "type": "scatterpolar"
        }
       ],
       "layout": {
        "height": 780,
        "polar": {
         "radialaxis": {
          "range": [
           0,
           5
          ],
          "visible": true
         }
        },
        "showlegend": true,
        "template": {
         "data": {
          "bar": [
           {
            "error_x": {
             "color": "#2a3f5f"
            },
            "error_y": {
             "color": "#2a3f5f"
            },
            "marker": {
             "line": {
              "color": "#E5ECF6",
              "width": 0.5
             },
             "pattern": {
              "fillmode": "overlay",
              "size": 10,
              "solidity": 0.2
             }
            },
            "type": "bar"
           }
          ],
          "barpolar": [
           {
            "marker": {
             "line": {
              "color": "#E5ECF6",
              "width": 0.5
             },
             "pattern": {
              "fillmode": "overlay",
              "size": 10,
              "solidity": 0.2
             }
            },
            "type": "barpolar"
           }
          ],
          "carpet": [
           {
            "aaxis": {
             "endlinecolor": "#2a3f5f",
             "gridcolor": "white",
             "linecolor": "white",
             "minorgridcolor": "white",
             "startlinecolor": "#2a3f5f"
            },
            "baxis": {
             "endlinecolor": "#2a3f5f",
             "gridcolor": "white",
             "linecolor": "white",
             "minorgridcolor": "white",
             "startlinecolor": "#2a3f5f"
            },
            "type": "carpet"
           }
          ],
          "choropleth": [
           {
            "colorbar": {
             "outlinewidth": 0,
             "ticks": ""
            },
            "type": "choropleth"
           }
          ],
          "contour": [
           {
            "colorbar": {
             "outlinewidth": 0,
             "ticks": ""
            },
            "colorscale": [
             [
              0,
              "#0d0887"
             ],
             [
              0.1111111111111111,
              "#46039f"
             ],
             [
              0.2222222222222222,
              "#7201a8"
             ],
             [
              0.3333333333333333,
              "#9c179e"
             ],
             [
              0.4444444444444444,
              "#bd3786"
             ],
             [
              0.5555555555555556,
              "#d8576b"
             ],
             [
              0.6666666666666666,
              "#ed7953"
             ],
             [
              0.7777777777777778,
              "#fb9f3a"
             ],
             [
              0.8888888888888888,
              "#fdca26"
             ],
             [
              1,
              "#f0f921"
             ]
            ],
            "type": "contour"
           }
          ],
          "contourcarpet": [
           {
            "colorbar": {
             "outlinewidth": 0,
             "ticks": ""
            },
            "type": "contourcarpet"
           }
          ],
          "heatmap": [
           {
            "colorbar": {
             "outlinewidth": 0,
             "ticks": ""
            },
            "colorscale": [
             [
              0,
              "#0d0887"
             ],
             [
              0.1111111111111111,
              "#46039f"
             ],
             [
              0.2222222222222222,
              "#7201a8"
             ],
             [
              0.3333333333333333,
              "#9c179e"
             ],
             [
              0.4444444444444444,
              "#bd3786"
             ],
             [
              0.5555555555555556,
              "#d8576b"
             ],
             [
              0.6666666666666666,
              "#ed7953"
             ],
             [
              0.7777777777777778,
              "#fb9f3a"
             ],
             [
              0.8888888888888888,
              "#fdca26"
             ],
             [
              1,
              "#f0f921"
             ]
            ],
            "type": "heatmap"
           }
          ],
          "heatmapgl": [
           {
            "colorbar": {
             "outlinewidth": 0,
             "ticks": ""
            },
            "colorscale": [
             [
              0,
              "#0d0887"
             ],
             [
              0.1111111111111111,
              "#46039f"
             ],
             [
              0.2222222222222222,
              "#7201a8"
             ],
             [
              0.3333333333333333,
              "#9c179e"
             ],
             [
              0.4444444444444444,
              "#bd3786"
             ],
             [
              0.5555555555555556,
              "#d8576b"
             ],
             [
              0.6666666666666666,
              "#ed7953"
             ],
             [
              0.7777777777777778,
              "#fb9f3a"
             ],
             [
              0.8888888888888888,
              "#fdca26"
             ],
             [
              1,
              "#f0f921"
             ]
            ],
            "type": "heatmapgl"
           }
          ],
          "histogram": [
           {
            "marker": {
             "pattern": {
              "fillmode": "overlay",
              "size": 10,
              "solidity": 0.2
             }
            },
            "type": "histogram"
           }
          ],
          "histogram2d": [
           {
            "colorbar": {
             "outlinewidth": 0,
             "ticks": ""
            },
            "colorscale": [
             [
              0,
              "#0d0887"
             ],
             [
              0.1111111111111111,
              "#46039f"
             ],
             [
              0.2222222222222222,
              "#7201a8"
             ],
             [
              0.3333333333333333,
              "#9c179e"
             ],
             [
              0.4444444444444444,
              "#bd3786"
             ],
             [
              0.5555555555555556,
              "#d8576b"
             ],
             [
              0.6666666666666666,
              "#ed7953"
             ],
             [
              0.7777777777777778,
              "#fb9f3a"
             ],
             [
              0.8888888888888888,
              "#fdca26"
             ],
             [
              1,
              "#f0f921"
             ]
            ],
            "type": "histogram2d"
           }
          ],
          "histogram2dcontour": [
           {
            "colorbar": {
             "outlinewidth": 0,
             "ticks": ""
            },
            "colorscale": [
             [
              0,
              "#0d0887"
             ],
             [
              0.1111111111111111,
              "#46039f"
             ],
             [
              0.2222222222222222,
              "#7201a8"
             ],
             [
              0.3333333333333333,
              "#9c179e"
             ],
             [
              0.4444444444444444,
              "#bd3786"
             ],
             [
              0.5555555555555556,
              "#d8576b"
             ],
             [
              0.6666666666666666,
              "#ed7953"
             ],
             [
              0.7777777777777778,
              "#fb9f3a"
             ],
             [
              0.8888888888888888,
              "#fdca26"
             ],
             [
              1,
              "#f0f921"
             ]
            ],
            "type": "histogram2dcontour"
           }
          ],
          "mesh3d": [
           {
            "colorbar": {
             "outlinewidth": 0,
             "ticks": ""
            },
            "type": "mesh3d"
           }
          ],
          "parcoords": [
           {
            "line": {
             "colorbar": {
              "outlinewidth": 0,
              "ticks": ""
             }
            },
            "type": "parcoords"
           }
          ],
          "pie": [
           {
            "automargin": true,
            "type": "pie"
           }
          ],
          "scatter": [
           {
            "fillpattern": {
             "fillmode": "overlay",
             "size": 10,
             "solidity": 0.2
            },
            "type": "scatter"
           }
          ],
          "scatter3d": [
           {
            "line": {
             "colorbar": {
              "outlinewidth": 0,
              "ticks": ""
             }
            },
            "marker": {
             "colorbar": {
              "outlinewidth": 0,
              "ticks": ""
             }
            },
            "type": "scatter3d"
           }
          ],
          "scattercarpet": [
           {
            "marker": {
             "colorbar": {
              "outlinewidth": 0,
              "ticks": ""
             }
            },
            "type": "scattercarpet"
           }
          ],
          "scattergeo": [
           {
            "marker": {
             "colorbar": {
              "outlinewidth": 0,
              "ticks": ""
             }
            },
            "type": "scattergeo"
           }
          ],
          "scattergl": [
           {
            "marker": {
             "colorbar": {
              "outlinewidth": 0,
              "ticks": ""
             }
            },
            "type": "scattergl"
           }
          ],
          "scattermapbox": [
           {
            "marker": {
             "colorbar": {
              "outlinewidth": 0,
              "ticks": ""
             }
            },
            "type": "scattermapbox"
           }
          ],
          "scatterpolar": [
           {
            "marker": {
             "colorbar": {
              "outlinewidth": 0,
              "ticks": ""
             }
            },
            "type": "scatterpolar"
           }
          ],
          "scatterpolargl": [
           {
            "marker": {
             "colorbar": {
              "outlinewidth": 0,
              "ticks": ""
             }
            },
            "type": "scatterpolargl"
           }
          ],
          "scatterternary": [
           {
            "marker": {
             "colorbar": {
              "outlinewidth": 0,
              "ticks": ""
             }
            },
            "type": "scatterternary"
           }
          ],
          "surface": [
           {
            "colorbar": {
             "outlinewidth": 0,
             "ticks": ""
            },
            "colorscale": [
             [
              0,
              "#0d0887"
             ],
             [
              0.1111111111111111,
              "#46039f"
             ],
             [
              0.2222222222222222,
              "#7201a8"
             ],
             [
              0.3333333333333333,
              "#9c179e"
             ],
             [
              0.4444444444444444,
              "#bd3786"
             ],
             [
              0.5555555555555556,
              "#d8576b"
             ],
             [
              0.6666666666666666,
              "#ed7953"
             ],
             [
              0.7777777777777778,
              "#fb9f3a"
             ],
             [
              0.8888888888888888,
              "#fdca26"
             ],
             [
              1,
              "#f0f921"
             ]
            ],
            "type": "surface"
           }
          ],
          "table": [
           {
            "cells": {
             "fill": {
              "color": "#EBF0F8"
             },
             "line": {
              "color": "white"
             }
            },
            "header": {
             "fill": {
              "color": "#C8D4E3"
             },
             "line": {
              "color": "white"
             }
            },
            "type": "table"
           }
          ]
         },
         "layout": {
          "annotationdefaults": {
           "arrowcolor": "#2a3f5f",
           "arrowhead": 0,
           "arrowwidth": 1
          },
          "autotypenumbers": "strict",
          "coloraxis": {
           "colorbar": {
            "outlinewidth": 0,
            "ticks": ""
           }
          },
          "colorscale": {
           "diverging": [
            [
             0,
             "#8e0152"
            ],
            [
             0.1,
             "#c51b7d"
            ],
            [
             0.2,
             "#de77ae"
            ],
            [
             0.3,
             "#f1b6da"
            ],
            [
             0.4,
             "#fde0ef"
            ],
            [
             0.5,
             "#f7f7f7"
            ],
            [
             0.6,
             "#e6f5d0"
            ],
            [
             0.7,
             "#b8e186"
            ],
            [
             0.8,
             "#7fbc41"
            ],
            [
             0.9,
             "#4d9221"
            ],
            [
             1,
             "#276419"
            ]
           ],
           "sequential": [
            [
             0,
             "#0d0887"
            ],
            [
             0.1111111111111111,
             "#46039f"
            ],
            [
             0.2222222222222222,
             "#7201a8"
            ],
            [
             0.3333333333333333,
             "#9c179e"
            ],
            [
             0.4444444444444444,
             "#bd3786"
            ],
            [
             0.5555555555555556,
             "#d8576b"
            ],
            [
             0.6666666666666666,
             "#ed7953"
            ],
            [
             0.7777777777777778,
             "#fb9f3a"
            ],
            [
             0.8888888888888888,
             "#fdca26"
            ],
            [
             1,
             "#f0f921"
            ]
           ],
           "sequentialminus": [
            [
             0,
             "#0d0887"
            ],
            [
             0.1111111111111111,
             "#46039f"
            ],
            [
             0.2222222222222222,
             "#7201a8"
            ],
            [
             0.3333333333333333,
             "#9c179e"
            ],
            [
             0.4444444444444444,
             "#bd3786"
            ],
            [
             0.5555555555555556,
             "#d8576b"
            ],
            [
             0.6666666666666666,
             "#ed7953"
            ],
            [
             0.7777777777777778,
             "#fb9f3a"
            ],
            [
             0.8888888888888888,
             "#fdca26"
            ],
            [
             1,
             "#f0f921"
            ]
           ]
          },
          "colorway": [
           "#636efa",
           "#EF553B",
           "#00cc96",
           "#ab63fa",
           "#FFA15A",
           "#19d3f3",
           "#FF6692",
           "#B6E880",
           "#FF97FF",
           "#FECB52"
          ],
          "font": {
           "color": "#2a3f5f"
          },
          "geo": {
           "bgcolor": "white",
           "lakecolor": "white",
           "landcolor": "#E5ECF6",
           "showlakes": true,
           "showland": true,
           "subunitcolor": "white"
          },
          "hoverlabel": {
           "align": "left"
          },
          "hovermode": "closest",
          "mapbox": {
           "style": "light"
          },
          "paper_bgcolor": "white",
          "plot_bgcolor": "#E5ECF6",
          "polar": {
           "angularaxis": {
            "gridcolor": "white",
            "linecolor": "white",
            "ticks": ""
           },
           "bgcolor": "#E5ECF6",
           "radialaxis": {
            "gridcolor": "white",
            "linecolor": "white",
            "ticks": ""
           }
          },
          "scene": {
           "xaxis": {
            "backgroundcolor": "#E5ECF6",
            "gridcolor": "white",
            "gridwidth": 2,
            "linecolor": "white",
            "showbackground": true,
            "ticks": "",
            "zerolinecolor": "white"
           },
           "yaxis": {
            "backgroundcolor": "#E5ECF6",
            "gridcolor": "white",
            "gridwidth": 2,
            "linecolor": "white",
            "showbackground": true,
            "ticks": "",
            "zerolinecolor": "white"
           },
           "zaxis": {
            "backgroundcolor": "#E5ECF6",
            "gridcolor": "white",
            "gridwidth": 2,
            "linecolor": "white",
            "showbackground": true,
            "ticks": "",
            "zerolinecolor": "white"
           }
          },
          "shapedefaults": {
           "line": {
            "color": "#2a3f5f"
           }
          },
          "ternary": {
           "aaxis": {
            "gridcolor": "white",
            "linecolor": "white",
            "ticks": ""
           },
           "baxis": {
            "gridcolor": "white",
            "linecolor": "white",
            "ticks": ""
           },
           "bgcolor": "#E5ECF6",
           "caxis": {
            "gridcolor": "white",
            "linecolor": "white",
            "ticks": ""
           }
          },
          "title": {
           "x": 0.05
          },
          "xaxis": {
           "automargin": true,
           "gridcolor": "white",
           "linecolor": "white",
           "ticks": "",
           "title": {
            "standoff": 15
           },
           "zerolinecolor": "white",
           "zerolinewidth": 2
          },
          "yaxis": {
           "automargin": true,
           "gridcolor": "white",
           "linecolor": "white",
           "ticks": "",
           "title": {
            "standoff": 15
           },
           "zerolinecolor": "white",
           "zerolinewidth": 2
          }
         }
        },
        "width": 780
       }
      }
     },
     "metadata": {},
     "output_type": "display_data"
    }
   ],
   "source": [
    "# Créer une figure en radar pour chaque cluster\n",
    "fig = go.Figure()\n",
    "\n",
    "for cluster, row in df_mms_cat.iterrows():\n",
    "    values = row.values.tolist()\n",
    "    \n",
    "\n",
    "    \n",
    "\n",
    "    fig.add_trace(go.Scatterpolar(\n",
    "        r=values,\n",
    "        theta=prod_col,\n",
    "        fill='toself',\n",
    "        name=f'Cluster {cluster}'\n",
    "    ))\n",
    "\n",
    "# Mettre en forme la figurenum_cols,\n",
    "fig.update_layout(\n",
    "    polar=dict(\n",
    "        radialaxis=dict(\n",
    "            visible=True,\n",
    "            range=[0, 5]\n",
    "        ),\n",
    "    ),\n",
    "    showlegend=True,\n",
    "    width=780,\n",
    "    height=780\n",
    "\n",
    ")\n",
    "\n",
    "# Afficher la figure\n",
    "fig.show()\n",
    "figsize = (60,60)"
   ]
  }
 ],
 "metadata": {
  "kernelspec": {
   "display_name": "model_env",
   "language": "python",
   "name": "python3"
  },
  "language_info": {
   "codemirror_mode": {
    "name": "ipython",
    "version": 3
   },
   "file_extension": ".py",
   "mimetype": "text/x-python",
   "name": "python",
   "nbconvert_exporter": "python",
   "pygments_lexer": "ipython3",
   "version": "3.9.15"
  },
  "orig_nbformat": 4,
  "vscode": {
   "interpreter": {
    "hash": "b0ccbecc6e0aafc6ccc6ffa588f3248f9ee48af41cea802920ac51a94fbfb1b9"
   }
  }
 },
 "nbformat": 4,
 "nbformat_minor": 2
}
