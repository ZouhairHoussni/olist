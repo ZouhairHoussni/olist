{
 "cells": [
  {
   "cell_type": "code",
   "execution_count": 2,
   "metadata": {},
   "outputs": [],
   "source": [
    "# Import module for data manipulation\n",
    "import pandas as pd\n",
    "# Import module for linear algebra\n",
    "import numpy as np\n",
    "# Import module for data visualization\n",
    "import matplotlib.pyplot as plt\n",
    "import plotly.graph_objects as go\n",
    "import plotly.express as px\n",
    "import seaborn as sns\n",
    "# Import module for k-means\n",
    "from sklearn.cluster import KMeans, DBSCAN\n",
    "#import module k-prototype\n",
    "from kmodes.kprototypes import KPrototypes\n",
    "# Ignore warnings\n",
    "import warnings\n",
    "warnings.filterwarnings('ignore', category = FutureWarning)\n",
    "# Format scientific notation from Pandas\n",
    "pd.set_option('display.max_columns', None)\n",
    "\n",
    "\n",
    "# prepocessing sklearn\n",
    "from sklearn.compose import make_column_transformer,make_column_selector\n",
    "from sklearn.preprocessing import OneHotEncoder, StandardScaler, RobustScaler, MinMaxScaler, FunctionTransformer\n",
    "from sklearn.decomposition import PCA\n",
    "from sklearn.pipeline import make_pipeline\n",
    "from sklearn.manifold import TSNE\n",
    "\n",
    "#Pour la localisation du coude\n",
    "from kneed import KneeLocator, DataGenerator as dg"
   ]
  },
  {
   "cell_type": "code",
   "execution_count": 3,
   "metadata": {},
   "outputs": [
    {
     "data": {
      "text/html": [
       "<div>\n",
       "<style scoped>\n",
       "    .dataframe tbody tr th:only-of-type {\n",
       "        vertical-align: middle;\n",
       "    }\n",
       "\n",
       "    .dataframe tbody tr th {\n",
       "        vertical-align: top;\n",
       "    }\n",
       "\n",
       "    .dataframe thead th {\n",
       "        text-align: right;\n",
       "    }\n",
       "</style>\n",
       "<table border=\"1\" class=\"dataframe\">\n",
       "  <thead>\n",
       "    <tr style=\"text-align: right;\">\n",
       "      <th></th>\n",
       "      <th>payment_type</th>\n",
       "      <th>product_category</th>\n",
       "      <th>payment_installments</th>\n",
       "      <th>orders</th>\n",
       "      <th>products</th>\n",
       "      <th>sellers</th>\n",
       "      <th>payment_value</th>\n",
       "      <th>review_score</th>\n",
       "      <th>price</th>\n",
       "      <th>freight_value</th>\n",
       "      <th>recency</th>\n",
       "    </tr>\n",
       "  </thead>\n",
       "  <tbody>\n",
       "    <tr>\n",
       "      <th>0</th>\n",
       "      <td>credit_card</td>\n",
       "      <td>Home</td>\n",
       "      <td>8</td>\n",
       "      <td>1</td>\n",
       "      <td>1</td>\n",
       "      <td>1</td>\n",
       "      <td>141.90</td>\n",
       "      <td>5.0</td>\n",
       "      <td>129.90</td>\n",
       "      <td>12.00</td>\n",
       "      <td>112</td>\n",
       "    </tr>\n",
       "    <tr>\n",
       "      <th>1</th>\n",
       "      <td>credit_card</td>\n",
       "      <td>Health_Beauty</td>\n",
       "      <td>1</td>\n",
       "      <td>1</td>\n",
       "      <td>1</td>\n",
       "      <td>1</td>\n",
       "      <td>27.19</td>\n",
       "      <td>4.0</td>\n",
       "      <td>18.90</td>\n",
       "      <td>8.29</td>\n",
       "      <td>115</td>\n",
       "    </tr>\n",
       "    <tr>\n",
       "      <th>2</th>\n",
       "      <td>credit_card</td>\n",
       "      <td>Office_Supplies</td>\n",
       "      <td>8</td>\n",
       "      <td>1</td>\n",
       "      <td>1</td>\n",
       "      <td>1</td>\n",
       "      <td>86.22</td>\n",
       "      <td>3.0</td>\n",
       "      <td>69.00</td>\n",
       "      <td>17.22</td>\n",
       "      <td>538</td>\n",
       "    </tr>\n",
       "    <tr>\n",
       "      <th>3</th>\n",
       "      <td>credit_card</td>\n",
       "      <td>Technology</td>\n",
       "      <td>4</td>\n",
       "      <td>1</td>\n",
       "      <td>1</td>\n",
       "      <td>1</td>\n",
       "      <td>43.62</td>\n",
       "      <td>4.0</td>\n",
       "      <td>25.99</td>\n",
       "      <td>17.63</td>\n",
       "      <td>322</td>\n",
       "    </tr>\n",
       "    <tr>\n",
       "      <th>4</th>\n",
       "      <td>credit_card</td>\n",
       "      <td>Technology</td>\n",
       "      <td>6</td>\n",
       "      <td>1</td>\n",
       "      <td>1</td>\n",
       "      <td>1</td>\n",
       "      <td>196.89</td>\n",
       "      <td>5.0</td>\n",
       "      <td>180.00</td>\n",
       "      <td>16.89</td>\n",
       "      <td>289</td>\n",
       "    </tr>\n",
       "    <tr>\n",
       "      <th>...</th>\n",
       "      <td>...</td>\n",
       "      <td>...</td>\n",
       "      <td>...</td>\n",
       "      <td>...</td>\n",
       "      <td>...</td>\n",
       "      <td>...</td>\n",
       "      <td>...</td>\n",
       "      <td>...</td>\n",
       "      <td>...</td>\n",
       "      <td>...</td>\n",
       "      <td>...</td>\n",
       "    </tr>\n",
       "    <tr>\n",
       "      <th>91474</th>\n",
       "      <td>credit_card</td>\n",
       "      <td>Health_Beauty</td>\n",
       "      <td>10</td>\n",
       "      <td>2</td>\n",
       "      <td>2</td>\n",
       "      <td>2</td>\n",
       "      <td>4134.84</td>\n",
       "      <td>5.0</td>\n",
       "      <td>785.00</td>\n",
       "      <td>248.71</td>\n",
       "      <td>448</td>\n",
       "    </tr>\n",
       "    <tr>\n",
       "      <th>91475</th>\n",
       "      <td>credit_card</td>\n",
       "      <td>Baby</td>\n",
       "      <td>1</td>\n",
       "      <td>1</td>\n",
       "      <td>1</td>\n",
       "      <td>1</td>\n",
       "      <td>84.58</td>\n",
       "      <td>4.0</td>\n",
       "      <td>64.89</td>\n",
       "      <td>19.69</td>\n",
       "      <td>263</td>\n",
       "    </tr>\n",
       "    <tr>\n",
       "      <th>91476</th>\n",
       "      <td>credit_card</td>\n",
       "      <td>Automotive</td>\n",
       "      <td>1</td>\n",
       "      <td>1</td>\n",
       "      <td>1</td>\n",
       "      <td>1</td>\n",
       "      <td>112.46</td>\n",
       "      <td>5.0</td>\n",
       "      <td>89.90</td>\n",
       "      <td>22.56</td>\n",
       "      <td>569</td>\n",
       "    </tr>\n",
       "    <tr>\n",
       "      <th>91477</th>\n",
       "      <td>credit_card</td>\n",
       "      <td>Fashion_Accessories</td>\n",
       "      <td>5</td>\n",
       "      <td>1</td>\n",
       "      <td>1</td>\n",
       "      <td>1</td>\n",
       "      <td>133.69</td>\n",
       "      <td>5.0</td>\n",
       "      <td>115.00</td>\n",
       "      <td>18.69</td>\n",
       "      <td>120</td>\n",
       "    </tr>\n",
       "    <tr>\n",
       "      <th>91478</th>\n",
       "      <td>credit_card</td>\n",
       "      <td>Health_Beauty</td>\n",
       "      <td>4</td>\n",
       "      <td>1</td>\n",
       "      <td>1</td>\n",
       "      <td>1</td>\n",
       "      <td>71.56</td>\n",
       "      <td>5.0</td>\n",
       "      <td>56.99</td>\n",
       "      <td>14.57</td>\n",
       "      <td>485</td>\n",
       "    </tr>\n",
       "  </tbody>\n",
       "</table>\n",
       "<p>91479 rows × 11 columns</p>\n",
       "</div>"
      ],
      "text/plain": [
       "      payment_type     product_category  payment_installments  orders  \\\n",
       "0      credit_card                 Home                     8       1   \n",
       "1      credit_card        Health_Beauty                     1       1   \n",
       "2      credit_card      Office_Supplies                     8       1   \n",
       "3      credit_card           Technology                     4       1   \n",
       "4      credit_card           Technology                     6       1   \n",
       "...            ...                  ...                   ...     ...   \n",
       "91474  credit_card        Health_Beauty                    10       2   \n",
       "91475  credit_card                 Baby                     1       1   \n",
       "91476  credit_card           Automotive                     1       1   \n",
       "91477  credit_card  Fashion_Accessories                     5       1   \n",
       "91478  credit_card        Health_Beauty                     4       1   \n",
       "\n",
       "       products  sellers  payment_value  review_score   price  freight_value  \\\n",
       "0             1        1         141.90           5.0  129.90          12.00   \n",
       "1             1        1          27.19           4.0   18.90           8.29   \n",
       "2             1        1          86.22           3.0   69.00          17.22   \n",
       "3             1        1          43.62           4.0   25.99          17.63   \n",
       "4             1        1         196.89           5.0  180.00          16.89   \n",
       "...         ...      ...            ...           ...     ...            ...   \n",
       "91474         2        2        4134.84           5.0  785.00         248.71   \n",
       "91475         1        1          84.58           4.0   64.89          19.69   \n",
       "91476         1        1         112.46           5.0   89.90          22.56   \n",
       "91477         1        1         133.69           5.0  115.00          18.69   \n",
       "91478         1        1          71.56           5.0   56.99          14.57   \n",
       "\n",
       "       recency  \n",
       "0          112  \n",
       "1          115  \n",
       "2          538  \n",
       "3          322  \n",
       "4          289  \n",
       "...        ...  \n",
       "91474      448  \n",
       "91475      263  \n",
       "91476      569  \n",
       "91477      120  \n",
       "91478      485  \n",
       "\n",
       "[91479 rows x 11 columns]"
      ]
     },
     "execution_count": 3,
     "metadata": {},
     "output_type": "execute_result"
    }
   ],
   "source": [
    "df = pd.read_csv('data.csv')\n",
    "df.rename(columns={\"order_item_id\": \"orders\", \"product_id\": \"products\", \"seller_id\":'sellers'}, inplace=True)\n",
    "df['payment_installments']=df['payment_installments'].astype('int64')\n",
    "df= df.drop(['customer_city','customer_state','customer_zip_code_prefix','seller_city','seller_state','customer_unique_id.1','order_purchase_timestamp','customer_unique_id'], axis=1)\n",
    "df"
   ]
  },
  {
   "cell_type": "code",
   "execution_count": 4,
   "metadata": {},
   "outputs": [
    {
     "data": {
      "text/plain": [
       "Home                   22393\n",
       "Technology             13021\n",
       "Health_Beauty          11351\n",
       "Fashion_Accessories     8533\n",
       "Toys_Games              7941\n",
       "Sports_Leisure          7101\n",
       "other                   6291\n",
       "Construction_Tools      5003\n",
       "Automotive              3722\n",
       "Office_Supplies         3370\n",
       "Baby                    2753\n",
       "Name: product_category, dtype: int64"
      ]
     },
     "execution_count": 4,
     "metadata": {},
     "output_type": "execute_result"
    }
   ],
   "source": [
    "from collections import Counter\n",
    "\n",
    "outre_cat=list((Counter(df.product_category.value_counts().index.to_list())-Counter(df.product_category.value_counts().index.to_list()[0:10])).elements())\n",
    "outre_cat\n",
    "df.replace(outre_cat,\"other\", inplace=True)\n",
    "df.product_category.value_counts()"
   ]
  },
  {
   "cell_type": "code",
   "execution_count": 50,
   "metadata": {},
   "outputs": [],
   "source": [
    "transformer = make_column_transformer(\n",
    "    (OneHotEncoder(sparse=False),make_column_selector(dtype_exclude=np.number)),\n",
    "    (MinMaxScaler(),make_column_selector(dtype_include=np.number))\n",
    "    )"
   ]
  },
  {
   "cell_type": "code",
   "execution_count": 51,
   "metadata": {},
   "outputs": [
    {
     "data": {
      "text/html": [
       "<div>\n",
       "<style scoped>\n",
       "    .dataframe tbody tr th:only-of-type {\n",
       "        vertical-align: middle;\n",
       "    }\n",
       "\n",
       "    .dataframe tbody tr th {\n",
       "        vertical-align: top;\n",
       "    }\n",
       "\n",
       "    .dataframe thead th {\n",
       "        text-align: right;\n",
       "    }\n",
       "</style>\n",
       "<table border=\"1\" class=\"dataframe\">\n",
       "  <thead>\n",
       "    <tr style=\"text-align: right;\">\n",
       "      <th></th>\n",
       "      <th>0</th>\n",
       "      <th>1</th>\n",
       "      <th>2</th>\n",
       "      <th>3</th>\n",
       "      <th>4</th>\n",
       "      <th>5</th>\n",
       "      <th>6</th>\n",
       "      <th>7</th>\n",
       "      <th>8</th>\n",
       "      <th>9</th>\n",
       "      <th>10</th>\n",
       "      <th>11</th>\n",
       "      <th>12</th>\n",
       "      <th>13</th>\n",
       "      <th>14</th>\n",
       "      <th>15</th>\n",
       "      <th>16</th>\n",
       "      <th>17</th>\n",
       "      <th>18</th>\n",
       "      <th>19</th>\n",
       "      <th>20</th>\n",
       "      <th>21</th>\n",
       "      <th>22</th>\n",
       "      <th>23</th>\n",
       "    </tr>\n",
       "  </thead>\n",
       "  <tbody>\n",
       "    <tr>\n",
       "      <th>0</th>\n",
       "      <td>0.0</td>\n",
       "      <td>1.0</td>\n",
       "      <td>0.0</td>\n",
       "      <td>0.0</td>\n",
       "      <td>0.0</td>\n",
       "      <td>0.0</td>\n",
       "      <td>0.0</td>\n",
       "      <td>0.0</td>\n",
       "      <td>0.0</td>\n",
       "      <td>1.0</td>\n",
       "      <td>0.0</td>\n",
       "      <td>0.0</td>\n",
       "      <td>0.0</td>\n",
       "      <td>0.0</td>\n",
       "      <td>0.0</td>\n",
       "      <td>0.333333</td>\n",
       "      <td>0.000000</td>\n",
       "      <td>0.000000</td>\n",
       "      <td>0.000000</td>\n",
       "      <td>0.001210</td>\n",
       "      <td>1.00</td>\n",
       "      <td>0.019164</td>\n",
       "      <td>0.029291</td>\n",
       "      <td>0.159712</td>\n",
       "    </tr>\n",
       "    <tr>\n",
       "      <th>1</th>\n",
       "      <td>0.0</td>\n",
       "      <td>1.0</td>\n",
       "      <td>0.0</td>\n",
       "      <td>0.0</td>\n",
       "      <td>0.0</td>\n",
       "      <td>0.0</td>\n",
       "      <td>0.0</td>\n",
       "      <td>0.0</td>\n",
       "      <td>1.0</td>\n",
       "      <td>0.0</td>\n",
       "      <td>0.0</td>\n",
       "      <td>0.0</td>\n",
       "      <td>0.0</td>\n",
       "      <td>0.0</td>\n",
       "      <td>0.0</td>\n",
       "      <td>0.041667</td>\n",
       "      <td>0.000000</td>\n",
       "      <td>0.000000</td>\n",
       "      <td>0.000000</td>\n",
       "      <td>0.000161</td>\n",
       "      <td>0.75</td>\n",
       "      <td>0.002680</td>\n",
       "      <td>0.020235</td>\n",
       "      <td>0.164029</td>\n",
       "    </tr>\n",
       "    <tr>\n",
       "      <th>2</th>\n",
       "      <td>0.0</td>\n",
       "      <td>1.0</td>\n",
       "      <td>0.0</td>\n",
       "      <td>0.0</td>\n",
       "      <td>0.0</td>\n",
       "      <td>0.0</td>\n",
       "      <td>0.0</td>\n",
       "      <td>0.0</td>\n",
       "      <td>0.0</td>\n",
       "      <td>0.0</td>\n",
       "      <td>1.0</td>\n",
       "      <td>0.0</td>\n",
       "      <td>0.0</td>\n",
       "      <td>0.0</td>\n",
       "      <td>0.0</td>\n",
       "      <td>0.333333</td>\n",
       "      <td>0.000000</td>\n",
       "      <td>0.000000</td>\n",
       "      <td>0.000000</td>\n",
       "      <td>0.000701</td>\n",
       "      <td>0.50</td>\n",
       "      <td>0.010120</td>\n",
       "      <td>0.042033</td>\n",
       "      <td>0.772662</td>\n",
       "    </tr>\n",
       "    <tr>\n",
       "      <th>3</th>\n",
       "      <td>0.0</td>\n",
       "      <td>1.0</td>\n",
       "      <td>0.0</td>\n",
       "      <td>0.0</td>\n",
       "      <td>0.0</td>\n",
       "      <td>0.0</td>\n",
       "      <td>0.0</td>\n",
       "      <td>0.0</td>\n",
       "      <td>0.0</td>\n",
       "      <td>0.0</td>\n",
       "      <td>0.0</td>\n",
       "      <td>0.0</td>\n",
       "      <td>1.0</td>\n",
       "      <td>0.0</td>\n",
       "      <td>0.0</td>\n",
       "      <td>0.166667</td>\n",
       "      <td>0.000000</td>\n",
       "      <td>0.000000</td>\n",
       "      <td>0.000000</td>\n",
       "      <td>0.000311</td>\n",
       "      <td>0.75</td>\n",
       "      <td>0.003733</td>\n",
       "      <td>0.043034</td>\n",
       "      <td>0.461871</td>\n",
       "    </tr>\n",
       "    <tr>\n",
       "      <th>4</th>\n",
       "      <td>0.0</td>\n",
       "      <td>1.0</td>\n",
       "      <td>0.0</td>\n",
       "      <td>0.0</td>\n",
       "      <td>0.0</td>\n",
       "      <td>0.0</td>\n",
       "      <td>0.0</td>\n",
       "      <td>0.0</td>\n",
       "      <td>0.0</td>\n",
       "      <td>0.0</td>\n",
       "      <td>0.0</td>\n",
       "      <td>0.0</td>\n",
       "      <td>1.0</td>\n",
       "      <td>0.0</td>\n",
       "      <td>0.0</td>\n",
       "      <td>0.250000</td>\n",
       "      <td>0.000000</td>\n",
       "      <td>0.000000</td>\n",
       "      <td>0.000000</td>\n",
       "      <td>0.001714</td>\n",
       "      <td>1.00</td>\n",
       "      <td>0.026603</td>\n",
       "      <td>0.041227</td>\n",
       "      <td>0.414388</td>\n",
       "    </tr>\n",
       "    <tr>\n",
       "      <th>...</th>\n",
       "      <td>...</td>\n",
       "      <td>...</td>\n",
       "      <td>...</td>\n",
       "      <td>...</td>\n",
       "      <td>...</td>\n",
       "      <td>...</td>\n",
       "      <td>...</td>\n",
       "      <td>...</td>\n",
       "      <td>...</td>\n",
       "      <td>...</td>\n",
       "      <td>...</td>\n",
       "      <td>...</td>\n",
       "      <td>...</td>\n",
       "      <td>...</td>\n",
       "      <td>...</td>\n",
       "      <td>...</td>\n",
       "      <td>...</td>\n",
       "      <td>...</td>\n",
       "      <td>...</td>\n",
       "      <td>...</td>\n",
       "      <td>...</td>\n",
       "      <td>...</td>\n",
       "      <td>...</td>\n",
       "      <td>...</td>\n",
       "    </tr>\n",
       "    <tr>\n",
       "      <th>91474</th>\n",
       "      <td>0.0</td>\n",
       "      <td>1.0</td>\n",
       "      <td>0.0</td>\n",
       "      <td>0.0</td>\n",
       "      <td>0.0</td>\n",
       "      <td>0.0</td>\n",
       "      <td>0.0</td>\n",
       "      <td>0.0</td>\n",
       "      <td>1.0</td>\n",
       "      <td>0.0</td>\n",
       "      <td>0.0</td>\n",
       "      <td>0.0</td>\n",
       "      <td>0.0</td>\n",
       "      <td>0.0</td>\n",
       "      <td>0.0</td>\n",
       "      <td>0.416667</td>\n",
       "      <td>0.013514</td>\n",
       "      <td>0.013514</td>\n",
       "      <td>0.013514</td>\n",
       "      <td>0.037741</td>\n",
       "      <td>1.00</td>\n",
       "      <td>0.116444</td>\n",
       "      <td>0.607084</td>\n",
       "      <td>0.643165</td>\n",
       "    </tr>\n",
       "    <tr>\n",
       "      <th>91475</th>\n",
       "      <td>0.0</td>\n",
       "      <td>1.0</td>\n",
       "      <td>0.0</td>\n",
       "      <td>0.0</td>\n",
       "      <td>0.0</td>\n",
       "      <td>1.0</td>\n",
       "      <td>0.0</td>\n",
       "      <td>0.0</td>\n",
       "      <td>0.0</td>\n",
       "      <td>0.0</td>\n",
       "      <td>0.0</td>\n",
       "      <td>0.0</td>\n",
       "      <td>0.0</td>\n",
       "      <td>0.0</td>\n",
       "      <td>0.0</td>\n",
       "      <td>0.041667</td>\n",
       "      <td>0.000000</td>\n",
       "      <td>0.000000</td>\n",
       "      <td>0.000000</td>\n",
       "      <td>0.000686</td>\n",
       "      <td>0.75</td>\n",
       "      <td>0.009510</td>\n",
       "      <td>0.048062</td>\n",
       "      <td>0.376978</td>\n",
       "    </tr>\n",
       "    <tr>\n",
       "      <th>91476</th>\n",
       "      <td>0.0</td>\n",
       "      <td>1.0</td>\n",
       "      <td>0.0</td>\n",
       "      <td>0.0</td>\n",
       "      <td>1.0</td>\n",
       "      <td>0.0</td>\n",
       "      <td>0.0</td>\n",
       "      <td>0.0</td>\n",
       "      <td>0.0</td>\n",
       "      <td>0.0</td>\n",
       "      <td>0.0</td>\n",
       "      <td>0.0</td>\n",
       "      <td>0.0</td>\n",
       "      <td>0.0</td>\n",
       "      <td>0.0</td>\n",
       "      <td>0.041667</td>\n",
       "      <td>0.000000</td>\n",
       "      <td>0.000000</td>\n",
       "      <td>0.000000</td>\n",
       "      <td>0.000941</td>\n",
       "      <td>1.00</td>\n",
       "      <td>0.013224</td>\n",
       "      <td>0.055067</td>\n",
       "      <td>0.817266</td>\n",
       "    </tr>\n",
       "    <tr>\n",
       "      <th>91477</th>\n",
       "      <td>0.0</td>\n",
       "      <td>1.0</td>\n",
       "      <td>0.0</td>\n",
       "      <td>0.0</td>\n",
       "      <td>0.0</td>\n",
       "      <td>0.0</td>\n",
       "      <td>0.0</td>\n",
       "      <td>1.0</td>\n",
       "      <td>0.0</td>\n",
       "      <td>0.0</td>\n",
       "      <td>0.0</td>\n",
       "      <td>0.0</td>\n",
       "      <td>0.0</td>\n",
       "      <td>0.0</td>\n",
       "      <td>0.0</td>\n",
       "      <td>0.208333</td>\n",
       "      <td>0.000000</td>\n",
       "      <td>0.000000</td>\n",
       "      <td>0.000000</td>\n",
       "      <td>0.001135</td>\n",
       "      <td>1.00</td>\n",
       "      <td>0.016951</td>\n",
       "      <td>0.045621</td>\n",
       "      <td>0.171223</td>\n",
       "    </tr>\n",
       "    <tr>\n",
       "      <th>91478</th>\n",
       "      <td>0.0</td>\n",
       "      <td>1.0</td>\n",
       "      <td>0.0</td>\n",
       "      <td>0.0</td>\n",
       "      <td>0.0</td>\n",
       "      <td>0.0</td>\n",
       "      <td>0.0</td>\n",
       "      <td>0.0</td>\n",
       "      <td>1.0</td>\n",
       "      <td>0.0</td>\n",
       "      <td>0.0</td>\n",
       "      <td>0.0</td>\n",
       "      <td>0.0</td>\n",
       "      <td>0.0</td>\n",
       "      <td>0.0</td>\n",
       "      <td>0.166667</td>\n",
       "      <td>0.000000</td>\n",
       "      <td>0.000000</td>\n",
       "      <td>0.000000</td>\n",
       "      <td>0.000567</td>\n",
       "      <td>1.00</td>\n",
       "      <td>0.008337</td>\n",
       "      <td>0.035564</td>\n",
       "      <td>0.696403</td>\n",
       "    </tr>\n",
       "  </tbody>\n",
       "</table>\n",
       "<p>91479 rows × 24 columns</p>\n",
       "</div>"
      ],
      "text/plain": [
       "        0    1    2    3    4    5    6    7    8    9    10   11   12   13  \\\n",
       "0      0.0  1.0  0.0  0.0  0.0  0.0  0.0  0.0  0.0  1.0  0.0  0.0  0.0  0.0   \n",
       "1      0.0  1.0  0.0  0.0  0.0  0.0  0.0  0.0  1.0  0.0  0.0  0.0  0.0  0.0   \n",
       "2      0.0  1.0  0.0  0.0  0.0  0.0  0.0  0.0  0.0  0.0  1.0  0.0  0.0  0.0   \n",
       "3      0.0  1.0  0.0  0.0  0.0  0.0  0.0  0.0  0.0  0.0  0.0  0.0  1.0  0.0   \n",
       "4      0.0  1.0  0.0  0.0  0.0  0.0  0.0  0.0  0.0  0.0  0.0  0.0  1.0  0.0   \n",
       "...    ...  ...  ...  ...  ...  ...  ...  ...  ...  ...  ...  ...  ...  ...   \n",
       "91474  0.0  1.0  0.0  0.0  0.0  0.0  0.0  0.0  1.0  0.0  0.0  0.0  0.0  0.0   \n",
       "91475  0.0  1.0  0.0  0.0  0.0  1.0  0.0  0.0  0.0  0.0  0.0  0.0  0.0  0.0   \n",
       "91476  0.0  1.0  0.0  0.0  1.0  0.0  0.0  0.0  0.0  0.0  0.0  0.0  0.0  0.0   \n",
       "91477  0.0  1.0  0.0  0.0  0.0  0.0  0.0  1.0  0.0  0.0  0.0  0.0  0.0  0.0   \n",
       "91478  0.0  1.0  0.0  0.0  0.0  0.0  0.0  0.0  1.0  0.0  0.0  0.0  0.0  0.0   \n",
       "\n",
       "        14        15        16        17        18        19    20        21  \\\n",
       "0      0.0  0.333333  0.000000  0.000000  0.000000  0.001210  1.00  0.019164   \n",
       "1      0.0  0.041667  0.000000  0.000000  0.000000  0.000161  0.75  0.002680   \n",
       "2      0.0  0.333333  0.000000  0.000000  0.000000  0.000701  0.50  0.010120   \n",
       "3      0.0  0.166667  0.000000  0.000000  0.000000  0.000311  0.75  0.003733   \n",
       "4      0.0  0.250000  0.000000  0.000000  0.000000  0.001714  1.00  0.026603   \n",
       "...    ...       ...       ...       ...       ...       ...   ...       ...   \n",
       "91474  0.0  0.416667  0.013514  0.013514  0.013514  0.037741  1.00  0.116444   \n",
       "91475  0.0  0.041667  0.000000  0.000000  0.000000  0.000686  0.75  0.009510   \n",
       "91476  0.0  0.041667  0.000000  0.000000  0.000000  0.000941  1.00  0.013224   \n",
       "91477  0.0  0.208333  0.000000  0.000000  0.000000  0.001135  1.00  0.016951   \n",
       "91478  0.0  0.166667  0.000000  0.000000  0.000000  0.000567  1.00  0.008337   \n",
       "\n",
       "             22        23  \n",
       "0      0.029291  0.159712  \n",
       "1      0.020235  0.164029  \n",
       "2      0.042033  0.772662  \n",
       "3      0.043034  0.461871  \n",
       "4      0.041227  0.414388  \n",
       "...         ...       ...  \n",
       "91474  0.607084  0.643165  \n",
       "91475  0.048062  0.376978  \n",
       "91476  0.055067  0.817266  \n",
       "91477  0.045621  0.171223  \n",
       "91478  0.035564  0.696403  \n",
       "\n",
       "[91479 rows x 24 columns]"
      ]
     },
     "execution_count": 51,
     "metadata": {},
     "output_type": "execute_result"
    }
   ],
   "source": [
    "df = transformer.fit_transform(df)\n",
    "df=pd.DataFrame(df)\n",
    "df"
   ]
  },
  {
   "cell_type": "code",
   "execution_count": 45,
   "metadata": {},
   "outputs": [
    {
     "name": "stdout",
     "output_type": "stream",
     "text": [
      "Cluster initiation: 1\n",
      "Cluster initiation: 2\n",
      "Cluster initiation: 3\n",
      "Cluster initiation: 4\n",
      "Cluster initiation: 5\n",
      "Cluster initiation: 6\n",
      "Cluster initiation: 7\n",
      "Cluster initiation: 8\n",
      "Cluster initiation: 9\n"
     ]
    }
   ],
   "source": [
    "# Choose optimal K using Elbow method\n",
    "inertia = []\n",
    "for cluster in range(1, 10):\n",
    "        kmeans = KMeans( n_clusters = cluster)\n",
    "        kmeans.fit(df)\n",
    "        inertia.append(kmeans.inertia_)\n",
    "        print('Cluster initiation: {}'.format(cluster))\n",
    "\n"
   ]
  },
  {
   "cell_type": "code",
   "execution_count": 46,
   "metadata": {},
   "outputs": [
    {
     "data": {
      "text/plain": [
       "Text(0, 0.5, 'Cout du modèle (inertia)')"
      ]
     },
     "execution_count": 46,
     "metadata": {},
     "output_type": "execute_result"
    },
    {
     "data": {
      "image/png": "[encoded data removed]",
      "text/plain": [
       "<Figure size 600x600 with 1 Axes>"
      ]
     },
     "metadata": {},
     "output_type": "display_data"
    }
   ],
   "source": [
    "x,y = range(1,9),inertia[:-1]\n",
    "kl = KneeLocator(x,y, curve='convex')\n",
    "kl.plot_knee()\n",
    "plt.xlabel('nombre de cluster')\n",
    "plt.ylabel('Cout du modèle (inertia)')"
   ]
  },
  {
   "cell_type": "code",
   "execution_count": 326,
   "metadata": {},
   "outputs": [
    {
     "data": {
      "text/html": [
       "<div>\n",
       "<style scoped>\n",
       "    .dataframe tbody tr th:only-of-type {\n",
       "        vertical-align: middle;\n",
       "    }\n",
       "\n",
       "    .dataframe tbody tr th {\n",
       "        vertical-align: top;\n",
       "    }\n",
       "\n",
       "    .dataframe thead th {\n",
       "        text-align: right;\n",
       "    }\n",
       "</style>\n",
       "<table border=\"1\" class=\"dataframe\">\n",
       "  <thead>\n",
       "    <tr style=\"text-align: right;\">\n",
       "      <th></th>\n",
       "      <th>payment_type</th>\n",
       "      <th>product_category</th>\n",
       "      <th>payment_installments</th>\n",
       "      <th>orders</th>\n",
       "      <th>products</th>\n",
       "      <th>sellers</th>\n",
       "      <th>payment_value</th>\n",
       "      <th>review_score</th>\n",
       "      <th>price</th>\n",
       "      <th>freight_value</th>\n",
       "      <th>recency</th>\n",
       "    </tr>\n",
       "  </thead>\n",
       "  <tbody>\n",
       "    <tr>\n",
       "      <th>0</th>\n",
       "      <td>credit_card</td>\n",
       "      <td>Home</td>\n",
       "      <td>8</td>\n",
       "      <td>1</td>\n",
       "      <td>1</td>\n",
       "      <td>1</td>\n",
       "      <td>141.90</td>\n",
       "      <td>5.0</td>\n",
       "      <td>129.90</td>\n",
       "      <td>12.00</td>\n",
       "      <td>112</td>\n",
       "    </tr>\n",
       "    <tr>\n",
       "      <th>1</th>\n",
       "      <td>credit_card</td>\n",
       "      <td>Health_Beauty</td>\n",
       "      <td>1</td>\n",
       "      <td>1</td>\n",
       "      <td>1</td>\n",
       "      <td>1</td>\n",
       "      <td>27.19</td>\n",
       "      <td>4.0</td>\n",
       "      <td>18.90</td>\n",
       "      <td>8.29</td>\n",
       "      <td>115</td>\n",
       "    </tr>\n",
       "    <tr>\n",
       "      <th>2</th>\n",
       "      <td>credit_card</td>\n",
       "      <td>Office_Supplies</td>\n",
       "      <td>8</td>\n",
       "      <td>1</td>\n",
       "      <td>1</td>\n",
       "      <td>1</td>\n",
       "      <td>86.22</td>\n",
       "      <td>3.0</td>\n",
       "      <td>69.00</td>\n",
       "      <td>17.22</td>\n",
       "      <td>538</td>\n",
       "    </tr>\n",
       "    <tr>\n",
       "      <th>3</th>\n",
       "      <td>credit_card</td>\n",
       "      <td>Technology</td>\n",
       "      <td>4</td>\n",
       "      <td>1</td>\n",
       "      <td>1</td>\n",
       "      <td>1</td>\n",
       "      <td>43.62</td>\n",
       "      <td>4.0</td>\n",
       "      <td>25.99</td>\n",
       "      <td>17.63</td>\n",
       "      <td>322</td>\n",
       "    </tr>\n",
       "    <tr>\n",
       "      <th>4</th>\n",
       "      <td>credit_card</td>\n",
       "      <td>Technology</td>\n",
       "      <td>6</td>\n",
       "      <td>1</td>\n",
       "      <td>1</td>\n",
       "      <td>1</td>\n",
       "      <td>196.89</td>\n",
       "      <td>5.0</td>\n",
       "      <td>180.00</td>\n",
       "      <td>16.89</td>\n",
       "      <td>289</td>\n",
       "    </tr>\n",
       "    <tr>\n",
       "      <th>...</th>\n",
       "      <td>...</td>\n",
       "      <td>...</td>\n",
       "      <td>...</td>\n",
       "      <td>...</td>\n",
       "      <td>...</td>\n",
       "      <td>...</td>\n",
       "      <td>...</td>\n",
       "      <td>...</td>\n",
       "      <td>...</td>\n",
       "      <td>...</td>\n",
       "      <td>...</td>\n",
       "    </tr>\n",
       "    <tr>\n",
       "      <th>91474</th>\n",
       "      <td>credit_card</td>\n",
       "      <td>Health_Beauty</td>\n",
       "      <td>10</td>\n",
       "      <td>2</td>\n",
       "      <td>2</td>\n",
       "      <td>2</td>\n",
       "      <td>4134.84</td>\n",
       "      <td>5.0</td>\n",
       "      <td>785.00</td>\n",
       "      <td>248.71</td>\n",
       "      <td>448</td>\n",
       "    </tr>\n",
       "    <tr>\n",
       "      <th>91475</th>\n",
       "      <td>credit_card</td>\n",
       "      <td>Baby</td>\n",
       "      <td>1</td>\n",
       "      <td>1</td>\n",
       "      <td>1</td>\n",
       "      <td>1</td>\n",
       "      <td>84.58</td>\n",
       "      <td>4.0</td>\n",
       "      <td>64.89</td>\n",
       "      <td>19.69</td>\n",
       "      <td>263</td>\n",
       "    </tr>\n",
       "    <tr>\n",
       "      <th>91476</th>\n",
       "      <td>credit_card</td>\n",
       "      <td>Automotive</td>\n",
       "      <td>1</td>\n",
       "      <td>1</td>\n",
       "      <td>1</td>\n",
       "      <td>1</td>\n",
       "      <td>112.46</td>\n",
       "      <td>5.0</td>\n",
       "      <td>89.90</td>\n",
       "      <td>22.56</td>\n",
       "      <td>569</td>\n",
       "    </tr>\n",
       "    <tr>\n",
       "      <th>91477</th>\n",
       "      <td>credit_card</td>\n",
       "      <td>Fashion_Accessories</td>\n",
       "      <td>5</td>\n",
       "      <td>1</td>\n",
       "      <td>1</td>\n",
       "      <td>1</td>\n",
       "      <td>133.69</td>\n",
       "      <td>5.0</td>\n",
       "      <td>115.00</td>\n",
       "      <td>18.69</td>\n",
       "      <td>120</td>\n",
       "    </tr>\n",
       "    <tr>\n",
       "      <th>91478</th>\n",
       "      <td>credit_card</td>\n",
       "      <td>Health_Beauty</td>\n",
       "      <td>4</td>\n",
       "      <td>1</td>\n",
       "      <td>1</td>\n",
       "      <td>1</td>\n",
       "      <td>71.56</td>\n",
       "      <td>5.0</td>\n",
       "      <td>56.99</td>\n",
       "      <td>14.57</td>\n",
       "      <td>485</td>\n",
       "    </tr>\n",
       "  </tbody>\n",
       "</table>\n",
       "<p>91479 rows × 11 columns</p>\n",
       "</div>"
      ],
      "text/plain": [
       "      payment_type     product_category  payment_installments  orders  \\\n",
       "0      credit_card                 Home                     8       1   \n",
       "1      credit_card        Health_Beauty                     1       1   \n",
       "2      credit_card      Office_Supplies                     8       1   \n",
       "3      credit_card           Technology                     4       1   \n",
       "4      credit_card           Technology                     6       1   \n",
       "...            ...                  ...                   ...     ...   \n",
       "91474  credit_card        Health_Beauty                    10       2   \n",
       "91475  credit_card                 Baby                     1       1   \n",
       "91476  credit_card           Automotive                     1       1   \n",
       "91477  credit_card  Fashion_Accessories                     5       1   \n",
       "91478  credit_card        Health_Beauty                     4       1   \n",
       "\n",
       "       products  sellers  payment_value  review_score   price  freight_value  \\\n",
       "0             1        1         141.90           5.0  129.90          12.00   \n",
       "1             1        1          27.19           4.0   18.90           8.29   \n",
       "2             1        1          86.22           3.0   69.00          17.22   \n",
       "3             1        1          43.62           4.0   25.99          17.63   \n",
       "4             1        1         196.89           5.0  180.00          16.89   \n",
       "...         ...      ...            ...           ...     ...            ...   \n",
       "91474         2        2        4134.84           5.0  785.00         248.71   \n",
       "91475         1        1          84.58           4.0   64.89          19.69   \n",
       "91476         1        1         112.46           5.0   89.90          22.56   \n",
       "91477         1        1         133.69           5.0  115.00          18.69   \n",
       "91478         1        1          71.56           5.0   56.99          14.57   \n",
       "\n",
       "       recency  \n",
       "0          112  \n",
       "1          115  \n",
       "2          538  \n",
       "3          322  \n",
       "4          289  \n",
       "...        ...  \n",
       "91474      448  \n",
       "91475      263  \n",
       "91476      569  \n",
       "91477      120  \n",
       "91478      485  \n",
       "\n",
       "[91479 rows x 11 columns]"
      ]
     },
     "execution_count": 326,
     "metadata": {},
     "output_type": "execute_result"
    }
   ],
   "source": [
    "df = pd.read_csv('data.csv')\n",
    "df.rename(columns={\"order_item_id\": \"orders\", \"product_id\": \"products\", \"seller_id\":'sellers'}, inplace=True)\n",
    "df['payment_installments']=df['payment_installments'].astype('int64')\n",
    "df= df.drop(['customer_city','customer_state','customer_zip_code_prefix','seller_city','seller_state','customer_unique_id.1','order_purchase_timestamp','customer_unique_id'], axis=1)\n",
    "df"
   ]
  },
  {
   "cell_type": "code",
   "execution_count": 114,
   "metadata": {},
   "outputs": [
    {
     "data": {
      "text/plain": [
       "array([2.1972245773362196, 0.6931471805599453, 0.6931471805599453,\n",
       "       0.6931471805599453, 4.9621450849358215, 1.791759469228055,\n",
       "       4.874433672915854, 2.5649493574615367, 4.727387818712341,\n",
       "       'credit_card', 'Home'], dtype=object)"
      ]
     },
     "execution_count": 114,
     "metadata": {},
     "output_type": "execute_result"
    }
   ],
   "source": [
    "a = FunctionTransformer(func=np.log1p)\n",
    "preprocessing = make_column_transformer((a,make_column_selector(dtype_include=np.number)),remainder='passthrough')\n",
    "log=preprocessing.fit_transform(df)\n",
    "log[0]"
   ]
  },
  {
   "cell_type": "code",
   "execution_count": 53,
   "metadata": {},
   "outputs": [
    {
     "data": {
      "image/png": "[encoded data removed]",
      "text/plain": [
       "<Figure size 640x480 with 1 Axes>"
      ]
     },
     "metadata": {},
     "output_type": "display_data"
    }
   ],
   "source": [
    "func_log = FunctionTransformer(func=np.log1p)\n",
    "func_abs=FunctionTransformer(func=np.abs)\n",
    "\n",
    "pipe_num= make_pipeline(func_abs,func_log)\n",
    "\n",
    "transformer = make_column_transformer(\n",
    "    (OneHotEncoder(sparse=False),make_column_selector(dtype_exclude=['float','int'])),\n",
    "    (pipe_num,make_column_selector(dtype_include=['float','int']))\n",
    "    )\n",
    "\n",
    "pipe_pca= make_pipeline(transformer,PCA(n_components=0.95))\n",
    "\n",
    "df_acp=pd.DataFrame(pipe_pca.fit_transform(df))\n",
    "\n",
    "\n",
    "clustering =KMeans(n_clusters=8).fit(df_acp)\n",
    "df_acp['cluster_labels']=pd.Series(clustering.labels_)\n",
    "\n",
    "\n",
    "plt.scatter(df_acp.iloc[:,0],df_acp.iloc[:,1],c=df_acp.cluster_labels)\n",
    "plt.show()"
   ]
  },
  {
   "cell_type": "code",
   "execution_count": 54,
   "metadata": {},
   "outputs": [
    {
     "name": "stderr",
     "output_type": "stream",
     "text": [
      "/tmp/ipykernel_54326/439567709.py:6: SettingWithCopyWarning:\n",
      "\n",
      "\n",
      "A value is trying to be set on a copy of a slice from a DataFrame.\n",
      "Try using .loc[row_indexer,col_indexer] = value instead\n",
      "\n",
      "See the caveats in the documentation: https://pandas.pydata.org/pandas-docs/stable/user_guide/indexing.html#returning-a-view-versus-a-copy\n",
      "\n"
     ]
    },
    {
     "data": {
      "text/html": [
       "<div>\n",
       "<style scoped>\n",
       "    .dataframe tbody tr th:only-of-type {\n",
       "        vertical-align: middle;\n",
       "    }\n",
       "\n",
       "    .dataframe tbody tr th {\n",
       "        vertical-align: top;\n",
       "    }\n",
       "\n",
       "    .dataframe thead th {\n",
       "        text-align: right;\n",
       "    }\n",
       "</style>\n",
       "<table border=\"1\" class=\"dataframe\">\n",
       "  <thead>\n",
       "    <tr style=\"text-align: right;\">\n",
       "      <th></th>\n",
       "      <th>payment_installments</th>\n",
       "      <th>orders</th>\n",
       "      <th>products</th>\n",
       "      <th>sellers</th>\n",
       "      <th>payment_value</th>\n",
       "      <th>review_score</th>\n",
       "      <th>price</th>\n",
       "      <th>freight_value</th>\n",
       "      <th>recency</th>\n",
       "    </tr>\n",
       "  </thead>\n",
       "  <tbody>\n",
       "    <tr>\n",
       "      <th>0</th>\n",
       "      <td>3.859305</td>\n",
       "      <td>1.000000</td>\n",
       "      <td>1.000000</td>\n",
       "      <td>1.000000</td>\n",
       "      <td>1.714134</td>\n",
       "      <td>3.971874</td>\n",
       "      <td>1.932148</td>\n",
       "      <td>2.201587</td>\n",
       "      <td>5.000000</td>\n",
       "    </tr>\n",
       "    <tr>\n",
       "      <th>1</th>\n",
       "      <td>1.359757</td>\n",
       "      <td>1.103904</td>\n",
       "      <td>1.103904</td>\n",
       "      <td>1.103904</td>\n",
       "      <td>1.000000</td>\n",
       "      <td>4.209667</td>\n",
       "      <td>1.000000</td>\n",
       "      <td>1.000000</td>\n",
       "      <td>4.824078</td>\n",
       "    </tr>\n",
       "    <tr>\n",
       "      <th>2</th>\n",
       "      <td>3.100390</td>\n",
       "      <td>5.000000</td>\n",
       "      <td>5.000000</td>\n",
       "      <td>5.000000</td>\n",
       "      <td>4.424604</td>\n",
       "      <td>1.000000</td>\n",
       "      <td>1.406312</td>\n",
       "      <td>1.622579</td>\n",
       "      <td>4.558901</td>\n",
       "    </tr>\n",
       "    <tr>\n",
       "      <th>3</th>\n",
       "      <td>1.000000</td>\n",
       "      <td>1.165360</td>\n",
       "      <td>1.165360</td>\n",
       "      <td>1.165360</td>\n",
       "      <td>1.462991</td>\n",
       "      <td>3.994643</td>\n",
       "      <td>1.516549</td>\n",
       "      <td>1.767930</td>\n",
       "      <td>4.840711</td>\n",
       "    </tr>\n",
       "    <tr>\n",
       "      <th>4</th>\n",
       "      <td>1.510065</td>\n",
       "      <td>1.131128</td>\n",
       "      <td>1.131128</td>\n",
       "      <td>1.131128</td>\n",
       "      <td>1.123011</td>\n",
       "      <td>5.000000</td>\n",
       "      <td>1.130567</td>\n",
       "      <td>1.210166</td>\n",
       "      <td>1.000000</td>\n",
       "    </tr>\n",
       "    <tr>\n",
       "      <th>5</th>\n",
       "      <td>5.000000</td>\n",
       "      <td>1.294998</td>\n",
       "      <td>1.294998</td>\n",
       "      <td>1.294998</td>\n",
       "      <td>5.000000</td>\n",
       "      <td>3.497751</td>\n",
       "      <td>5.000000</td>\n",
       "      <td>5.000000</td>\n",
       "      <td>4.304414</td>\n",
       "    </tr>\n",
       "    <tr>\n",
       "      <th>6</th>\n",
       "      <td>3.045066</td>\n",
       "      <td>1.229180</td>\n",
       "      <td>1.229180</td>\n",
       "      <td>1.229180</td>\n",
       "      <td>1.858568</td>\n",
       "      <td>4.926599</td>\n",
       "      <td>1.874977</td>\n",
       "      <td>2.700884</td>\n",
       "      <td>1.068697</td>\n",
       "    </tr>\n",
       "    <tr>\n",
       "      <th>7</th>\n",
       "      <td>2.193814</td>\n",
       "      <td>1.113719</td>\n",
       "      <td>1.113719</td>\n",
       "      <td>1.113719</td>\n",
       "      <td>1.226690</td>\n",
       "      <td>4.134865</td>\n",
       "      <td>1.277023</td>\n",
       "      <td>1.295037</td>\n",
       "      <td>4.812360</td>\n",
       "    </tr>\n",
       "  </tbody>\n",
       "</table>\n",
       "</div>"
      ],
      "text/plain": [
       "   payment_installments    orders  products   sellers  payment_value  \\\n",
       "0              3.859305  1.000000  1.000000  1.000000       1.714134   \n",
       "1              1.359757  1.103904  1.103904  1.103904       1.000000   \n",
       "2              3.100390  5.000000  5.000000  5.000000       4.424604   \n",
       "3              1.000000  1.165360  1.165360  1.165360       1.462991   \n",
       "4              1.510065  1.131128  1.131128  1.131128       1.123011   \n",
       "5              5.000000  1.294998  1.294998  1.294998       5.000000   \n",
       "6              3.045066  1.229180  1.229180  1.229180       1.858568   \n",
       "7              2.193814  1.113719  1.113719  1.113719       1.226690   \n",
       "\n",
       "   review_score     price  freight_value   recency  \n",
       "0      3.971874  1.932148       2.201587  5.000000  \n",
       "1      4.209667  1.000000       1.000000  4.824078  \n",
       "2      1.000000  1.406312       1.622579  4.558901  \n",
       "3      3.994643  1.516549       1.767930  4.840711  \n",
       "4      5.000000  1.130567       1.210166  1.000000  \n",
       "5      3.497751  5.000000       5.000000  4.304414  \n",
       "6      4.926599  1.874977       2.700884  1.068697  \n",
       "7      4.134865  1.277023       1.295037  4.812360  "
      ]
     },
     "execution_count": 54,
     "metadata": {},
     "output_type": "execute_result"
    }
   ],
   "source": [
    "df_num=df[['payment_installments','orders','products','sellers','payment_value','review_score','price','freight_value','recency']]\n",
    "\n",
    "mms=MinMaxScaler(feature_range=(1,5))\n",
    "\n",
    "num_cols= df.select_dtypes(include='number').columns\n",
    "df_num['cluster_labels']=pd.Series(clustering.labels_)\n",
    "\n",
    "list_agg = {}\n",
    "for col in num_cols:\n",
    "    list_agg[f'{col}'] = 'mean'\n",
    "\n",
    "df_mean=df_num.groupby('cluster_labels').agg(list_agg)\n",
    "\n",
    "\n",
    "df_mms=pd.DataFrame(mms.fit_transform(df_mean),columns=['payment_installments','orders','products','sellers','payment_value','review_score','price','freight_value','recency'])\n",
    "df_mms\n"
   ]
  },
  {
   "cell_type": "code",
   "execution_count": 55,
   "metadata": {},
   "outputs": [
    {
     "data": {
      "application/vnd.plotly.v1+json": {
       "config": {
        "plotlyServerURL": "https://plot.ly"
       },
       "data": [
        {
         "fill": "toself",
         "name": "Cluster 0",
         "r": [
          3.8593052560237036,
          1,
          1,
          1,
          1.7141344043526603,
          3.971874406603373,
          1.9321480550780739,
          2.2015869153522116,
          4.999999999999999
         ],
         "theta": [
          "payment_installments",
          "orders",
          "products",
          "sellers",
          "payment_value",
          "review_score",
          "price",
          "freight_value",
          "recency"
         ],
         "type": "scatterpolar"
        },
        {
         "fill": "toself",
         "name": "Cluster 1",
         "r": [
          1.3597570608362815,
          1.1039041620249588,
          1.1039041620249588,
          1.1039041620249588,
          1,
          4.2096665086214,
          1,
          1,
          4.824077565759784
         ],
         "theta": [
          "payment_installments",
          "orders",
          "products",
          "sellers",
          "payment_value",
          "review_score",
          "price",
          "freight_value",
          "recency"
         ],
         "type": "scatterpolar"
        },
        {
         "fill": "toself",
         "name": "Cluster 2",
         "r": [
          3.1003904752458893,
          5,
          5,
          5,
          4.424603712196498,
          1,
          1.4063120077575793,
          1.622579295094914,
          4.55890091620494
         ],
         "theta": [
          "payment_installments",
          "orders",
          "products",
          "sellers",
          "payment_value",
          "review_score",
          "price",
          "freight_value",
          "recency"
         ],
         "type": "scatterpolar"
        },
        {
         "fill": "toself",
         "name": "Cluster 3",
         "r": [
          1,
          1.165359626543287,
          1.165359626543287,
          1.165359626543287,
          1.4629911779426168,
          3.9946428415029303,
          1.5165489692677085,
          1.7679304215852094,
          4.8407108153252265
         ],
         "theta": [
          "payment_installments",
          "orders",
          "products",
          "sellers",
          "payment_value",
          "review_score",
          "price",
          "freight_value",
          "recency"
         ],
         "type": "scatterpolar"
        },
        {
         "fill": "toself",
         "name": "Cluster 4",
         "r": [
          1.5100650413686663,
          1.1311278036458052,
          1.1311278036458052,
          1.1311278036458052,
          1.1230108450586151,
          5,
          1.1305669905111395,
          1.210166278807889,
          1
         ],
         "theta": [
          "payment_installments",
          "orders",
          "products",
          "sellers",
          "payment_value",
          "review_score",
          "price",
          "freight_value",
          "recency"
         ],
         "type": "scatterpolar"
        },
        {
         "fill": "toself",
         "name": "Cluster 5",
         "r": [
          5,
          1.2949984996294783,
          1.2949984996294783,
          1.2949984996294783,
          5,
          3.497750941708464,
          4.999999999999999,
          5,
          4.304413984296088
         ],
         "theta": [
          "payment_installments",
          "orders",
          "products",
          "sellers",
          "payment_value",
          "review_score",
          "price",
          "freight_value",
          "recency"
         ],
         "type": "scatterpolar"
        },
        {
         "fill": "toself",
         "name": "Cluster 6",
         "r": [
          3.0450663557823705,
          1.2291799953033014,
          1.2291799953033014,
          1.2291799953033014,
          1.8585682506782184,
          4.926599076537041,
          1.8749768504027833,
          2.7008837186894556,
          1.0686967635180284
         ],
         "theta": [
          "payment_installments",
          "orders",
          "products",
          "sellers",
          "payment_value",
          "review_score",
          "price",
          "freight_value",
          "recency"
         ],
         "type": "scatterpolar"
        },
        {
         "fill": "toself",
         "name": "Cluster 7",
         "r": [
          2.1938136497575584,
          1.1137192507645408,
          1.1137192507645408,
          1.1137192507645408,
          1.2266896486934264,
          4.134864990709392,
          1.2770230785509342,
          1.2950370291259523,
          4.81235950901236
         ],
         "theta": [
          "payment_installments",
          "orders",
          "products",
          "sellers",
          "payment_value",
          "review_score",
          "price",
          "freight_value",
          "recency"
         ],
         "type": "scatterpolar"
        }
       ],
       "layout": {
        "height": 780,
        "polar": {
         "radialaxis": {
          "range": [
           0,
           5
          ],
          "visible": true
         }
        },
        "showlegend": true,
        "template": {
         "data": {
          "bar": [
           {
            "error_x": {
             "color": "#2a3f5f"
            },
            "error_y": {
             "color": "#2a3f5f"
            },
            "marker": {
             "line": {
              "color": "#E5ECF6",
              "width": 0.5
             },
             "pattern": {
              "fillmode": "overlay",
              "size": 10,
              "solidity": 0.2
             }
            },
            "type": "bar"
           }
          ],
          "barpolar": [
           {
            "marker": {
             "line": {
              "color": "#E5ECF6",
              "width": 0.5
             },
             "pattern": {
              "fillmode": "overlay",
              "size": 10,
              "solidity": 0.2
             }
            },
            "type": "barpolar"
           }
          ],
          "carpet": [
           {
            "aaxis": {
             "endlinecolor": "#2a3f5f",
             "gridcolor": "white",
             "linecolor": "white",
             "minorgridcolor": "white",
             "startlinecolor": "#2a3f5f"
            },
            "baxis": {
             "endlinecolor": "#2a3f5f",
             "gridcolor": "white",
             "linecolor": "white",
             "minorgridcolor": "white",
             "startlinecolor": "#2a3f5f"
            },
            "type": "carpet"
           }
          ],
          "choropleth": [
           {
            "colorbar": {
             "outlinewidth": 0,
             "ticks": ""
            },
            "type": "choropleth"
           }
          ],
          "contour": [
           {
            "colorbar": {
             "outlinewidth": 0,
             "ticks": ""
            },
            "colorscale": [
             [
              0,
              "#0d0887"
             ],
             [
              0.1111111111111111,
              "#46039f"
             ],
             [
              0.2222222222222222,
              "#7201a8"
             ],
             [
              0.3333333333333333,
              "#9c179e"
             ],
             [
              0.4444444444444444,
              "#bd3786"
             ],
             [
              0.5555555555555556,
              "#d8576b"
             ],
             [
              0.6666666666666666,
              "#ed7953"
             ],
             [
              0.7777777777777778,
              "#fb9f3a"
             ],
             [
              0.8888888888888888,
              "#fdca26"
             ],
             [
              1,
              "#f0f921"
             ]
            ],
            "type": "contour"
           }
          ],
          "contourcarpet": [
           {
            "colorbar": {
             "outlinewidth": 0,
             "ticks": ""
            },
            "type": "contourcarpet"
           }
          ],
          "heatmap": [
           {
            "colorbar": {
             "outlinewidth": 0,
             "ticks": ""
            },
            "colorscale": [
             [
              0,
              "#0d0887"
             ],
             [
              0.1111111111111111,
              "#46039f"
             ],
             [
              0.2222222222222222,
              "#7201a8"
             ],
             [
              0.3333333333333333,
              "#9c179e"
             ],
             [
              0.4444444444444444,
              "#bd3786"
             ],
             [
              0.5555555555555556,
              "#d8576b"
             ],
             [
              0.6666666666666666,
              "#ed7953"
             ],
             [
              0.7777777777777778,
              "#fb9f3a"
             ],
             [
              0.8888888888888888,
              "#fdca26"
             ],
             [
              1,
              "#f0f921"
             ]
            ],
            "type": "heatmap"
           }
          ],
          "heatmapgl": [
           {
            "colorbar": {
             "outlinewidth": 0,
             "ticks": ""
            },
            "colorscale": [
             [
              0,
              "#0d0887"
             ],
             [
              0.1111111111111111,
              "#46039f"
             ],
             [
              0.2222222222222222,
              "#7201a8"
             ],
             [
              0.3333333333333333,
              "#9c179e"
             ],
             [
              0.4444444444444444,
              "#bd3786"
             ],
             [
              0.5555555555555556,
              "#d8576b"
             ],
             [
              0.6666666666666666,
              "#ed7953"
             ],
             [
              0.7777777777777778,
              "#fb9f3a"
             ],
             [
              0.8888888888888888,
              "#fdca26"
             ],
             [
              1,
              "#f0f921"
             ]
            ],
            "type": "heatmapgl"
           }
          ],
          "histogram": [
           {
            "marker": {
             "pattern": {
              "fillmode": "overlay",
              "size": 10,
              "solidity": 0.2
             }
            },
            "type": "histogram"
           }
          ],
          "histogram2d": [
           {
            "colorbar": {
             "outlinewidth": 0,
             "ticks": ""
            },
            "colorscale": [
             [
              0,
              "#0d0887"
             ],
             [
              0.1111111111111111,
              "#46039f"
             ],
             [
              0.2222222222222222,
              "#7201a8"
             ],
             [
              0.3333333333333333,
              "#9c179e"
             ],
             [
              0.4444444444444444,
              "#bd3786"
             ],
             [
              0.5555555555555556,
              "#d8576b"
             ],
             [
              0.6666666666666666,
              "#ed7953"
             ],
             [
              0.7777777777777778,
              "#fb9f3a"
             ],
             [
              0.8888888888888888,
              "#fdca26"
             ],
             [
              1,
              "#f0f921"
             ]
            ],
            "type": "histogram2d"
           }
          ],
          "histogram2dcontour": [
           {
            "colorbar": {
             "outlinewidth": 0,
             "ticks": ""
            },
            "colorscale": [
             [
              0,
              "#0d0887"
             ],
             [
              0.1111111111111111,
              "#46039f"
             ],
             [
              0.2222222222222222,
              "#7201a8"
             ],
             [
              0.3333333333333333,
              "#9c179e"
             ],
             [
              0.4444444444444444,
              "#bd3786"
             ],
             [
              0.5555555555555556,
              "#d8576b"
             ],
             [
              0.6666666666666666,
              "#ed7953"
             ],
             [
              0.7777777777777778,
              "#fb9f3a"
             ],
             [
              0.8888888888888888,
              "#fdca26"
             ],
             [
              1,
              "#f0f921"
             ]
            ],
            "type": "histogram2dcontour"
           }
          ],
          "mesh3d": [
           {
            "colorbar": {
             "outlinewidth": 0,
             "ticks": ""
            },
            "type": "mesh3d"
           }
          ],
          "parcoords": [
           {
            "line": {
             "colorbar": {
              "outlinewidth": 0,
              "ticks": ""
             }
            },
            "type": "parcoords"
           }
          ],
          "pie": [
           {
            "automargin": true,
            "type": "pie"
           }
          ],
          "scatter": [
           {
            "fillpattern": {
             "fillmode": "overlay",
             "size": 10,
             "solidity": 0.2
            },
            "type": "scatter"
           }
          ],
          "scatter3d": [
           {
            "line": {
             "colorbar": {
              "outlinewidth": 0,
              "ticks": ""
             }
            },
            "marker": {
             "colorbar": {
              "outlinewidth": 0,
              "ticks": ""
             }
            },
            "type": "scatter3d"
           }
          ],
          "scattercarpet": [
           {
            "marker": {
             "colorbar": {
              "outlinewidth": 0,
              "ticks": ""
             }
            },
            "type": "scattercarpet"
           }
          ],
          "scattergeo": [
           {
            "marker": {
             "colorbar": {
              "outlinewidth": 0,
              "ticks": ""
             }
            },
            "type": "scattergeo"
           }
          ],
          "scattergl": [
           {
            "marker": {
             "colorbar": {
              "outlinewidth": 0,
              "ticks": ""
             }
            },
            "type": "scattergl"
           }
          ],
          "scattermapbox": [
           {
            "marker": {
             "colorbar": {
              "outlinewidth": 0,
              "ticks": ""
             }
            },
            "type": "scattermapbox"
           }
          ],
          "scatterpolar": [
           {
            "marker": {
             "colorbar": {
              "outlinewidth": 0,
              "ticks": ""
             }
            },
            "type": "scatterpolar"
           }
          ],
          "scatterpolargl": [
           {
            "marker": {
             "colorbar": {
              "outlinewidth": 0,
              "ticks": ""
             }
            },
            "type": "scatterpolargl"
           }
          ],
          "scatterternary": [
           {
            "marker": {
             "colorbar": {
              "outlinewidth": 0,
              "ticks": ""
             }
            },
            "type": "scatterternary"
           }
          ],
          "surface": [
           {
            "colorbar": {
             "outlinewidth": 0,
             "ticks": ""
            },
            "colorscale": [
             [
              0,
              "#0d0887"
             ],
             [
              0.1111111111111111,
              "#46039f"
             ],
             [
              0.2222222222222222,
              "#7201a8"
             ],
             [
              0.3333333333333333,
              "#9c179e"
             ],
             [
              0.4444444444444444,
              "#bd3786"
             ],
             [
              0.5555555555555556,
              "#d8576b"
             ],
             [
              0.6666666666666666,
              "#ed7953"
             ],
             [
              0.7777777777777778,
              "#fb9f3a"
             ],
             [
              0.8888888888888888,
              "#fdca26"
             ],
             [
              1,
              "#f0f921"
             ]
            ],
            "type": "surface"
           }
          ],
          "table": [
           {
            "cells": {
             "fill": {
              "color": "#EBF0F8"
             },
             "line": {
              "color": "white"
             }
            },
            "header": {
             "fill": {
              "color": "#C8D4E3"
             },
             "line": {
              "color": "white"
             }
            },
            "type": "table"
           }
          ]
         },
         "layout": {
          "annotationdefaults": {
           "arrowcolor": "#2a3f5f",
           "arrowhead": 0,
           "arrowwidth": 1
          },
          "autotypenumbers": "strict",
          "coloraxis": {
           "colorbar": {
            "outlinewidth": 0,
            "ticks": ""
           }
          },
          "colorscale": {
           "diverging": [
            [
             0,
             "#8e0152"
            ],
            [
             0.1,
             "#c51b7d"
            ],
            [
             0.2,
             "#de77ae"
            ],
            [
             0.3,
             "#f1b6da"
            ],
            [
             0.4,
             "#fde0ef"
            ],
            [
             0.5,
             "#f7f7f7"
            ],
            [
             0.6,
             "#e6f5d0"
            ],
            [
             0.7,
             "#b8e186"
            ],
            [
             0.8,
             "#7fbc41"
            ],
            [
             0.9,
             "#4d9221"
            ],
            [
             1,
             "#276419"
            ]
           ],
           "sequential": [
            [
             0,
             "#0d0887"
            ],
            [
             0.1111111111111111,
             "#46039f"
            ],
            [
             0.2222222222222222,
             "#7201a8"
            ],
            [
             0.3333333333333333,
             "#9c179e"
            ],
            [
             0.4444444444444444,
             "#bd3786"
            ],
            [
             0.5555555555555556,
             "#d8576b"
            ],
            [
             0.6666666666666666,
             "#ed7953"
            ],
            [
             0.7777777777777778,
             "#fb9f3a"
            ],
            [
             0.8888888888888888,
             "#fdca26"
            ],
            [
             1,
             "#f0f921"
            ]
           ],
           "sequentialminus": [
            [
             0,
             "#0d0887"
            ],
            [
             0.1111111111111111,
             "#46039f"
            ],
            [
             0.2222222222222222,
             "#7201a8"
            ],
            [
             0.3333333333333333,
             "#9c179e"
            ],
            [
             0.4444444444444444,
             "#bd3786"
            ],
            [
             0.5555555555555556,
             "#d8576b"
            ],
            [
             0.6666666666666666,
             "#ed7953"
            ],
            [
             0.7777777777777778,
             "#fb9f3a"
            ],
            [
             0.8888888888888888,
             "#fdca26"
            ],
            [
             1,
             "#f0f921"
            ]
           ]
          },
          "colorway": [
           "#636efa",
           "#EF553B",
           "#00cc96",
           "#ab63fa",
           "#FFA15A",
           "#19d3f3",
           "#FF6692",
           "#B6E880",
           "#FF97FF",
           "#FECB52"
          ],
          "font": {
           "color": "#2a3f5f"
          },
          "geo": {
           "bgcolor": "white",
           "lakecolor": "white",
           "landcolor": "#E5ECF6",
           "showlakes": true,
           "showland": true,
           "subunitcolor": "white"
          },
          "hoverlabel": {
           "align": "left"
          },
          "hovermode": "closest",
          "mapbox": {
           "style": "light"
          },
          "paper_bgcolor": "white",
          "plot_bgcolor": "#E5ECF6",
          "polar": {
           "angularaxis": {
            "gridcolor": "white",
            "linecolor": "white",
            "ticks": ""
           },
           "bgcolor": "#E5ECF6",
           "radialaxis": {
            "gridcolor": "white",
            "linecolor": "white",
            "ticks": ""
           }
          },
          "scene": {
           "xaxis": {
            "backgroundcolor": "#E5ECF6",
            "gridcolor": "white",
            "gridwidth": 2,
            "linecolor": "white",
            "showbackground": true,
            "ticks": "",
            "zerolinecolor": "white"
           },
           "yaxis": {
            "backgroundcolor": "#E5ECF6",
            "gridcolor": "white",
            "gridwidth": 2,
            "linecolor": "white",
            "showbackground": true,
            "ticks": "",
            "zerolinecolor": "white"
           },
           "zaxis": {
            "backgroundcolor": "#E5ECF6",
            "gridcolor": "white",
            "gridwidth": 2,
            "linecolor": "white",
            "showbackground": true,
            "ticks": "",
            "zerolinecolor": "white"
           }
          },
          "shapedefaults": {
           "line": {
            "color": "#2a3f5f"
           }
          },
          "ternary": {
           "aaxis": {
            "gridcolor": "white",
            "linecolor": "white",
            "ticks": ""
           },
           "baxis": {
            "gridcolor": "white",
            "linecolor": "white",
            "ticks": ""
           },
           "bgcolor": "#E5ECF6",
           "caxis": {
            "gridcolor": "white",
            "linecolor": "white",
            "ticks": ""
           }
          },
          "title": {
           "x": 0.05
          },
          "xaxis": {
           "automargin": true,
           "gridcolor": "white",
           "linecolor": "white",
           "ticks": "",
           "title": {
            "standoff": 15
           },
           "zerolinecolor": "white",
           "zerolinewidth": 2
          },
          "yaxis": {
           "automargin": true,
           "gridcolor": "white",
           "linecolor": "white",
           "ticks": "",
           "title": {
            "standoff": 15
           },
           "zerolinecolor": "white",
           "zerolinewidth": 2
          }
         }
        },
        "width": 780
       }
      }
     },
     "metadata": {},
     "output_type": "display_data"
    }
   ],
   "source": [
    "# Créer une figure en radar pour chaque cluster\n",
    "fig = go.Figure()\n",
    "\n",
    "for cluster, row in df_mms.iterrows():\n",
    "    values = row.values.tolist()\n",
    "    \n",
    "\n",
    "    \n",
    "\n",
    "    fig.add_trace(go.Scatterpolar(\n",
    "        r=values,\n",
    "        theta=num_cols,\n",
    "        fill='toself',\n",
    "        name=f'Cluster {cluster}'\n",
    "    ))\n",
    "\n",
    "# Mettre en forme la figurenum_cols,\n",
    "fig.update_layout(\n",
    "    polar=dict(\n",
    "        radialaxis=dict(\n",
    "            visible=True,\n",
    "            range=[0, 5]\n",
    "        ),\n",
    "    ),\n",
    "    showlegend=True,\n",
    "    width=780,\n",
    "    height=780\n",
    "\n",
    ")\n",
    "\n",
    "# Afficher la figure\n",
    "fig.show()\n",
    "figsize = (60,60)"
   ]
  },
  {
   "cell_type": "code",
   "execution_count": 56,
   "metadata": {},
   "outputs": [],
   "source": [
    "# func_log = FunctionTransformer(func=np.log1p)\n",
    "# func_abs=FunctionTransformer(func=np.abs)\n",
    "\n",
    "# pipe_num= make_pipeline(func_abs,func_log)\n",
    "\n",
    "# transformer = make_column_transformer(\n",
    "#     (OneHotEncoder(sparse=False),make_column_selector(dtype_exclude=['float','int'])),\n",
    "#     (pipe_num,make_column_selector(dtype_include=np.number)),remainder='passthrough')\n",
    "\n",
    "\n",
    "# pipe_tsne = make_pipeline(transformer,TSNE()) \n",
    "# array_tsne=pipe_tsne.fit_transform(df)\n",
    "\n",
    "# kprototype = KPrototypes(n_jobs = -1, n_clusters =4, init = 'Huang', random_state = 0)\n",
    "# kprototype.fit_predict(array_tsne, categorical = [9,10])\n",
    "\n",
    "# df_tsne=pd.DataFrame(array_tsne,columns=['f1','f2'])\n",
    "# df_tsne['cluster_labels']=pd.Series(kprototype.labels_)\n",
    "\n",
    "# plt.scatter(df_tsne.f1,df_tsne.f2,c=df_tsne.cluster_labels)\n",
    "# plt.show()"
   ]
  },
  {
   "cell_type": "code",
   "execution_count": 57,
   "metadata": {},
   "outputs": [
    {
     "data": {
      "text/html": [
       "<div>\n",
       "<style scoped>\n",
       "    .dataframe tbody tr th:only-of-type {\n",
       "        vertical-align: middle;\n",
       "    }\n",
       "\n",
       "    .dataframe tbody tr th {\n",
       "        vertical-align: top;\n",
       "    }\n",
       "\n",
       "    .dataframe thead th {\n",
       "        text-align: right;\n",
       "    }\n",
       "</style>\n",
       "<table border=\"1\" class=\"dataframe\">\n",
       "  <thead>\n",
       "    <tr style=\"text-align: right;\">\n",
       "      <th></th>\n",
       "      <th>Automotive</th>\n",
       "      <th>Baby</th>\n",
       "      <th>Construction_Tools</th>\n",
       "      <th>Fashion_Accessories</th>\n",
       "      <th>Health_Beauty</th>\n",
       "      <th>Home</th>\n",
       "      <th>Office_Supplies</th>\n",
       "      <th>Sports_Leisure</th>\n",
       "      <th>Technology</th>\n",
       "      <th>Toys_Games</th>\n",
       "      <th>other</th>\n",
       "    </tr>\n",
       "  </thead>\n",
       "  <tbody>\n",
       "    <tr>\n",
       "      <th>0</th>\n",
       "      <td>3.125039</td>\n",
       "      <td>3.791292</td>\n",
       "      <td>2.249359</td>\n",
       "      <td>4.274029</td>\n",
       "      <td>3.120416</td>\n",
       "      <td>1.915102</td>\n",
       "      <td>5.000000</td>\n",
       "      <td>4.502751</td>\n",
       "      <td>1.027510</td>\n",
       "      <td>5.000000</td>\n",
       "      <td>1.000000</td>\n",
       "    </tr>\n",
       "    <tr>\n",
       "      <th>1</th>\n",
       "      <td>2.825060</td>\n",
       "      <td>1.263388</td>\n",
       "      <td>1.000000</td>\n",
       "      <td>1.032706</td>\n",
       "      <td>2.038173</td>\n",
       "      <td>1.024992</td>\n",
       "      <td>1.000000</td>\n",
       "      <td>1.983940</td>\n",
       "      <td>5.000000</td>\n",
       "      <td>2.300637</td>\n",
       "      <td>2.355224</td>\n",
       "    </tr>\n",
       "    <tr>\n",
       "      <th>2</th>\n",
       "      <td>1.000000</td>\n",
       "      <td>1.000000</td>\n",
       "      <td>5.000000</td>\n",
       "      <td>1.000000</td>\n",
       "      <td>1.000000</td>\n",
       "      <td>5.000000</td>\n",
       "      <td>3.346049</td>\n",
       "      <td>3.161105</td>\n",
       "      <td>1.314551</td>\n",
       "      <td>1.000000</td>\n",
       "      <td>1.678122</td>\n",
       "    </tr>\n",
       "    <tr>\n",
       "      <th>3</th>\n",
       "      <td>2.508526</td>\n",
       "      <td>3.177910</td>\n",
       "      <td>3.689592</td>\n",
       "      <td>2.671148</td>\n",
       "      <td>2.610198</td>\n",
       "      <td>2.340738</td>\n",
       "      <td>4.024915</td>\n",
       "      <td>5.000000</td>\n",
       "      <td>1.372795</td>\n",
       "      <td>3.530384</td>\n",
       "      <td>2.361245</td>\n",
       "    </tr>\n",
       "    <tr>\n",
       "      <th>4</th>\n",
       "      <td>5.000000</td>\n",
       "      <td>5.000000</td>\n",
       "      <td>2.540212</td>\n",
       "      <td>1.921403</td>\n",
       "      <td>3.997402</td>\n",
       "      <td>2.323421</td>\n",
       "      <td>1.850246</td>\n",
       "      <td>3.268105</td>\n",
       "      <td>1.756944</td>\n",
       "      <td>1.579356</td>\n",
       "      <td>5.000000</td>\n",
       "    </tr>\n",
       "    <tr>\n",
       "      <th>5</th>\n",
       "      <td>4.618693</td>\n",
       "      <td>4.946528</td>\n",
       "      <td>4.145205</td>\n",
       "      <td>5.000000</td>\n",
       "      <td>4.903448</td>\n",
       "      <td>1.000000</td>\n",
       "      <td>2.396862</td>\n",
       "      <td>1.000000</td>\n",
       "      <td>1.171432</td>\n",
       "      <td>4.051025</td>\n",
       "      <td>3.597457</td>\n",
       "    </tr>\n",
       "    <tr>\n",
       "      <th>6</th>\n",
       "      <td>3.195254</td>\n",
       "      <td>4.117505</td>\n",
       "      <td>3.864369</td>\n",
       "      <td>3.916737</td>\n",
       "      <td>5.000000</td>\n",
       "      <td>2.531389</td>\n",
       "      <td>3.248752</td>\n",
       "      <td>1.574032</td>\n",
       "      <td>1.000000</td>\n",
       "      <td>1.862494</td>\n",
       "      <td>3.279240</td>\n",
       "    </tr>\n",
       "    <tr>\n",
       "      <th>7</th>\n",
       "      <td>1.776685</td>\n",
       "      <td>3.841051</td>\n",
       "      <td>3.123793</td>\n",
       "      <td>2.491621</td>\n",
       "      <td>3.452831</td>\n",
       "      <td>3.099613</td>\n",
       "      <td>2.849090</td>\n",
       "      <td>4.442643</td>\n",
       "      <td>1.003487</td>\n",
       "      <td>3.505834</td>\n",
       "      <td>2.026940</td>\n",
       "    </tr>\n",
       "  </tbody>\n",
       "</table>\n",
       "</div>"
      ],
      "text/plain": [
       "   Automotive      Baby  Construction_Tools  Fashion_Accessories  \\\n",
       "0    3.125039  3.791292            2.249359             4.274029   \n",
       "1    2.825060  1.263388            1.000000             1.032706   \n",
       "2    1.000000  1.000000            5.000000             1.000000   \n",
       "3    2.508526  3.177910            3.689592             2.671148   \n",
       "4    5.000000  5.000000            2.540212             1.921403   \n",
       "5    4.618693  4.946528            4.145205             5.000000   \n",
       "6    3.195254  4.117505            3.864369             3.916737   \n",
       "7    1.776685  3.841051            3.123793             2.491621   \n",
       "\n",
       "   Health_Beauty      Home  Office_Supplies  Sports_Leisure  Technology  \\\n",
       "0       3.120416  1.915102         5.000000        4.502751    1.027510   \n",
       "1       2.038173  1.024992         1.000000        1.983940    5.000000   \n",
       "2       1.000000  5.000000         3.346049        3.161105    1.314551   \n",
       "3       2.610198  2.340738         4.024915        5.000000    1.372795   \n",
       "4       3.997402  2.323421         1.850246        3.268105    1.756944   \n",
       "5       4.903448  1.000000         2.396862        1.000000    1.171432   \n",
       "6       5.000000  2.531389         3.248752        1.574032    1.000000   \n",
       "7       3.452831  3.099613         2.849090        4.442643    1.003487   \n",
       "\n",
       "   Toys_Games     other  \n",
       "0    5.000000  1.000000  \n",
       "1    2.300637  2.355224  \n",
       "2    1.000000  1.678122  \n",
       "3    3.530384  2.361245  \n",
       "4    1.579356  5.000000  \n",
       "5    4.051025  3.597457  \n",
       "6    1.862494  3.279240  \n",
       "7    3.505834  2.026940  "
      ]
     },
     "execution_count": 57,
     "metadata": {},
     "output_type": "execute_result"
    }
   ],
   "source": [
    "dummy_product=pd.get_dummies(df.product_category,sparse=False)\n",
    "prod_col=dummy_product.columns.to_list()\n",
    "\n",
    "list_agg = {}\n",
    "for col in prod_col:\n",
    "    list_agg[f'{col}'] = 'sum'\n",
    "\n",
    "dummy_product['cluster_labels']=pd.Series(clustering.labels_)\n",
    "\n",
    "df_cat=dummy_product.groupby('cluster_labels').agg(list_agg)\n",
    "\n",
    "cluster_count=dummy_product.cluster_labels.value_counts().sort_index().to_list()\n",
    "for i in range(len(cluster_count)):\n",
    "    df_cat.iloc[i]=(df_cat.iloc[i])/(cluster_count[i])\n",
    "\n",
    "\n",
    "df_mms_cat=pd.DataFrame(mms.fit_transform(df_cat), columns=prod_col)\n",
    "df_mms_cat\n"
   ]
  },
  {
   "cell_type": "code",
   "execution_count": 58,
   "metadata": {},
   "outputs": [
    {
     "data": {
      "application/vnd.plotly.v1+json": {
       "config": {
        "plotlyServerURL": "https://plot.ly"
       },
       "data": [
        {
         "fill": "toself",
         "name": "Cluster 0",
         "r": [
          3.125039082192179,
          3.7912923823897278,
          2.2493593746262173,
          4.274028784092046,
          3.1204156059331636,
          1.9151024556587632,
          5,
          4.502751491824787,
          1.0275104124567962,
          5,
          1
         ],
         "theta": [
          "Automotive",
          "Baby",
          "Construction_Tools",
          "Fashion_Accessories",
          "Health_Beauty",
          "Home",
          "Office_Supplies",
          "Sports_Leisure",
          "Technology",
          "Toys_Games",
          "other"
         ],
         "type": "scatterpolar"
        },
        {
         "fill": "toself",
         "name": "Cluster 1",
         "r": [
          2.8250598272364127,
          1.2633883064396039,
          1,
          1.0327062124780721,
          2.0381731085495574,
          1.0249923994828687,
          1,
          1.9839403309922403,
          5,
          2.300637269939336,
          2.3552243289569015
         ],
         "theta": [
          "Automotive",
          "Baby",
          "Construction_Tools",
          "Fashion_Accessories",
          "Health_Beauty",
          "Home",
          "Office_Supplies",
          "Sports_Leisure",
          "Technology",
          "Toys_Games",
          "other"
         ],
         "type": "scatterpolar"
        },
        {
         "fill": "toself",
         "name": "Cluster 2",
         "r": [
          1,
          1,
          5,
          1,
          1,
          5,
          3.3460493023127436,
          3.161104925679733,
          1.3145510680318455,
          1,
          1.6781217735778444
         ],
         "theta": [
          "Automotive",
          "Baby",
          "Construction_Tools",
          "Fashion_Accessories",
          "Health_Beauty",
          "Home",
          "Office_Supplies",
          "Sports_Leisure",
          "Technology",
          "Toys_Games",
          "other"
         ],
         "type": "scatterpolar"
        },
        {
         "fill": "toself",
         "name": "Cluster 3",
         "r": [
          2.5085263312552004,
          3.1779101350935455,
          3.689592048074738,
          2.6711479723908704,
          2.6101980459528553,
          2.340738112319327,
          4.024915296879576,
          5,
          1.3727949985969201,
          3.5303835423294876,
          2.3612450562474985
         ],
         "theta": [
          "Automotive",
          "Baby",
          "Construction_Tools",
          "Fashion_Accessories",
          "Health_Beauty",
          "Home",
          "Office_Supplies",
          "Sports_Leisure",
          "Technology",
          "Toys_Games",
          "other"
         ],
         "type": "scatterpolar"
        },
        {
         "fill": "toself",
         "name": "Cluster 4",
         "r": [
          5,
          5,
          2.5402116111024005,
          1.9214025702936497,
          3.997401520378661,
          2.323421078077695,
          1.8502457480621437,
          3.2681049643002673,
          1.7569440532857676,
          1.5793562661533036,
          5.000000000000001
         ],
         "theta": [
          "Automotive",
          "Baby",
          "Construction_Tools",
          "Fashion_Accessories",
          "Health_Beauty",
          "Home",
          "Office_Supplies",
          "Sports_Leisure",
          "Technology",
          "Toys_Games",
          "other"
         ],
         "type": "scatterpolar"
        },
        {
         "fill": "toself",
         "name": "Cluster 5",
         "r": [
          4.618693082673737,
          4.946527987791006,
          4.145205252842711,
          5,
          4.90344783906322,
          1,
          2.3968619757110012,
          1,
          1.1714316437829697,
          4.051024982189427,
          3.597456609699436
         ],
         "theta": [
          "Automotive",
          "Baby",
          "Construction_Tools",
          "Fashion_Accessories",
          "Health_Beauty",
          "Home",
          "Office_Supplies",
          "Sports_Leisure",
          "Technology",
          "Toys_Games",
          "other"
         ],
         "type": "scatterpolar"
        },
        {
         "fill": "toself",
         "name": "Cluster 6",
         "r": [
          3.1952540362627997,
          4.1175050388640795,
          3.8643687511153795,
          3.916737490609205,
          4.999999999999999,
          2.531389089958277,
          3.2487518645028617,
          1.574032406743699,
          1,
          1.8624943120368322,
          3.2792397329531937
         ],
         "theta": [
          "Automotive",
          "Baby",
          "Construction_Tools",
          "Fashion_Accessories",
          "Health_Beauty",
          "Home",
          "Office_Supplies",
          "Sports_Leisure",
          "Technology",
          "Toys_Games",
          "other"
         ],
         "type": "scatterpolar"
        },
        {
         "fill": "toself",
         "name": "Cluster 7",
         "r": [
          1.7766851831365873,
          3.8410511607523925,
          3.1237933975508017,
          2.491621392295027,
          3.452831287269502,
          3.0996129520844695,
          2.8490899436642856,
          4.442643143319435,
          1.0034872882734063,
          3.5058340675253192,
          2.026939684761544
         ],
         "theta": [
          "Automotive",
          "Baby",
          "Construction_Tools",
          "Fashion_Accessories",
          "Health_Beauty",
          "Home",
          "Office_Supplies",
          "Sports_Leisure",
          "Technology",
          "Toys_Games",
          "other"
         ],
         "type": "scatterpolar"
        }
       ],
       "layout": {
        "height": 780,
        "polar": {
         "radialaxis": {
          "range": [
           0,
           5
          ],
          "visible": true
         }
        },
        "showlegend": true,
        "template": {
         "data": {
          "bar": [
           {
            "error_x": {
             "color": "#2a3f5f"
            },
            "error_y": {
             "color": "#2a3f5f"
            },
            "marker": {
             "line": {
              "color": "#E5ECF6",
              "width": 0.5
             },
             "pattern": {
              "fillmode": "overlay",
              "size": 10,
              "solidity": 0.2
             }
            },
            "type": "bar"
           }
          ],
          "barpolar": [
           {
            "marker": {
             "line": {
              "color": "#E5ECF6",
              "width": 0.5
             },
             "pattern": {
              "fillmode": "overlay",
              "size": 10,
              "solidity": 0.2
             }
            },
            "type": "barpolar"
           }
          ],
          "carpet": [
           {
            "aaxis": {
             "endlinecolor": "#2a3f5f",
             "gridcolor": "white",
             "linecolor": "white",
             "minorgridcolor": "white",
             "startlinecolor": "#2a3f5f"
            },
            "baxis": {
             "endlinecolor": "#2a3f5f",
             "gridcolor": "white",
             "linecolor": "white",
             "minorgridcolor": "white",
             "startlinecolor": "#2a3f5f"
            },
            "type": "carpet"
           }
          ],
          "choropleth": [
           {
            "colorbar": {
             "outlinewidth": 0,
             "ticks": ""
            },
            "type": "choropleth"
           }
          ],
          "contour": [
           {
            "colorbar": {
             "outlinewidth": 0,
             "ticks": ""
            },
            "colorscale": [
             [
              0,
              "#0d0887"
             ],
             [
              0.1111111111111111,
              "#46039f"
             ],
             [
              0.2222222222222222,
              "#7201a8"
             ],
             [
              0.3333333333333333,
              "#9c179e"
             ],
             [
              0.4444444444444444,
              "#bd3786"
             ],
             [
              0.5555555555555556,
              "#d8576b"
             ],
             [
              0.6666666666666666,
              "#ed7953"
             ],
             [
              0.7777777777777778,
              "#fb9f3a"
             ],
             [
              0.8888888888888888,
              "#fdca26"
             ],
             [
              1,
              "#f0f921"
             ]
            ],
            "type": "contour"
           }
          ],
          "contourcarpet": [
           {
            "colorbar": {
             "outlinewidth": 0,
             "ticks": ""
            },
            "type": "contourcarpet"
           }
          ],
          "heatmap": [
           {
            "colorbar": {
             "outlinewidth": 0,
             "ticks": ""
            },
            "colorscale": [
             [
              0,
              "#0d0887"
             ],
             [
              0.1111111111111111,
              "#46039f"
             ],
             [
              0.2222222222222222,
              "#7201a8"
             ],
             [
              0.3333333333333333,
              "#9c179e"
             ],
             [
              0.4444444444444444,
              "#bd3786"
             ],
             [
              0.5555555555555556,
              "#d8576b"
             ],
             [
              0.6666666666666666,
              "#ed7953"
             ],
             [
              0.7777777777777778,
              "#fb9f3a"
             ],
             [
              0.8888888888888888,
              "#fdca26"
             ],
             [
              1,
              "#f0f921"
             ]
            ],
            "type": "heatmap"
           }
          ],
          "heatmapgl": [
           {
            "colorbar": {
             "outlinewidth": 0,
             "ticks": ""
            },
            "colorscale": [
             [
              0,
              "#0d0887"
             ],
             [
              0.1111111111111111,
              "#46039f"
             ],
             [
              0.2222222222222222,
              "#7201a8"
             ],
             [
              0.3333333333333333,
              "#9c179e"
             ],
             [
              0.4444444444444444,
              "#bd3786"
             ],
             [
              0.5555555555555556,
              "#d8576b"
             ],
             [
              0.6666666666666666,
              "#ed7953"
             ],
             [
              0.7777777777777778,
              "#fb9f3a"
             ],
             [
              0.8888888888888888,
              "#fdca26"
             ],
             [
              1,
              "#f0f921"
             ]
            ],
            "type": "heatmapgl"
           }
          ],
          "histogram": [
           {
            "marker": {
             "pattern": {
              "fillmode": "overlay",
              "size": 10,
              "solidity": 0.2
             }
            },
            "type": "histogram"
           }
          ],
          "histogram2d": [
           {
            "colorbar": {
             "outlinewidth": 0,
             "ticks": ""
            },
            "colorscale": [
             [
              0,
              "#0d0887"
             ],
             [
              0.1111111111111111,
              "#46039f"
             ],
             [
              0.2222222222222222,
              "#7201a8"
             ],
             [
              0.3333333333333333,
              "#9c179e"
             ],
             [
              0.4444444444444444,
              "#bd3786"
             ],
             [
              0.5555555555555556,
              "#d8576b"
             ],
             [
              0.6666666666666666,
              "#ed7953"
             ],
             [
              0.7777777777777778,
              "#fb9f3a"
             ],
             [
              0.8888888888888888,
              "#fdca26"
             ],
             [
              1,
              "#f0f921"
             ]
            ],
            "type": "histogram2d"
           }
          ],
          "histogram2dcontour": [
           {
            "colorbar": {
             "outlinewidth": 0,
             "ticks": ""
            },
            "colorscale": [
             [
              0,
              "#0d0887"
             ],
             [
              0.1111111111111111,
              "#46039f"
             ],
             [
              0.2222222222222222,
              "#7201a8"
             ],
             [
              0.3333333333333333,
              "#9c179e"
             ],
             [
              0.4444444444444444,
              "#bd3786"
             ],
             [
              0.5555555555555556,
              "#d8576b"
             ],
             [
              0.6666666666666666,
              "#ed7953"
             ],
             [
              0.7777777777777778,
              "#fb9f3a"
             ],
             [
              0.8888888888888888,
              "#fdca26"
             ],
             [
              1,
              "#f0f921"
             ]
            ],
            "type": "histogram2dcontour"
           }
          ],
          "mesh3d": [
           {
            "colorbar": {
             "outlinewidth": 0,
             "ticks": ""
            },
            "type": "mesh3d"
           }
          ],
          "parcoords": [
           {
            "line": {
             "colorbar": {
              "outlinewidth": 0,
              "ticks": ""
             }
            },
            "type": "parcoords"
           }
          ],
          "pie": [
           {
            "automargin": true,
            "type": "pie"
           }
          ],
          "scatter": [
           {
            "fillpattern": {
             "fillmode": "overlay",
             "size": 10,
             "solidity": 0.2
            },
            "type": "scatter"
           }
          ],
          "scatter3d": [
           {
            "line": {
             "colorbar": {
              "outlinewidth": 0,
              "ticks": ""
             }
            },
            "marker": {
             "colorbar": {
              "outlinewidth": 0,
              "ticks": ""
             }
            },
            "type": "scatter3d"
           }
          ],
          "scattercarpet": [
           {
            "marker": {
             "colorbar": {
              "outlinewidth": 0,
              "ticks": ""
             }
            },
            "type": "scattercarpet"
           }
          ],
          "scattergeo": [
           {
            "marker": {
             "colorbar": {
              "outlinewidth": 0,
              "ticks": ""
             }
            },
            "type": "scattergeo"
           }
          ],
          "scattergl": [
           {
            "marker": {
             "colorbar": {
              "outlinewidth": 0,
              "ticks": ""
             }
            },
            "type": "scattergl"
           }
          ],
          "scattermapbox": [
           {
            "marker": {
             "colorbar": {
              "outlinewidth": 0,
              "ticks": ""
             }
            },
            "type": "scattermapbox"
           }
          ],
          "scatterpolar": [
           {
            "marker": {
             "colorbar": {
              "outlinewidth": 0,
              "ticks": ""
             }
            },
            "type": "scatterpolar"
           }
          ],
          "scatterpolargl": [
           {
            "marker": {
             "colorbar": {
              "outlinewidth": 0,
              "ticks": ""
             }
            },
            "type": "scatterpolargl"
           }
          ],
          "scatterternary": [
           {
            "marker": {
             "colorbar": {
              "outlinewidth": 0,
              "ticks": ""
             }
            },
            "type": "scatterternary"
           }
          ],
          "surface": [
           {
            "colorbar": {
             "outlinewidth": 0,
             "ticks": ""
            },
            "colorscale": [
             [
              0,
              "#0d0887"
             ],
             [
              0.1111111111111111,
              "#46039f"
             ],
             [
              0.2222222222222222,
              "#7201a8"
             ],
             [
              0.3333333333333333,
              "#9c179e"
             ],
             [
              0.4444444444444444,
              "#bd3786"
             ],
             [
              0.5555555555555556,
              "#d8576b"
             ],
             [
              0.6666666666666666,
              "#ed7953"
             ],
             [
              0.7777777777777778,
              "#fb9f3a"
             ],
             [
              0.8888888888888888,
              "#fdca26"
             ],
             [
              1,
              "#f0f921"
             ]
            ],
            "type": "surface"
           }
          ],
          "table": [
           {
            "cells": {
             "fill": {
              "color": "#EBF0F8"
             },
             "line": {
              "color": "white"
             }
            },
            "header": {
             "fill": {
              "color": "#C8D4E3"
             },
             "line": {
              "color": "white"
             }
            },
            "type": "table"
           }
          ]
         },
         "layout": {
          "annotationdefaults": {
           "arrowcolor": "#2a3f5f",
           "arrowhead": 0,
           "arrowwidth": 1
          },
          "autotypenumbers": "strict",
          "coloraxis": {
           "colorbar": {
            "outlinewidth": 0,
            "ticks": ""
           }
          },
          "colorscale": {
           "diverging": [
            [
             0,
             "#8e0152"
            ],
            [
             0.1,
             "#c51b7d"
            ],
            [
             0.2,
             "#de77ae"
            ],
            [
             0.3,
             "#f1b6da"
            ],
            [
             0.4,
             "#fde0ef"
            ],
            [
             0.5,
             "#f7f7f7"
            ],
            [
             0.6,
             "#e6f5d0"
            ],
            [
             0.7,
             "#b8e186"
            ],
            [
             0.8,
             "#7fbc41"
            ],
            [
             0.9,
             "#4d9221"
            ],
            [
             1,
             "#276419"
            ]
           ],
           "sequential": [
            [
             0,
             "#0d0887"
            ],
            [
             0.1111111111111111,
             "#46039f"
            ],
            [
             0.2222222222222222,
             "#7201a8"
            ],
            [
             0.3333333333333333,
             "#9c179e"
            ],
            [
             0.4444444444444444,
             "#bd3786"
            ],
            [
             0.5555555555555556,
             "#d8576b"
            ],
            [
             0.6666666666666666,
             "#ed7953"
            ],
            [
             0.7777777777777778,
             "#fb9f3a"
            ],
            [
             0.8888888888888888,
             "#fdca26"
            ],
            [
             1,
             "#f0f921"
            ]
           ],
           "sequentialminus": [
            [
             0,
             "#0d0887"
            ],
            [
             0.1111111111111111,
             "#46039f"
            ],
            [
             0.2222222222222222,
             "#7201a8"
            ],
            [
             0.3333333333333333,
             "#9c179e"
            ],
            [
             0.4444444444444444,
             "#bd3786"
            ],
            [
             0.5555555555555556,
             "#d8576b"
            ],
            [
             0.6666666666666666,
             "#ed7953"
            ],
            [
             0.7777777777777778,
             "#fb9f3a"
            ],
            [
             0.8888888888888888,
             "#fdca26"
            ],
            [
             1,
             "#f0f921"
            ]
           ]
          },
          "colorway": [
           "#636efa",
           "#EF553B",
           "#00cc96",
           "#ab63fa",
           "#FFA15A",
           "#19d3f3",
           "#FF6692",
           "#B6E880",
           "#FF97FF",
           "#FECB52"
          ],
          "font": {
           "color": "#2a3f5f"
          },
          "geo": {
           "bgcolor": "white",
           "lakecolor": "white",
           "landcolor": "#E5ECF6",
           "showlakes": true,
           "showland": true,
           "subunitcolor": "white"
          },
          "hoverlabel": {
           "align": "left"
          },
          "hovermode": "closest",
          "mapbox": {
           "style": "light"
          },
          "paper_bgcolor": "white",
          "plot_bgcolor": "#E5ECF6",
          "polar": {
           "angularaxis": {
            "gridcolor": "white",
            "linecolor": "white",
            "ticks": ""
           },
           "bgcolor": "#E5ECF6",
           "radialaxis": {
            "gridcolor": "white",
            "linecolor": "white",
            "ticks": ""
           }
          },
          "scene": {
           "xaxis": {
            "backgroundcolor": "#E5ECF6",
            "gridcolor": "white",
            "gridwidth": 2,
            "linecolor": "white",
            "showbackground": true,
            "ticks": "",
            "zerolinecolor": "white"
           },
           "yaxis": {
            "backgroundcolor": "#E5ECF6",
            "gridcolor": "white",
            "gridwidth": 2,
            "linecolor": "white",
            "showbackground": true,
            "ticks": "",
            "zerolinecolor": "white"
           },
           "zaxis": {
            "backgroundcolor": "#E5ECF6",
            "gridcolor": "white",
            "gridwidth": 2,
            "linecolor": "white",
            "showbackground": true,
            "ticks": "",
            "zerolinecolor": "white"
           }
          },
          "shapedefaults": {
           "line": {
            "color": "#2a3f5f"
           }
          },
          "ternary": {
           "aaxis": {
            "gridcolor": "white",
            "linecolor": "white",
            "ticks": ""
           },
           "baxis": {
            "gridcolor": "white",
            "linecolor": "white",
            "ticks": ""
           },
           "bgcolor": "#E5ECF6",
           "caxis": {
            "gridcolor": "white",
            "linecolor": "white",
            "ticks": ""
           }
          },
          "title": {
           "x": 0.05
          },
          "xaxis": {
           "automargin": true,
           "gridcolor": "white",
           "linecolor": "white",
           "ticks": "",
           "title": {
            "standoff": 15
           },
           "zerolinecolor": "white",
           "zerolinewidth": 2
          },
          "yaxis": {
           "automargin": true,
           "gridcolor": "white",
           "linecolor": "white",
           "ticks": "",
           "title": {
            "standoff": 15
           },
           "zerolinecolor": "white",
           "zerolinewidth": 2
          }
         }
        },
        "width": 780
       }
      }
     },
     "metadata": {},
     "output_type": "display_data"
    }
   ],
   "source": [
    "# Créer une figure en radar pour chaque cluster\n",
    "fig = go.Figure()\n",
    "\n",
    "for cluster, row in df_mms_cat.iterrows():\n",
    "    values = row.values.tolist()\n",
    "    \n",
    "\n",
    "    \n",
    "\n",
    "    fig.add_trace(go.Scatterpolar(\n",
    "        r=values,\n",
    "        theta=prod_col,\n",
    "        fill='toself',\n",
    "        name=f'Cluster {cluster}'\n",
    "    ))\n",
    "\n",
    "# Mettre en forme la figurenum_cols,\n",
    "fig.update_layout(\n",
    "    polar=dict(\n",
    "        radialaxis=dict(\n",
    "            visible=True,\n",
    "            range=[0, 5]\n",
    "        ),\n",
    "    ),\n",
    "    showlegend=True,\n",
    "    width=780,\n",
    "    height=780\n",
    "\n",
    ")\n",
    "\n",
    "# Afficher la figure\n",
    "fig.show()\n",
    "figsize = (60,60)"
   ]
  }
 ],
 "metadata": {
  "kernelspec": {
   "display_name": "model_env",
   "language": "python",
   "name": "python3"
  },
  "language_info": {
   "codemirror_mode": {
    "name": "ipython",
    "version": 3
   },
   "file_extension": ".py",
   "mimetype": "text/x-python",
   "name": "python",
   "nbconvert_exporter": "python",
   "pygments_lexer": "ipython3",
   "version": "3.9.15"
  },
  "orig_nbformat": 4,
  "vscode": {
   "interpreter": {
    "hash": "b0ccbecc6e0aafc6ccc6ffa588f3248f9ee48af41cea802920ac51a94fbfb1b9"
   }
  }
 },
 "nbformat": 4,
 "nbformat_minor": 2
}
