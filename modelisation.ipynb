{
 "cells": [
  {
   "cell_type": "code",
   "execution_count": 866,
   "metadata": {},
   "outputs": [],
   "source": [
    "# Import module for data manipulation\n",
    "import pandas as pd\n",
    "# Import module for linear algebra\n",
    "import numpy as np\n",
    "# Import module for data visualization\n",
    "import matplotlib.pyplot as plt\n",
    "import plotly.graph_objects as go\n",
    "import plotly.express as px\n",
    "import seaborn as sns\n",
    "# Import module for k-means\n",
    "from sklearn.cluster import KMeans, DBSCAN\n",
    "#import module k-prototype\n",
    "from kmodes.kprototypes import KPrototypes\n",
    "# Ignore warnings\n",
    "import warnings\n",
    "warnings.filterwarnings('ignore', category = FutureWarning)\n",
    "# Format scientific notation from Pandas\n",
    "pd.set_option('display.max_columns', None)\n",
    "\n",
    "#Pour l'Ari\n",
    "from sklearn.metrics.cluster import adjusted_rand_score\n",
    "\n",
    "# prepocessing sklearn\n",
    "from sklearn.compose import make_column_transformer,make_column_selector\n",
    "from sklearn.preprocessing import OneHotEncoder, StandardScaler, RobustScaler, MinMaxScaler, FunctionTransformer\n",
    "from sklearn.decomposition import PCA\n",
    "from sklearn.pipeline import make_pipeline\n",
    "from sklearn.manifold import TSNE\n",
    "\n",
    "#Pour la localisation du coude\n",
    "from kneed import KneeLocator, DataGenerator as dg"
   ]
  },
  {
   "cell_type": "code",
   "execution_count": 867,
   "metadata": {},
   "outputs": [
    {
     "data": {
      "text/html": [
       "<div>\n",
       "<style scoped>\n",
       "    .dataframe tbody tr th:only-of-type {\n",
       "        vertical-align: middle;\n",
       "    }\n",
       "\n",
       "    .dataframe tbody tr th {\n",
       "        vertical-align: top;\n",
       "    }\n",
       "\n",
       "    .dataframe thead th {\n",
       "        text-align: right;\n",
       "    }\n",
       "</style>\n",
       "<table border=\"1\" class=\"dataframe\">\n",
       "  <thead>\n",
       "    <tr style=\"text-align: right;\">\n",
       "      <th></th>\n",
       "      <th>payment_type</th>\n",
       "      <th>product_category</th>\n",
       "      <th>payment_installments</th>\n",
       "      <th>orders</th>\n",
       "      <th>products</th>\n",
       "      <th>sellers</th>\n",
       "      <th>payment_value</th>\n",
       "      <th>review_score</th>\n",
       "      <th>price</th>\n",
       "      <th>freight_value</th>\n",
       "      <th>recency</th>\n",
       "    </tr>\n",
       "  </thead>\n",
       "  <tbody>\n",
       "    <tr>\n",
       "      <th>0</th>\n",
       "      <td>credit_card</td>\n",
       "      <td>Home</td>\n",
       "      <td>8</td>\n",
       "      <td>1</td>\n",
       "      <td>1</td>\n",
       "      <td>1</td>\n",
       "      <td>141.90</td>\n",
       "      <td>5.0</td>\n",
       "      <td>129.90</td>\n",
       "      <td>12.00</td>\n",
       "      <td>112</td>\n",
       "    </tr>\n",
       "    <tr>\n",
       "      <th>1</th>\n",
       "      <td>credit_card</td>\n",
       "      <td>Health_Beauty</td>\n",
       "      <td>1</td>\n",
       "      <td>1</td>\n",
       "      <td>1</td>\n",
       "      <td>1</td>\n",
       "      <td>27.19</td>\n",
       "      <td>4.0</td>\n",
       "      <td>18.90</td>\n",
       "      <td>8.29</td>\n",
       "      <td>115</td>\n",
       "    </tr>\n",
       "    <tr>\n",
       "      <th>2</th>\n",
       "      <td>credit_card</td>\n",
       "      <td>Office_Supplies</td>\n",
       "      <td>8</td>\n",
       "      <td>1</td>\n",
       "      <td>1</td>\n",
       "      <td>1</td>\n",
       "      <td>86.22</td>\n",
       "      <td>3.0</td>\n",
       "      <td>69.00</td>\n",
       "      <td>17.22</td>\n",
       "      <td>538</td>\n",
       "    </tr>\n",
       "    <tr>\n",
       "      <th>3</th>\n",
       "      <td>credit_card</td>\n",
       "      <td>Technology</td>\n",
       "      <td>4</td>\n",
       "      <td>1</td>\n",
       "      <td>1</td>\n",
       "      <td>1</td>\n",
       "      <td>43.62</td>\n",
       "      <td>4.0</td>\n",
       "      <td>25.99</td>\n",
       "      <td>17.63</td>\n",
       "      <td>322</td>\n",
       "    </tr>\n",
       "    <tr>\n",
       "      <th>4</th>\n",
       "      <td>credit_card</td>\n",
       "      <td>Technology</td>\n",
       "      <td>6</td>\n",
       "      <td>1</td>\n",
       "      <td>1</td>\n",
       "      <td>1</td>\n",
       "      <td>196.89</td>\n",
       "      <td>5.0</td>\n",
       "      <td>180.00</td>\n",
       "      <td>16.89</td>\n",
       "      <td>289</td>\n",
       "    </tr>\n",
       "    <tr>\n",
       "      <th>...</th>\n",
       "      <td>...</td>\n",
       "      <td>...</td>\n",
       "      <td>...</td>\n",
       "      <td>...</td>\n",
       "      <td>...</td>\n",
       "      <td>...</td>\n",
       "      <td>...</td>\n",
       "      <td>...</td>\n",
       "      <td>...</td>\n",
       "      <td>...</td>\n",
       "      <td>...</td>\n",
       "    </tr>\n",
       "    <tr>\n",
       "      <th>91474</th>\n",
       "      <td>credit_card</td>\n",
       "      <td>Health_Beauty</td>\n",
       "      <td>10</td>\n",
       "      <td>2</td>\n",
       "      <td>2</td>\n",
       "      <td>2</td>\n",
       "      <td>4134.84</td>\n",
       "      <td>5.0</td>\n",
       "      <td>785.00</td>\n",
       "      <td>248.71</td>\n",
       "      <td>448</td>\n",
       "    </tr>\n",
       "    <tr>\n",
       "      <th>91475</th>\n",
       "      <td>credit_card</td>\n",
       "      <td>Baby</td>\n",
       "      <td>1</td>\n",
       "      <td>1</td>\n",
       "      <td>1</td>\n",
       "      <td>1</td>\n",
       "      <td>84.58</td>\n",
       "      <td>4.0</td>\n",
       "      <td>64.89</td>\n",
       "      <td>19.69</td>\n",
       "      <td>263</td>\n",
       "    </tr>\n",
       "    <tr>\n",
       "      <th>91476</th>\n",
       "      <td>credit_card</td>\n",
       "      <td>Automotive</td>\n",
       "      <td>1</td>\n",
       "      <td>1</td>\n",
       "      <td>1</td>\n",
       "      <td>1</td>\n",
       "      <td>112.46</td>\n",
       "      <td>5.0</td>\n",
       "      <td>89.90</td>\n",
       "      <td>22.56</td>\n",
       "      <td>569</td>\n",
       "    </tr>\n",
       "    <tr>\n",
       "      <th>91477</th>\n",
       "      <td>credit_card</td>\n",
       "      <td>Fashion_Accessories</td>\n",
       "      <td>5</td>\n",
       "      <td>1</td>\n",
       "      <td>1</td>\n",
       "      <td>1</td>\n",
       "      <td>133.69</td>\n",
       "      <td>5.0</td>\n",
       "      <td>115.00</td>\n",
       "      <td>18.69</td>\n",
       "      <td>120</td>\n",
       "    </tr>\n",
       "    <tr>\n",
       "      <th>91478</th>\n",
       "      <td>credit_card</td>\n",
       "      <td>Health_Beauty</td>\n",
       "      <td>4</td>\n",
       "      <td>1</td>\n",
       "      <td>1</td>\n",
       "      <td>1</td>\n",
       "      <td>71.56</td>\n",
       "      <td>5.0</td>\n",
       "      <td>56.99</td>\n",
       "      <td>14.57</td>\n",
       "      <td>485</td>\n",
       "    </tr>\n",
       "  </tbody>\n",
       "</table>\n",
       "<p>91479 rows × 11 columns</p>\n",
       "</div>"
      ],
      "text/plain": [
       "      payment_type     product_category  payment_installments  orders  \\\n",
       "0      credit_card                 Home                     8       1   \n",
       "1      credit_card        Health_Beauty                     1       1   \n",
       "2      credit_card      Office_Supplies                     8       1   \n",
       "3      credit_card           Technology                     4       1   \n",
       "4      credit_card           Technology                     6       1   \n",
       "...            ...                  ...                   ...     ...   \n",
       "91474  credit_card        Health_Beauty                    10       2   \n",
       "91475  credit_card                 Baby                     1       1   \n",
       "91476  credit_card           Automotive                     1       1   \n",
       "91477  credit_card  Fashion_Accessories                     5       1   \n",
       "91478  credit_card        Health_Beauty                     4       1   \n",
       "\n",
       "       products  sellers  payment_value  review_score   price  freight_value  \\\n",
       "0             1        1         141.90           5.0  129.90          12.00   \n",
       "1             1        1          27.19           4.0   18.90           8.29   \n",
       "2             1        1          86.22           3.0   69.00          17.22   \n",
       "3             1        1          43.62           4.0   25.99          17.63   \n",
       "4             1        1         196.89           5.0  180.00          16.89   \n",
       "...         ...      ...            ...           ...     ...            ...   \n",
       "91474         2        2        4134.84           5.0  785.00         248.71   \n",
       "91475         1        1          84.58           4.0   64.89          19.69   \n",
       "91476         1        1         112.46           5.0   89.90          22.56   \n",
       "91477         1        1         133.69           5.0  115.00          18.69   \n",
       "91478         1        1          71.56           5.0   56.99          14.57   \n",
       "\n",
       "       recency  \n",
       "0          112  \n",
       "1          115  \n",
       "2          538  \n",
       "3          322  \n",
       "4          289  \n",
       "...        ...  \n",
       "91474      448  \n",
       "91475      263  \n",
       "91476      569  \n",
       "91477      120  \n",
       "91478      485  \n",
       "\n",
       "[91479 rows x 11 columns]"
      ]
     },
     "execution_count": 867,
     "metadata": {},
     "output_type": "execute_result"
    }
   ],
   "source": [
    "df = pd.read_csv('data.csv')\n",
    "df.rename(columns={\"order_item_id\": \"orders\", \"product_id\": \"products\", \"seller_id\":'sellers'}, inplace=True)\n",
    "df['payment_installments']=df['payment_installments'].astype('int64')\n",
    "df= df.drop(['customer_city','customer_state','customer_zip_code_prefix','seller_city','seller_state','customer_unique_id.1','order_purchase_timestamp','customer_unique_id'], axis=1)\n",
    "df"
   ]
  },
  {
   "cell_type": "code",
   "execution_count": 868,
   "metadata": {},
   "outputs": [
    {
     "data": {
      "text/plain": [
       "Home                   22393\n",
       "Technology             13021\n",
       "Health_Beauty          11351\n",
       "Fashion_Accessories     8533\n",
       "Toys_Games              7941\n",
       "Sports_Leisure          7101\n",
       "other                   6291\n",
       "Construction_Tools      5003\n",
       "Automotive              3722\n",
       "Office_Supplies         3370\n",
       "Baby                    2753\n",
       "Name: product_category, dtype: int64"
      ]
     },
     "execution_count": 868,
     "metadata": {},
     "output_type": "execute_result"
    }
   ],
   "source": [
    "from collections import Counter\n",
    "\n",
    "outre_cat=list((Counter(df.product_category.value_counts().index.to_list())-Counter(df.product_category.value_counts().index.to_list()[0:10])).elements())\n",
    "outre_cat\n",
    "df.replace(outre_cat,\"other\", inplace=True)\n",
    "df.product_category.value_counts()"
   ]
  },
  {
   "cell_type": "code",
   "execution_count": 869,
   "metadata": {},
   "outputs": [],
   "source": [
    "transformer = make_column_transformer(\n",
    "    (OneHotEncoder(sparse=False),make_column_selector(dtype_exclude=np.number)),\n",
    "    (MinMaxScaler(),make_column_selector(dtype_include=np.number))\n",
    "    )"
   ]
  },
  {
   "cell_type": "code",
   "execution_count": 870,
   "metadata": {},
   "outputs": [
    {
     "data": {
      "text/html": [
       "<div>\n",
       "<style scoped>\n",
       "    .dataframe tbody tr th:only-of-type {\n",
       "        vertical-align: middle;\n",
       "    }\n",
       "\n",
       "    .dataframe tbody tr th {\n",
       "        vertical-align: top;\n",
       "    }\n",
       "\n",
       "    .dataframe thead th {\n",
       "        text-align: right;\n",
       "    }\n",
       "</style>\n",
       "<table border=\"1\" class=\"dataframe\">\n",
       "  <thead>\n",
       "    <tr style=\"text-align: right;\">\n",
       "      <th></th>\n",
       "      <th>0</th>\n",
       "      <th>1</th>\n",
       "      <th>2</th>\n",
       "      <th>3</th>\n",
       "      <th>4</th>\n",
       "      <th>5</th>\n",
       "      <th>6</th>\n",
       "      <th>7</th>\n",
       "      <th>8</th>\n",
       "      <th>9</th>\n",
       "      <th>10</th>\n",
       "      <th>11</th>\n",
       "      <th>12</th>\n",
       "      <th>13</th>\n",
       "      <th>14</th>\n",
       "      <th>15</th>\n",
       "      <th>16</th>\n",
       "      <th>17</th>\n",
       "      <th>18</th>\n",
       "      <th>19</th>\n",
       "      <th>20</th>\n",
       "      <th>21</th>\n",
       "      <th>22</th>\n",
       "      <th>23</th>\n",
       "    </tr>\n",
       "  </thead>\n",
       "  <tbody>\n",
       "    <tr>\n",
       "      <th>0</th>\n",
       "      <td>0.0</td>\n",
       "      <td>1.0</td>\n",
       "      <td>0.0</td>\n",
       "      <td>0.0</td>\n",
       "      <td>0.0</td>\n",
       "      <td>0.0</td>\n",
       "      <td>0.0</td>\n",
       "      <td>0.0</td>\n",
       "      <td>0.0</td>\n",
       "      <td>1.0</td>\n",
       "      <td>0.0</td>\n",
       "      <td>0.0</td>\n",
       "      <td>0.0</td>\n",
       "      <td>0.0</td>\n",
       "      <td>0.0</td>\n",
       "      <td>0.333333</td>\n",
       "      <td>0.000000</td>\n",
       "      <td>0.000000</td>\n",
       "      <td>0.000000</td>\n",
       "      <td>0.001210</td>\n",
       "      <td>1.00</td>\n",
       "      <td>0.019164</td>\n",
       "      <td>0.029291</td>\n",
       "      <td>0.159712</td>\n",
       "    </tr>\n",
       "    <tr>\n",
       "      <th>1</th>\n",
       "      <td>0.0</td>\n",
       "      <td>1.0</td>\n",
       "      <td>0.0</td>\n",
       "      <td>0.0</td>\n",
       "      <td>0.0</td>\n",
       "      <td>0.0</td>\n",
       "      <td>0.0</td>\n",
       "      <td>0.0</td>\n",
       "      <td>1.0</td>\n",
       "      <td>0.0</td>\n",
       "      <td>0.0</td>\n",
       "      <td>0.0</td>\n",
       "      <td>0.0</td>\n",
       "      <td>0.0</td>\n",
       "      <td>0.0</td>\n",
       "      <td>0.041667</td>\n",
       "      <td>0.000000</td>\n",
       "      <td>0.000000</td>\n",
       "      <td>0.000000</td>\n",
       "      <td>0.000161</td>\n",
       "      <td>0.75</td>\n",
       "      <td>0.002680</td>\n",
       "      <td>0.020235</td>\n",
       "      <td>0.164029</td>\n",
       "    </tr>\n",
       "    <tr>\n",
       "      <th>2</th>\n",
       "      <td>0.0</td>\n",
       "      <td>1.0</td>\n",
       "      <td>0.0</td>\n",
       "      <td>0.0</td>\n",
       "      <td>0.0</td>\n",
       "      <td>0.0</td>\n",
       "      <td>0.0</td>\n",
       "      <td>0.0</td>\n",
       "      <td>0.0</td>\n",
       "      <td>0.0</td>\n",
       "      <td>1.0</td>\n",
       "      <td>0.0</td>\n",
       "      <td>0.0</td>\n",
       "      <td>0.0</td>\n",
       "      <td>0.0</td>\n",
       "      <td>0.333333</td>\n",
       "      <td>0.000000</td>\n",
       "      <td>0.000000</td>\n",
       "      <td>0.000000</td>\n",
       "      <td>0.000701</td>\n",
       "      <td>0.50</td>\n",
       "      <td>0.010120</td>\n",
       "      <td>0.042033</td>\n",
       "      <td>0.772662</td>\n",
       "    </tr>\n",
       "    <tr>\n",
       "      <th>3</th>\n",
       "      <td>0.0</td>\n",
       "      <td>1.0</td>\n",
       "      <td>0.0</td>\n",
       "      <td>0.0</td>\n",
       "      <td>0.0</td>\n",
       "      <td>0.0</td>\n",
       "      <td>0.0</td>\n",
       "      <td>0.0</td>\n",
       "      <td>0.0</td>\n",
       "      <td>0.0</td>\n",
       "      <td>0.0</td>\n",
       "      <td>0.0</td>\n",
       "      <td>1.0</td>\n",
       "      <td>0.0</td>\n",
       "      <td>0.0</td>\n",
       "      <td>0.166667</td>\n",
       "      <td>0.000000</td>\n",
       "      <td>0.000000</td>\n",
       "      <td>0.000000</td>\n",
       "      <td>0.000311</td>\n",
       "      <td>0.75</td>\n",
       "      <td>0.003733</td>\n",
       "      <td>0.043034</td>\n",
       "      <td>0.461871</td>\n",
       "    </tr>\n",
       "    <tr>\n",
       "      <th>4</th>\n",
       "      <td>0.0</td>\n",
       "      <td>1.0</td>\n",
       "      <td>0.0</td>\n",
       "      <td>0.0</td>\n",
       "      <td>0.0</td>\n",
       "      <td>0.0</td>\n",
       "      <td>0.0</td>\n",
       "      <td>0.0</td>\n",
       "      <td>0.0</td>\n",
       "      <td>0.0</td>\n",
       "      <td>0.0</td>\n",
       "      <td>0.0</td>\n",
       "      <td>1.0</td>\n",
       "      <td>0.0</td>\n",
       "      <td>0.0</td>\n",
       "      <td>0.250000</td>\n",
       "      <td>0.000000</td>\n",
       "      <td>0.000000</td>\n",
       "      <td>0.000000</td>\n",
       "      <td>0.001714</td>\n",
       "      <td>1.00</td>\n",
       "      <td>0.026603</td>\n",
       "      <td>0.041227</td>\n",
       "      <td>0.414388</td>\n",
       "    </tr>\n",
       "    <tr>\n",
       "      <th>...</th>\n",
       "      <td>...</td>\n",
       "      <td>...</td>\n",
       "      <td>...</td>\n",
       "      <td>...</td>\n",
       "      <td>...</td>\n",
       "      <td>...</td>\n",
       "      <td>...</td>\n",
       "      <td>...</td>\n",
       "      <td>...</td>\n",
       "      <td>...</td>\n",
       "      <td>...</td>\n",
       "      <td>...</td>\n",
       "      <td>...</td>\n",
       "      <td>...</td>\n",
       "      <td>...</td>\n",
       "      <td>...</td>\n",
       "      <td>...</td>\n",
       "      <td>...</td>\n",
       "      <td>...</td>\n",
       "      <td>...</td>\n",
       "      <td>...</td>\n",
       "      <td>...</td>\n",
       "      <td>...</td>\n",
       "      <td>...</td>\n",
       "    </tr>\n",
       "    <tr>\n",
       "      <th>91474</th>\n",
       "      <td>0.0</td>\n",
       "      <td>1.0</td>\n",
       "      <td>0.0</td>\n",
       "      <td>0.0</td>\n",
       "      <td>0.0</td>\n",
       "      <td>0.0</td>\n",
       "      <td>0.0</td>\n",
       "      <td>0.0</td>\n",
       "      <td>1.0</td>\n",
       "      <td>0.0</td>\n",
       "      <td>0.0</td>\n",
       "      <td>0.0</td>\n",
       "      <td>0.0</td>\n",
       "      <td>0.0</td>\n",
       "      <td>0.0</td>\n",
       "      <td>0.416667</td>\n",
       "      <td>0.013514</td>\n",
       "      <td>0.013514</td>\n",
       "      <td>0.013514</td>\n",
       "      <td>0.037741</td>\n",
       "      <td>1.00</td>\n",
       "      <td>0.116444</td>\n",
       "      <td>0.607084</td>\n",
       "      <td>0.643165</td>\n",
       "    </tr>\n",
       "    <tr>\n",
       "      <th>91475</th>\n",
       "      <td>0.0</td>\n",
       "      <td>1.0</td>\n",
       "      <td>0.0</td>\n",
       "      <td>0.0</td>\n",
       "      <td>0.0</td>\n",
       "      <td>1.0</td>\n",
       "      <td>0.0</td>\n",
       "      <td>0.0</td>\n",
       "      <td>0.0</td>\n",
       "      <td>0.0</td>\n",
       "      <td>0.0</td>\n",
       "      <td>0.0</td>\n",
       "      <td>0.0</td>\n",
       "      <td>0.0</td>\n",
       "      <td>0.0</td>\n",
       "      <td>0.041667</td>\n",
       "      <td>0.000000</td>\n",
       "      <td>0.000000</td>\n",
       "      <td>0.000000</td>\n",
       "      <td>0.000686</td>\n",
       "      <td>0.75</td>\n",
       "      <td>0.009510</td>\n",
       "      <td>0.048062</td>\n",
       "      <td>0.376978</td>\n",
       "    </tr>\n",
       "    <tr>\n",
       "      <th>91476</th>\n",
       "      <td>0.0</td>\n",
       "      <td>1.0</td>\n",
       "      <td>0.0</td>\n",
       "      <td>0.0</td>\n",
       "      <td>1.0</td>\n",
       "      <td>0.0</td>\n",
       "      <td>0.0</td>\n",
       "      <td>0.0</td>\n",
       "      <td>0.0</td>\n",
       "      <td>0.0</td>\n",
       "      <td>0.0</td>\n",
       "      <td>0.0</td>\n",
       "      <td>0.0</td>\n",
       "      <td>0.0</td>\n",
       "      <td>0.0</td>\n",
       "      <td>0.041667</td>\n",
       "      <td>0.000000</td>\n",
       "      <td>0.000000</td>\n",
       "      <td>0.000000</td>\n",
       "      <td>0.000941</td>\n",
       "      <td>1.00</td>\n",
       "      <td>0.013224</td>\n",
       "      <td>0.055067</td>\n",
       "      <td>0.817266</td>\n",
       "    </tr>\n",
       "    <tr>\n",
       "      <th>91477</th>\n",
       "      <td>0.0</td>\n",
       "      <td>1.0</td>\n",
       "      <td>0.0</td>\n",
       "      <td>0.0</td>\n",
       "      <td>0.0</td>\n",
       "      <td>0.0</td>\n",
       "      <td>0.0</td>\n",
       "      <td>1.0</td>\n",
       "      <td>0.0</td>\n",
       "      <td>0.0</td>\n",
       "      <td>0.0</td>\n",
       "      <td>0.0</td>\n",
       "      <td>0.0</td>\n",
       "      <td>0.0</td>\n",
       "      <td>0.0</td>\n",
       "      <td>0.208333</td>\n",
       "      <td>0.000000</td>\n",
       "      <td>0.000000</td>\n",
       "      <td>0.000000</td>\n",
       "      <td>0.001135</td>\n",
       "      <td>1.00</td>\n",
       "      <td>0.016951</td>\n",
       "      <td>0.045621</td>\n",
       "      <td>0.171223</td>\n",
       "    </tr>\n",
       "    <tr>\n",
       "      <th>91478</th>\n",
       "      <td>0.0</td>\n",
       "      <td>1.0</td>\n",
       "      <td>0.0</td>\n",
       "      <td>0.0</td>\n",
       "      <td>0.0</td>\n",
       "      <td>0.0</td>\n",
       "      <td>0.0</td>\n",
       "      <td>0.0</td>\n",
       "      <td>1.0</td>\n",
       "      <td>0.0</td>\n",
       "      <td>0.0</td>\n",
       "      <td>0.0</td>\n",
       "      <td>0.0</td>\n",
       "      <td>0.0</td>\n",
       "      <td>0.0</td>\n",
       "      <td>0.166667</td>\n",
       "      <td>0.000000</td>\n",
       "      <td>0.000000</td>\n",
       "      <td>0.000000</td>\n",
       "      <td>0.000567</td>\n",
       "      <td>1.00</td>\n",
       "      <td>0.008337</td>\n",
       "      <td>0.035564</td>\n",
       "      <td>0.696403</td>\n",
       "    </tr>\n",
       "  </tbody>\n",
       "</table>\n",
       "<p>91479 rows × 24 columns</p>\n",
       "</div>"
      ],
      "text/plain": [
       "        0    1    2    3    4    5    6    7    8    9    10   11   12   13  \\\n",
       "0      0.0  1.0  0.0  0.0  0.0  0.0  0.0  0.0  0.0  1.0  0.0  0.0  0.0  0.0   \n",
       "1      0.0  1.0  0.0  0.0  0.0  0.0  0.0  0.0  1.0  0.0  0.0  0.0  0.0  0.0   \n",
       "2      0.0  1.0  0.0  0.0  0.0  0.0  0.0  0.0  0.0  0.0  1.0  0.0  0.0  0.0   \n",
       "3      0.0  1.0  0.0  0.0  0.0  0.0  0.0  0.0  0.0  0.0  0.0  0.0  1.0  0.0   \n",
       "4      0.0  1.0  0.0  0.0  0.0  0.0  0.0  0.0  0.0  0.0  0.0  0.0  1.0  0.0   \n",
       "...    ...  ...  ...  ...  ...  ...  ...  ...  ...  ...  ...  ...  ...  ...   \n",
       "91474  0.0  1.0  0.0  0.0  0.0  0.0  0.0  0.0  1.0  0.0  0.0  0.0  0.0  0.0   \n",
       "91475  0.0  1.0  0.0  0.0  0.0  1.0  0.0  0.0  0.0  0.0  0.0  0.0  0.0  0.0   \n",
       "91476  0.0  1.0  0.0  0.0  1.0  0.0  0.0  0.0  0.0  0.0  0.0  0.0  0.0  0.0   \n",
       "91477  0.0  1.0  0.0  0.0  0.0  0.0  0.0  1.0  0.0  0.0  0.0  0.0  0.0  0.0   \n",
       "91478  0.0  1.0  0.0  0.0  0.0  0.0  0.0  0.0  1.0  0.0  0.0  0.0  0.0  0.0   \n",
       "\n",
       "        14        15        16        17        18        19    20        21  \\\n",
       "0      0.0  0.333333  0.000000  0.000000  0.000000  0.001210  1.00  0.019164   \n",
       "1      0.0  0.041667  0.000000  0.000000  0.000000  0.000161  0.75  0.002680   \n",
       "2      0.0  0.333333  0.000000  0.000000  0.000000  0.000701  0.50  0.010120   \n",
       "3      0.0  0.166667  0.000000  0.000000  0.000000  0.000311  0.75  0.003733   \n",
       "4      0.0  0.250000  0.000000  0.000000  0.000000  0.001714  1.00  0.026603   \n",
       "...    ...       ...       ...       ...       ...       ...   ...       ...   \n",
       "91474  0.0  0.416667  0.013514  0.013514  0.013514  0.037741  1.00  0.116444   \n",
       "91475  0.0  0.041667  0.000000  0.000000  0.000000  0.000686  0.75  0.009510   \n",
       "91476  0.0  0.041667  0.000000  0.000000  0.000000  0.000941  1.00  0.013224   \n",
       "91477  0.0  0.208333  0.000000  0.000000  0.000000  0.001135  1.00  0.016951   \n",
       "91478  0.0  0.166667  0.000000  0.000000  0.000000  0.000567  1.00  0.008337   \n",
       "\n",
       "             22        23  \n",
       "0      0.029291  0.159712  \n",
       "1      0.020235  0.164029  \n",
       "2      0.042033  0.772662  \n",
       "3      0.043034  0.461871  \n",
       "4      0.041227  0.414388  \n",
       "...         ...       ...  \n",
       "91474  0.607084  0.643165  \n",
       "91475  0.048062  0.376978  \n",
       "91476  0.055067  0.817266  \n",
       "91477  0.045621  0.171223  \n",
       "91478  0.035564  0.696403  \n",
       "\n",
       "[91479 rows x 24 columns]"
      ]
     },
     "execution_count": 870,
     "metadata": {},
     "output_type": "execute_result"
    }
   ],
   "source": [
    "df = transformer.fit_transform(df)\n",
    "df=pd.DataFrame(df)\n",
    "df"
   ]
  },
  {
   "cell_type": "code",
   "execution_count": 871,
   "metadata": {},
   "outputs": [
    {
     "name": "stdout",
     "output_type": "stream",
     "text": [
      "Cluster initiation: 1\n",
      "Cluster initiation: 2\n",
      "Cluster initiation: 3\n",
      "Cluster initiation: 4\n",
      "Cluster initiation: 5\n",
      "Cluster initiation: 6\n",
      "Cluster initiation: 7\n",
      "Cluster initiation: 8\n",
      "Cluster initiation: 9\n"
     ]
    }
   ],
   "source": [
    "# Choose optimal K using Elbow method\n",
    "inertia = []\n",
    "for cluster in range(1, 10):\n",
    "        kmeans = KMeans( n_clusters = cluster)\n",
    "        kmeans.fit(df)\n",
    "        inertia.append(kmeans.inertia_)\n",
    "        print('Cluster initiation: {}'.format(cluster))\n",
    "\n"
   ]
  },
  {
   "cell_type": "code",
   "execution_count": 872,
   "metadata": {},
   "outputs": [
    {
     "data": {
      "text/plain": [
       "Text(0, 0.5, 'Cout du modèle (inertia)')"
      ]
     },
     "execution_count": 872,
     "metadata": {},
     "output_type": "execute_result"
    },
    {
     "data": {
      "image/png": "[encoded data removed]",
      "text/plain": [
       "<Figure size 600x600 with 1 Axes>"
      ]
     },
     "metadata": {},
     "output_type": "display_data"
    }
   ],
   "source": [
    "x,y = range(1,9),inertia[:-1]\n",
    "kl = KneeLocator(x,y, curve='convex')\n",
    "kl.plot_knee()\n",
    "plt.xlabel('nombre de cluster')\n",
    "plt.ylabel('Cout du modèle (inertia)')"
   ]
  },
  {
   "cell_type": "code",
   "execution_count": 873,
   "metadata": {},
   "outputs": [
    {
     "data": {
      "text/html": [
       "<div>\n",
       "<style scoped>\n",
       "    .dataframe tbody tr th:only-of-type {\n",
       "        vertical-align: middle;\n",
       "    }\n",
       "\n",
       "    .dataframe tbody tr th {\n",
       "        vertical-align: top;\n",
       "    }\n",
       "\n",
       "    .dataframe thead th {\n",
       "        text-align: right;\n",
       "    }\n",
       "</style>\n",
       "<table border=\"1\" class=\"dataframe\">\n",
       "  <thead>\n",
       "    <tr style=\"text-align: right;\">\n",
       "      <th></th>\n",
       "      <th>payment_type</th>\n",
       "      <th>product_category</th>\n",
       "      <th>payment_installments</th>\n",
       "      <th>orders</th>\n",
       "      <th>products</th>\n",
       "      <th>sellers</th>\n",
       "      <th>payment_value</th>\n",
       "      <th>review_score</th>\n",
       "      <th>price</th>\n",
       "      <th>freight_value</th>\n",
       "      <th>recency</th>\n",
       "    </tr>\n",
       "  </thead>\n",
       "  <tbody>\n",
       "    <tr>\n",
       "      <th>0</th>\n",
       "      <td>credit_card</td>\n",
       "      <td>Home</td>\n",
       "      <td>8</td>\n",
       "      <td>1</td>\n",
       "      <td>1</td>\n",
       "      <td>1</td>\n",
       "      <td>141.90</td>\n",
       "      <td>5.0</td>\n",
       "      <td>129.90</td>\n",
       "      <td>12.00</td>\n",
       "      <td>112</td>\n",
       "    </tr>\n",
       "    <tr>\n",
       "      <th>1</th>\n",
       "      <td>credit_card</td>\n",
       "      <td>Health_Beauty</td>\n",
       "      <td>1</td>\n",
       "      <td>1</td>\n",
       "      <td>1</td>\n",
       "      <td>1</td>\n",
       "      <td>27.19</td>\n",
       "      <td>4.0</td>\n",
       "      <td>18.90</td>\n",
       "      <td>8.29</td>\n",
       "      <td>115</td>\n",
       "    </tr>\n",
       "    <tr>\n",
       "      <th>2</th>\n",
       "      <td>credit_card</td>\n",
       "      <td>Office_Supplies</td>\n",
       "      <td>8</td>\n",
       "      <td>1</td>\n",
       "      <td>1</td>\n",
       "      <td>1</td>\n",
       "      <td>86.22</td>\n",
       "      <td>3.0</td>\n",
       "      <td>69.00</td>\n",
       "      <td>17.22</td>\n",
       "      <td>538</td>\n",
       "    </tr>\n",
       "    <tr>\n",
       "      <th>3</th>\n",
       "      <td>credit_card</td>\n",
       "      <td>Technology</td>\n",
       "      <td>4</td>\n",
       "      <td>1</td>\n",
       "      <td>1</td>\n",
       "      <td>1</td>\n",
       "      <td>43.62</td>\n",
       "      <td>4.0</td>\n",
       "      <td>25.99</td>\n",
       "      <td>17.63</td>\n",
       "      <td>322</td>\n",
       "    </tr>\n",
       "    <tr>\n",
       "      <th>4</th>\n",
       "      <td>credit_card</td>\n",
       "      <td>Technology</td>\n",
       "      <td>6</td>\n",
       "      <td>1</td>\n",
       "      <td>1</td>\n",
       "      <td>1</td>\n",
       "      <td>196.89</td>\n",
       "      <td>5.0</td>\n",
       "      <td>180.00</td>\n",
       "      <td>16.89</td>\n",
       "      <td>289</td>\n",
       "    </tr>\n",
       "    <tr>\n",
       "      <th>...</th>\n",
       "      <td>...</td>\n",
       "      <td>...</td>\n",
       "      <td>...</td>\n",
       "      <td>...</td>\n",
       "      <td>...</td>\n",
       "      <td>...</td>\n",
       "      <td>...</td>\n",
       "      <td>...</td>\n",
       "      <td>...</td>\n",
       "      <td>...</td>\n",
       "      <td>...</td>\n",
       "    </tr>\n",
       "    <tr>\n",
       "      <th>91474</th>\n",
       "      <td>credit_card</td>\n",
       "      <td>Health_Beauty</td>\n",
       "      <td>10</td>\n",
       "      <td>2</td>\n",
       "      <td>2</td>\n",
       "      <td>2</td>\n",
       "      <td>4134.84</td>\n",
       "      <td>5.0</td>\n",
       "      <td>785.00</td>\n",
       "      <td>248.71</td>\n",
       "      <td>448</td>\n",
       "    </tr>\n",
       "    <tr>\n",
       "      <th>91475</th>\n",
       "      <td>credit_card</td>\n",
       "      <td>Baby</td>\n",
       "      <td>1</td>\n",
       "      <td>1</td>\n",
       "      <td>1</td>\n",
       "      <td>1</td>\n",
       "      <td>84.58</td>\n",
       "      <td>4.0</td>\n",
       "      <td>64.89</td>\n",
       "      <td>19.69</td>\n",
       "      <td>263</td>\n",
       "    </tr>\n",
       "    <tr>\n",
       "      <th>91476</th>\n",
       "      <td>credit_card</td>\n",
       "      <td>Automotive</td>\n",
       "      <td>1</td>\n",
       "      <td>1</td>\n",
       "      <td>1</td>\n",
       "      <td>1</td>\n",
       "      <td>112.46</td>\n",
       "      <td>5.0</td>\n",
       "      <td>89.90</td>\n",
       "      <td>22.56</td>\n",
       "      <td>569</td>\n",
       "    </tr>\n",
       "    <tr>\n",
       "      <th>91477</th>\n",
       "      <td>credit_card</td>\n",
       "      <td>Fashion_Accessories</td>\n",
       "      <td>5</td>\n",
       "      <td>1</td>\n",
       "      <td>1</td>\n",
       "      <td>1</td>\n",
       "      <td>133.69</td>\n",
       "      <td>5.0</td>\n",
       "      <td>115.00</td>\n",
       "      <td>18.69</td>\n",
       "      <td>120</td>\n",
       "    </tr>\n",
       "    <tr>\n",
       "      <th>91478</th>\n",
       "      <td>credit_card</td>\n",
       "      <td>Health_Beauty</td>\n",
       "      <td>4</td>\n",
       "      <td>1</td>\n",
       "      <td>1</td>\n",
       "      <td>1</td>\n",
       "      <td>71.56</td>\n",
       "      <td>5.0</td>\n",
       "      <td>56.99</td>\n",
       "      <td>14.57</td>\n",
       "      <td>485</td>\n",
       "    </tr>\n",
       "  </tbody>\n",
       "</table>\n",
       "<p>91479 rows × 11 columns</p>\n",
       "</div>"
      ],
      "text/plain": [
       "      payment_type     product_category  payment_installments  orders  \\\n",
       "0      credit_card                 Home                     8       1   \n",
       "1      credit_card        Health_Beauty                     1       1   \n",
       "2      credit_card      Office_Supplies                     8       1   \n",
       "3      credit_card           Technology                     4       1   \n",
       "4      credit_card           Technology                     6       1   \n",
       "...            ...                  ...                   ...     ...   \n",
       "91474  credit_card        Health_Beauty                    10       2   \n",
       "91475  credit_card                 Baby                     1       1   \n",
       "91476  credit_card           Automotive                     1       1   \n",
       "91477  credit_card  Fashion_Accessories                     5       1   \n",
       "91478  credit_card        Health_Beauty                     4       1   \n",
       "\n",
       "       products  sellers  payment_value  review_score   price  freight_value  \\\n",
       "0             1        1         141.90           5.0  129.90          12.00   \n",
       "1             1        1          27.19           4.0   18.90           8.29   \n",
       "2             1        1          86.22           3.0   69.00          17.22   \n",
       "3             1        1          43.62           4.0   25.99          17.63   \n",
       "4             1        1         196.89           5.0  180.00          16.89   \n",
       "...         ...      ...            ...           ...     ...            ...   \n",
       "91474         2        2        4134.84           5.0  785.00         248.71   \n",
       "91475         1        1          84.58           4.0   64.89          19.69   \n",
       "91476         1        1         112.46           5.0   89.90          22.56   \n",
       "91477         1        1         133.69           5.0  115.00          18.69   \n",
       "91478         1        1          71.56           5.0   56.99          14.57   \n",
       "\n",
       "       recency  \n",
       "0          112  \n",
       "1          115  \n",
       "2          538  \n",
       "3          322  \n",
       "4          289  \n",
       "...        ...  \n",
       "91474      448  \n",
       "91475      263  \n",
       "91476      569  \n",
       "91477      120  \n",
       "91478      485  \n",
       "\n",
       "[91479 rows x 11 columns]"
      ]
     },
     "execution_count": 873,
     "metadata": {},
     "output_type": "execute_result"
    }
   ],
   "source": [
    "df = pd.read_csv('data.csv')\n",
    "df.rename(columns={\"order_item_id\": \"orders\", \"product_id\": \"products\", \"seller_id\":'sellers'}, inplace=True)\n",
    "df['payment_installments']=df['payment_installments'].astype('int64')\n",
    "df= df.drop(['customer_city','customer_state','customer_zip_code_prefix','seller_city','seller_state','customer_unique_id.1','order_purchase_timestamp','customer_unique_id'], axis=1)\n",
    "df"
   ]
  },
  {
   "cell_type": "code",
   "execution_count": 874,
   "metadata": {},
   "outputs": [
    {
     "data": {
      "text/plain": [
       "array([2.1972245773362196, 0.6931471805599453, 0.6931471805599453,\n",
       "       0.6931471805599453, 4.9621450849358215, 1.791759469228055,\n",
       "       4.874433672915854, 2.5649493574615367, 4.727387818712341,\n",
       "       'credit_card', 'Home'], dtype=object)"
      ]
     },
     "execution_count": 874,
     "metadata": {},
     "output_type": "execute_result"
    }
   ],
   "source": [
    "a = FunctionTransformer(func=np.log1p)\n",
    "preprocessing = make_column_transformer((a,make_column_selector(dtype_include=np.number)),remainder='passthrough')\n",
    "log=preprocessing.fit_transform(df)\n",
    "log[0]"
   ]
  },
  {
   "cell_type": "code",
   "execution_count": 886,
   "metadata": {},
   "outputs": [
    {
     "data": {
      "image/png": "[encoded data removed]",
      "text/plain": [
       "<Figure size 640x480 with 1 Axes>"
      ]
     },
     "metadata": {},
     "output_type": "display_data"
    }
   ],
   "source": [
    "func_log = FunctionTransformer(func=np.log1p)\n",
    "func_abs=FunctionTransformer(func=np.abs)\n",
    "\n",
    "pipe_num= make_pipeline(func_abs,func_log)\n",
    "\n",
    "transformer = make_column_transformer(\n",
    "    (OneHotEncoder(sparse=False),make_column_selector(dtype_exclude=['float','int'])),\n",
    "    (pipe_num,make_column_selector(dtype_include=['float','int']))\n",
    "    )\n",
    "\n",
    "pca=PCA(n_components=0.95)\n",
    "pipe_pca= make_pipeline(transformer,pca)\n",
    "\n",
    "df_acp=pd.DataFrame(pipe_pca.fit_transform(df))\n",
    "\n",
    "\n",
    "clustering =KMeans(n_clusters=8).fit(df_acp)\n",
    "df_acp['cluster_labels']=pd.Series(clustering.labels_)\n",
    "\n",
    "sns.scatterplot(data=df_acp, x=0, y=1, hue='cluster_labels', palette='colorblind')\n",
    "plt.title('Projection des clients sur les axes explicants au mieux la variance ')\n",
    "plt.xlabel(\"F1 (variance expliquée: 35%)\")\n",
    "plt.ylabel(\"F2 (variance expliquée: 19%)\")\n",
    "plt.show()"
   ]
  },
  {
   "cell_type": "code",
   "execution_count": 878,
   "metadata": {},
   "outputs": [
    {
     "name": "stdout",
     "output_type": "stream",
     "text": [
      "[0.35 0.19 0.09 0.06 0.05 0.04 0.03 0.03 0.02 0.02 0.02 0.02 0.01 0.01]\n"
     ]
    }
   ],
   "source": [
    "print(pca.explained_variance_ratio_.round(2))"
   ]
  },
  {
   "cell_type": "code",
   "execution_count": null,
   "metadata": {},
   "outputs": [
    {
     "data": {
      "text/html": [
       "<div>\n",
       "<style scoped>\n",
       "    .dataframe tbody tr th:only-of-type {\n",
       "        vertical-align: middle;\n",
       "    }\n",
       "\n",
       "    .dataframe tbody tr th {\n",
       "        vertical-align: top;\n",
       "    }\n",
       "\n",
       "    .dataframe thead th {\n",
       "        text-align: right;\n",
       "    }\n",
       "</style>\n",
       "<table border=\"1\" class=\"dataframe\">\n",
       "  <thead>\n",
       "    <tr style=\"text-align: right;\">\n",
       "      <th></th>\n",
       "      <th>payment_type</th>\n",
       "      <th>product_category</th>\n",
       "      <th>payment_installments</th>\n",
       "      <th>orders</th>\n",
       "      <th>products</th>\n",
       "      <th>sellers</th>\n",
       "      <th>payment_value</th>\n",
       "      <th>review_score</th>\n",
       "      <th>price</th>\n",
       "      <th>freight_value</th>\n",
       "      <th>recency</th>\n",
       "      <th>cluster_labels</th>\n",
       "    </tr>\n",
       "  </thead>\n",
       "  <tbody>\n",
       "    <tr>\n",
       "      <th>0</th>\n",
       "      <td>credit_card</td>\n",
       "      <td>Home</td>\n",
       "      <td>8</td>\n",
       "      <td>1</td>\n",
       "      <td>1</td>\n",
       "      <td>1</td>\n",
       "      <td>141.90</td>\n",
       "      <td>5.0</td>\n",
       "      <td>129.90</td>\n",
       "      <td>12.00</td>\n",
       "      <td>112</td>\n",
       "      <td>5</td>\n",
       "    </tr>\n",
       "    <tr>\n",
       "      <th>1</th>\n",
       "      <td>credit_card</td>\n",
       "      <td>Health_Beauty</td>\n",
       "      <td>1</td>\n",
       "      <td>1</td>\n",
       "      <td>1</td>\n",
       "      <td>1</td>\n",
       "      <td>27.19</td>\n",
       "      <td>4.0</td>\n",
       "      <td>18.90</td>\n",
       "      <td>8.29</td>\n",
       "      <td>115</td>\n",
       "      <td>1</td>\n",
       "    </tr>\n",
       "    <tr>\n",
       "      <th>2</th>\n",
       "      <td>credit_card</td>\n",
       "      <td>Office_Supplies</td>\n",
       "      <td>8</td>\n",
       "      <td>1</td>\n",
       "      <td>1</td>\n",
       "      <td>1</td>\n",
       "      <td>86.22</td>\n",
       "      <td>3.0</td>\n",
       "      <td>69.00</td>\n",
       "      <td>17.22</td>\n",
       "      <td>538</td>\n",
       "      <td>3</td>\n",
       "    </tr>\n",
       "    <tr>\n",
       "      <th>3</th>\n",
       "      <td>credit_card</td>\n",
       "      <td>Technology</td>\n",
       "      <td>4</td>\n",
       "      <td>1</td>\n",
       "      <td>1</td>\n",
       "      <td>1</td>\n",
       "      <td>43.62</td>\n",
       "      <td>4.0</td>\n",
       "      <td>25.99</td>\n",
       "      <td>17.63</td>\n",
       "      <td>322</td>\n",
       "      <td>1</td>\n",
       "    </tr>\n",
       "    <tr>\n",
       "      <th>4</th>\n",
       "      <td>credit_card</td>\n",
       "      <td>Technology</td>\n",
       "      <td>6</td>\n",
       "      <td>1</td>\n",
       "      <td>1</td>\n",
       "      <td>1</td>\n",
       "      <td>196.89</td>\n",
       "      <td>5.0</td>\n",
       "      <td>180.00</td>\n",
       "      <td>16.89</td>\n",
       "      <td>289</td>\n",
       "      <td>5</td>\n",
       "    </tr>\n",
       "    <tr>\n",
       "      <th>...</th>\n",
       "      <td>...</td>\n",
       "      <td>...</td>\n",
       "      <td>...</td>\n",
       "      <td>...</td>\n",
       "      <td>...</td>\n",
       "      <td>...</td>\n",
       "      <td>...</td>\n",
       "      <td>...</td>\n",
       "      <td>...</td>\n",
       "      <td>...</td>\n",
       "      <td>...</td>\n",
       "      <td>...</td>\n",
       "    </tr>\n",
       "    <tr>\n",
       "      <th>91474</th>\n",
       "      <td>credit_card</td>\n",
       "      <td>Health_Beauty</td>\n",
       "      <td>10</td>\n",
       "      <td>2</td>\n",
       "      <td>2</td>\n",
       "      <td>2</td>\n",
       "      <td>4134.84</td>\n",
       "      <td>5.0</td>\n",
       "      <td>785.00</td>\n",
       "      <td>248.71</td>\n",
       "      <td>448</td>\n",
       "      <td>7</td>\n",
       "    </tr>\n",
       "    <tr>\n",
       "      <th>91475</th>\n",
       "      <td>credit_card</td>\n",
       "      <td>Baby</td>\n",
       "      <td>1</td>\n",
       "      <td>1</td>\n",
       "      <td>1</td>\n",
       "      <td>1</td>\n",
       "      <td>84.58</td>\n",
       "      <td>4.0</td>\n",
       "      <td>64.89</td>\n",
       "      <td>19.69</td>\n",
       "      <td>263</td>\n",
       "      <td>3</td>\n",
       "    </tr>\n",
       "    <tr>\n",
       "      <th>91476</th>\n",
       "      <td>credit_card</td>\n",
       "      <td>Automotive</td>\n",
       "      <td>1</td>\n",
       "      <td>1</td>\n",
       "      <td>1</td>\n",
       "      <td>1</td>\n",
       "      <td>112.46</td>\n",
       "      <td>5.0</td>\n",
       "      <td>89.90</td>\n",
       "      <td>22.56</td>\n",
       "      <td>569</td>\n",
       "      <td>3</td>\n",
       "    </tr>\n",
       "    <tr>\n",
       "      <th>91477</th>\n",
       "      <td>credit_card</td>\n",
       "      <td>Fashion_Accessories</td>\n",
       "      <td>5</td>\n",
       "      <td>1</td>\n",
       "      <td>1</td>\n",
       "      <td>1</td>\n",
       "      <td>133.69</td>\n",
       "      <td>5.0</td>\n",
       "      <td>115.00</td>\n",
       "      <td>18.69</td>\n",
       "      <td>120</td>\n",
       "      <td>5</td>\n",
       "    </tr>\n",
       "    <tr>\n",
       "      <th>91478</th>\n",
       "      <td>credit_card</td>\n",
       "      <td>Health_Beauty</td>\n",
       "      <td>4</td>\n",
       "      <td>1</td>\n",
       "      <td>1</td>\n",
       "      <td>1</td>\n",
       "      <td>71.56</td>\n",
       "      <td>5.0</td>\n",
       "      <td>56.99</td>\n",
       "      <td>14.57</td>\n",
       "      <td>485</td>\n",
       "      <td>3</td>\n",
       "    </tr>\n",
       "  </tbody>\n",
       "</table>\n",
       "<p>91479 rows × 12 columns</p>\n",
       "</div>"
      ],
      "text/plain": [
       "      payment_type     product_category  payment_installments  orders  \\\n",
       "0      credit_card                 Home                     8       1   \n",
       "1      credit_card        Health_Beauty                     1       1   \n",
       "2      credit_card      Office_Supplies                     8       1   \n",
       "3      credit_card           Technology                     4       1   \n",
       "4      credit_card           Technology                     6       1   \n",
       "...            ...                  ...                   ...     ...   \n",
       "91474  credit_card        Health_Beauty                    10       2   \n",
       "91475  credit_card                 Baby                     1       1   \n",
       "91476  credit_card           Automotive                     1       1   \n",
       "91477  credit_card  Fashion_Accessories                     5       1   \n",
       "91478  credit_card        Health_Beauty                     4       1   \n",
       "\n",
       "       products  sellers  payment_value  review_score   price  freight_value  \\\n",
       "0             1        1         141.90           5.0  129.90          12.00   \n",
       "1             1        1          27.19           4.0   18.90           8.29   \n",
       "2             1        1          86.22           3.0   69.00          17.22   \n",
       "3             1        1          43.62           4.0   25.99          17.63   \n",
       "4             1        1         196.89           5.0  180.00          16.89   \n",
       "...         ...      ...            ...           ...     ...            ...   \n",
       "91474         2        2        4134.84           5.0  785.00         248.71   \n",
       "91475         1        1          84.58           4.0   64.89          19.69   \n",
       "91476         1        1         112.46           5.0   89.90          22.56   \n",
       "91477         1        1         133.69           5.0  115.00          18.69   \n",
       "91478         1        1          71.56           5.0   56.99          14.57   \n",
       "\n",
       "       recency  cluster_labels  \n",
       "0          112               5  \n",
       "1          115               1  \n",
       "2          538               3  \n",
       "3          322               1  \n",
       "4          289               5  \n",
       "...        ...             ...  \n",
       "91474      448               7  \n",
       "91475      263               3  \n",
       "91476      569               3  \n",
       "91477      120               5  \n",
       "91478      485               3  \n",
       "\n",
       "[91479 rows x 12 columns]"
      ]
     },
     "execution_count": 834,
     "metadata": {},
     "output_type": "execute_result"
    }
   ],
   "source": [
    "df['cluster_labels']=pd.Series(clustering.labels_)\n",
    "df"
   ]
  },
  {
   "cell_type": "code",
   "execution_count": null,
   "metadata": {},
   "outputs": [
    {
     "name": "stderr",
     "output_type": "stream",
     "text": [
      "/tmp/ipykernel_61276/115792397.py:6: SettingWithCopyWarning:\n",
      "\n",
      "\n",
      "A value is trying to be set on a copy of a slice from a DataFrame.\n",
      "Try using .loc[row_indexer,col_indexer] = value instead\n",
      "\n",
      "See the caveats in the documentation: https://pandas.pydata.org/pandas-docs/stable/user_guide/indexing.html#returning-a-view-versus-a-copy\n",
      "\n"
     ]
    },
    {
     "data": {
      "text/html": [
       "<div>\n",
       "<style scoped>\n",
       "    .dataframe tbody tr th:only-of-type {\n",
       "        vertical-align: middle;\n",
       "    }\n",
       "\n",
       "    .dataframe tbody tr th {\n",
       "        vertical-align: top;\n",
       "    }\n",
       "\n",
       "    .dataframe thead th {\n",
       "        text-align: right;\n",
       "    }\n",
       "</style>\n",
       "<table border=\"1\" class=\"dataframe\">\n",
       "  <thead>\n",
       "    <tr style=\"text-align: right;\">\n",
       "      <th></th>\n",
       "      <th>payment_installments</th>\n",
       "      <th>orders</th>\n",
       "      <th>products</th>\n",
       "      <th>sellers</th>\n",
       "      <th>payment_value</th>\n",
       "      <th>review_score</th>\n",
       "      <th>price</th>\n",
       "      <th>freight_value</th>\n",
       "      <th>recency</th>\n",
       "    </tr>\n",
       "  </thead>\n",
       "  <tbody>\n",
       "    <tr>\n",
       "      <th>0</th>\n",
       "      <td>3.033653</td>\n",
       "      <td>1.229943</td>\n",
       "      <td>1.229943</td>\n",
       "      <td>1.229943</td>\n",
       "      <td>1.858942</td>\n",
       "      <td>4.926327</td>\n",
       "      <td>1.873712</td>\n",
       "      <td>2.694883</td>\n",
       "      <td>1.057080</td>\n",
       "    </tr>\n",
       "    <tr>\n",
       "      <th>1</th>\n",
       "      <td>1.357602</td>\n",
       "      <td>1.103892</td>\n",
       "      <td>1.103892</td>\n",
       "      <td>1.103892</td>\n",
       "      <td>1.000000</td>\n",
       "      <td>4.210517</td>\n",
       "      <td>1.000000</td>\n",
       "      <td>1.000000</td>\n",
       "      <td>4.839874</td>\n",
       "    </tr>\n",
       "    <tr>\n",
       "      <th>2</th>\n",
       "      <td>1.000000</td>\n",
       "      <td>1.165950</td>\n",
       "      <td>1.165950</td>\n",
       "      <td>1.165950</td>\n",
       "      <td>1.468854</td>\n",
       "      <td>3.994422</td>\n",
       "      <td>1.521504</td>\n",
       "      <td>1.771819</td>\n",
       "      <td>4.841790</td>\n",
       "    </tr>\n",
       "    <tr>\n",
       "      <th>3</th>\n",
       "      <td>2.188230</td>\n",
       "      <td>1.116030</td>\n",
       "      <td>1.116030</td>\n",
       "      <td>1.116030</td>\n",
       "      <td>1.226571</td>\n",
       "      <td>4.154143</td>\n",
       "      <td>1.276193</td>\n",
       "      <td>1.291022</td>\n",
       "      <td>4.810994</td>\n",
       "    </tr>\n",
       "    <tr>\n",
       "      <th>4</th>\n",
       "      <td>3.108886</td>\n",
       "      <td>5.000000</td>\n",
       "      <td>5.000000</td>\n",
       "      <td>5.000000</td>\n",
       "      <td>4.457608</td>\n",
       "      <td>1.000000</td>\n",
       "      <td>1.409735</td>\n",
       "      <td>1.625443</td>\n",
       "      <td>4.560200</td>\n",
       "    </tr>\n",
       "    <tr>\n",
       "      <th>5</th>\n",
       "      <td>3.849691</td>\n",
       "      <td>1.000000</td>\n",
       "      <td>1.000000</td>\n",
       "      <td>1.000000</td>\n",
       "      <td>1.713692</td>\n",
       "      <td>3.952589</td>\n",
       "      <td>1.930222</td>\n",
       "      <td>2.196932</td>\n",
       "      <td>5.000000</td>\n",
       "    </tr>\n",
       "    <tr>\n",
       "      <th>6</th>\n",
       "      <td>1.503467</td>\n",
       "      <td>1.129754</td>\n",
       "      <td>1.129754</td>\n",
       "      <td>1.129754</td>\n",
       "      <td>1.121440</td>\n",
       "      <td>5.000000</td>\n",
       "      <td>1.129315</td>\n",
       "      <td>1.204415</td>\n",
       "      <td>1.000000</td>\n",
       "    </tr>\n",
       "    <tr>\n",
       "      <th>7</th>\n",
       "      <td>5.000000</td>\n",
       "      <td>1.293836</td>\n",
       "      <td>1.293836</td>\n",
       "      <td>1.293836</td>\n",
       "      <td>5.000000</td>\n",
       "      <td>3.513523</td>\n",
       "      <td>5.000000</td>\n",
       "      <td>5.000000</td>\n",
       "      <td>4.304974</td>\n",
       "    </tr>\n",
       "  </tbody>\n",
       "</table>\n",
       "</div>"
      ],
      "text/plain": [
       "   payment_installments    orders  products   sellers  payment_value  \\\n",
       "0              3.033653  1.229943  1.229943  1.229943       1.858942   \n",
       "1              1.357602  1.103892  1.103892  1.103892       1.000000   \n",
       "2              1.000000  1.165950  1.165950  1.165950       1.468854   \n",
       "3              2.188230  1.116030  1.116030  1.116030       1.226571   \n",
       "4              3.108886  5.000000  5.000000  5.000000       4.457608   \n",
       "5              3.849691  1.000000  1.000000  1.000000       1.713692   \n",
       "6              1.503467  1.129754  1.129754  1.129754       1.121440   \n",
       "7              5.000000  1.293836  1.293836  1.293836       5.000000   \n",
       "\n",
       "   review_score     price  freight_value   recency  \n",
       "0      4.926327  1.873712       2.694883  1.057080  \n",
       "1      4.210517  1.000000       1.000000  4.839874  \n",
       "2      3.994422  1.521504       1.771819  4.841790  \n",
       "3      4.154143  1.276193       1.291022  4.810994  \n",
       "4      1.000000  1.409735       1.625443  4.560200  \n",
       "5      3.952589  1.930222       2.196932  5.000000  \n",
       "6      5.000000  1.129315       1.204415  1.000000  \n",
       "7      3.513523  5.000000       5.000000  4.304974  "
      ]
     },
     "execution_count": 835,
     "metadata": {},
     "output_type": "execute_result"
    }
   ],
   "source": [
    "df_num=df[['payment_installments','orders','products','sellers','payment_value','review_score','price','freight_value','recency']]\n",
    "\n",
    "mms=MinMaxScaler(feature_range=(1,5))\n",
    "\n",
    "num_cols= df.select_dtypes(include='number').columns\n",
    "df_num['cluster_labels']=pd.Series(clustering.labels_)\n",
    "\n",
    "list_agg = {}\n",
    "for col in num_cols:\n",
    "    list_agg[f'{col}'] = 'mean'\n",
    "\n",
    "df_mean=df_num.groupby('cluster_labels').agg(list_agg).drop('cluster_labels',axis=1)\n",
    "\n",
    "\n",
    "df_mms=pd.DataFrame(mms.fit_transform(df_mean),columns=['payment_installments','orders','products','sellers','payment_value','review_score','price','freight_value','recency'])\n",
    "df_mms\n"
   ]
  },
  {
   "cell_type": "code",
   "execution_count": null,
   "metadata": {},
   "outputs": [
    {
     "data": {
      "application/vnd.plotly.v1+json": {
       "config": {
        "plotlyServerURL": "https://plot.ly"
       },
       "data": [
        {
         "fill": "toself",
         "name": "Cluster 0",
         "r": [
          3.033653449084006,
          1.2299434452673248,
          1.2299434452673248,
          1.2299434452673248,
          1.8589424572843996,
          4.926327057510779,
          1.873712175225744,
          2.694883090394767,
          1.0570798674188766
         ],
         "theta": [
          "payment_installments",
          "orders",
          "products",
          "sellers",
          "payment_value",
          "review_score",
          "price",
          "freight_value",
          "recency",
          "cluster_labels"
         ],
         "type": "scatterpolar"
        },
        {
         "fill": "toself",
         "name": "Cluster 1",
         "r": [
          1.3576018392111784,
          1.1038922730068705,
          1.1038922730068705,
          1.1038922730068705,
          1,
          4.210517033923164,
          1,
          1,
          4.839874078396226
         ],
         "theta": [
          "payment_installments",
          "orders",
          "products",
          "sellers",
          "payment_value",
          "review_score",
          "price",
          "freight_value",
          "recency",
          "cluster_labels"
         ],
         "type": "scatterpolar"
        },
        {
         "fill": "toself",
         "name": "Cluster 2",
         "r": [
          1,
          1.1659504417676074,
          1.1659504417676074,
          1.1659504417676074,
          1.4688538111038871,
          3.9944222010849977,
          1.5215036022199533,
          1.77181890190512,
          4.841789871839728
         ],
         "theta": [
          "payment_installments",
          "orders",
          "products",
          "sellers",
          "payment_value",
          "review_score",
          "price",
          "freight_value",
          "recency",
          "cluster_labels"
         ],
         "type": "scatterpolar"
        },
        {
         "fill": "toself",
         "name": "Cluster 3",
         "r": [
          2.1882295889642904,
          1.1160297192159598,
          1.1160297192159598,
          1.1160297192159598,
          1.2265709623193564,
          4.154142599341927,
          1.2761930030206532,
          1.2910217314120982,
          4.810994365169292
         ],
         "theta": [
          "payment_installments",
          "orders",
          "products",
          "sellers",
          "payment_value",
          "review_score",
          "price",
          "freight_value",
          "recency",
          "cluster_labels"
         ],
         "type": "scatterpolar"
        },
        {
         "fill": "toself",
         "name": "Cluster 4",
         "r": [
          3.108885986721898,
          5,
          5,
          5,
          4.457607586106952,
          1,
          1.4097345795735081,
          1.625442897734502,
          4.560199851345961
         ],
         "theta": [
          "payment_installments",
          "orders",
          "products",
          "sellers",
          "payment_value",
          "review_score",
          "price",
          "freight_value",
          "recency",
          "cluster_labels"
         ],
         "type": "scatterpolar"
        },
        {
         "fill": "toself",
         "name": "Cluster 5",
         "r": [
          3.849690745793408,
          1,
          1,
          1,
          1.7136922157227799,
          3.9525893007992394,
          1.9302217888139226,
          2.1969321561277355,
          5
         ],
         "theta": [
          "payment_installments",
          "orders",
          "products",
          "sellers",
          "payment_value",
          "review_score",
          "price",
          "freight_value",
          "recency",
          "cluster_labels"
         ],
         "type": "scatterpolar"
        },
        {
         "fill": "toself",
         "name": "Cluster 6",
         "r": [
          1.5034666268093437,
          1.129754156137389,
          1.129754156137389,
          1.129754156137389,
          1.12144004531046,
          5,
          1.129314878404206,
          1.2044148353294528,
          1
         ],
         "theta": [
          "payment_installments",
          "orders",
          "products",
          "sellers",
          "payment_value",
          "review_score",
          "price",
          "freight_value",
          "recency",
          "cluster_labels"
         ],
         "type": "scatterpolar"
        },
        {
         "fill": "toself",
         "name": "Cluster 7",
         "r": [
          5,
          1.2938355344905341,
          1.2938355344905341,
          1.2938355344905341,
          5.000000000000001,
          3.5135229081997394,
          5.000000000000001,
          5,
          4.304973509594017
         ],
         "theta": [
          "payment_installments",
          "orders",
          "products",
          "sellers",
          "payment_value",
          "review_score",
          "price",
          "freight_value",
          "recency",
          "cluster_labels"
         ],
         "type": "scatterpolar"
        }
       ],
       "layout": {
        "height": 780,
        "polar": {
         "radialaxis": {
          "range": [
           0,
           5
          ],
          "visible": true
         }
        },
        "showlegend": true,
        "template": {
         "data": {
          "bar": [
           {
            "error_x": {
             "color": "#2a3f5f"
            },
            "error_y": {
             "color": "#2a3f5f"
            },
            "marker": {
             "line": {
              "color": "#E5ECF6",
              "width": 0.5
             },
             "pattern": {
              "fillmode": "overlay",
              "size": 10,
              "solidity": 0.2
             }
            },
            "type": "bar"
           }
          ],
          "barpolar": [
           {
            "marker": {
             "line": {
              "color": "#E5ECF6",
              "width": 0.5
             },
             "pattern": {
              "fillmode": "overlay",
              "size": 10,
              "solidity": 0.2
             }
            },
            "type": "barpolar"
           }
          ],
          "carpet": [
           {
            "aaxis": {
             "endlinecolor": "#2a3f5f",
             "gridcolor": "white",
             "linecolor": "white",
             "minorgridcolor": "white",
             "startlinecolor": "#2a3f5f"
            },
            "baxis": {
             "endlinecolor": "#2a3f5f",
             "gridcolor": "white",
             "linecolor": "white",
             "minorgridcolor": "white",
             "startlinecolor": "#2a3f5f"
            },
            "type": "carpet"
           }
          ],
          "choropleth": [
           {
            "colorbar": {
             "outlinewidth": 0,
             "ticks": ""
            },
            "type": "choropleth"
           }
          ],
          "contour": [
           {
            "colorbar": {
             "outlinewidth": 0,
             "ticks": ""
            },
            "colorscale": [
             [
              0,
              "#0d0887"
             ],
             [
              0.1111111111111111,
              "#46039f"
             ],
             [
              0.2222222222222222,
              "#7201a8"
             ],
             [
              0.3333333333333333,
              "#9c179e"
             ],
             [
              0.4444444444444444,
              "#bd3786"
             ],
             [
              0.5555555555555556,
              "#d8576b"
             ],
             [
              0.6666666666666666,
              "#ed7953"
             ],
             [
              0.7777777777777778,
              "#fb9f3a"
             ],
             [
              0.8888888888888888,
              "#fdca26"
             ],
             [
              1,
              "#f0f921"
             ]
            ],
            "type": "contour"
           }
          ],
          "contourcarpet": [
           {
            "colorbar": {
             "outlinewidth": 0,
             "ticks": ""
            },
            "type": "contourcarpet"
           }
          ],
          "heatmap": [
           {
            "colorbar": {
             "outlinewidth": 0,
             "ticks": ""
            },
            "colorscale": [
             [
              0,
              "#0d0887"
             ],
             [
              0.1111111111111111,
              "#46039f"
             ],
             [
              0.2222222222222222,
              "#7201a8"
             ],
             [
              0.3333333333333333,
              "#9c179e"
             ],
             [
              0.4444444444444444,
              "#bd3786"
             ],
             [
              0.5555555555555556,
              "#d8576b"
             ],
             [
              0.6666666666666666,
              "#ed7953"
             ],
             [
              0.7777777777777778,
              "#fb9f3a"
             ],
             [
              0.8888888888888888,
              "#fdca26"
             ],
             [
              1,
              "#f0f921"
             ]
            ],
            "type": "heatmap"
           }
          ],
          "heatmapgl": [
           {
            "colorbar": {
             "outlinewidth": 0,
             "ticks": ""
            },
            "colorscale": [
             [
              0,
              "#0d0887"
             ],
             [
              0.1111111111111111,
              "#46039f"
             ],
             [
              0.2222222222222222,
              "#7201a8"
             ],
             [
              0.3333333333333333,
              "#9c179e"
             ],
             [
              0.4444444444444444,
              "#bd3786"
             ],
             [
              0.5555555555555556,
              "#d8576b"
             ],
             [
              0.6666666666666666,
              "#ed7953"
             ],
             [
              0.7777777777777778,
              "#fb9f3a"
             ],
             [
              0.8888888888888888,
              "#fdca26"
             ],
             [
              1,
              "#f0f921"
             ]
            ],
            "type": "heatmapgl"
           }
          ],
          "histogram": [
           {
            "marker": {
             "pattern": {
              "fillmode": "overlay",
              "size": 10,
              "solidity": 0.2
             }
            },
            "type": "histogram"
           }
          ],
          "histogram2d": [
           {
            "colorbar": {
             "outlinewidth": 0,
             "ticks": ""
            },
            "colorscale": [
             [
              0,
              "#0d0887"
             ],
             [
              0.1111111111111111,
              "#46039f"
             ],
             [
              0.2222222222222222,
              "#7201a8"
             ],
             [
              0.3333333333333333,
              "#9c179e"
             ],
             [
              0.4444444444444444,
              "#bd3786"
             ],
             [
              0.5555555555555556,
              "#d8576b"
             ],
             [
              0.6666666666666666,
              "#ed7953"
             ],
             [
              0.7777777777777778,
              "#fb9f3a"
             ],
             [
              0.8888888888888888,
              "#fdca26"
             ],
             [
              1,
              "#f0f921"
             ]
            ],
            "type": "histogram2d"
           }
          ],
          "histogram2dcontour": [
           {
            "colorbar": {
             "outlinewidth": 0,
             "ticks": ""
            },
            "colorscale": [
             [
              0,
              "#0d0887"
             ],
             [
              0.1111111111111111,
              "#46039f"
             ],
             [
              0.2222222222222222,
              "#7201a8"
             ],
             [
              0.3333333333333333,
              "#9c179e"
             ],
             [
              0.4444444444444444,
              "#bd3786"
             ],
             [
              0.5555555555555556,
              "#d8576b"
             ],
             [
              0.6666666666666666,
              "#ed7953"
             ],
             [
              0.7777777777777778,
              "#fb9f3a"
             ],
             [
              0.8888888888888888,
              "#fdca26"
             ],
             [
              1,
              "#f0f921"
             ]
            ],
            "type": "histogram2dcontour"
           }
          ],
          "mesh3d": [
           {
            "colorbar": {
             "outlinewidth": 0,
             "ticks": ""
            },
            "type": "mesh3d"
           }
          ],
          "parcoords": [
           {
            "line": {
             "colorbar": {
              "outlinewidth": 0,
              "ticks": ""
             }
            },
            "type": "parcoords"
           }
          ],
          "pie": [
           {
            "automargin": true,
            "type": "pie"
           }
          ],
          "scatter": [
           {
            "fillpattern": {
             "fillmode": "overlay",
             "size": 10,
             "solidity": 0.2
            },
            "type": "scatter"
           }
          ],
          "scatter3d": [
           {
            "line": {
             "colorbar": {
              "outlinewidth": 0,
              "ticks": ""
             }
            },
            "marker": {
             "colorbar": {
              "outlinewidth": 0,
              "ticks": ""
             }
            },
            "type": "scatter3d"
           }
          ],
          "scattercarpet": [
           {
            "marker": {
             "colorbar": {
              "outlinewidth": 0,
              "ticks": ""
             }
            },
            "type": "scattercarpet"
           }
          ],
          "scattergeo": [
           {
            "marker": {
             "colorbar": {
              "outlinewidth": 0,
              "ticks": ""
             }
            },
            "type": "scattergeo"
           }
          ],
          "scattergl": [
           {
            "marker": {
             "colorbar": {
              "outlinewidth": 0,
              "ticks": ""
             }
            },
            "type": "scattergl"
           }
          ],
          "scattermapbox": [
           {
            "marker": {
             "colorbar": {
              "outlinewidth": 0,
              "ticks": ""
             }
            },
            "type": "scattermapbox"
           }
          ],
          "scatterpolar": [
           {
            "marker": {
             "colorbar": {
              "outlinewidth": 0,
              "ticks": ""
             }
            },
            "type": "scatterpolar"
           }
          ],
          "scatterpolargl": [
           {
            "marker": {
             "colorbar": {
              "outlinewidth": 0,
              "ticks": ""
             }
            },
            "type": "scatterpolargl"
           }
          ],
          "scatterternary": [
           {
            "marker": {
             "colorbar": {
              "outlinewidth": 0,
              "ticks": ""
             }
            },
            "type": "scatterternary"
           }
          ],
          "surface": [
           {
            "colorbar": {
             "outlinewidth": 0,
             "ticks": ""
            },
            "colorscale": [
             [
              0,
              "#0d0887"
             ],
             [
              0.1111111111111111,
              "#46039f"
             ],
             [
              0.2222222222222222,
              "#7201a8"
             ],
             [
              0.3333333333333333,
              "#9c179e"
             ],
             [
              0.4444444444444444,
              "#bd3786"
             ],
             [
              0.5555555555555556,
              "#d8576b"
             ],
             [
              0.6666666666666666,
              "#ed7953"
             ],
             [
              0.7777777777777778,
              "#fb9f3a"
             ],
             [
              0.8888888888888888,
              "#fdca26"
             ],
             [
              1,
              "#f0f921"
             ]
            ],
            "type": "surface"
           }
          ],
          "table": [
           {
            "cells": {
             "fill": {
              "color": "#EBF0F8"
             },
             "line": {
              "color": "white"
             }
            },
            "header": {
             "fill": {
              "color": "#C8D4E3"
             },
             "line": {
              "color": "white"
             }
            },
            "type": "table"
           }
          ]
         },
         "layout": {
          "annotationdefaults": {
           "arrowcolor": "#2a3f5f",
           "arrowhead": 0,
           "arrowwidth": 1
          },
          "autotypenumbers": "strict",
          "coloraxis": {
           "colorbar": {
            "outlinewidth": 0,
            "ticks": ""
           }
          },
          "colorscale": {
           "diverging": [
            [
             0,
             "#8e0152"
            ],
            [
             0.1,
             "#c51b7d"
            ],
            [
             0.2,
             "#de77ae"
            ],
            [
             0.3,
             "#f1b6da"
            ],
            [
             0.4,
             "#fde0ef"
            ],
            [
             0.5,
             "#f7f7f7"
            ],
            [
             0.6,
             "#e6f5d0"
            ],
            [
             0.7,
             "#b8e186"
            ],
            [
             0.8,
             "#7fbc41"
            ],
            [
             0.9,
             "#4d9221"
            ],
            [
             1,
             "#276419"
            ]
           ],
           "sequential": [
            [
             0,
             "#0d0887"
            ],
            [
             0.1111111111111111,
             "#46039f"
            ],
            [
             0.2222222222222222,
             "#7201a8"
            ],
            [
             0.3333333333333333,
             "#9c179e"
            ],
            [
             0.4444444444444444,
             "#bd3786"
            ],
            [
             0.5555555555555556,
             "#d8576b"
            ],
            [
             0.6666666666666666,
             "#ed7953"
            ],
            [
             0.7777777777777778,
             "#fb9f3a"
            ],
            [
             0.8888888888888888,
             "#fdca26"
            ],
            [
             1,
             "#f0f921"
            ]
           ],
           "sequentialminus": [
            [
             0,
             "#0d0887"
            ],
            [
             0.1111111111111111,
             "#46039f"
            ],
            [
             0.2222222222222222,
             "#7201a8"
            ],
            [
             0.3333333333333333,
             "#9c179e"
            ],
            [
             0.4444444444444444,
             "#bd3786"
            ],
            [
             0.5555555555555556,
             "#d8576b"
            ],
            [
             0.6666666666666666,
             "#ed7953"
            ],
            [
             0.7777777777777778,
             "#fb9f3a"
            ],
            [
             0.8888888888888888,
             "#fdca26"
            ],
            [
             1,
             "#f0f921"
            ]
           ]
          },
          "colorway": [
           "#636efa",
           "#EF553B",
           "#00cc96",
           "#ab63fa",
           "#FFA15A",
           "#19d3f3",
           "#FF6692",
           "#B6E880",
           "#FF97FF",
           "#FECB52"
          ],
          "font": {
           "color": "#2a3f5f"
          },
          "geo": {
           "bgcolor": "white",
           "lakecolor": "white",
           "landcolor": "#E5ECF6",
           "showlakes": true,
           "showland": true,
           "subunitcolor": "white"
          },
          "hoverlabel": {
           "align": "left"
          },
          "hovermode": "closest",
          "mapbox": {
           "style": "light"
          },
          "paper_bgcolor": "white",
          "plot_bgcolor": "#E5ECF6",
          "polar": {
           "angularaxis": {
            "gridcolor": "white",
            "linecolor": "white",
            "ticks": ""
           },
           "bgcolor": "#E5ECF6",
           "radialaxis": {
            "gridcolor": "white",
            "linecolor": "white",
            "ticks": ""
           }
          },
          "scene": {
           "xaxis": {
            "backgroundcolor": "#E5ECF6",
            "gridcolor": "white",
            "gridwidth": 2,
            "linecolor": "white",
            "showbackground": true,
            "ticks": "",
            "zerolinecolor": "white"
           },
           "yaxis": {
            "backgroundcolor": "#E5ECF6",
            "gridcolor": "white",
            "gridwidth": 2,
            "linecolor": "white",
            "showbackground": true,
            "ticks": "",
            "zerolinecolor": "white"
           },
           "zaxis": {
            "backgroundcolor": "#E5ECF6",
            "gridcolor": "white",
            "gridwidth": 2,
            "linecolor": "white",
            "showbackground": true,
            "ticks": "",
            "zerolinecolor": "white"
           }
          },
          "shapedefaults": {
           "line": {
            "color": "#2a3f5f"
           }
          },
          "ternary": {
           "aaxis": {
            "gridcolor": "white",
            "linecolor": "white",
            "ticks": ""
           },
           "baxis": {
            "gridcolor": "white",
            "linecolor": "white",
            "ticks": ""
           },
           "bgcolor": "#E5ECF6",
           "caxis": {
            "gridcolor": "white",
            "linecolor": "white",
            "ticks": ""
           }
          },
          "title": {
           "x": 0.05
          },
          "xaxis": {
           "automargin": true,
           "gridcolor": "white",
           "linecolor": "white",
           "ticks": "",
           "title": {
            "standoff": 15
           },
           "zerolinecolor": "white",
           "zerolinewidth": 2
          },
          "yaxis": {
           "automargin": true,
           "gridcolor": "white",
           "linecolor": "white",
           "ticks": "",
           "title": {
            "standoff": 15
           },
           "zerolinecolor": "white",
           "zerolinewidth": 2
          }
         }
        },
        "width": 780
       }
      }
     },
     "metadata": {},
     "output_type": "display_data"
    }
   ],
   "source": [
    "# Créer une figure en radar pour chaque cluster\n",
    "fig = go.Figure()\n",
    "\n",
    "for cluster, row in df_mms.iterrows():\n",
    "    values = row.values.tolist()\n",
    "    \n",
    "\n",
    "    \n",
    "\n",
    "    fig.add_trace(go.Scatterpolar(\n",
    "        r=values,\n",
    "        theta=num_cols,\n",
    "        fill='toself',\n",
    "        name=f'Cluster {cluster}'\n",
    "    ))\n",
    "\n",
    "# Mettre en forme la figurenum_cols,\n",
    "fig.update_layout(\n",
    "    polar=dict(\n",
    "        radialaxis=dict(\n",
    "            visible=True,\n",
    "            range=[0, 5]\n",
    "        ),\n",
    "    ),\n",
    "    showlegend=True,\n",
    "    width=780,\n",
    "    height=780\n",
    "\n",
    ")\n",
    "\n",
    "# Afficher la figure\n",
    "fig.show()\n",
    "figsize = (60,60)"
   ]
  },
  {
   "cell_type": "code",
   "execution_count": null,
   "metadata": {},
   "outputs": [],
   "source": [
    "# func_log = FunctionTransformer(func=np.log1p)\n",
    "# func_abs=FunctionTransformer(func=np.abs)\n",
    "\n",
    "# pipe_num= make_pipeline(func_abs,func_log)\n",
    "\n",
    "# transformer = make_column_transformer(\n",
    "#     (OneHotEncoder(sparse=False),make_column_selector(dtype_exclude=['float','int'])),\n",
    "#     (pipe_num,make_column_selector(dtype_include=np.number)),remainder='passthrough')\n",
    "\n",
    "\n",
    "# pipe_tsne = make_pipeline(transformer,TSNE()) \n",
    "# array_tsne=pipe_tsne.fit_transform(df)\n",
    "\n",
    "# kprototype = KPrototypes(n_jobs = -1, n_clusters =4, init = 'Huang', random_state = 0)\n",
    "# kprototype.fit_predict(array_tsne, categorical = [9,10])\n",
    "\n",
    "# df_tsne=pd.DataFrame(array_tsne,columns=['f1','f2'])\n",
    "# df_tsne['cluster_labels']=pd.Series(kprototype.labels_)\n",
    "\n",
    "# plt.scatter(df_tsne.f1,df_tsne.f2,c=df_tsne.cluster_labels)\n",
    "# plt.show()"
   ]
  },
  {
   "cell_type": "code",
   "execution_count": null,
   "metadata": {},
   "outputs": [
    {
     "data": {
      "text/html": [
       "<div>\n",
       "<style scoped>\n",
       "    .dataframe tbody tr th:only-of-type {\n",
       "        vertical-align: middle;\n",
       "    }\n",
       "\n",
       "    .dataframe tbody tr th {\n",
       "        vertical-align: top;\n",
       "    }\n",
       "\n",
       "    .dataframe thead th {\n",
       "        text-align: right;\n",
       "    }\n",
       "</style>\n",
       "<table border=\"1\" class=\"dataframe\">\n",
       "  <thead>\n",
       "    <tr style=\"text-align: right;\">\n",
       "      <th></th>\n",
       "      <th>Agro_Industry_Commerce</th>\n",
       "      <th>Arts_Music</th>\n",
       "      <th>Automotive</th>\n",
       "      <th>Baby</th>\n",
       "      <th>Books</th>\n",
       "      <th>Construction_Tools</th>\n",
       "      <th>Fashion_Accessories</th>\n",
       "      <th>Food_Beverage</th>\n",
       "      <th>Furniture</th>\n",
       "      <th>Gardening</th>\n",
       "      <th>Health_Beauty</th>\n",
       "      <th>Home</th>\n",
       "      <th>Market_place</th>\n",
       "      <th>Office_Supplies</th>\n",
       "      <th>Party_Supplies</th>\n",
       "      <th>Pet_Supplies</th>\n",
       "      <th>Signaling_Security</th>\n",
       "      <th>Sports_Leisure</th>\n",
       "      <th>Technology</th>\n",
       "      <th>Toys_Games</th>\n",
       "    </tr>\n",
       "  </thead>\n",
       "  <tbody>\n",
       "    <tr>\n",
       "      <th>0</th>\n",
       "      <td>2.398761</td>\n",
       "      <td>2.125246</td>\n",
       "      <td>3.155949</td>\n",
       "      <td>4.065283</td>\n",
       "      <td>1.091610</td>\n",
       "      <td>3.879781</td>\n",
       "      <td>3.894779</td>\n",
       "      <td>2.144558</td>\n",
       "      <td>5.000000</td>\n",
       "      <td>2.228612</td>\n",
       "      <td>5.000000</td>\n",
       "      <td>2.536966</td>\n",
       "      <td>1.006269</td>\n",
       "      <td>3.194960</td>\n",
       "      <td>2.290780</td>\n",
       "      <td>5.000000</td>\n",
       "      <td>4.569213</td>\n",
       "      <td>1.538227</td>\n",
       "      <td>1.000000</td>\n",
       "      <td>1.859705</td>\n",
       "    </tr>\n",
       "    <tr>\n",
       "      <th>1</th>\n",
       "      <td>1.000000</td>\n",
       "      <td>1.562623</td>\n",
       "      <td>2.789514</td>\n",
       "      <td>1.258051</td>\n",
       "      <td>4.953343</td>\n",
       "      <td>1.000000</td>\n",
       "      <td>1.038013</td>\n",
       "      <td>3.213593</td>\n",
       "      <td>1.000000</td>\n",
       "      <td>5.000000</td>\n",
       "      <td>2.042469</td>\n",
       "      <td>1.007161</td>\n",
       "      <td>5.000000</td>\n",
       "      <td>1.000000</td>\n",
       "      <td>3.181231</td>\n",
       "      <td>1.000000</td>\n",
       "      <td>2.865089</td>\n",
       "      <td>1.934137</td>\n",
       "      <td>5.000000</td>\n",
       "      <td>2.325107</td>\n",
       "    </tr>\n",
       "    <tr>\n",
       "      <th>2</th>\n",
       "      <td>1.696291</td>\n",
       "      <td>2.315587</td>\n",
       "      <td>2.482769</td>\n",
       "      <td>3.160275</td>\n",
       "      <td>2.649418</td>\n",
       "      <td>3.673716</td>\n",
       "      <td>2.661377</td>\n",
       "      <td>2.036705</td>\n",
       "      <td>3.267321</td>\n",
       "      <td>1.567966</td>\n",
       "      <td>2.596324</td>\n",
       "      <td>2.335320</td>\n",
       "      <td>3.723233</td>\n",
       "      <td>3.964705</td>\n",
       "      <td>2.498730</td>\n",
       "      <td>2.466276</td>\n",
       "      <td>2.639057</td>\n",
       "      <td>5.000000</td>\n",
       "      <td>1.378857</td>\n",
       "      <td>3.559061</td>\n",
       "    </tr>\n",
       "    <tr>\n",
       "      <th>3</th>\n",
       "      <td>1.472534</td>\n",
       "      <td>1.720043</td>\n",
       "      <td>1.732304</td>\n",
       "      <td>3.824302</td>\n",
       "      <td>2.347194</td>\n",
       "      <td>3.142534</td>\n",
       "      <td>2.518600</td>\n",
       "      <td>2.543524</td>\n",
       "      <td>1.660252</td>\n",
       "      <td>2.032643</td>\n",
       "      <td>3.469458</td>\n",
       "      <td>3.094999</td>\n",
       "      <td>3.254333</td>\n",
       "      <td>2.740372</td>\n",
       "      <td>3.177385</td>\n",
       "      <td>2.938821</td>\n",
       "      <td>1.000000</td>\n",
       "      <td>4.435925</td>\n",
       "      <td>1.010206</td>\n",
       "      <td>3.534292</td>\n",
       "    </tr>\n",
       "    <tr>\n",
       "      <th>4</th>\n",
       "      <td>1.943171</td>\n",
       "      <td>1.000000</td>\n",
       "      <td>1.000000</td>\n",
       "      <td>1.000000</td>\n",
       "      <td>1.265125</td>\n",
       "      <td>5.000000</td>\n",
       "      <td>1.000000</td>\n",
       "      <td>2.439679</td>\n",
       "      <td>3.773414</td>\n",
       "      <td>3.607050</td>\n",
       "      <td>1.000000</td>\n",
       "      <td>5.000000</td>\n",
       "      <td>1.935930</td>\n",
       "      <td>3.317868</td>\n",
       "      <td>2.214788</td>\n",
       "      <td>2.253576</td>\n",
       "      <td>5.000000</td>\n",
       "      <td>3.138547</td>\n",
       "      <td>1.316790</td>\n",
       "      <td>1.000000</td>\n",
       "    </tr>\n",
       "    <tr>\n",
       "      <th>5</th>\n",
       "      <td>1.290915</td>\n",
       "      <td>1.636796</td>\n",
       "      <td>3.108446</td>\n",
       "      <td>3.730692</td>\n",
       "      <td>1.857373</td>\n",
       "      <td>2.226782</td>\n",
       "      <td>4.188094</td>\n",
       "      <td>1.379657</td>\n",
       "      <td>3.910465</td>\n",
       "      <td>1.000000</td>\n",
       "      <td>3.051345</td>\n",
       "      <td>1.918092</td>\n",
       "      <td>2.575671</td>\n",
       "      <td>5.000000</td>\n",
       "      <td>1.000000</td>\n",
       "      <td>2.389215</td>\n",
       "      <td>1.580147</td>\n",
       "      <td>4.490816</td>\n",
       "      <td>1.035560</td>\n",
       "      <td>5.000000</td>\n",
       "    </tr>\n",
       "    <tr>\n",
       "      <th>6</th>\n",
       "      <td>1.220099</td>\n",
       "      <td>2.550603</td>\n",
       "      <td>5.000000</td>\n",
       "      <td>4.947520</td>\n",
       "      <td>5.000000</td>\n",
       "      <td>2.527051</td>\n",
       "      <td>1.928330</td>\n",
       "      <td>5.000000</td>\n",
       "      <td>2.150251</td>\n",
       "      <td>4.858208</td>\n",
       "      <td>3.970820</td>\n",
       "      <td>2.294108</td>\n",
       "      <td>1.371670</td>\n",
       "      <td>1.845293</td>\n",
       "      <td>5.000000</td>\n",
       "      <td>3.536453</td>\n",
       "      <td>4.502884</td>\n",
       "      <td>3.258039</td>\n",
       "      <td>1.786620</td>\n",
       "      <td>1.594668</td>\n",
       "    </tr>\n",
       "    <tr>\n",
       "      <th>7</th>\n",
       "      <td>5.000000</td>\n",
       "      <td>5.000000</td>\n",
       "      <td>4.470297</td>\n",
       "      <td>5.000000</td>\n",
       "      <td>1.000000</td>\n",
       "      <td>4.121712</td>\n",
       "      <td>5.000000</td>\n",
       "      <td>1.000000</td>\n",
       "      <td>4.555198</td>\n",
       "      <td>4.029473</td>\n",
       "      <td>4.968417</td>\n",
       "      <td>1.000000</td>\n",
       "      <td>1.000000</td>\n",
       "      <td>2.351383</td>\n",
       "      <td>1.041251</td>\n",
       "      <td>1.339327</td>\n",
       "      <td>3.483876</td>\n",
       "      <td>1.000000</td>\n",
       "      <td>1.169474</td>\n",
       "      <td>4.070375</td>\n",
       "    </tr>\n",
       "  </tbody>\n",
       "</table>\n",
       "</div>"
      ],
      "text/plain": [
       "   Agro_Industry_Commerce  Arts_Music  Automotive      Baby     Books  \\\n",
       "0                2.398761    2.125246    3.155949  4.065283  1.091610   \n",
       "1                1.000000    1.562623    2.789514  1.258051  4.953343   \n",
       "2                1.696291    2.315587    2.482769  3.160275  2.649418   \n",
       "3                1.472534    1.720043    1.732304  3.824302  2.347194   \n",
       "4                1.943171    1.000000    1.000000  1.000000  1.265125   \n",
       "5                1.290915    1.636796    3.108446  3.730692  1.857373   \n",
       "6                1.220099    2.550603    5.000000  4.947520  5.000000   \n",
       "7                5.000000    5.000000    4.470297  5.000000  1.000000   \n",
       "\n",
       "   Construction_Tools  Fashion_Accessories  Food_Beverage  Furniture  \\\n",
       "0            3.879781             3.894779       2.144558   5.000000   \n",
       "1            1.000000             1.038013       3.213593   1.000000   \n",
       "2            3.673716             2.661377       2.036705   3.267321   \n",
       "3            3.142534             2.518600       2.543524   1.660252   \n",
       "4            5.000000             1.000000       2.439679   3.773414   \n",
       "5            2.226782             4.188094       1.379657   3.910465   \n",
       "6            2.527051             1.928330       5.000000   2.150251   \n",
       "7            4.121712             5.000000       1.000000   4.555198   \n",
       "\n",
       "   Gardening  Health_Beauty      Home  Market_place  Office_Supplies  \\\n",
       "0   2.228612       5.000000  2.536966      1.006269         3.194960   \n",
       "1   5.000000       2.042469  1.007161      5.000000         1.000000   \n",
       "2   1.567966       2.596324  2.335320      3.723233         3.964705   \n",
       "3   2.032643       3.469458  3.094999      3.254333         2.740372   \n",
       "4   3.607050       1.000000  5.000000      1.935930         3.317868   \n",
       "5   1.000000       3.051345  1.918092      2.575671         5.000000   \n",
       "6   4.858208       3.970820  2.294108      1.371670         1.845293   \n",
       "7   4.029473       4.968417  1.000000      1.000000         2.351383   \n",
       "\n",
       "   Party_Supplies  Pet_Supplies  Signaling_Security  Sports_Leisure  \\\n",
       "0        2.290780      5.000000            4.569213        1.538227   \n",
       "1        3.181231      1.000000            2.865089        1.934137   \n",
       "2        2.498730      2.466276            2.639057        5.000000   \n",
       "3        3.177385      2.938821            1.000000        4.435925   \n",
       "4        2.214788      2.253576            5.000000        3.138547   \n",
       "5        1.000000      2.389215            1.580147        4.490816   \n",
       "6        5.000000      3.536453            4.502884        3.258039   \n",
       "7        1.041251      1.339327            3.483876        1.000000   \n",
       "\n",
       "   Technology  Toys_Games  \n",
       "0    1.000000    1.859705  \n",
       "1    5.000000    2.325107  \n",
       "2    1.378857    3.559061  \n",
       "3    1.010206    3.534292  \n",
       "4    1.316790    1.000000  \n",
       "5    1.035560    5.000000  \n",
       "6    1.786620    1.594668  \n",
       "7    1.169474    4.070375  "
      ]
     },
     "execution_count": 838,
     "metadata": {},
     "output_type": "execute_result"
    }
   ],
   "source": [
    "dummy_product=pd.get_dummies(df.product_category,sparse=False)\n",
    "prod_col=dummy_product.columns.to_list()\n",
    "\n",
    "list_agg = {}\n",
    "for col in prod_col:\n",
    "    list_agg[f'{col}'] = 'sum'\n",
    "\n",
    "dummy_product['cluster_labels']=pd.Series(clustering.labels_)\n",
    "\n",
    "df_cat=dummy_product.groupby('cluster_labels').agg(list_agg)\n",
    "\n",
    "cluster_count=dummy_product.cluster_labels.value_counts().sort_index().to_list()\n",
    "for i in range(len(cluster_count)):\n",
    "    df_cat.iloc[i]=(df_cat.iloc[i])/(cluster_count[i])\n",
    "\n",
    "\n",
    "df_mms_cat=pd.DataFrame(mms.fit_transform(df_cat), columns=prod_col)\n",
    "df_mms_cat\n"
   ]
  },
  {
   "cell_type": "code",
   "execution_count": null,
   "metadata": {},
   "outputs": [
    {
     "data": {
      "application/vnd.plotly.v1+json": {
       "config": {
        "plotlyServerURL": "https://plot.ly"
       },
       "data": [
        {
         "fill": "toself",
         "name": "Cluster 0",
         "r": [
          2.3987612526463167,
          2.1252462449457656,
          3.155949183753663,
          4.065283026687437,
          1.0916097650983017,
          3.8797808611124145,
          3.894778967333502,
          2.1445578635961193,
          5,
          2.228611708034782,
          4.999999999999999,
          2.53696550692869,
          1.0062688031773501,
          3.194960316235023,
          2.2907797704836432,
          5,
          4.569212752052075,
          1.5382271041364657,
          1,
          1.8597048303045296
         ],
         "theta": [
          "Agro_Industry_Commerce",
          "Arts_Music",
          "Automotive",
          "Baby",
          "Books",
          "Construction_Tools",
          "Fashion_Accessories",
          "Food_Beverage",
          "Furniture",
          "Gardening",
          "Health_Beauty",
          "Home",
          "Market_place",
          "Office_Supplies",
          "Party_Supplies",
          "Pet_Supplies",
          "Signaling_Security",
          "Sports_Leisure",
          "Technology",
          "Toys_Games"
         ],
         "type": "scatterpolar"
        },
        {
         "fill": "toself",
         "name": "Cluster 1",
         "r": [
          1,
          1.562623401112279,
          2.7895144422056357,
          1.2580509722201212,
          4.953342736475999,
          1,
          1.0380126924150845,
          3.213593471673171,
          1,
          5,
          2.0424685540364926,
          1.00716140193357,
          5,
          1,
          3.181231089777165,
          1,
          2.865089262757,
          1.934137394410289,
          5,
          2.3251073601456342
         ],
         "theta": [
          "Agro_Industry_Commerce",
          "Arts_Music",
          "Automotive",
          "Baby",
          "Books",
          "Construction_Tools",
          "Fashion_Accessories",
          "Food_Beverage",
          "Furniture",
          "Gardening",
          "Health_Beauty",
          "Home",
          "Market_place",
          "Office_Supplies",
          "Party_Supplies",
          "Pet_Supplies",
          "Signaling_Security",
          "Sports_Leisure",
          "Technology",
          "Toys_Games"
         ],
         "type": "scatterpolar"
        },
        {
         "fill": "toself",
         "name": "Cluster 2",
         "r": [
          1.69629100925326,
          2.315586760098779,
          2.482768949432402,
          3.1602748905847613,
          2.6494175120529104,
          3.6737161800725344,
          2.6613767055307154,
          2.036704753981688,
          3.2673211772003294,
          1.5679657886437497,
          2.59632396955896,
          2.3353195639632744,
          3.723232521953936,
          3.964704947690728,
          2.4987298916879035,
          2.466276444570439,
          2.639057166840042,
          5,
          1.378857006737185,
          3.5590612493559384
         ],
         "theta": [
          "Agro_Industry_Commerce",
          "Arts_Music",
          "Automotive",
          "Baby",
          "Books",
          "Construction_Tools",
          "Fashion_Accessories",
          "Food_Beverage",
          "Furniture",
          "Gardening",
          "Health_Beauty",
          "Home",
          "Market_place",
          "Office_Supplies",
          "Party_Supplies",
          "Pet_Supplies",
          "Signaling_Security",
          "Sports_Leisure",
          "Technology",
          "Toys_Games"
         ],
         "type": "scatterpolar"
        },
        {
         "fill": "toself",
         "name": "Cluster 3",
         "r": [
          1.472534093869981,
          1.7200434980126387,
          1.73230448064411,
          3.824301670225633,
          2.3471941384140003,
          3.1425341394982276,
          2.51859978373436,
          2.5435236700520516,
          1.6602518812488385,
          2.0326429630201686,
          3.469458140011044,
          3.0949992949978893,
          3.254333304167637,
          2.7403721452072114,
          3.1773847847045533,
          2.9388206358731903,
          1,
          4.435924883304844,
          1.010206220807414,
          3.5342918830538927
         ],
         "theta": [
          "Agro_Industry_Commerce",
          "Arts_Music",
          "Automotive",
          "Baby",
          "Books",
          "Construction_Tools",
          "Fashion_Accessories",
          "Food_Beverage",
          "Furniture",
          "Gardening",
          "Health_Beauty",
          "Home",
          "Market_place",
          "Office_Supplies",
          "Party_Supplies",
          "Pet_Supplies",
          "Signaling_Security",
          "Sports_Leisure",
          "Technology",
          "Toys_Games"
         ],
         "type": "scatterpolar"
        },
        {
         "fill": "toself",
         "name": "Cluster 4",
         "r": [
          1.943170755161184,
          1,
          1,
          1,
          1.2651246013562083,
          5,
          1,
          2.4396786274696454,
          3.773414317541489,
          3.6070501338341083,
          1,
          5,
          1.9359304013755076,
          3.3178680075084728,
          2.2147875481620583,
          2.2535757925643005,
          5.000000000000001,
          3.1385470440061427,
          1.3167897470856442,
          1
         ],
         "theta": [
          "Agro_Industry_Commerce",
          "Arts_Music",
          "Automotive",
          "Baby",
          "Books",
          "Construction_Tools",
          "Fashion_Accessories",
          "Food_Beverage",
          "Furniture",
          "Gardening",
          "Health_Beauty",
          "Home",
          "Market_place",
          "Office_Supplies",
          "Party_Supplies",
          "Pet_Supplies",
          "Signaling_Security",
          "Sports_Leisure",
          "Technology",
          "Toys_Games"
         ],
         "type": "scatterpolar"
        },
        {
         "fill": "toself",
         "name": "Cluster 5",
         "r": [
          1.2909145719157928,
          1.636795889604439,
          3.1084455114323215,
          3.7306918749226408,
          1.8573731833571352,
          2.2267824226948556,
          4.188093718860535,
          1.3796572931707425,
          3.910465001771512,
          1,
          3.051345016109938,
          1.9180923300410204,
          2.575671172045431,
          5,
          1,
          2.3892145304984345,
          1.5801465163351653,
          4.490815530067604,
          1.0355603035445453,
          5
         ],
         "theta": [
          "Agro_Industry_Commerce",
          "Arts_Music",
          "Automotive",
          "Baby",
          "Books",
          "Construction_Tools",
          "Fashion_Accessories",
          "Food_Beverage",
          "Furniture",
          "Gardening",
          "Health_Beauty",
          "Home",
          "Market_place",
          "Office_Supplies",
          "Party_Supplies",
          "Pet_Supplies",
          "Signaling_Security",
          "Sports_Leisure",
          "Technology",
          "Toys_Games"
         ],
         "type": "scatterpolar"
        },
        {
         "fill": "toself",
         "name": "Cluster 6",
         "r": [
          1.220098699079168,
          2.5506027972799163,
          5,
          4.947519606114964,
          5,
          2.527051132904318,
          1.9283300279372542,
          5.000000000000001,
          2.150251463436859,
          4.858208014300542,
          3.970819865933633,
          2.2941082002140845,
          1.3716703952012579,
          1.845292580599551,
          5,
          3.5364532298373677,
          4.502884285368515,
          3.258039432033785,
          1.786619679952741,
          1.5946682376523016
         ],
         "theta": [
          "Agro_Industry_Commerce",
          "Arts_Music",
          "Automotive",
          "Baby",
          "Books",
          "Construction_Tools",
          "Fashion_Accessories",
          "Food_Beverage",
          "Furniture",
          "Gardening",
          "Health_Beauty",
          "Home",
          "Market_place",
          "Office_Supplies",
          "Party_Supplies",
          "Pet_Supplies",
          "Signaling_Security",
          "Sports_Leisure",
          "Technology",
          "Toys_Games"
         ],
         "type": "scatterpolar"
        },
        {
         "fill": "toself",
         "name": "Cluster 7",
         "r": [
          5,
          5.000000000000001,
          4.47029702294102,
          5,
          1,
          4.121712479618312,
          4.999999999999999,
          1,
          4.555197573819923,
          4.029473408899518,
          4.9684165835503125,
          1,
          1,
          2.3513831897833724,
          1.0412509186954102,
          1.3393273716818643,
          3.4838761611849325,
          1,
          1.1694742683200818,
          4.0703753229707775
         ],
         "theta": [
          "Agro_Industry_Commerce",
          "Arts_Music",
          "Automotive",
          "Baby",
          "Books",
          "Construction_Tools",
          "Fashion_Accessories",
          "Food_Beverage",
          "Furniture",
          "Gardening",
          "Health_Beauty",
          "Home",
          "Market_place",
          "Office_Supplies",
          "Party_Supplies",
          "Pet_Supplies",
          "Signaling_Security",
          "Sports_Leisure",
          "Technology",
          "Toys_Games"
         ],
         "type": "scatterpolar"
        }
       ],
       "layout": {
        "height": 780,
        "polar": {
         "radialaxis": {
          "range": [
           0,
           5
          ],
          "visible": true
         }
        },
        "showlegend": true,
        "template": {
         "data": {
          "bar": [
           {
            "error_x": {
             "color": "#2a3f5f"
            },
            "error_y": {
             "color": "#2a3f5f"
            },
            "marker": {
             "line": {
              "color": "#E5ECF6",
              "width": 0.5
             },
             "pattern": {
              "fillmode": "overlay",
              "size": 10,
              "solidity": 0.2
             }
            },
            "type": "bar"
           }
          ],
          "barpolar": [
           {
            "marker": {
             "line": {
              "color": "#E5ECF6",
              "width": 0.5
             },
             "pattern": {
              "fillmode": "overlay",
              "size": 10,
              "solidity": 0.2
             }
            },
            "type": "barpolar"
           }
          ],
          "carpet": [
           {
            "aaxis": {
             "endlinecolor": "#2a3f5f",
             "gridcolor": "white",
             "linecolor": "white",
             "minorgridcolor": "white",
             "startlinecolor": "#2a3f5f"
            },
            "baxis": {
             "endlinecolor": "#2a3f5f",
             "gridcolor": "white",
             "linecolor": "white",
             "minorgridcolor": "white",
             "startlinecolor": "#2a3f5f"
            },
            "type": "carpet"
           }
          ],
          "choropleth": [
           {
            "colorbar": {
             "outlinewidth": 0,
             "ticks": ""
            },
            "type": "choropleth"
           }
          ],
          "contour": [
           {
            "colorbar": {
             "outlinewidth": 0,
             "ticks": ""
            },
            "colorscale": [
             [
              0,
              "#0d0887"
             ],
             [
              0.1111111111111111,
              "#46039f"
             ],
             [
              0.2222222222222222,
              "#7201a8"
             ],
             [
              0.3333333333333333,
              "#9c179e"
             ],
             [
              0.4444444444444444,
              "#bd3786"
             ],
             [
              0.5555555555555556,
              "#d8576b"
             ],
             [
              0.6666666666666666,
              "#ed7953"
             ],
             [
              0.7777777777777778,
              "#fb9f3a"
             ],
             [
              0.8888888888888888,
              "#fdca26"
             ],
             [
              1,
              "#f0f921"
             ]
            ],
            "type": "contour"
           }
          ],
          "contourcarpet": [
           {
            "colorbar": {
             "outlinewidth": 0,
             "ticks": ""
            },
            "type": "contourcarpet"
           }
          ],
          "heatmap": [
           {
            "colorbar": {
             "outlinewidth": 0,
             "ticks": ""
            },
            "colorscale": [
             [
              0,
              "#0d0887"
             ],
             [
              0.1111111111111111,
              "#46039f"
             ],
             [
              0.2222222222222222,
              "#7201a8"
             ],
             [
              0.3333333333333333,
              "#9c179e"
             ],
             [
              0.4444444444444444,
              "#bd3786"
             ],
             [
              0.5555555555555556,
              "#d8576b"
             ],
             [
              0.6666666666666666,
              "#ed7953"
             ],
             [
              0.7777777777777778,
              "#fb9f3a"
             ],
             [
              0.8888888888888888,
              "#fdca26"
             ],
             [
              1,
              "#f0f921"
             ]
            ],
            "type": "heatmap"
           }
          ],
          "heatmapgl": [
           {
            "colorbar": {
             "outlinewidth": 0,
             "ticks": ""
            },
            "colorscale": [
             [
              0,
              "#0d0887"
             ],
             [
              0.1111111111111111,
              "#46039f"
             ],
             [
              0.2222222222222222,
              "#7201a8"
             ],
             [
              0.3333333333333333,
              "#9c179e"
             ],
             [
              0.4444444444444444,
              "#bd3786"
             ],
             [
              0.5555555555555556,
              "#d8576b"
             ],
             [
              0.6666666666666666,
              "#ed7953"
             ],
             [
              0.7777777777777778,
              "#fb9f3a"
             ],
             [
              0.8888888888888888,
              "#fdca26"
             ],
             [
              1,
              "#f0f921"
             ]
            ],
            "type": "heatmapgl"
           }
          ],
          "histogram": [
           {
            "marker": {
             "pattern": {
              "fillmode": "overlay",
              "size": 10,
              "solidity": 0.2
             }
            },
            "type": "histogram"
           }
          ],
          "histogram2d": [
           {
            "colorbar": {
             "outlinewidth": 0,
             "ticks": ""
            },
            "colorscale": [
             [
              0,
              "#0d0887"
             ],
             [
              0.1111111111111111,
              "#46039f"
             ],
             [
              0.2222222222222222,
              "#7201a8"
             ],
             [
              0.3333333333333333,
              "#9c179e"
             ],
             [
              0.4444444444444444,
              "#bd3786"
             ],
             [
              0.5555555555555556,
              "#d8576b"
             ],
             [
              0.6666666666666666,
              "#ed7953"
             ],
             [
              0.7777777777777778,
              "#fb9f3a"
             ],
             [
              0.8888888888888888,
              "#fdca26"
             ],
             [
              1,
              "#f0f921"
             ]
            ],
            "type": "histogram2d"
           }
          ],
          "histogram2dcontour": [
           {
            "colorbar": {
             "outlinewidth": 0,
             "ticks": ""
            },
            "colorscale": [
             [
              0,
              "#0d0887"
             ],
             [
              0.1111111111111111,
              "#46039f"
             ],
             [
              0.2222222222222222,
              "#7201a8"
             ],
             [
              0.3333333333333333,
              "#9c179e"
             ],
             [
              0.4444444444444444,
              "#bd3786"
             ],
             [
              0.5555555555555556,
              "#d8576b"
             ],
             [
              0.6666666666666666,
              "#ed7953"
             ],
             [
              0.7777777777777778,
              "#fb9f3a"
             ],
             [
              0.8888888888888888,
              "#fdca26"
             ],
             [
              1,
              "#f0f921"
             ]
            ],
            "type": "histogram2dcontour"
           }
          ],
          "mesh3d": [
           {
            "colorbar": {
             "outlinewidth": 0,
             "ticks": ""
            },
            "type": "mesh3d"
           }
          ],
          "parcoords": [
           {
            "line": {
             "colorbar": {
              "outlinewidth": 0,
              "ticks": ""
             }
            },
            "type": "parcoords"
           }
          ],
          "pie": [
           {
            "automargin": true,
            "type": "pie"
           }
          ],
          "scatter": [
           {
            "fillpattern": {
             "fillmode": "overlay",
             "size": 10,
             "solidity": 0.2
            },
            "type": "scatter"
           }
          ],
          "scatter3d": [
           {
            "line": {
             "colorbar": {
              "outlinewidth": 0,
              "ticks": ""
             }
            },
            "marker": {
             "colorbar": {
              "outlinewidth": 0,
              "ticks": ""
             }
            },
            "type": "scatter3d"
           }
          ],
          "scattercarpet": [
           {
            "marker": {
             "colorbar": {
              "outlinewidth": 0,
              "ticks": ""
             }
            },
            "type": "scattercarpet"
           }
          ],
          "scattergeo": [
           {
            "marker": {
             "colorbar": {
              "outlinewidth": 0,
              "ticks": ""
             }
            },
            "type": "scattergeo"
           }
          ],
          "scattergl": [
           {
            "marker": {
             "colorbar": {
              "outlinewidth": 0,
              "ticks": ""
             }
            },
            "type": "scattergl"
           }
          ],
          "scattermapbox": [
           {
            "marker": {
             "colorbar": {
              "outlinewidth": 0,
              "ticks": ""
             }
            },
            "type": "scattermapbox"
           }
          ],
          "scatterpolar": [
           {
            "marker": {
             "colorbar": {
              "outlinewidth": 0,
              "ticks": ""
             }
            },
            "type": "scatterpolar"
           }
          ],
          "scatterpolargl": [
           {
            "marker": {
             "colorbar": {
              "outlinewidth": 0,
              "ticks": ""
             }
            },
            "type": "scatterpolargl"
           }
          ],
          "scatterternary": [
           {
            "marker": {
             "colorbar": {
              "outlinewidth": 0,
              "ticks": ""
             }
            },
            "type": "scatterternary"
           }
          ],
          "surface": [
           {
            "colorbar": {
             "outlinewidth": 0,
             "ticks": ""
            },
            "colorscale": [
             [
              0,
              "#0d0887"
             ],
             [
              0.1111111111111111,
              "#46039f"
             ],
             [
              0.2222222222222222,
              "#7201a8"
             ],
             [
              0.3333333333333333,
              "#9c179e"
             ],
             [
              0.4444444444444444,
              "#bd3786"
             ],
             [
              0.5555555555555556,
              "#d8576b"
             ],
             [
              0.6666666666666666,
              "#ed7953"
             ],
             [
              0.7777777777777778,
              "#fb9f3a"
             ],
             [
              0.8888888888888888,
              "#fdca26"
             ],
             [
              1,
              "#f0f921"
             ]
            ],
            "type": "surface"
           }
          ],
          "table": [
           {
            "cells": {
             "fill": {
              "color": "#EBF0F8"
             },
             "line": {
              "color": "white"
             }
            },
            "header": {
             "fill": {
              "color": "#C8D4E3"
             },
             "line": {
              "color": "white"
             }
            },
            "type": "table"
           }
          ]
         },
         "layout": {
          "annotationdefaults": {
           "arrowcolor": "#2a3f5f",
           "arrowhead": 0,
           "arrowwidth": 1
          },
          "autotypenumbers": "strict",
          "coloraxis": {
           "colorbar": {
            "outlinewidth": 0,
            "ticks": ""
           }
          },
          "colorscale": {
           "diverging": [
            [
             0,
             "#8e0152"
            ],
            [
             0.1,
             "#c51b7d"
            ],
            [
             0.2,
             "#de77ae"
            ],
            [
             0.3,
             "#f1b6da"
            ],
            [
             0.4,
             "#fde0ef"
            ],
            [
             0.5,
             "#f7f7f7"
            ],
            [
             0.6,
             "#e6f5d0"
            ],
            [
             0.7,
             "#b8e186"
            ],
            [
             0.8,
             "#7fbc41"
            ],
            [
             0.9,
             "#4d9221"
            ],
            [
             1,
             "#276419"
            ]
           ],
           "sequential": [
            [
             0,
             "#0d0887"
            ],
            [
             0.1111111111111111,
             "#46039f"
            ],
            [
             0.2222222222222222,
             "#7201a8"
            ],
            [
             0.3333333333333333,
             "#9c179e"
            ],
            [
             0.4444444444444444,
             "#bd3786"
            ],
            [
             0.5555555555555556,
             "#d8576b"
            ],
            [
             0.6666666666666666,
             "#ed7953"
            ],
            [
             0.7777777777777778,
             "#fb9f3a"
            ],
            [
             0.8888888888888888,
             "#fdca26"
            ],
            [
             1,
             "#f0f921"
            ]
           ],
           "sequentialminus": [
            [
             0,
             "#0d0887"
            ],
            [
             0.1111111111111111,
             "#46039f"
            ],
            [
             0.2222222222222222,
             "#7201a8"
            ],
            [
             0.3333333333333333,
             "#9c179e"
            ],
            [
             0.4444444444444444,
             "#bd3786"
            ],
            [
             0.5555555555555556,
             "#d8576b"
            ],
            [
             0.6666666666666666,
             "#ed7953"
            ],
            [
             0.7777777777777778,
             "#fb9f3a"
            ],
            [
             0.8888888888888888,
             "#fdca26"
            ],
            [
             1,
             "#f0f921"
            ]
           ]
          },
          "colorway": [
           "#636efa",
           "#EF553B",
           "#00cc96",
           "#ab63fa",
           "#FFA15A",
           "#19d3f3",
           "#FF6692",
           "#B6E880",
           "#FF97FF",
           "#FECB52"
          ],
          "font": {
           "color": "#2a3f5f"
          },
          "geo": {
           "bgcolor": "white",
           "lakecolor": "white",
           "landcolor": "#E5ECF6",
           "showlakes": true,
           "showland": true,
           "subunitcolor": "white"
          },
          "hoverlabel": {
           "align": "left"
          },
          "hovermode": "closest",
          "mapbox": {
           "style": "light"
          },
          "paper_bgcolor": "white",
          "plot_bgcolor": "#E5ECF6",
          "polar": {
           "angularaxis": {
            "gridcolor": "white",
            "linecolor": "white",
            "ticks": ""
           },
           "bgcolor": "#E5ECF6",
           "radialaxis": {
            "gridcolor": "white",
            "linecolor": "white",
            "ticks": ""
           }
          },
          "scene": {
           "xaxis": {
            "backgroundcolor": "#E5ECF6",
            "gridcolor": "white",
            "gridwidth": 2,
            "linecolor": "white",
            "showbackground": true,
            "ticks": "",
            "zerolinecolor": "white"
           },
           "yaxis": {
            "backgroundcolor": "#E5ECF6",
            "gridcolor": "white",
            "gridwidth": 2,
            "linecolor": "white",
            "showbackground": true,
            "ticks": "",
            "zerolinecolor": "white"
           },
           "zaxis": {
            "backgroundcolor": "#E5ECF6",
            "gridcolor": "white",
            "gridwidth": 2,
            "linecolor": "white",
            "showbackground": true,
            "ticks": "",
            "zerolinecolor": "white"
           }
          },
          "shapedefaults": {
           "line": {
            "color": "#2a3f5f"
           }
          },
          "ternary": {
           "aaxis": {
            "gridcolor": "white",
            "linecolor": "white",
            "ticks": ""
           },
           "baxis": {
            "gridcolor": "white",
            "linecolor": "white",
            "ticks": ""
           },
           "bgcolor": "#E5ECF6",
           "caxis": {
            "gridcolor": "white",
            "linecolor": "white",
            "ticks": ""
           }
          },
          "title": {
           "x": 0.05
          },
          "xaxis": {
           "automargin": true,
           "gridcolor": "white",
           "linecolor": "white",
           "ticks": "",
           "title": {
            "standoff": 15
           },
           "zerolinecolor": "white",
           "zerolinewidth": 2
          },
          "yaxis": {
           "automargin": true,
           "gridcolor": "white",
           "linecolor": "white",
           "ticks": "",
           "title": {
            "standoff": 15
           },
           "zerolinecolor": "white",
           "zerolinewidth": 2
          }
         }
        },
        "width": 780
       }
      }
     },
     "metadata": {},
     "output_type": "display_data"
    }
   ],
   "source": [
    "# Créer une figure en radar pour chaque cluster\n",
    "fig = go.Figure()\n",
    "\n",
    "for cluster, row in df_mms_cat.iterrows():\n",
    "    values = row.values.tolist()\n",
    "    \n",
    "\n",
    "    \n",
    "\n",
    "    fig.add_trace(go.Scatterpolar(\n",
    "        r=values,\n",
    "        theta=prod_col,\n",
    "        fill='toself',\n",
    "        name=f'Cluster {cluster}'\n",
    "    ))\n",
    "\n",
    "# Mettre en forme la figurenum_cols,\n",
    "fig.update_layout(\n",
    "    polar=dict(\n",
    "        radialaxis=dict(\n",
    "            visible=True,\n",
    "            range=[0, 5]\n",
    "        ),\n",
    "    ),\n",
    "    showlegend=True,\n",
    "    width=780,\n",
    "    height=780\n",
    "\n",
    ")\n",
    "\n",
    "# Afficher la figure\n",
    "fig.show()\n",
    "figsize = (60,60)"
   ]
  },
  {
   "cell_type": "code",
   "execution_count": null,
   "metadata": {},
   "outputs": [
    {
     "data": {
      "text/html": [
       "<div>\n",
       "<style scoped>\n",
       "    .dataframe tbody tr th:only-of-type {\n",
       "        vertical-align: middle;\n",
       "    }\n",
       "\n",
       "    .dataframe tbody tr th {\n",
       "        vertical-align: top;\n",
       "    }\n",
       "\n",
       "    .dataframe thead th {\n",
       "        text-align: right;\n",
       "    }\n",
       "</style>\n",
       "<table border=\"1\" class=\"dataframe\">\n",
       "  <thead>\n",
       "    <tr style=\"text-align: right;\">\n",
       "      <th></th>\n",
       "      <th>index</th>\n",
       "      <th>payment_type</th>\n",
       "      <th>product_category</th>\n",
       "      <th>payment_installments</th>\n",
       "      <th>orders</th>\n",
       "      <th>products</th>\n",
       "      <th>sellers</th>\n",
       "      <th>payment_value</th>\n",
       "      <th>review_score</th>\n",
       "      <th>price</th>\n",
       "      <th>freight_value</th>\n",
       "      <th>order_purchase_timestamp</th>\n",
       "      <th>recency</th>\n",
       "    </tr>\n",
       "  </thead>\n",
       "  <tbody>\n",
       "    <tr>\n",
       "      <th>0</th>\n",
       "      <td>71848</td>\n",
       "      <td>credit_card</td>\n",
       "      <td>Office_Supplies</td>\n",
       "      <td>5</td>\n",
       "      <td>1</td>\n",
       "      <td>1</td>\n",
       "      <td>1</td>\n",
       "      <td>115.22</td>\n",
       "      <td>2.0</td>\n",
       "      <td>86.99</td>\n",
       "      <td>28.23</td>\n",
       "      <td>2016-10</td>\n",
       "      <td>695</td>\n",
       "    </tr>\n",
       "    <tr>\n",
       "      <th>1</th>\n",
       "      <td>50256</td>\n",
       "      <td>credit_card</td>\n",
       "      <td>Sports_Leisure</td>\n",
       "      <td>3</td>\n",
       "      <td>1</td>\n",
       "      <td>1</td>\n",
       "      <td>1</td>\n",
       "      <td>61.16</td>\n",
       "      <td>5.0</td>\n",
       "      <td>49.99</td>\n",
       "      <td>11.17</td>\n",
       "      <td>2016-10</td>\n",
       "      <td>691</td>\n",
       "    </tr>\n",
       "    <tr>\n",
       "      <th>2</th>\n",
       "      <td>14113</td>\n",
       "      <td>credit_card</td>\n",
       "      <td>Sports_Leisure</td>\n",
       "      <td>10</td>\n",
       "      <td>1</td>\n",
       "      <td>1</td>\n",
       "      <td>1</td>\n",
       "      <td>818.12</td>\n",
       "      <td>5.0</td>\n",
       "      <td>649.00</td>\n",
       "      <td>169.12</td>\n",
       "      <td>2016-10</td>\n",
       "      <td>694</td>\n",
       "    </tr>\n",
       "    <tr>\n",
       "      <th>3</th>\n",
       "      <td>11864</td>\n",
       "      <td>boleto</td>\n",
       "      <td>Health_Beauty</td>\n",
       "      <td>1</td>\n",
       "      <td>1</td>\n",
       "      <td>1</td>\n",
       "      <td>1</td>\n",
       "      <td>87.53</td>\n",
       "      <td>4.0</td>\n",
       "      <td>69.90</td>\n",
       "      <td>17.63</td>\n",
       "      <td>2016-10</td>\n",
       "      <td>692</td>\n",
       "    </tr>\n",
       "    <tr>\n",
       "      <th>4</th>\n",
       "      <td>91385</td>\n",
       "      <td>credit_card</td>\n",
       "      <td>Home</td>\n",
       "      <td>6</td>\n",
       "      <td>2</td>\n",
       "      <td>2</td>\n",
       "      <td>2</td>\n",
       "      <td>218.04</td>\n",
       "      <td>5.0</td>\n",
       "      <td>43.65</td>\n",
       "      <td>10.86</td>\n",
       "      <td>2016-10</td>\n",
       "      <td>690</td>\n",
       "    </tr>\n",
       "    <tr>\n",
       "      <th>...</th>\n",
       "      <td>...</td>\n",
       "      <td>...</td>\n",
       "      <td>...</td>\n",
       "      <td>...</td>\n",
       "      <td>...</td>\n",
       "      <td>...</td>\n",
       "      <td>...</td>\n",
       "      <td>...</td>\n",
       "      <td>...</td>\n",
       "      <td>...</td>\n",
       "      <td>...</td>\n",
       "      <td>...</td>\n",
       "      <td>...</td>\n",
       "    </tr>\n",
       "    <tr>\n",
       "      <th>91474</th>\n",
       "      <td>83793</td>\n",
       "      <td>debit_card</td>\n",
       "      <td>Home</td>\n",
       "      <td>1</td>\n",
       "      <td>1</td>\n",
       "      <td>1</td>\n",
       "      <td>1</td>\n",
       "      <td>151.54</td>\n",
       "      <td>5.0</td>\n",
       "      <td>129.99</td>\n",
       "      <td>21.55</td>\n",
       "      <td>2018-08</td>\n",
       "      <td>28</td>\n",
       "    </tr>\n",
       "    <tr>\n",
       "      <th>91475</th>\n",
       "      <td>23285</td>\n",
       "      <td>credit_card</td>\n",
       "      <td>Technology</td>\n",
       "      <td>1</td>\n",
       "      <td>1</td>\n",
       "      <td>1</td>\n",
       "      <td>1</td>\n",
       "      <td>57.60</td>\n",
       "      <td>5.0</td>\n",
       "      <td>49.99</td>\n",
       "      <td>7.61</td>\n",
       "      <td>2018-08</td>\n",
       "      <td>17</td>\n",
       "    </tr>\n",
       "    <tr>\n",
       "      <th>91476</th>\n",
       "      <td>23293</td>\n",
       "      <td>credit_card</td>\n",
       "      <td>Technology</td>\n",
       "      <td>1</td>\n",
       "      <td>1</td>\n",
       "      <td>1</td>\n",
       "      <td>1</td>\n",
       "      <td>62.86</td>\n",
       "      <td>5.0</td>\n",
       "      <td>54.90</td>\n",
       "      <td>7.96</td>\n",
       "      <td>2018-08</td>\n",
       "      <td>22</td>\n",
       "    </tr>\n",
       "    <tr>\n",
       "      <th>91477</th>\n",
       "      <td>55011</td>\n",
       "      <td>credit_card</td>\n",
       "      <td>Fashion_Accessories</td>\n",
       "      <td>3</td>\n",
       "      <td>2</td>\n",
       "      <td>2</td>\n",
       "      <td>2</td>\n",
       "      <td>1089.04</td>\n",
       "      <td>4.0</td>\n",
       "      <td>252.40</td>\n",
       "      <td>19.86</td>\n",
       "      <td>2018-08</td>\n",
       "      <td>25</td>\n",
       "    </tr>\n",
       "    <tr>\n",
       "      <th>91478</th>\n",
       "      <td>45739</td>\n",
       "      <td>boleto</td>\n",
       "      <td>Home</td>\n",
       "      <td>1</td>\n",
       "      <td>1</td>\n",
       "      <td>1</td>\n",
       "      <td>1</td>\n",
       "      <td>30.69</td>\n",
       "      <td>5.0</td>\n",
       "      <td>17.90</td>\n",
       "      <td>12.79</td>\n",
       "      <td>2018-08</td>\n",
       "      <td>10</td>\n",
       "    </tr>\n",
       "  </tbody>\n",
       "</table>\n",
       "<p>91479 rows × 13 columns</p>\n",
       "</div>"
      ],
      "text/plain": [
       "       index payment_type     product_category  payment_installments  orders  \\\n",
       "0      71848  credit_card      Office_Supplies                     5       1   \n",
       "1      50256  credit_card       Sports_Leisure                     3       1   \n",
       "2      14113  credit_card       Sports_Leisure                    10       1   \n",
       "3      11864       boleto        Health_Beauty                     1       1   \n",
       "4      91385  credit_card                 Home                     6       2   \n",
       "...      ...          ...                  ...                   ...     ...   \n",
       "91474  83793   debit_card                 Home                     1       1   \n",
       "91475  23285  credit_card           Technology                     1       1   \n",
       "91476  23293  credit_card           Technology                     1       1   \n",
       "91477  55011  credit_card  Fashion_Accessories                     3       2   \n",
       "91478  45739       boleto                 Home                     1       1   \n",
       "\n",
       "       products  sellers  payment_value  review_score   price  freight_value  \\\n",
       "0             1        1         115.22           2.0   86.99          28.23   \n",
       "1             1        1          61.16           5.0   49.99          11.17   \n",
       "2             1        1         818.12           5.0  649.00         169.12   \n",
       "3             1        1          87.53           4.0   69.90          17.63   \n",
       "4             2        2         218.04           5.0   43.65          10.86   \n",
       "...         ...      ...            ...           ...     ...            ...   \n",
       "91474         1        1         151.54           5.0  129.99          21.55   \n",
       "91475         1        1          57.60           5.0   49.99           7.61   \n",
       "91476         1        1          62.86           5.0   54.90           7.96   \n",
       "91477         2        2        1089.04           4.0  252.40          19.86   \n",
       "91478         1        1          30.69           5.0   17.90          12.79   \n",
       "\n",
       "      order_purchase_timestamp  recency  \n",
       "0                      2016-10      695  \n",
       "1                      2016-10      691  \n",
       "2                      2016-10      694  \n",
       "3                      2016-10      692  \n",
       "4                      2016-10      690  \n",
       "...                        ...      ...  \n",
       "91474                  2018-08       28  \n",
       "91475                  2018-08       17  \n",
       "91476                  2018-08       22  \n",
       "91477                  2018-08       25  \n",
       "91478                  2018-08       10  \n",
       "\n",
       "[91479 rows x 13 columns]"
      ]
     },
     "execution_count": 840,
     "metadata": {},
     "output_type": "execute_result"
    }
   ],
   "source": [
    "df= pd.read_csv('data.csv')\n",
    "df.rename(columns={\"order_item_id\": \"orders\", \"product_id\": \"products\", \"seller_id\":'sellers'}, inplace=True)\n",
    "df['payment_installments']=df['payment_installments'].astype('int64')\n",
    "df= df.drop(['customer_city','customer_state','customer_zip_code_prefix','seller_city','seller_state','customer_unique_id.1','customer_unique_id'], axis=1)\n",
    "df[\"order_purchase_timestamp\"] = pd.to_datetime(df[\"order_purchase_timestamp\"]).dt.strftime('%Y-%m')\n",
    "df=df.sort_values('order_purchase_timestamp').reset_index()\n",
    "df"
   ]
  },
  {
   "cell_type": "code",
   "execution_count": null,
   "metadata": {},
   "outputs": [],
   "source": [
    "\n",
    "df_ari_t0=df[df['order_purchase_timestamp']<'2017-10']\n",
    "df_ari_t0=df_ari_t0.drop('order_purchase_timestamp',axis=1)\n",
    "\n",
    "df_ari_t1=df[df['order_purchase_timestamp']<'2018-01']\n",
    "df_ari_t1=df_ari_t1.drop('order_purchase_timestamp',axis=1)\n",
    "\n",
    "df_ari_t2=df[df['order_purchase_timestamp']<'2018-04']\n",
    "df_ari_t2=df_ari_t2.drop('order_purchase_timestamp',axis=1)\n",
    "\n",
    "df_ari_t3=df[df['order_purchase_timestamp']<'2018-07']\n",
    "df_ari_t3=df_ari_t3.drop('order_purchase_timestamp',axis=1)\n",
    "\n",
    "df_ari_t4=df[df['order_purchase_timestamp']<'2018-07']\n",
    "df_ari_t4=df_ari_t4.drop('order_purchase_timestamp',axis=1)\n"
   ]
  },
  {
   "cell_type": "code",
   "execution_count": null,
   "metadata": {},
   "outputs": [],
   "source": [
    "index=df_ari_t0.index.to_list()"
   ]
  },
  {
   "cell_type": "code",
   "execution_count": null,
   "metadata": {},
   "outputs": [],
   "source": [
    "func_log = FunctionTransformer(func=np.log1p)\n",
    "func_abs=FunctionTransformer(func=np.abs)\n",
    "\n",
    "pipe_num= make_pipeline(func_abs,func_log)\n",
    "\n",
    "transformer = make_column_transformer(\n",
    "    (OneHotEncoder(sparse=False),make_column_selector(dtype_exclude=np.number)),\n",
    "    (pipe_num,make_column_selector(dtype_include=np.number))\n",
    "    )\n",
    "\n",
    "pipe_pca= make_pipeline(transformer,PCA(n_components=0.95))\n",
    "\n",
    "df_acp_t0=pd.DataFrame(pipe_pca.fit_transform(df_ari_t0))\n",
    "\n",
    "\n",
    "\n",
    "clustering_t0 =KMeans(n_clusters=8).fit(df_acp_t0)\n",
    "df_acp_t0['cluster_labels_t0']=pd.Series(clustering_t0.labels_)\n",
    "df_ari_t0['cluster_labels_t0']=pd.Series(clustering_t0.labels_)\n"
   ]
  },
  {
   "cell_type": "code",
   "execution_count": null,
   "metadata": {},
   "outputs": [],
   "source": [
    "\n",
    "\n",
    "df_acp_t1=pd.DataFrame(pipe_pca.fit_transform(df_ari_t1))\n",
    "\n",
    "\n",
    "\n",
    "clustering_t1 =KMeans(n_clusters=8).fit(df_acp_t1)\n",
    "df_acp_t1['cluster_labels_t1']=pd.Series(clustering_t1.labels_)\n",
    "df_ari_t1['cluster_labels_t1']=pd.Series(clustering_t1.labels_)\n",
    "\n"
   ]
  },
  {
   "cell_type": "code",
   "execution_count": null,
   "metadata": {},
   "outputs": [],
   "source": [
    "df_acp_t2=pd.DataFrame(pipe_pca.fit_transform(df_ari_t2))\n",
    "\n",
    "\n",
    "\n",
    "clustering_t2 =KMeans(n_clusters=8).fit(df_acp_t2)\n",
    "df_acp_t2['cluster_labels_t2']=pd.Series(clustering_t2.labels_)\n",
    "df_ari_t2['cluster_labels_t2']=pd.Series(clustering_t2.labels_)\n"
   ]
  },
  {
   "cell_type": "code",
   "execution_count": null,
   "metadata": {},
   "outputs": [],
   "source": [
    "df_acp_t3=pd.DataFrame(pipe_pca.fit_transform(df_ari_t3))\n",
    "\n",
    "\n",
    "\n",
    "clustering_t3 =KMeans(n_clusters=8).fit(df_acp_t3)\n",
    "df_acp_t3['cluster_labels_t3']=pd.Series(clustering_t3.labels_)\n",
    "df_ari_t3['cluster_labels_t3']=pd.Series(clustering_t3.labels_)\n",
    "\n"
   ]
  },
  {
   "cell_type": "code",
   "execution_count": null,
   "metadata": {},
   "outputs": [],
   "source": [
    "df_acp_t4=pd.DataFrame(pipe_pca.fit_transform(df_ari_t4))\n",
    "\n",
    "\n",
    "\n",
    "clustering_t4 =KMeans(n_clusters=8).fit(df_acp_t4)\n",
    "df_acp_t4['cluster_labels_t4']=pd.Series(clustering_t4.labels_)\n",
    "df_ari_t4['cluster_labels_t4']=pd.Series(clustering_t4.labels_)"
   ]
  },
  {
   "cell_type": "code",
   "execution_count": null,
   "metadata": {},
   "outputs": [],
   "source": [
    "cluster_t0=df_ari_t0['cluster_labels_t0'].loc[index].to_list()\n",
    "cluster_t1=df_ari_t1['cluster_labels_t1'].loc[index].to_list()\n",
    "cluster_t2=df_ari_t2['cluster_labels_t2'].loc[index].to_list()\n",
    "cluster_t3=df_ari_t3['cluster_labels_t3'].loc[index].to_list()\n",
    "cluster_t4=df_ari_t4['cluster_labels_t4'].loc[index].to_list()\n",
    "\n"
   ]
  },
  {
   "cell_type": "code",
   "execution_count": null,
   "metadata": {},
   "outputs": [
    {
     "data": {
      "text/plain": [
       "0.40413589677105805"
      ]
     },
     "execution_count": 849,
     "metadata": {},
     "output_type": "execute_result"
    }
   ],
   "source": [
    "adjusted_rand_score(cluster_t0,cluster_t1)\n",
    "adjusted_rand_score(cluster_t0,cluster_t2)\n",
    "adjusted_rand_score(cluster_t0,cluster_t3)\n",
    "adjusted_rand_score(cluster_t0,cluster_t4)"
   ]
  },
  {
   "cell_type": "code",
   "execution_count": null,
   "metadata": {},
   "outputs": [],
   "source": [
    "df_ari= pd.DataFrame({'+3 mois':adjusted_rand_score(cluster_t0,cluster_t1),'+6 mois':adjusted_rand_score(cluster_t0,cluster_t2),'+9 mois':adjusted_rand_score(cluster_t0,cluster_t3),'+12 mois':adjusted_rand_score(cluster_t0,cluster_t4)}, index=['score ari'])"
   ]
  },
  {
   "cell_type": "code",
   "execution_count": null,
   "metadata": {},
   "outputs": [
    {
     "data": {
      "text/html": [
       "<div>\n",
       "<style scoped>\n",
       "    .dataframe tbody tr th:only-of-type {\n",
       "        vertical-align: middle;\n",
       "    }\n",
       "\n",
       "    .dataframe tbody tr th {\n",
       "        vertical-align: top;\n",
       "    }\n",
       "\n",
       "    .dataframe thead th {\n",
       "        text-align: right;\n",
       "    }\n",
       "</style>\n",
       "<table border=\"1\" class=\"dataframe\">\n",
       "  <thead>\n",
       "    <tr style=\"text-align: right;\">\n",
       "      <th></th>\n",
       "      <th>+3 mois</th>\n",
       "      <th>+6 mois</th>\n",
       "      <th>+9 mois</th>\n",
       "      <th>+12 mois</th>\n",
       "    </tr>\n",
       "  </thead>\n",
       "  <tbody>\n",
       "    <tr>\n",
       "      <th>score ari</th>\n",
       "      <td>0.962571</td>\n",
       "      <td>0.918092</td>\n",
       "      <td>0.728265</td>\n",
       "      <td>0.404136</td>\n",
       "    </tr>\n",
       "  </tbody>\n",
       "</table>\n",
       "</div>"
      ],
      "text/plain": [
       "            +3 mois   +6 mois   +9 mois  +12 mois\n",
       "score ari  0.962571  0.918092  0.728265  0.404136"
      ]
     },
     "execution_count": 851,
     "metadata": {},
     "output_type": "execute_result"
    }
   ],
   "source": [
    "df_ari"
   ]
  },
  {
   "cell_type": "code",
   "execution_count": null,
   "metadata": {},
   "outputs": [
    {
     "data": {
      "image/png": "[encoded data removed]",
      "text/plain": [
       "<Figure size 640x480 with 1 Axes>"
      ]
     },
     "metadata": {},
     "output_type": "display_data"
    }
   ],
   "source": [
    "plt.plot([3,6,9,12],[adjusted_rand_score(cluster_t0,cluster_t1),adjusted_rand_score(cluster_t0,cluster_t2),adjusted_rand_score(cluster_t0,cluster_t3),adjusted_rand_score(cluster_t0,cluster_t4)])\n",
    "\n",
    "\n",
    "plt.xlabel(\"Temps en mois\")\n",
    "plt.ylabel(\"Score ARI\")\n",
    "\n",
    "plt.show()"
   ]
  },
  {
   "cell_type": "code",
   "execution_count": null,
   "metadata": {},
   "outputs": [],
   "source": []
  }
 ],
 "metadata": {
  "kernelspec": {
   "display_name": "datascience_env",
   "language": "python",
   "name": "python3"
  },
  "language_info": {
   "codemirror_mode": {
    "name": "ipython",
    "version": 3
   },
   "file_extension": ".py",
   "mimetype": "text/x-python",
   "name": "python",
   "nbconvert_exporter": "python",
   "pygments_lexer": "ipython3",
   "version": "3.9.12"
  },
  "orig_nbformat": 4,
  "vscode": {
   "interpreter": {
    "hash": "e48bd86671c665102a0c6a972f64dec55f72ec0b4a13e9063e0389fef656118c"
   }
  }
 },
 "nbformat": 4,
 "nbformat_minor": 2
}
