{
 "cells": [
  {
   "cell_type": "code",
   "execution_count": 159,
   "metadata": {},
   "outputs": [],
   "source": [
    "# Import module for data manipulation\n",
    "import pandas as pd\n",
    "# Import module for linear algebra\n",
    "import numpy as np\n",
    "# Import module for data visualization\n",
    "import matplotlib.pyplot as plt\n",
    "import plotly.graph_objects as go\n",
    "import plotly.express as px\n",
    "import seaborn as sns\n",
    "# Import module for k-means\n",
    "from sklearn.cluster import KMeans, DBSCAN\n",
    "#import module k-prototype\n",
    "from kmodes.kprototypes import KPrototypes\n",
    "# Ignore warnings\n",
    "import warnings\n",
    "warnings.filterwarnings('ignore', category = FutureWarning)\n",
    "# Format scientific notation from Pandas\n",
    "pd.set_option('display.max_columns', None)\n",
    "\n",
    "#Pour l'Ari\n",
    "from sklearn.metrics.cluster import adjusted_rand_score\n",
    "\n",
    "# prepocessing sklearn\n",
    "from sklearn.compose import make_column_transformer,make_column_selector\n",
    "from sklearn.preprocessing import OneHotEncoder, StandardScaler, RobustScaler, MinMaxScaler, FunctionTransformer\n",
    "from sklearn.decomposition import PCA\n",
    "from sklearn.pipeline import make_pipeline\n",
    "from sklearn.manifold import TSNE\n",
    "\n",
    "#Pour la localisation du coude\n",
    "from kneed import KneeLocator, DataGenerator as dg"
   ]
  },
  {
   "cell_type": "code",
   "execution_count": 190,
   "metadata": {},
   "outputs": [
    {
     "data": {
      "text/html": [
       "<div>\n",
       "<style scoped>\n",
       "    .dataframe tbody tr th:only-of-type {\n",
       "        vertical-align: middle;\n",
       "    }\n",
       "\n",
       "    .dataframe tbody tr th {\n",
       "        vertical-align: top;\n",
       "    }\n",
       "\n",
       "    .dataframe thead th {\n",
       "        text-align: right;\n",
       "    }\n",
       "</style>\n",
       "<table border=\"1\" class=\"dataframe\">\n",
       "  <thead>\n",
       "    <tr style=\"text-align: right;\">\n",
       "      <th></th>\n",
       "      <th>payment_type</th>\n",
       "      <th>product_category</th>\n",
       "      <th>payment_installments</th>\n",
       "      <th>orders</th>\n",
       "      <th>products</th>\n",
       "      <th>sellers</th>\n",
       "      <th>payment_value</th>\n",
       "      <th>review_score</th>\n",
       "      <th>price</th>\n",
       "      <th>freight_value</th>\n",
       "      <th>order_purchase_timestamp</th>\n",
       "      <th>recency</th>\n",
       "    </tr>\n",
       "  </thead>\n",
       "  <tbody>\n",
       "    <tr>\n",
       "      <th>0</th>\n",
       "      <td>credit_card</td>\n",
       "      <td>Home</td>\n",
       "      <td>8</td>\n",
       "      <td>1</td>\n",
       "      <td>1</td>\n",
       "      <td>1</td>\n",
       "      <td>141.90</td>\n",
       "      <td>5.0</td>\n",
       "      <td>129.90</td>\n",
       "      <td>12.00</td>\n",
       "      <td>2018-05-10</td>\n",
       "      <td>112</td>\n",
       "    </tr>\n",
       "    <tr>\n",
       "      <th>1</th>\n",
       "      <td>credit_card</td>\n",
       "      <td>Health_Beauty</td>\n",
       "      <td>1</td>\n",
       "      <td>1</td>\n",
       "      <td>1</td>\n",
       "      <td>1</td>\n",
       "      <td>27.19</td>\n",
       "      <td>4.0</td>\n",
       "      <td>18.90</td>\n",
       "      <td>8.29</td>\n",
       "      <td>2018-05-07</td>\n",
       "      <td>115</td>\n",
       "    </tr>\n",
       "    <tr>\n",
       "      <th>2</th>\n",
       "      <td>credit_card</td>\n",
       "      <td>Office_Supplies</td>\n",
       "      <td>8</td>\n",
       "      <td>1</td>\n",
       "      <td>1</td>\n",
       "      <td>1</td>\n",
       "      <td>86.22</td>\n",
       "      <td>3.0</td>\n",
       "      <td>69.00</td>\n",
       "      <td>17.22</td>\n",
       "      <td>2017-03-10</td>\n",
       "      <td>538</td>\n",
       "    </tr>\n",
       "    <tr>\n",
       "      <th>3</th>\n",
       "      <td>credit_card</td>\n",
       "      <td>Technology</td>\n",
       "      <td>4</td>\n",
       "      <td>1</td>\n",
       "      <td>1</td>\n",
       "      <td>1</td>\n",
       "      <td>43.62</td>\n",
       "      <td>4.0</td>\n",
       "      <td>25.99</td>\n",
       "      <td>17.63</td>\n",
       "      <td>2017-10-12</td>\n",
       "      <td>322</td>\n",
       "    </tr>\n",
       "    <tr>\n",
       "      <th>4</th>\n",
       "      <td>credit_card</td>\n",
       "      <td>Technology</td>\n",
       "      <td>6</td>\n",
       "      <td>1</td>\n",
       "      <td>1</td>\n",
       "      <td>1</td>\n",
       "      <td>196.89</td>\n",
       "      <td>5.0</td>\n",
       "      <td>180.00</td>\n",
       "      <td>16.89</td>\n",
       "      <td>2017-11-14</td>\n",
       "      <td>289</td>\n",
       "    </tr>\n",
       "    <tr>\n",
       "      <th>...</th>\n",
       "      <td>...</td>\n",
       "      <td>...</td>\n",
       "      <td>...</td>\n",
       "      <td>...</td>\n",
       "      <td>...</td>\n",
       "      <td>...</td>\n",
       "      <td>...</td>\n",
       "      <td>...</td>\n",
       "      <td>...</td>\n",
       "      <td>...</td>\n",
       "      <td>...</td>\n",
       "      <td>...</td>\n",
       "    </tr>\n",
       "    <tr>\n",
       "      <th>91474</th>\n",
       "      <td>credit_card</td>\n",
       "      <td>Health_Beauty</td>\n",
       "      <td>10</td>\n",
       "      <td>2</td>\n",
       "      <td>2</td>\n",
       "      <td>2</td>\n",
       "      <td>4134.84</td>\n",
       "      <td>5.0</td>\n",
       "      <td>785.00</td>\n",
       "      <td>248.71</td>\n",
       "      <td>2017-06-08</td>\n",
       "      <td>448</td>\n",
       "    </tr>\n",
       "    <tr>\n",
       "      <th>91475</th>\n",
       "      <td>credit_card</td>\n",
       "      <td>Baby</td>\n",
       "      <td>1</td>\n",
       "      <td>1</td>\n",
       "      <td>1</td>\n",
       "      <td>1</td>\n",
       "      <td>84.58</td>\n",
       "      <td>4.0</td>\n",
       "      <td>64.89</td>\n",
       "      <td>19.69</td>\n",
       "      <td>2017-12-10</td>\n",
       "      <td>263</td>\n",
       "    </tr>\n",
       "    <tr>\n",
       "      <th>91476</th>\n",
       "      <td>credit_card</td>\n",
       "      <td>Automotive</td>\n",
       "      <td>1</td>\n",
       "      <td>1</td>\n",
       "      <td>1</td>\n",
       "      <td>1</td>\n",
       "      <td>112.46</td>\n",
       "      <td>5.0</td>\n",
       "      <td>89.90</td>\n",
       "      <td>22.56</td>\n",
       "      <td>2017-02-07</td>\n",
       "      <td>569</td>\n",
       "    </tr>\n",
       "    <tr>\n",
       "      <th>91477</th>\n",
       "      <td>credit_card</td>\n",
       "      <td>Fashion_Accessories</td>\n",
       "      <td>5</td>\n",
       "      <td>1</td>\n",
       "      <td>1</td>\n",
       "      <td>1</td>\n",
       "      <td>133.69</td>\n",
       "      <td>5.0</td>\n",
       "      <td>115.00</td>\n",
       "      <td>18.69</td>\n",
       "      <td>2018-05-02</td>\n",
       "      <td>120</td>\n",
       "    </tr>\n",
       "    <tr>\n",
       "      <th>91478</th>\n",
       "      <td>credit_card</td>\n",
       "      <td>Health_Beauty</td>\n",
       "      <td>4</td>\n",
       "      <td>1</td>\n",
       "      <td>1</td>\n",
       "      <td>1</td>\n",
       "      <td>71.56</td>\n",
       "      <td>5.0</td>\n",
       "      <td>56.99</td>\n",
       "      <td>14.57</td>\n",
       "      <td>2017-05-02</td>\n",
       "      <td>485</td>\n",
       "    </tr>\n",
       "  </tbody>\n",
       "</table>\n",
       "<p>91479 rows × 12 columns</p>\n",
       "</div>"
      ],
      "text/plain": [
       "      payment_type     product_category  payment_installments  orders  \\\n",
       "0      credit_card                 Home                     8       1   \n",
       "1      credit_card        Health_Beauty                     1       1   \n",
       "2      credit_card      Office_Supplies                     8       1   \n",
       "3      credit_card           Technology                     4       1   \n",
       "4      credit_card           Technology                     6       1   \n",
       "...            ...                  ...                   ...     ...   \n",
       "91474  credit_card        Health_Beauty                    10       2   \n",
       "91475  credit_card                 Baby                     1       1   \n",
       "91476  credit_card           Automotive                     1       1   \n",
       "91477  credit_card  Fashion_Accessories                     5       1   \n",
       "91478  credit_card        Health_Beauty                     4       1   \n",
       "\n",
       "       products  sellers  payment_value  review_score   price  freight_value  \\\n",
       "0             1        1         141.90           5.0  129.90          12.00   \n",
       "1             1        1          27.19           4.0   18.90           8.29   \n",
       "2             1        1          86.22           3.0   69.00          17.22   \n",
       "3             1        1          43.62           4.0   25.99          17.63   \n",
       "4             1        1         196.89           5.0  180.00          16.89   \n",
       "...         ...      ...            ...           ...     ...            ...   \n",
       "91474         2        2        4134.84           5.0  785.00         248.71   \n",
       "91475         1        1          84.58           4.0   64.89          19.69   \n",
       "91476         1        1         112.46           5.0   89.90          22.56   \n",
       "91477         1        1         133.69           5.0  115.00          18.69   \n",
       "91478         1        1          71.56           5.0   56.99          14.57   \n",
       "\n",
       "      order_purchase_timestamp  recency  \n",
       "0                   2018-05-10      112  \n",
       "1                   2018-05-07      115  \n",
       "2                   2017-03-10      538  \n",
       "3                   2017-10-12      322  \n",
       "4                   2017-11-14      289  \n",
       "...                        ...      ...  \n",
       "91474               2017-06-08      448  \n",
       "91475               2017-12-10      263  \n",
       "91476               2017-02-07      569  \n",
       "91477               2018-05-02      120  \n",
       "91478               2017-05-02      485  \n",
       "\n",
       "[91479 rows x 12 columns]"
      ]
     },
     "execution_count": 190,
     "metadata": {},
     "output_type": "execute_result"
    }
   ],
   "source": [
    "df = pd.read_csv('data.csv')\n",
    "df.rename(columns={\"order_item_id\": \"orders\", \"product_id\": \"products\", \"seller_id\":'sellers'}, inplace=True)\n",
    "df['payment_installments']=df['payment_installments'].astype('int64')\n",
    "df= df.drop(['customer_city','customer_state','customer_zip_code_prefix','seller_city','seller_state','customer_unique_id.1','customer_unique_id'], axis=1)\n",
    "df"
   ]
  },
  {
   "cell_type": "code",
   "execution_count": 191,
   "metadata": {},
   "outputs": [
    {
     "data": {
      "image/png": "[encoded data removed]",
      "text/plain": [
       "<Figure size 1200x900 with 3 Axes>"
      ]
     },
     "metadata": {},
     "output_type": "display_data"
    }
   ],
   "source": [
    "df['order_purchase_timestamp'] = pd.to_datetime(df['order_purchase_timestamp'], format='%Y-%m-%d')\n",
    "df.set_index('order_purchase_timestamp', inplace=True)\n",
    "\n",
    "plt.figure(figsize = (12, 9))\n",
    "\n",
    "#First plot\n",
    "plt.subplot(3,1,1)\n",
    "df[\"payment_value\"].resample('W').sum().plot()\n",
    "plt.title('Payment value over weeks', fontdict = {'fontsize': 12}, pad = 10.5)\n",
    "plt.xlabel(None)\n",
    "\n",
    "#Second plot\n",
    "plt.subplot(3,1,2)\n",
    "df['payment_value'].resample('M').sum().plot()\n",
    "plt.title('Payment value over months', fontdict = {'fontsize': 12}, pad = 10.5)\n",
    "plt.xlabel(None)\n",
    "\n",
    "#three plot\n",
    "plt.subplot(3,1,3)\n",
    "df['payment_value'].resample('d').sum().plot()\n",
    "plt.title('Payment value over Days', fontdict = {'fontsize': 12}, pad = 10.5)\n",
    "plt.xlabel(None)\n",
    "plt.tight_layout(pad = 4)"
   ]
  },
  {
   "cell_type": "code",
   "execution_count": 161,
   "metadata": {},
   "outputs": [
    {
     "data": {
      "text/plain": [
       "Home                   22393\n",
       "Technology             13021\n",
       "Health_Beauty          11351\n",
       "Fashion_Accessories     8533\n",
       "Toys_Games              7941\n",
       "Sports_Leisure          7101\n",
       "other                   6291\n",
       "Construction_Tools      5003\n",
       "Automotive              3722\n",
       "Office_Supplies         3370\n",
       "Baby                    2753\n",
       "Name: product_category, dtype: int64"
      ]
     },
     "execution_count": 161,
     "metadata": {},
     "output_type": "execute_result"
    }
   ],
   "source": [
    "from collections import Counter\n",
    "\n",
    "outre_cat=list((Counter(df.product_category.value_counts().index.to_list())-Counter(df.product_category.value_counts().index.to_list()[0:10])).elements())\n",
    "outre_cat\n",
    "df.replace(outre_cat,\"other\", inplace=True)\n",
    "df.product_category.value_counts()"
   ]
  },
  {
   "cell_type": "code",
   "execution_count": 162,
   "metadata": {},
   "outputs": [],
   "source": [
    "transformer = make_column_transformer(\n",
    "    (OneHotEncoder(sparse=False),make_column_selector(dtype_exclude=np.number)),\n",
    "    (MinMaxScaler(),make_column_selector(dtype_include=np.number))\n",
    "    )"
   ]
  },
  {
   "cell_type": "code",
   "execution_count": 163,
   "metadata": {},
   "outputs": [
    {
     "data": {
      "text/html": [
       "<div>\n",
       "<style scoped>\n",
       "    .dataframe tbody tr th:only-of-type {\n",
       "        vertical-align: middle;\n",
       "    }\n",
       "\n",
       "    .dataframe tbody tr th {\n",
       "        vertical-align: top;\n",
       "    }\n",
       "\n",
       "    .dataframe thead th {\n",
       "        text-align: right;\n",
       "    }\n",
       "</style>\n",
       "<table border=\"1\" class=\"dataframe\">\n",
       "  <thead>\n",
       "    <tr style=\"text-align: right;\">\n",
       "      <th></th>\n",
       "      <th>0</th>\n",
       "      <th>1</th>\n",
       "      <th>2</th>\n",
       "      <th>3</th>\n",
       "      <th>4</th>\n",
       "      <th>5</th>\n",
       "      <th>6</th>\n",
       "      <th>7</th>\n",
       "      <th>8</th>\n",
       "      <th>9</th>\n",
       "      <th>10</th>\n",
       "      <th>11</th>\n",
       "      <th>12</th>\n",
       "      <th>13</th>\n",
       "      <th>14</th>\n",
       "      <th>15</th>\n",
       "      <th>16</th>\n",
       "      <th>17</th>\n",
       "      <th>18</th>\n",
       "      <th>19</th>\n",
       "      <th>20</th>\n",
       "      <th>21</th>\n",
       "      <th>22</th>\n",
       "      <th>23</th>\n",
       "    </tr>\n",
       "  </thead>\n",
       "  <tbody>\n",
       "    <tr>\n",
       "      <th>0</th>\n",
       "      <td>0.0</td>\n",
       "      <td>1.0</td>\n",
       "      <td>0.0</td>\n",
       "      <td>0.0</td>\n",
       "      <td>0.0</td>\n",
       "      <td>0.0</td>\n",
       "      <td>0.0</td>\n",
       "      <td>0.0</td>\n",
       "      <td>0.0</td>\n",
       "      <td>1.0</td>\n",
       "      <td>0.0</td>\n",
       "      <td>0.0</td>\n",
       "      <td>0.0</td>\n",
       "      <td>0.0</td>\n",
       "      <td>0.0</td>\n",
       "      <td>0.333333</td>\n",
       "      <td>0.000000</td>\n",
       "      <td>0.000000</td>\n",
       "      <td>0.000000</td>\n",
       "      <td>0.001210</td>\n",
       "      <td>1.00</td>\n",
       "      <td>0.019164</td>\n",
       "      <td>0.029291</td>\n",
       "      <td>0.159712</td>\n",
       "    </tr>\n",
       "    <tr>\n",
       "      <th>1</th>\n",
       "      <td>0.0</td>\n",
       "      <td>1.0</td>\n",
       "      <td>0.0</td>\n",
       "      <td>0.0</td>\n",
       "      <td>0.0</td>\n",
       "      <td>0.0</td>\n",
       "      <td>0.0</td>\n",
       "      <td>0.0</td>\n",
       "      <td>1.0</td>\n",
       "      <td>0.0</td>\n",
       "      <td>0.0</td>\n",
       "      <td>0.0</td>\n",
       "      <td>0.0</td>\n",
       "      <td>0.0</td>\n",
       "      <td>0.0</td>\n",
       "      <td>0.041667</td>\n",
       "      <td>0.000000</td>\n",
       "      <td>0.000000</td>\n",
       "      <td>0.000000</td>\n",
       "      <td>0.000161</td>\n",
       "      <td>0.75</td>\n",
       "      <td>0.002680</td>\n",
       "      <td>0.020235</td>\n",
       "      <td>0.164029</td>\n",
       "    </tr>\n",
       "    <tr>\n",
       "      <th>2</th>\n",
       "      <td>0.0</td>\n",
       "      <td>1.0</td>\n",
       "      <td>0.0</td>\n",
       "      <td>0.0</td>\n",
       "      <td>0.0</td>\n",
       "      <td>0.0</td>\n",
       "      <td>0.0</td>\n",
       "      <td>0.0</td>\n",
       "      <td>0.0</td>\n",
       "      <td>0.0</td>\n",
       "      <td>1.0</td>\n",
       "      <td>0.0</td>\n",
       "      <td>0.0</td>\n",
       "      <td>0.0</td>\n",
       "      <td>0.0</td>\n",
       "      <td>0.333333</td>\n",
       "      <td>0.000000</td>\n",
       "      <td>0.000000</td>\n",
       "      <td>0.000000</td>\n",
       "      <td>0.000701</td>\n",
       "      <td>0.50</td>\n",
       "      <td>0.010120</td>\n",
       "      <td>0.042033</td>\n",
       "      <td>0.772662</td>\n",
       "    </tr>\n",
       "    <tr>\n",
       "      <th>3</th>\n",
       "      <td>0.0</td>\n",
       "      <td>1.0</td>\n",
       "      <td>0.0</td>\n",
       "      <td>0.0</td>\n",
       "      <td>0.0</td>\n",
       "      <td>0.0</td>\n",
       "      <td>0.0</td>\n",
       "      <td>0.0</td>\n",
       "      <td>0.0</td>\n",
       "      <td>0.0</td>\n",
       "      <td>0.0</td>\n",
       "      <td>0.0</td>\n",
       "      <td>1.0</td>\n",
       "      <td>0.0</td>\n",
       "      <td>0.0</td>\n",
       "      <td>0.166667</td>\n",
       "      <td>0.000000</td>\n",
       "      <td>0.000000</td>\n",
       "      <td>0.000000</td>\n",
       "      <td>0.000311</td>\n",
       "      <td>0.75</td>\n",
       "      <td>0.003733</td>\n",
       "      <td>0.043034</td>\n",
       "      <td>0.461871</td>\n",
       "    </tr>\n",
       "    <tr>\n",
       "      <th>4</th>\n",
       "      <td>0.0</td>\n",
       "      <td>1.0</td>\n",
       "      <td>0.0</td>\n",
       "      <td>0.0</td>\n",
       "      <td>0.0</td>\n",
       "      <td>0.0</td>\n",
       "      <td>0.0</td>\n",
       "      <td>0.0</td>\n",
       "      <td>0.0</td>\n",
       "      <td>0.0</td>\n",
       "      <td>0.0</td>\n",
       "      <td>0.0</td>\n",
       "      <td>1.0</td>\n",
       "      <td>0.0</td>\n",
       "      <td>0.0</td>\n",
       "      <td>0.250000</td>\n",
       "      <td>0.000000</td>\n",
       "      <td>0.000000</td>\n",
       "      <td>0.000000</td>\n",
       "      <td>0.001714</td>\n",
       "      <td>1.00</td>\n",
       "      <td>0.026603</td>\n",
       "      <td>0.041227</td>\n",
       "      <td>0.414388</td>\n",
       "    </tr>\n",
       "    <tr>\n",
       "      <th>...</th>\n",
       "      <td>...</td>\n",
       "      <td>...</td>\n",
       "      <td>...</td>\n",
       "      <td>...</td>\n",
       "      <td>...</td>\n",
       "      <td>...</td>\n",
       "      <td>...</td>\n",
       "      <td>...</td>\n",
       "      <td>...</td>\n",
       "      <td>...</td>\n",
       "      <td>...</td>\n",
       "      <td>...</td>\n",
       "      <td>...</td>\n",
       "      <td>...</td>\n",
       "      <td>...</td>\n",
       "      <td>...</td>\n",
       "      <td>...</td>\n",
       "      <td>...</td>\n",
       "      <td>...</td>\n",
       "      <td>...</td>\n",
       "      <td>...</td>\n",
       "      <td>...</td>\n",
       "      <td>...</td>\n",
       "      <td>...</td>\n",
       "    </tr>\n",
       "    <tr>\n",
       "      <th>91474</th>\n",
       "      <td>0.0</td>\n",
       "      <td>1.0</td>\n",
       "      <td>0.0</td>\n",
       "      <td>0.0</td>\n",
       "      <td>0.0</td>\n",
       "      <td>0.0</td>\n",
       "      <td>0.0</td>\n",
       "      <td>0.0</td>\n",
       "      <td>1.0</td>\n",
       "      <td>0.0</td>\n",
       "      <td>0.0</td>\n",
       "      <td>0.0</td>\n",
       "      <td>0.0</td>\n",
       "      <td>0.0</td>\n",
       "      <td>0.0</td>\n",
       "      <td>0.416667</td>\n",
       "      <td>0.013514</td>\n",
       "      <td>0.013514</td>\n",
       "      <td>0.013514</td>\n",
       "      <td>0.037741</td>\n",
       "      <td>1.00</td>\n",
       "      <td>0.116444</td>\n",
       "      <td>0.607084</td>\n",
       "      <td>0.643165</td>\n",
       "    </tr>\n",
       "    <tr>\n",
       "      <th>91475</th>\n",
       "      <td>0.0</td>\n",
       "      <td>1.0</td>\n",
       "      <td>0.0</td>\n",
       "      <td>0.0</td>\n",
       "      <td>0.0</td>\n",
       "      <td>1.0</td>\n",
       "      <td>0.0</td>\n",
       "      <td>0.0</td>\n",
       "      <td>0.0</td>\n",
       "      <td>0.0</td>\n",
       "      <td>0.0</td>\n",
       "      <td>0.0</td>\n",
       "      <td>0.0</td>\n",
       "      <td>0.0</td>\n",
       "      <td>0.0</td>\n",
       "      <td>0.041667</td>\n",
       "      <td>0.000000</td>\n",
       "      <td>0.000000</td>\n",
       "      <td>0.000000</td>\n",
       "      <td>0.000686</td>\n",
       "      <td>0.75</td>\n",
       "      <td>0.009510</td>\n",
       "      <td>0.048062</td>\n",
       "      <td>0.376978</td>\n",
       "    </tr>\n",
       "    <tr>\n",
       "      <th>91476</th>\n",
       "      <td>0.0</td>\n",
       "      <td>1.0</td>\n",
       "      <td>0.0</td>\n",
       "      <td>0.0</td>\n",
       "      <td>1.0</td>\n",
       "      <td>0.0</td>\n",
       "      <td>0.0</td>\n",
       "      <td>0.0</td>\n",
       "      <td>0.0</td>\n",
       "      <td>0.0</td>\n",
       "      <td>0.0</td>\n",
       "      <td>0.0</td>\n",
       "      <td>0.0</td>\n",
       "      <td>0.0</td>\n",
       "      <td>0.0</td>\n",
       "      <td>0.041667</td>\n",
       "      <td>0.000000</td>\n",
       "      <td>0.000000</td>\n",
       "      <td>0.000000</td>\n",
       "      <td>0.000941</td>\n",
       "      <td>1.00</td>\n",
       "      <td>0.013224</td>\n",
       "      <td>0.055067</td>\n",
       "      <td>0.817266</td>\n",
       "    </tr>\n",
       "    <tr>\n",
       "      <th>91477</th>\n",
       "      <td>0.0</td>\n",
       "      <td>1.0</td>\n",
       "      <td>0.0</td>\n",
       "      <td>0.0</td>\n",
       "      <td>0.0</td>\n",
       "      <td>0.0</td>\n",
       "      <td>0.0</td>\n",
       "      <td>1.0</td>\n",
       "      <td>0.0</td>\n",
       "      <td>0.0</td>\n",
       "      <td>0.0</td>\n",
       "      <td>0.0</td>\n",
       "      <td>0.0</td>\n",
       "      <td>0.0</td>\n",
       "      <td>0.0</td>\n",
       "      <td>0.208333</td>\n",
       "      <td>0.000000</td>\n",
       "      <td>0.000000</td>\n",
       "      <td>0.000000</td>\n",
       "      <td>0.001135</td>\n",
       "      <td>1.00</td>\n",
       "      <td>0.016951</td>\n",
       "      <td>0.045621</td>\n",
       "      <td>0.171223</td>\n",
       "    </tr>\n",
       "    <tr>\n",
       "      <th>91478</th>\n",
       "      <td>0.0</td>\n",
       "      <td>1.0</td>\n",
       "      <td>0.0</td>\n",
       "      <td>0.0</td>\n",
       "      <td>0.0</td>\n",
       "      <td>0.0</td>\n",
       "      <td>0.0</td>\n",
       "      <td>0.0</td>\n",
       "      <td>1.0</td>\n",
       "      <td>0.0</td>\n",
       "      <td>0.0</td>\n",
       "      <td>0.0</td>\n",
       "      <td>0.0</td>\n",
       "      <td>0.0</td>\n",
       "      <td>0.0</td>\n",
       "      <td>0.166667</td>\n",
       "      <td>0.000000</td>\n",
       "      <td>0.000000</td>\n",
       "      <td>0.000000</td>\n",
       "      <td>0.000567</td>\n",
       "      <td>1.00</td>\n",
       "      <td>0.008337</td>\n",
       "      <td>0.035564</td>\n",
       "      <td>0.696403</td>\n",
       "    </tr>\n",
       "  </tbody>\n",
       "</table>\n",
       "<p>91479 rows × 24 columns</p>\n",
       "</div>"
      ],
      "text/plain": [
       "        0    1    2    3    4    5    6    7    8    9    10   11   12   13  \\\n",
       "0      0.0  1.0  0.0  0.0  0.0  0.0  0.0  0.0  0.0  1.0  0.0  0.0  0.0  0.0   \n",
       "1      0.0  1.0  0.0  0.0  0.0  0.0  0.0  0.0  1.0  0.0  0.0  0.0  0.0  0.0   \n",
       "2      0.0  1.0  0.0  0.0  0.0  0.0  0.0  0.0  0.0  0.0  1.0  0.0  0.0  0.0   \n",
       "3      0.0  1.0  0.0  0.0  0.0  0.0  0.0  0.0  0.0  0.0  0.0  0.0  1.0  0.0   \n",
       "4      0.0  1.0  0.0  0.0  0.0  0.0  0.0  0.0  0.0  0.0  0.0  0.0  1.0  0.0   \n",
       "...    ...  ...  ...  ...  ...  ...  ...  ...  ...  ...  ...  ...  ...  ...   \n",
       "91474  0.0  1.0  0.0  0.0  0.0  0.0  0.0  0.0  1.0  0.0  0.0  0.0  0.0  0.0   \n",
       "91475  0.0  1.0  0.0  0.0  0.0  1.0  0.0  0.0  0.0  0.0  0.0  0.0  0.0  0.0   \n",
       "91476  0.0  1.0  0.0  0.0  1.0  0.0  0.0  0.0  0.0  0.0  0.0  0.0  0.0  0.0   \n",
       "91477  0.0  1.0  0.0  0.0  0.0  0.0  0.0  1.0  0.0  0.0  0.0  0.0  0.0  0.0   \n",
       "91478  0.0  1.0  0.0  0.0  0.0  0.0  0.0  0.0  1.0  0.0  0.0  0.0  0.0  0.0   \n",
       "\n",
       "        14        15        16        17        18        19    20        21  \\\n",
       "0      0.0  0.333333  0.000000  0.000000  0.000000  0.001210  1.00  0.019164   \n",
       "1      0.0  0.041667  0.000000  0.000000  0.000000  0.000161  0.75  0.002680   \n",
       "2      0.0  0.333333  0.000000  0.000000  0.000000  0.000701  0.50  0.010120   \n",
       "3      0.0  0.166667  0.000000  0.000000  0.000000  0.000311  0.75  0.003733   \n",
       "4      0.0  0.250000  0.000000  0.000000  0.000000  0.001714  1.00  0.026603   \n",
       "...    ...       ...       ...       ...       ...       ...   ...       ...   \n",
       "91474  0.0  0.416667  0.013514  0.013514  0.013514  0.037741  1.00  0.116444   \n",
       "91475  0.0  0.041667  0.000000  0.000000  0.000000  0.000686  0.75  0.009510   \n",
       "91476  0.0  0.041667  0.000000  0.000000  0.000000  0.000941  1.00  0.013224   \n",
       "91477  0.0  0.208333  0.000000  0.000000  0.000000  0.001135  1.00  0.016951   \n",
       "91478  0.0  0.166667  0.000000  0.000000  0.000000  0.000567  1.00  0.008337   \n",
       "\n",
       "             22        23  \n",
       "0      0.029291  0.159712  \n",
       "1      0.020235  0.164029  \n",
       "2      0.042033  0.772662  \n",
       "3      0.043034  0.461871  \n",
       "4      0.041227  0.414388  \n",
       "...         ...       ...  \n",
       "91474  0.607084  0.643165  \n",
       "91475  0.048062  0.376978  \n",
       "91476  0.055067  0.817266  \n",
       "91477  0.045621  0.171223  \n",
       "91478  0.035564  0.696403  \n",
       "\n",
       "[91479 rows x 24 columns]"
      ]
     },
     "execution_count": 163,
     "metadata": {},
     "output_type": "execute_result"
    }
   ],
   "source": [
    "df = transformer.fit_transform(df)\n",
    "df=pd.DataFrame(df)\n",
    "df"
   ]
  },
  {
   "cell_type": "code",
   "execution_count": 164,
   "metadata": {},
   "outputs": [
    {
     "name": "stdout",
     "output_type": "stream",
     "text": [
      "Cluster initiation: 1\n",
      "Cluster initiation: 2\n",
      "Cluster initiation: 3\n",
      "Cluster initiation: 4\n",
      "Cluster initiation: 5\n",
      "Cluster initiation: 6\n",
      "Cluster initiation: 7\n",
      "Cluster initiation: 8\n",
      "Cluster initiation: 9\n"
     ]
    }
   ],
   "source": [
    "# Choose optimal K using Elbow method\n",
    "inertia = []\n",
    "for cluster in range(1, 10):\n",
    "        kmeans = KMeans( n_clusters = cluster)\n",
    "        kmeans.fit(df)\n",
    "        inertia.append(kmeans.inertia_)\n",
    "        print('Cluster initiation: {}'.format(cluster))\n",
    "\n"
   ]
  },
  {
   "cell_type": "code",
   "execution_count": 165,
   "metadata": {},
   "outputs": [
    {
     "data": {
      "text/plain": [
       "Text(0, 0.5, 'Cout du modèle (inertia)')"
      ]
     },
     "execution_count": 165,
     "metadata": {},
     "output_type": "execute_result"
    },
    {
     "data": {
      "image/png": "[encoded data removed]",
      "text/plain": [
       "<Figure size 600x600 with 1 Axes>"
      ]
     },
     "metadata": {},
     "output_type": "display_data"
    }
   ],
   "source": [
    "x,y = range(1,9),inertia[:-1]\n",
    "kl = KneeLocator(x,y, curve='convex')\n",
    "kl.plot_knee()\n",
    "plt.xlabel('nombre de cluster')\n",
    "plt.ylabel('Cout du modèle (inertia)')"
   ]
  },
  {
   "cell_type": "code",
   "execution_count": 166,
   "metadata": {},
   "outputs": [
    {
     "data": {
      "text/html": [
       "<div>\n",
       "<style scoped>\n",
       "    .dataframe tbody tr th:only-of-type {\n",
       "        vertical-align: middle;\n",
       "    }\n",
       "\n",
       "    .dataframe tbody tr th {\n",
       "        vertical-align: top;\n",
       "    }\n",
       "\n",
       "    .dataframe thead th {\n",
       "        text-align: right;\n",
       "    }\n",
       "</style>\n",
       "<table border=\"1\" class=\"dataframe\">\n",
       "  <thead>\n",
       "    <tr style=\"text-align: right;\">\n",
       "      <th></th>\n",
       "      <th>payment_type</th>\n",
       "      <th>product_category</th>\n",
       "      <th>payment_installments</th>\n",
       "      <th>orders</th>\n",
       "      <th>products</th>\n",
       "      <th>sellers</th>\n",
       "      <th>payment_value</th>\n",
       "      <th>review_score</th>\n",
       "      <th>price</th>\n",
       "      <th>freight_value</th>\n",
       "      <th>recency</th>\n",
       "    </tr>\n",
       "  </thead>\n",
       "  <tbody>\n",
       "    <tr>\n",
       "      <th>0</th>\n",
       "      <td>credit_card</td>\n",
       "      <td>Home</td>\n",
       "      <td>8</td>\n",
       "      <td>1</td>\n",
       "      <td>1</td>\n",
       "      <td>1</td>\n",
       "      <td>141.90</td>\n",
       "      <td>5.0</td>\n",
       "      <td>129.90</td>\n",
       "      <td>12.00</td>\n",
       "      <td>112</td>\n",
       "    </tr>\n",
       "    <tr>\n",
       "      <th>1</th>\n",
       "      <td>credit_card</td>\n",
       "      <td>Health_Beauty</td>\n",
       "      <td>1</td>\n",
       "      <td>1</td>\n",
       "      <td>1</td>\n",
       "      <td>1</td>\n",
       "      <td>27.19</td>\n",
       "      <td>4.0</td>\n",
       "      <td>18.90</td>\n",
       "      <td>8.29</td>\n",
       "      <td>115</td>\n",
       "    </tr>\n",
       "    <tr>\n",
       "      <th>2</th>\n",
       "      <td>credit_card</td>\n",
       "      <td>Office_Supplies</td>\n",
       "      <td>8</td>\n",
       "      <td>1</td>\n",
       "      <td>1</td>\n",
       "      <td>1</td>\n",
       "      <td>86.22</td>\n",
       "      <td>3.0</td>\n",
       "      <td>69.00</td>\n",
       "      <td>17.22</td>\n",
       "      <td>538</td>\n",
       "    </tr>\n",
       "    <tr>\n",
       "      <th>3</th>\n",
       "      <td>credit_card</td>\n",
       "      <td>Technology</td>\n",
       "      <td>4</td>\n",
       "      <td>1</td>\n",
       "      <td>1</td>\n",
       "      <td>1</td>\n",
       "      <td>43.62</td>\n",
       "      <td>4.0</td>\n",
       "      <td>25.99</td>\n",
       "      <td>17.63</td>\n",
       "      <td>322</td>\n",
       "    </tr>\n",
       "    <tr>\n",
       "      <th>4</th>\n",
       "      <td>credit_card</td>\n",
       "      <td>Technology</td>\n",
       "      <td>6</td>\n",
       "      <td>1</td>\n",
       "      <td>1</td>\n",
       "      <td>1</td>\n",
       "      <td>196.89</td>\n",
       "      <td>5.0</td>\n",
       "      <td>180.00</td>\n",
       "      <td>16.89</td>\n",
       "      <td>289</td>\n",
       "    </tr>\n",
       "    <tr>\n",
       "      <th>...</th>\n",
       "      <td>...</td>\n",
       "      <td>...</td>\n",
       "      <td>...</td>\n",
       "      <td>...</td>\n",
       "      <td>...</td>\n",
       "      <td>...</td>\n",
       "      <td>...</td>\n",
       "      <td>...</td>\n",
       "      <td>...</td>\n",
       "      <td>...</td>\n",
       "      <td>...</td>\n",
       "    </tr>\n",
       "    <tr>\n",
       "      <th>91474</th>\n",
       "      <td>credit_card</td>\n",
       "      <td>Health_Beauty</td>\n",
       "      <td>10</td>\n",
       "      <td>2</td>\n",
       "      <td>2</td>\n",
       "      <td>2</td>\n",
       "      <td>4134.84</td>\n",
       "      <td>5.0</td>\n",
       "      <td>785.00</td>\n",
       "      <td>248.71</td>\n",
       "      <td>448</td>\n",
       "    </tr>\n",
       "    <tr>\n",
       "      <th>91475</th>\n",
       "      <td>credit_card</td>\n",
       "      <td>Baby</td>\n",
       "      <td>1</td>\n",
       "      <td>1</td>\n",
       "      <td>1</td>\n",
       "      <td>1</td>\n",
       "      <td>84.58</td>\n",
       "      <td>4.0</td>\n",
       "      <td>64.89</td>\n",
       "      <td>19.69</td>\n",
       "      <td>263</td>\n",
       "    </tr>\n",
       "    <tr>\n",
       "      <th>91476</th>\n",
       "      <td>credit_card</td>\n",
       "      <td>Automotive</td>\n",
       "      <td>1</td>\n",
       "      <td>1</td>\n",
       "      <td>1</td>\n",
       "      <td>1</td>\n",
       "      <td>112.46</td>\n",
       "      <td>5.0</td>\n",
       "      <td>89.90</td>\n",
       "      <td>22.56</td>\n",
       "      <td>569</td>\n",
       "    </tr>\n",
       "    <tr>\n",
       "      <th>91477</th>\n",
       "      <td>credit_card</td>\n",
       "      <td>Fashion_Accessories</td>\n",
       "      <td>5</td>\n",
       "      <td>1</td>\n",
       "      <td>1</td>\n",
       "      <td>1</td>\n",
       "      <td>133.69</td>\n",
       "      <td>5.0</td>\n",
       "      <td>115.00</td>\n",
       "      <td>18.69</td>\n",
       "      <td>120</td>\n",
       "    </tr>\n",
       "    <tr>\n",
       "      <th>91478</th>\n",
       "      <td>credit_card</td>\n",
       "      <td>Health_Beauty</td>\n",
       "      <td>4</td>\n",
       "      <td>1</td>\n",
       "      <td>1</td>\n",
       "      <td>1</td>\n",
       "      <td>71.56</td>\n",
       "      <td>5.0</td>\n",
       "      <td>56.99</td>\n",
       "      <td>14.57</td>\n",
       "      <td>485</td>\n",
       "    </tr>\n",
       "  </tbody>\n",
       "</table>\n",
       "<p>91479 rows × 11 columns</p>\n",
       "</div>"
      ],
      "text/plain": [
       "      payment_type     product_category  payment_installments  orders  \\\n",
       "0      credit_card                 Home                     8       1   \n",
       "1      credit_card        Health_Beauty                     1       1   \n",
       "2      credit_card      Office_Supplies                     8       1   \n",
       "3      credit_card           Technology                     4       1   \n",
       "4      credit_card           Technology                     6       1   \n",
       "...            ...                  ...                   ...     ...   \n",
       "91474  credit_card        Health_Beauty                    10       2   \n",
       "91475  credit_card                 Baby                     1       1   \n",
       "91476  credit_card           Automotive                     1       1   \n",
       "91477  credit_card  Fashion_Accessories                     5       1   \n",
       "91478  credit_card        Health_Beauty                     4       1   \n",
       "\n",
       "       products  sellers  payment_value  review_score   price  freight_value  \\\n",
       "0             1        1         141.90           5.0  129.90          12.00   \n",
       "1             1        1          27.19           4.0   18.90           8.29   \n",
       "2             1        1          86.22           3.0   69.00          17.22   \n",
       "3             1        1          43.62           4.0   25.99          17.63   \n",
       "4             1        1         196.89           5.0  180.00          16.89   \n",
       "...         ...      ...            ...           ...     ...            ...   \n",
       "91474         2        2        4134.84           5.0  785.00         248.71   \n",
       "91475         1        1          84.58           4.0   64.89          19.69   \n",
       "91476         1        1         112.46           5.0   89.90          22.56   \n",
       "91477         1        1         133.69           5.0  115.00          18.69   \n",
       "91478         1        1          71.56           5.0   56.99          14.57   \n",
       "\n",
       "       recency  \n",
       "0          112  \n",
       "1          115  \n",
       "2          538  \n",
       "3          322  \n",
       "4          289  \n",
       "...        ...  \n",
       "91474      448  \n",
       "91475      263  \n",
       "91476      569  \n",
       "91477      120  \n",
       "91478      485  \n",
       "\n",
       "[91479 rows x 11 columns]"
      ]
     },
     "execution_count": 166,
     "metadata": {},
     "output_type": "execute_result"
    }
   ],
   "source": [
    "df = pd.read_csv('data.csv')\n",
    "df.rename(columns={\"order_item_id\": \"orders\", \"product_id\": \"products\", \"seller_id\":'sellers'}, inplace=True)\n",
    "df['payment_installments']=df['payment_installments'].astype('int64')\n",
    "df= df.drop(['customer_city','customer_state','customer_zip_code_prefix','seller_city','seller_state','customer_unique_id.1','order_purchase_timestamp','customer_unique_id'], axis=1)\n",
    "df"
   ]
  },
  {
   "cell_type": "code",
   "execution_count": 167,
   "metadata": {},
   "outputs": [
    {
     "data": {
      "text/plain": [
       "array([2.1972245773362196, 0.6931471805599453, 0.6931471805599453,\n",
       "       0.6931471805599453, 4.9621450849358215, 1.791759469228055,\n",
       "       4.874433672915854, 2.5649493574615367, 4.727387818712341,\n",
       "       'credit_card', 'Home'], dtype=object)"
      ]
     },
     "execution_count": 167,
     "metadata": {},
     "output_type": "execute_result"
    }
   ],
   "source": [
    "a = FunctionTransformer(func=np.log1p)\n",
    "preprocessing = make_column_transformer((a,make_column_selector(dtype_include=np.number)),remainder='passthrough')\n",
    "log=preprocessing.fit_transform(df)\n",
    "log[0]"
   ]
  },
  {
   "cell_type": "code",
   "execution_count": 168,
   "metadata": {},
   "outputs": [
    {
     "data": {
      "image/png": "[encoded data removed]",
      "text/plain": [
       "<Figure size 640x480 with 1 Axes>"
      ]
     },
     "metadata": {},
     "output_type": "display_data"
    }
   ],
   "source": [
    "func_log = FunctionTransformer(func=np.log1p)\n",
    "func_abs=FunctionTransformer(func=np.abs)\n",
    "\n",
    "pipe_num= make_pipeline(func_abs,func_log)\n",
    "\n",
    "transformer = make_column_transformer(\n",
    "    (OneHotEncoder(sparse=False),make_column_selector(dtype_exclude=['float','int'])),\n",
    "    (pipe_num,make_column_selector(dtype_include=['float','int']))\n",
    "    )\n",
    "\n",
    "pca=PCA(n_components=0.95)\n",
    "pipe_pca= make_pipeline(transformer,pca)\n",
    "\n",
    "df_acp=pd.DataFrame(pipe_pca.fit_transform(df))\n",
    "\n",
    "\n",
    "clustering =KMeans(n_clusters=8).fit(df_acp)\n",
    "df_acp['cluster_labels']=pd.Series(clustering.labels_)\n",
    "\n",
    "sns.scatterplot(data=df_acp, x=0, y=1, hue='cluster_labels', palette='colorblind')\n",
    "plt.title('Projection des clients sur les axes explicants au mieux la variance ')\n",
    "plt.xlabel(\"F1 (variance expliquée: 35%)\")\n",
    "plt.ylabel(\"F2 (variance expliquée: 19%)\")\n",
    "plt.show()"
   ]
  },
  {
   "cell_type": "code",
   "execution_count": 169,
   "metadata": {},
   "outputs": [
    {
     "name": "stdout",
     "output_type": "stream",
     "text": [
      "[0.35 0.19 0.09 0.06 0.05 0.04 0.03 0.03 0.02 0.02 0.02 0.02 0.01 0.01]\n"
     ]
    }
   ],
   "source": [
    "print(pca.explained_variance_ratio_.round(2))"
   ]
  },
  {
   "cell_type": "code",
   "execution_count": 170,
   "metadata": {},
   "outputs": [
    {
     "data": {
      "text/html": [
       "<div>\n",
       "<style scoped>\n",
       "    .dataframe tbody tr th:only-of-type {\n",
       "        vertical-align: middle;\n",
       "    }\n",
       "\n",
       "    .dataframe tbody tr th {\n",
       "        vertical-align: top;\n",
       "    }\n",
       "\n",
       "    .dataframe thead th {\n",
       "        text-align: right;\n",
       "    }\n",
       "</style>\n",
       "<table border=\"1\" class=\"dataframe\">\n",
       "  <thead>\n",
       "    <tr style=\"text-align: right;\">\n",
       "      <th></th>\n",
       "      <th>payment_type</th>\n",
       "      <th>product_category</th>\n",
       "      <th>payment_installments</th>\n",
       "      <th>orders</th>\n",
       "      <th>products</th>\n",
       "      <th>sellers</th>\n",
       "      <th>payment_value</th>\n",
       "      <th>review_score</th>\n",
       "      <th>price</th>\n",
       "      <th>freight_value</th>\n",
       "      <th>recency</th>\n",
       "      <th>cluster_labels</th>\n",
       "    </tr>\n",
       "  </thead>\n",
       "  <tbody>\n",
       "    <tr>\n",
       "      <th>0</th>\n",
       "      <td>credit_card</td>\n",
       "      <td>Home</td>\n",
       "      <td>8</td>\n",
       "      <td>1</td>\n",
       "      <td>1</td>\n",
       "      <td>1</td>\n",
       "      <td>141.90</td>\n",
       "      <td>5.0</td>\n",
       "      <td>129.90</td>\n",
       "      <td>12.00</td>\n",
       "      <td>112</td>\n",
       "      <td>3</td>\n",
       "    </tr>\n",
       "    <tr>\n",
       "      <th>1</th>\n",
       "      <td>credit_card</td>\n",
       "      <td>Health_Beauty</td>\n",
       "      <td>1</td>\n",
       "      <td>1</td>\n",
       "      <td>1</td>\n",
       "      <td>1</td>\n",
       "      <td>27.19</td>\n",
       "      <td>4.0</td>\n",
       "      <td>18.90</td>\n",
       "      <td>8.29</td>\n",
       "      <td>115</td>\n",
       "      <td>6</td>\n",
       "    </tr>\n",
       "    <tr>\n",
       "      <th>2</th>\n",
       "      <td>credit_card</td>\n",
       "      <td>Office_Supplies</td>\n",
       "      <td>8</td>\n",
       "      <td>1</td>\n",
       "      <td>1</td>\n",
       "      <td>1</td>\n",
       "      <td>86.22</td>\n",
       "      <td>3.0</td>\n",
       "      <td>69.00</td>\n",
       "      <td>17.22</td>\n",
       "      <td>538</td>\n",
       "      <td>7</td>\n",
       "    </tr>\n",
       "    <tr>\n",
       "      <th>3</th>\n",
       "      <td>credit_card</td>\n",
       "      <td>Technology</td>\n",
       "      <td>4</td>\n",
       "      <td>1</td>\n",
       "      <td>1</td>\n",
       "      <td>1</td>\n",
       "      <td>43.62</td>\n",
       "      <td>4.0</td>\n",
       "      <td>25.99</td>\n",
       "      <td>17.63</td>\n",
       "      <td>322</td>\n",
       "      <td>6</td>\n",
       "    </tr>\n",
       "    <tr>\n",
       "      <th>4</th>\n",
       "      <td>credit_card</td>\n",
       "      <td>Technology</td>\n",
       "      <td>6</td>\n",
       "      <td>1</td>\n",
       "      <td>1</td>\n",
       "      <td>1</td>\n",
       "      <td>196.89</td>\n",
       "      <td>5.0</td>\n",
       "      <td>180.00</td>\n",
       "      <td>16.89</td>\n",
       "      <td>289</td>\n",
       "      <td>3</td>\n",
       "    </tr>\n",
       "    <tr>\n",
       "      <th>...</th>\n",
       "      <td>...</td>\n",
       "      <td>...</td>\n",
       "      <td>...</td>\n",
       "      <td>...</td>\n",
       "      <td>...</td>\n",
       "      <td>...</td>\n",
       "      <td>...</td>\n",
       "      <td>...</td>\n",
       "      <td>...</td>\n",
       "      <td>...</td>\n",
       "      <td>...</td>\n",
       "      <td>...</td>\n",
       "    </tr>\n",
       "    <tr>\n",
       "      <th>91474</th>\n",
       "      <td>credit_card</td>\n",
       "      <td>Health_Beauty</td>\n",
       "      <td>10</td>\n",
       "      <td>2</td>\n",
       "      <td>2</td>\n",
       "      <td>2</td>\n",
       "      <td>4134.84</td>\n",
       "      <td>5.0</td>\n",
       "      <td>785.00</td>\n",
       "      <td>248.71</td>\n",
       "      <td>448</td>\n",
       "      <td>2</td>\n",
       "    </tr>\n",
       "    <tr>\n",
       "      <th>91475</th>\n",
       "      <td>credit_card</td>\n",
       "      <td>Baby</td>\n",
       "      <td>1</td>\n",
       "      <td>1</td>\n",
       "      <td>1</td>\n",
       "      <td>1</td>\n",
       "      <td>84.58</td>\n",
       "      <td>4.0</td>\n",
       "      <td>64.89</td>\n",
       "      <td>19.69</td>\n",
       "      <td>263</td>\n",
       "      <td>7</td>\n",
       "    </tr>\n",
       "    <tr>\n",
       "      <th>91476</th>\n",
       "      <td>credit_card</td>\n",
       "      <td>Automotive</td>\n",
       "      <td>1</td>\n",
       "      <td>1</td>\n",
       "      <td>1</td>\n",
       "      <td>1</td>\n",
       "      <td>112.46</td>\n",
       "      <td>5.0</td>\n",
       "      <td>89.90</td>\n",
       "      <td>22.56</td>\n",
       "      <td>569</td>\n",
       "      <td>7</td>\n",
       "    </tr>\n",
       "    <tr>\n",
       "      <th>91477</th>\n",
       "      <td>credit_card</td>\n",
       "      <td>Fashion_Accessories</td>\n",
       "      <td>5</td>\n",
       "      <td>1</td>\n",
       "      <td>1</td>\n",
       "      <td>1</td>\n",
       "      <td>133.69</td>\n",
       "      <td>5.0</td>\n",
       "      <td>115.00</td>\n",
       "      <td>18.69</td>\n",
       "      <td>120</td>\n",
       "      <td>3</td>\n",
       "    </tr>\n",
       "    <tr>\n",
       "      <th>91478</th>\n",
       "      <td>credit_card</td>\n",
       "      <td>Health_Beauty</td>\n",
       "      <td>4</td>\n",
       "      <td>1</td>\n",
       "      <td>1</td>\n",
       "      <td>1</td>\n",
       "      <td>71.56</td>\n",
       "      <td>5.0</td>\n",
       "      <td>56.99</td>\n",
       "      <td>14.57</td>\n",
       "      <td>485</td>\n",
       "      <td>7</td>\n",
       "    </tr>\n",
       "  </tbody>\n",
       "</table>\n",
       "<p>91479 rows × 12 columns</p>\n",
       "</div>"
      ],
      "text/plain": [
       "      payment_type     product_category  payment_installments  orders  \\\n",
       "0      credit_card                 Home                     8       1   \n",
       "1      credit_card        Health_Beauty                     1       1   \n",
       "2      credit_card      Office_Supplies                     8       1   \n",
       "3      credit_card           Technology                     4       1   \n",
       "4      credit_card           Technology                     6       1   \n",
       "...            ...                  ...                   ...     ...   \n",
       "91474  credit_card        Health_Beauty                    10       2   \n",
       "91475  credit_card                 Baby                     1       1   \n",
       "91476  credit_card           Automotive                     1       1   \n",
       "91477  credit_card  Fashion_Accessories                     5       1   \n",
       "91478  credit_card        Health_Beauty                     4       1   \n",
       "\n",
       "       products  sellers  payment_value  review_score   price  freight_value  \\\n",
       "0             1        1         141.90           5.0  129.90          12.00   \n",
       "1             1        1          27.19           4.0   18.90           8.29   \n",
       "2             1        1          86.22           3.0   69.00          17.22   \n",
       "3             1        1          43.62           4.0   25.99          17.63   \n",
       "4             1        1         196.89           5.0  180.00          16.89   \n",
       "...         ...      ...            ...           ...     ...            ...   \n",
       "91474         2        2        4134.84           5.0  785.00         248.71   \n",
       "91475         1        1          84.58           4.0   64.89          19.69   \n",
       "91476         1        1         112.46           5.0   89.90          22.56   \n",
       "91477         1        1         133.69           5.0  115.00          18.69   \n",
       "91478         1        1          71.56           5.0   56.99          14.57   \n",
       "\n",
       "       recency  cluster_labels  \n",
       "0          112               3  \n",
       "1          115               6  \n",
       "2          538               7  \n",
       "3          322               6  \n",
       "4          289               3  \n",
       "...        ...             ...  \n",
       "91474      448               2  \n",
       "91475      263               7  \n",
       "91476      569               7  \n",
       "91477      120               3  \n",
       "91478      485               7  \n",
       "\n",
       "[91479 rows x 12 columns]"
      ]
     },
     "execution_count": 170,
     "metadata": {},
     "output_type": "execute_result"
    }
   ],
   "source": [
    "df['cluster_labels']=pd.Series(clustering.labels_)\n",
    "df"
   ]
  },
  {
   "cell_type": "code",
   "execution_count": 171,
   "metadata": {},
   "outputs": [
    {
     "name": "stderr",
     "output_type": "stream",
     "text": [
      "/tmp/ipykernel_54326/115792397.py:6: SettingWithCopyWarning:\n",
      "\n",
      "\n",
      "A value is trying to be set on a copy of a slice from a DataFrame.\n",
      "Try using .loc[row_indexer,col_indexer] = value instead\n",
      "\n",
      "See the caveats in the documentation: https://pandas.pydata.org/pandas-docs/stable/user_guide/indexing.html#returning-a-view-versus-a-copy\n",
      "\n"
     ]
    },
    {
     "data": {
      "text/html": [
       "<div>\n",
       "<style scoped>\n",
       "    .dataframe tbody tr th:only-of-type {\n",
       "        vertical-align: middle;\n",
       "    }\n",
       "\n",
       "    .dataframe tbody tr th {\n",
       "        vertical-align: top;\n",
       "    }\n",
       "\n",
       "    .dataframe thead th {\n",
       "        text-align: right;\n",
       "    }\n",
       "</style>\n",
       "<table border=\"1\" class=\"dataframe\">\n",
       "  <thead>\n",
       "    <tr style=\"text-align: right;\">\n",
       "      <th></th>\n",
       "      <th>payment_installments</th>\n",
       "      <th>orders</th>\n",
       "      <th>products</th>\n",
       "      <th>sellers</th>\n",
       "      <th>payment_value</th>\n",
       "      <th>review_score</th>\n",
       "      <th>price</th>\n",
       "      <th>freight_value</th>\n",
       "      <th>recency</th>\n",
       "    </tr>\n",
       "  </thead>\n",
       "  <tbody>\n",
       "    <tr>\n",
       "      <th>0</th>\n",
       "      <td>3.107219</td>\n",
       "      <td>5.000000</td>\n",
       "      <td>5.000000</td>\n",
       "      <td>5.000000</td>\n",
       "      <td>4.474385</td>\n",
       "      <td>1.000000</td>\n",
       "      <td>1.409668</td>\n",
       "      <td>1.626919</td>\n",
       "      <td>4.556067</td>\n",
       "    </tr>\n",
       "    <tr>\n",
       "      <th>1</th>\n",
       "      <td>1.000000</td>\n",
       "      <td>1.165531</td>\n",
       "      <td>1.165531</td>\n",
       "      <td>1.165531</td>\n",
       "      <td>1.466291</td>\n",
       "      <td>3.993182</td>\n",
       "      <td>1.517416</td>\n",
       "      <td>1.767689</td>\n",
       "      <td>4.841832</td>\n",
       "    </tr>\n",
       "    <tr>\n",
       "      <th>2</th>\n",
       "      <td>5.000000</td>\n",
       "      <td>1.287727</td>\n",
       "      <td>1.287727</td>\n",
       "      <td>1.287727</td>\n",
       "      <td>5.000000</td>\n",
       "      <td>3.503449</td>\n",
       "      <td>5.000000</td>\n",
       "      <td>5.000000</td>\n",
       "      <td>4.309782</td>\n",
       "    </tr>\n",
       "    <tr>\n",
       "      <th>3</th>\n",
       "      <td>3.861493</td>\n",
       "      <td>1.000000</td>\n",
       "      <td>1.000000</td>\n",
       "      <td>1.000000</td>\n",
       "      <td>1.718003</td>\n",
       "      <td>3.960644</td>\n",
       "      <td>1.931784</td>\n",
       "      <td>2.202185</td>\n",
       "      <td>5.000000</td>\n",
       "    </tr>\n",
       "    <tr>\n",
       "      <th>4</th>\n",
       "      <td>1.509514</td>\n",
       "      <td>1.132063</td>\n",
       "      <td>1.132063</td>\n",
       "      <td>1.132063</td>\n",
       "      <td>1.123283</td>\n",
       "      <td>5.000000</td>\n",
       "      <td>1.129994</td>\n",
       "      <td>1.208034</td>\n",
       "      <td>1.000000</td>\n",
       "    </tr>\n",
       "    <tr>\n",
       "      <th>5</th>\n",
       "      <td>3.040844</td>\n",
       "      <td>1.228595</td>\n",
       "      <td>1.228595</td>\n",
       "      <td>1.228595</td>\n",
       "      <td>1.864757</td>\n",
       "      <td>4.922191</td>\n",
       "      <td>1.876652</td>\n",
       "      <td>2.702842</td>\n",
       "      <td>1.061063</td>\n",
       "    </tr>\n",
       "    <tr>\n",
       "      <th>6</th>\n",
       "      <td>1.361025</td>\n",
       "      <td>1.105271</td>\n",
       "      <td>1.105271</td>\n",
       "      <td>1.105271</td>\n",
       "      <td>1.000000</td>\n",
       "      <td>4.210758</td>\n",
       "      <td>1.000000</td>\n",
       "      <td>1.000000</td>\n",
       "      <td>4.834279</td>\n",
       "    </tr>\n",
       "    <tr>\n",
       "      <th>7</th>\n",
       "      <td>2.193529</td>\n",
       "      <td>1.114853</td>\n",
       "      <td>1.114853</td>\n",
       "      <td>1.114853</td>\n",
       "      <td>1.228573</td>\n",
       "      <td>4.138226</td>\n",
       "      <td>1.277594</td>\n",
       "      <td>1.294083</td>\n",
       "      <td>4.810150</td>\n",
       "    </tr>\n",
       "  </tbody>\n",
       "</table>\n",
       "</div>"
      ],
      "text/plain": [
       "   payment_installments    orders  products   sellers  payment_value  \\\n",
       "0              3.107219  5.000000  5.000000  5.000000       4.474385   \n",
       "1              1.000000  1.165531  1.165531  1.165531       1.466291   \n",
       "2              5.000000  1.287727  1.287727  1.287727       5.000000   \n",
       "3              3.861493  1.000000  1.000000  1.000000       1.718003   \n",
       "4              1.509514  1.132063  1.132063  1.132063       1.123283   \n",
       "5              3.040844  1.228595  1.228595  1.228595       1.864757   \n",
       "6              1.361025  1.105271  1.105271  1.105271       1.000000   \n",
       "7              2.193529  1.114853  1.114853  1.114853       1.228573   \n",
       "\n",
       "   review_score     price  freight_value   recency  \n",
       "0      1.000000  1.409668       1.626919  4.556067  \n",
       "1      3.993182  1.517416       1.767689  4.841832  \n",
       "2      3.503449  5.000000       5.000000  4.309782  \n",
       "3      3.960644  1.931784       2.202185  5.000000  \n",
       "4      5.000000  1.129994       1.208034  1.000000  \n",
       "5      4.922191  1.876652       2.702842  1.061063  \n",
       "6      4.210758  1.000000       1.000000  4.834279  \n",
       "7      4.138226  1.277594       1.294083  4.810150  "
      ]
     },
     "execution_count": 171,
     "metadata": {},
     "output_type": "execute_result"
    }
   ],
   "source": [
    "df_num=df[['payment_installments','orders','products','sellers','payment_value','review_score','price','freight_value','recency']]\n",
    "\n",
    "mms=MinMaxScaler(feature_range=(1,5))\n",
    "\n",
    "num_cols= df.select_dtypes(include='number').columns\n",
    "df_num['cluster_labels']=pd.Series(clustering.labels_)\n",
    "\n",
    "list_agg = {}\n",
    "for col in num_cols:\n",
    "    list_agg[f'{col}'] = 'mean'\n",
    "\n",
    "df_mean=df_num.groupby('cluster_labels').agg(list_agg).drop('cluster_labels',axis=1)\n",
    "\n",
    "\n",
    "df_mms=pd.DataFrame(mms.fit_transform(df_mean),columns=['payment_installments','orders','products','sellers','payment_value','review_score','price','freight_value','recency'])\n",
    "df_mms\n"
   ]
  },
  {
   "cell_type": "code",
   "execution_count": 172,
   "metadata": {},
   "outputs": [
    {
     "data": {
      "application/vnd.plotly.v1+json": {
       "config": {
        "plotlyServerURL": "https://plot.ly"
       },
       "data": [
        {
         "fill": "toself",
         "name": "Cluster 0",
         "r": [
          3.1072192544872625,
          4.999999999999999,
          4.999999999999999,
          4.999999999999999,
          4.474384671485575,
          1,
          1.409667868429639,
          1.626918989549847,
          4.556067364938986
         ],
         "theta": [
          "payment_installments",
          "orders",
          "products",
          "sellers",
          "payment_value",
          "review_score",
          "price",
          "freight_value",
          "recency",
          "cluster_labels"
         ],
         "type": "scatterpolar"
        },
        {
         "fill": "toself",
         "name": "Cluster 1",
         "r": [
          1,
          1.1655305584321698,
          1.1655305584321698,
          1.1655305584321698,
          1.4662914229249164,
          3.993182227542327,
          1.517416304115124,
          1.7676888974081748,
          4.841831824966669
         ],
         "theta": [
          "payment_installments",
          "orders",
          "products",
          "sellers",
          "payment_value",
          "review_score",
          "price",
          "freight_value",
          "recency",
          "cluster_labels"
         ],
         "type": "scatterpolar"
        },
        {
         "fill": "toself",
         "name": "Cluster 2",
         "r": [
          5,
          1.2877265629099317,
          1.2877265629099317,
          1.2877265629099317,
          5,
          3.5034488714856273,
          5,
          5,
          4.309781536724533
         ],
         "theta": [
          "payment_installments",
          "orders",
          "products",
          "sellers",
          "payment_value",
          "review_score",
          "price",
          "freight_value",
          "recency",
          "cluster_labels"
         ],
         "type": "scatterpolar"
        },
        {
         "fill": "toself",
         "name": "Cluster 3",
         "r": [
          3.8614929030328753,
          1,
          1,
          1,
          1.7180031683763985,
          3.9606436365646296,
          1.931784159323803,
          2.2021851740183997,
          5
         ],
         "theta": [
          "payment_installments",
          "orders",
          "products",
          "sellers",
          "payment_value",
          "review_score",
          "price",
          "freight_value",
          "recency",
          "cluster_labels"
         ],
         "type": "scatterpolar"
        },
        {
         "fill": "toself",
         "name": "Cluster 4",
         "r": [
          1.5095139906364876,
          1.1320634513605077,
          1.1320634513605077,
          1.1320634513605077,
          1.1232829325481377,
          5,
          1.1299939646997494,
          1.2080343167210095,
          1
         ],
         "theta": [
          "payment_installments",
          "orders",
          "products",
          "sellers",
          "payment_value",
          "review_score",
          "price",
          "freight_value",
          "recency",
          "cluster_labels"
         ],
         "type": "scatterpolar"
        },
        {
         "fill": "toself",
         "name": "Cluster 5",
         "r": [
          3.0408437807067656,
          1.228595286384738,
          1.228595286384738,
          1.228595286384738,
          1.8647565440676568,
          4.922191190667533,
          1.8766518192784045,
          2.7028421092322414,
          1.061063175344653
         ],
         "theta": [
          "payment_installments",
          "orders",
          "products",
          "sellers",
          "payment_value",
          "review_score",
          "price",
          "freight_value",
          "recency",
          "cluster_labels"
         ],
         "type": "scatterpolar"
        },
        {
         "fill": "toself",
         "name": "Cluster 6",
         "r": [
          1.3610252123284938,
          1.1052705079143053,
          1.1052705079143053,
          1.1052705079143053,
          1,
          4.21075762714252,
          1,
          1,
          4.834278581019597
         ],
         "theta": [
          "payment_installments",
          "orders",
          "products",
          "sellers",
          "payment_value",
          "review_score",
          "price",
          "freight_value",
          "recency",
          "cluster_labels"
         ],
         "type": "scatterpolar"
        },
        {
         "fill": "toself",
         "name": "Cluster 7",
         "r": [
          2.1935291001421944,
          1.1148528148898356,
          1.1148528148898356,
          1.1148528148898356,
          1.2285728965597351,
          4.1382257689778825,
          1.2775940974118207,
          1.294083280158451,
          4.810150476961889
         ],
         "theta": [
          "payment_installments",
          "orders",
          "products",
          "sellers",
          "payment_value",
          "review_score",
          "price",
          "freight_value",
          "recency",
          "cluster_labels"
         ],
         "type": "scatterpolar"
        }
       ],
       "layout": {
        "height": 780,
        "polar": {
         "radialaxis": {
          "range": [
           0,
           5
          ],
          "visible": true
         }
        },
        "showlegend": true,
        "template": {
         "data": {
          "bar": [
           {
            "error_x": {
             "color": "#2a3f5f"
            },
            "error_y": {
             "color": "#2a3f5f"
            },
            "marker": {
             "line": {
              "color": "#E5ECF6",
              "width": 0.5
             },
             "pattern": {
              "fillmode": "overlay",
              "size": 10,
              "solidity": 0.2
             }
            },
            "type": "bar"
           }
          ],
          "barpolar": [
           {
            "marker": {
             "line": {
              "color": "#E5ECF6",
              "width": 0.5
             },
             "pattern": {
              "fillmode": "overlay",
              "size": 10,
              "solidity": 0.2
             }
            },
            "type": "barpolar"
           }
          ],
          "carpet": [
           {
            "aaxis": {
             "endlinecolor": "#2a3f5f",
             "gridcolor": "white",
             "linecolor": "white",
             "minorgridcolor": "white",
             "startlinecolor": "#2a3f5f"
            },
            "baxis": {
             "endlinecolor": "#2a3f5f",
             "gridcolor": "white",
             "linecolor": "white",
             "minorgridcolor": "white",
             "startlinecolor": "#2a3f5f"
            },
            "type": "carpet"
           }
          ],
          "choropleth": [
           {
            "colorbar": {
             "outlinewidth": 0,
             "ticks": ""
            },
            "type": "choropleth"
           }
          ],
          "contour": [
           {
            "colorbar": {
             "outlinewidth": 0,
             "ticks": ""
            },
            "colorscale": [
             [
              0,
              "#0d0887"
             ],
             [
              0.1111111111111111,
              "#46039f"
             ],
             [
              0.2222222222222222,
              "#7201a8"
             ],
             [
              0.3333333333333333,
              "#9c179e"
             ],
             [
              0.4444444444444444,
              "#bd3786"
             ],
             [
              0.5555555555555556,
              "#d8576b"
             ],
             [
              0.6666666666666666,
              "#ed7953"
             ],
             [
              0.7777777777777778,
              "#fb9f3a"
             ],
             [
              0.8888888888888888,
              "#fdca26"
             ],
             [
              1,
              "#f0f921"
             ]
            ],
            "type": "contour"
           }
          ],
          "contourcarpet": [
           {
            "colorbar": {
             "outlinewidth": 0,
             "ticks": ""
            },
            "type": "contourcarpet"
           }
          ],
          "heatmap": [
           {
            "colorbar": {
             "outlinewidth": 0,
             "ticks": ""
            },
            "colorscale": [
             [
              0,
              "#0d0887"
             ],
             [
              0.1111111111111111,
              "#46039f"
             ],
             [
              0.2222222222222222,
              "#7201a8"
             ],
             [
              0.3333333333333333,
              "#9c179e"
             ],
             [
              0.4444444444444444,
              "#bd3786"
             ],
             [
              0.5555555555555556,
              "#d8576b"
             ],
             [
              0.6666666666666666,
              "#ed7953"
             ],
             [
              0.7777777777777778,
              "#fb9f3a"
             ],
             [
              0.8888888888888888,
              "#fdca26"
             ],
             [
              1,
              "#f0f921"
             ]
            ],
            "type": "heatmap"
           }
          ],
          "heatmapgl": [
           {
            "colorbar": {
             "outlinewidth": 0,
             "ticks": ""
            },
            "colorscale": [
             [
              0,
              "#0d0887"
             ],
             [
              0.1111111111111111,
              "#46039f"
             ],
             [
              0.2222222222222222,
              "#7201a8"
             ],
             [
              0.3333333333333333,
              "#9c179e"
             ],
             [
              0.4444444444444444,
              "#bd3786"
             ],
             [
              0.5555555555555556,
              "#d8576b"
             ],
             [
              0.6666666666666666,
              "#ed7953"
             ],
             [
              0.7777777777777778,
              "#fb9f3a"
             ],
             [
              0.8888888888888888,
              "#fdca26"
             ],
             [
              1,
              "#f0f921"
             ]
            ],
            "type": "heatmapgl"
           }
          ],
          "histogram": [
           {
            "marker": {
             "pattern": {
              "fillmode": "overlay",
              "size": 10,
              "solidity": 0.2
             }
            },
            "type": "histogram"
           }
          ],
          "histogram2d": [
           {
            "colorbar": {
             "outlinewidth": 0,
             "ticks": ""
            },
            "colorscale": [
             [
              0,
              "#0d0887"
             ],
             [
              0.1111111111111111,
              "#46039f"
             ],
             [
              0.2222222222222222,
              "#7201a8"
             ],
             [
              0.3333333333333333,
              "#9c179e"
             ],
             [
              0.4444444444444444,
              "#bd3786"
             ],
             [
              0.5555555555555556,
              "#d8576b"
             ],
             [
              0.6666666666666666,
              "#ed7953"
             ],
             [
              0.7777777777777778,
              "#fb9f3a"
             ],
             [
              0.8888888888888888,
              "#fdca26"
             ],
             [
              1,
              "#f0f921"
             ]
            ],
            "type": "histogram2d"
           }
          ],
          "histogram2dcontour": [
           {
            "colorbar": {
             "outlinewidth": 0,
             "ticks": ""
            },
            "colorscale": [
             [
              0,
              "#0d0887"
             ],
             [
              0.1111111111111111,
              "#46039f"
             ],
             [
              0.2222222222222222,
              "#7201a8"
             ],
             [
              0.3333333333333333,
              "#9c179e"
             ],
             [
              0.4444444444444444,
              "#bd3786"
             ],
             [
              0.5555555555555556,
              "#d8576b"
             ],
             [
              0.6666666666666666,
              "#ed7953"
             ],
             [
              0.7777777777777778,
              "#fb9f3a"
             ],
             [
              0.8888888888888888,
              "#fdca26"
             ],
             [
              1,
              "#f0f921"
             ]
            ],
            "type": "histogram2dcontour"
           }
          ],
          "mesh3d": [
           {
            "colorbar": {
             "outlinewidth": 0,
             "ticks": ""
            },
            "type": "mesh3d"
           }
          ],
          "parcoords": [
           {
            "line": {
             "colorbar": {
              "outlinewidth": 0,
              "ticks": ""
             }
            },
            "type": "parcoords"
           }
          ],
          "pie": [
           {
            "automargin": true,
            "type": "pie"
           }
          ],
          "scatter": [
           {
            "fillpattern": {
             "fillmode": "overlay",
             "size": 10,
             "solidity": 0.2
            },
            "type": "scatter"
           }
          ],
          "scatter3d": [
           {
            "line": {
             "colorbar": {
              "outlinewidth": 0,
              "ticks": ""
             }
            },
            "marker": {
             "colorbar": {
              "outlinewidth": 0,
              "ticks": ""
             }
            },
            "type": "scatter3d"
           }
          ],
          "scattercarpet": [
           {
            "marker": {
             "colorbar": {
              "outlinewidth": 0,
              "ticks": ""
             }
            },
            "type": "scattercarpet"
           }
          ],
          "scattergeo": [
           {
            "marker": {
             "colorbar": {
              "outlinewidth": 0,
              "ticks": ""
             }
            },
            "type": "scattergeo"
           }
          ],
          "scattergl": [
           {
            "marker": {
             "colorbar": {
              "outlinewidth": 0,
              "ticks": ""
             }
            },
            "type": "scattergl"
           }
          ],
          "scattermapbox": [
           {
            "marker": {
             "colorbar": {
              "outlinewidth": 0,
              "ticks": ""
             }
            },
            "type": "scattermapbox"
           }
          ],
          "scatterpolar": [
           {
            "marker": {
             "colorbar": {
              "outlinewidth": 0,
              "ticks": ""
             }
            },
            "type": "scatterpolar"
           }
          ],
          "scatterpolargl": [
           {
            "marker": {
             "colorbar": {
              "outlinewidth": 0,
              "ticks": ""
             }
            },
            "type": "scatterpolargl"
           }
          ],
          "scatterternary": [
           {
            "marker": {
             "colorbar": {
              "outlinewidth": 0,
              "ticks": ""
             }
            },
            "type": "scatterternary"
           }
          ],
          "surface": [
           {
            "colorbar": {
             "outlinewidth": 0,
             "ticks": ""
            },
            "colorscale": [
             [
              0,
              "#0d0887"
             ],
             [
              0.1111111111111111,
              "#46039f"
             ],
             [
              0.2222222222222222,
              "#7201a8"
             ],
             [
              0.3333333333333333,
              "#9c179e"
             ],
             [
              0.4444444444444444,
              "#bd3786"
             ],
             [
              0.5555555555555556,
              "#d8576b"
             ],
             [
              0.6666666666666666,
              "#ed7953"
             ],
             [
              0.7777777777777778,
              "#fb9f3a"
             ],
             [
              0.8888888888888888,
              "#fdca26"
             ],
             [
              1,
              "#f0f921"
             ]
            ],
            "type": "surface"
           }
          ],
          "table": [
           {
            "cells": {
             "fill": {
              "color": "#EBF0F8"
             },
             "line": {
              "color": "white"
             }
            },
            "header": {
             "fill": {
              "color": "#C8D4E3"
             },
             "line": {
              "color": "white"
             }
            },
            "type": "table"
           }
          ]
         },
         "layout": {
          "annotationdefaults": {
           "arrowcolor": "#2a3f5f",
           "arrowhead": 0,
           "arrowwidth": 1
          },
          "autotypenumbers": "strict",
          "coloraxis": {
           "colorbar": {
            "outlinewidth": 0,
            "ticks": ""
           }
          },
          "colorscale": {
           "diverging": [
            [
             0,
             "#8e0152"
            ],
            [
             0.1,
             "#c51b7d"
            ],
            [
             0.2,
             "#de77ae"
            ],
            [
             0.3,
             "#f1b6da"
            ],
            [
             0.4,
             "#fde0ef"
            ],
            [
             0.5,
             "#f7f7f7"
            ],
            [
             0.6,
             "#e6f5d0"
            ],
            [
             0.7,
             "#b8e186"
            ],
            [
             0.8,
             "#7fbc41"
            ],
            [
             0.9,
             "#4d9221"
            ],
            [
             1,
             "#276419"
            ]
           ],
           "sequential": [
            [
             0,
             "#0d0887"
            ],
            [
             0.1111111111111111,
             "#46039f"
            ],
            [
             0.2222222222222222,
             "#7201a8"
            ],
            [
             0.3333333333333333,
             "#9c179e"
            ],
            [
             0.4444444444444444,
             "#bd3786"
            ],
            [
             0.5555555555555556,
             "#d8576b"
            ],
            [
             0.6666666666666666,
             "#ed7953"
            ],
            [
             0.7777777777777778,
             "#fb9f3a"
            ],
            [
             0.8888888888888888,
             "#fdca26"
            ],
            [
             1,
             "#f0f921"
            ]
           ],
           "sequentialminus": [
            [
             0,
             "#0d0887"
            ],
            [
             0.1111111111111111,
             "#46039f"
            ],
            [
             0.2222222222222222,
             "#7201a8"
            ],
            [
             0.3333333333333333,
             "#9c179e"
            ],
            [
             0.4444444444444444,
             "#bd3786"
            ],
            [
             0.5555555555555556,
             "#d8576b"
            ],
            [
             0.6666666666666666,
             "#ed7953"
            ],
            [
             0.7777777777777778,
             "#fb9f3a"
            ],
            [
             0.8888888888888888,
             "#fdca26"
            ],
            [
             1,
             "#f0f921"
            ]
           ]
          },
          "colorway": [
           "#636efa",
           "#EF553B",
           "#00cc96",
           "#ab63fa",
           "#FFA15A",
           "#19d3f3",
           "#FF6692",
           "#B6E880",
           "#FF97FF",
           "#FECB52"
          ],
          "font": {
           "color": "#2a3f5f"
          },
          "geo": {
           "bgcolor": "white",
           "lakecolor": "white",
           "landcolor": "#E5ECF6",
           "showlakes": true,
           "showland": true,
           "subunitcolor": "white"
          },
          "hoverlabel": {
           "align": "left"
          },
          "hovermode": "closest",
          "mapbox": {
           "style": "light"
          },
          "paper_bgcolor": "white",
          "plot_bgcolor": "#E5ECF6",
          "polar": {
           "angularaxis": {
            "gridcolor": "white",
            "linecolor": "white",
            "ticks": ""
           },
           "bgcolor": "#E5ECF6",
           "radialaxis": {
            "gridcolor": "white",
            "linecolor": "white",
            "ticks": ""
           }
          },
          "scene": {
           "xaxis": {
            "backgroundcolor": "#E5ECF6",
            "gridcolor": "white",
            "gridwidth": 2,
            "linecolor": "white",
            "showbackground": true,
            "ticks": "",
            "zerolinecolor": "white"
           },
           "yaxis": {
            "backgroundcolor": "#E5ECF6",
            "gridcolor": "white",
            "gridwidth": 2,
            "linecolor": "white",
            "showbackground": true,
            "ticks": "",
            "zerolinecolor": "white"
           },
           "zaxis": {
            "backgroundcolor": "#E5ECF6",
            "gridcolor": "white",
            "gridwidth": 2,
            "linecolor": "white",
            "showbackground": true,
            "ticks": "",
            "zerolinecolor": "white"
           }
          },
          "shapedefaults": {
           "line": {
            "color": "#2a3f5f"
           }
          },
          "ternary": {
           "aaxis": {
            "gridcolor": "white",
            "linecolor": "white",
            "ticks": ""
           },
           "baxis": {
            "gridcolor": "white",
            "linecolor": "white",
            "ticks": ""
           },
           "bgcolor": "#E5ECF6",
           "caxis": {
            "gridcolor": "white",
            "linecolor": "white",
            "ticks": ""
           }
          },
          "title": {
           "x": 0.05
          },
          "xaxis": {
           "automargin": true,
           "gridcolor": "white",
           "linecolor": "white",
           "ticks": "",
           "title": {
            "standoff": 15
           },
           "zerolinecolor": "white",
           "zerolinewidth": 2
          },
          "yaxis": {
           "automargin": true,
           "gridcolor": "white",
           "linecolor": "white",
           "ticks": "",
           "title": {
            "standoff": 15
           },
           "zerolinecolor": "white",
           "zerolinewidth": 2
          }
         }
        },
        "width": 780
       }
      }
     },
     "metadata": {},
     "output_type": "display_data"
    }
   ],
   "source": [
    "# Créer une figure en radar pour chaque cluster\n",
    "fig = go.Figure()\n",
    "\n",
    "for cluster, row in df_mms.iterrows():\n",
    "    values = row.values.tolist()\n",
    "    \n",
    "\n",
    "    \n",
    "\n",
    "    fig.add_trace(go.Scatterpolar(\n",
    "        r=values,\n",
    "        theta=num_cols,\n",
    "        fill='toself',\n",
    "        name=f'Cluster {cluster}'\n",
    "    ))\n",
    "\n",
    "# Mettre en forme la figurenum_cols,\n",
    "fig.update_layout(\n",
    "    polar=dict(\n",
    "        radialaxis=dict(\n",
    "            visible=True,\n",
    "            range=[0, 5]\n",
    "        ),\n",
    "    ),\n",
    "    showlegend=True,\n",
    "    width=780,\n",
    "    height=780\n",
    "\n",
    ")\n",
    "\n",
    "# Afficher la figure\n",
    "fig.show()\n",
    "figsize = (60,60)"
   ]
  },
  {
   "cell_type": "code",
   "execution_count": 173,
   "metadata": {},
   "outputs": [],
   "source": [
    "# func_log = FunctionTransformer(func=np.log1p)\n",
    "# func_abs=FunctionTransformer(func=np.abs)\n",
    "\n",
    "# pipe_num= make_pipeline(func_abs,func_log)\n",
    "\n",
    "# transformer = make_column_transformer(\n",
    "#     (OneHotEncoder(sparse=False),make_column_selector(dtype_exclude=['float','int'])),\n",
    "#     (pipe_num,make_column_selector(dtype_include=np.number)),remainder='passthrough')\n",
    "\n",
    "\n",
    "# pipe_tsne = make_pipeline(transformer,TSNE()) \n",
    "# array_tsne=pipe_tsne.fit_transform(df)\n",
    "\n",
    "# kprototype = KPrototypes(n_jobs = -1, n_clusters =4, init = 'Huang', random_state = 0)\n",
    "# kprototype.fit_predict(array_tsne, categorical = [9,10])\n",
    "\n",
    "# df_tsne=pd.DataFrame(array_tsne,columns=['f1','f2'])\n",
    "# df_tsne['cluster_labels']=pd.Series(kprototype.labels_)\n",
    "\n",
    "# plt.scatter(df_tsne.f1,df_tsne.f2,c=df_tsne.cluster_labels)\n",
    "# plt.show()"
   ]
  },
  {
   "cell_type": "code",
   "execution_count": 174,
   "metadata": {},
   "outputs": [
    {
     "data": {
      "text/html": [
       "<div>\n",
       "<style scoped>\n",
       "    .dataframe tbody tr th:only-of-type {\n",
       "        vertical-align: middle;\n",
       "    }\n",
       "\n",
       "    .dataframe tbody tr th {\n",
       "        vertical-align: top;\n",
       "    }\n",
       "\n",
       "    .dataframe thead th {\n",
       "        text-align: right;\n",
       "    }\n",
       "</style>\n",
       "<table border=\"1\" class=\"dataframe\">\n",
       "  <thead>\n",
       "    <tr style=\"text-align: right;\">\n",
       "      <th></th>\n",
       "      <th>Agro_Industry_Commerce</th>\n",
       "      <th>Arts_Music</th>\n",
       "      <th>Automotive</th>\n",
       "      <th>Baby</th>\n",
       "      <th>Books</th>\n",
       "      <th>Construction_Tools</th>\n",
       "      <th>Fashion_Accessories</th>\n",
       "      <th>Food_Beverage</th>\n",
       "      <th>Furniture</th>\n",
       "      <th>Gardening</th>\n",
       "      <th>Health_Beauty</th>\n",
       "      <th>Home</th>\n",
       "      <th>Market_place</th>\n",
       "      <th>Office_Supplies</th>\n",
       "      <th>Party_Supplies</th>\n",
       "      <th>Pet_Supplies</th>\n",
       "      <th>Signaling_Security</th>\n",
       "      <th>Sports_Leisure</th>\n",
       "      <th>Technology</th>\n",
       "      <th>Toys_Games</th>\n",
       "    </tr>\n",
       "  </thead>\n",
       "  <tbody>\n",
       "    <tr>\n",
       "      <th>0</th>\n",
       "      <td>1.935086</td>\n",
       "      <td>1.000000</td>\n",
       "      <td>1.000000</td>\n",
       "      <td>1.000000</td>\n",
       "      <td>1.254345</td>\n",
       "      <td>5.000000</td>\n",
       "      <td>1.000000</td>\n",
       "      <td>2.426519</td>\n",
       "      <td>3.760707</td>\n",
       "      <td>3.857371</td>\n",
       "      <td>1.000000</td>\n",
       "      <td>5.000000</td>\n",
       "      <td>1.913965</td>\n",
       "      <td>3.323542</td>\n",
       "      <td>2.213430</td>\n",
       "      <td>2.185212</td>\n",
       "      <td>5.000000</td>\n",
       "      <td>3.174698</td>\n",
       "      <td>1.312064</td>\n",
       "      <td>1.000000</td>\n",
       "    </tr>\n",
       "    <tr>\n",
       "      <th>1</th>\n",
       "      <td>1.692547</td>\n",
       "      <td>2.284460</td>\n",
       "      <td>2.498768</td>\n",
       "      <td>3.206069</td>\n",
       "      <td>2.649180</td>\n",
       "      <td>3.697451</td>\n",
       "      <td>2.658289</td>\n",
       "      <td>2.028750</td>\n",
       "      <td>3.225938</td>\n",
       "      <td>1.556333</td>\n",
       "      <td>2.596305</td>\n",
       "      <td>2.326241</td>\n",
       "      <td>3.680303</td>\n",
       "      <td>3.973310</td>\n",
       "      <td>2.501734</td>\n",
       "      <td>2.463062</td>\n",
       "      <td>2.643784</td>\n",
       "      <td>5.000000</td>\n",
       "      <td>1.370734</td>\n",
       "      <td>3.552009</td>\n",
       "    </tr>\n",
       "    <tr>\n",
       "      <th>2</th>\n",
       "      <td>5.000000</td>\n",
       "      <td>5.000000</td>\n",
       "      <td>4.540467</td>\n",
       "      <td>5.000000</td>\n",
       "      <td>1.000000</td>\n",
       "      <td>4.138404</td>\n",
       "      <td>5.000000</td>\n",
       "      <td>1.000000</td>\n",
       "      <td>4.570175</td>\n",
       "      <td>3.805839</td>\n",
       "      <td>4.936018</td>\n",
       "      <td>1.000000</td>\n",
       "      <td>1.000000</td>\n",
       "      <td>2.344252</td>\n",
       "      <td>1.040554</td>\n",
       "      <td>1.331579</td>\n",
       "      <td>3.511383</td>\n",
       "      <td>1.000000</td>\n",
       "      <td>1.154920</td>\n",
       "      <td>4.080415</td>\n",
       "    </tr>\n",
       "    <tr>\n",
       "      <th>3</th>\n",
       "      <td>1.262724</td>\n",
       "      <td>1.621992</td>\n",
       "      <td>3.155937</td>\n",
       "      <td>3.762840</td>\n",
       "      <td>1.736784</td>\n",
       "      <td>2.233650</td>\n",
       "      <td>4.197041</td>\n",
       "      <td>1.380708</td>\n",
       "      <td>3.953549</td>\n",
       "      <td>1.000000</td>\n",
       "      <td>3.074552</td>\n",
       "      <td>1.907309</td>\n",
       "      <td>2.569620</td>\n",
       "      <td>5.000000</td>\n",
       "      <td>1.000000</td>\n",
       "      <td>2.357585</td>\n",
       "      <td>1.595990</td>\n",
       "      <td>4.472242</td>\n",
       "      <td>1.021056</td>\n",
       "      <td>5.000000</td>\n",
       "    </tr>\n",
       "    <tr>\n",
       "      <th>4</th>\n",
       "      <td>1.217157</td>\n",
       "      <td>2.524629</td>\n",
       "      <td>5.000000</td>\n",
       "      <td>4.963791</td>\n",
       "      <td>4.993576</td>\n",
       "      <td>2.547691</td>\n",
       "      <td>1.899541</td>\n",
       "      <td>5.000000</td>\n",
       "      <td>2.142282</td>\n",
       "      <td>4.852802</td>\n",
       "      <td>3.986574</td>\n",
       "      <td>2.314889</td>\n",
       "      <td>1.355550</td>\n",
       "      <td>1.822850</td>\n",
       "      <td>5.000000</td>\n",
       "      <td>3.464962</td>\n",
       "      <td>4.494529</td>\n",
       "      <td>3.312265</td>\n",
       "      <td>1.768510</td>\n",
       "      <td>1.581618</td>\n",
       "    </tr>\n",
       "    <tr>\n",
       "      <th>5</th>\n",
       "      <td>2.394853</td>\n",
       "      <td>2.112719</td>\n",
       "      <td>3.176780</td>\n",
       "      <td>4.096872</td>\n",
       "      <td>1.128354</td>\n",
       "      <td>3.883262</td>\n",
       "      <td>3.901867</td>\n",
       "      <td>2.100550</td>\n",
       "      <td>5.000000</td>\n",
       "      <td>2.230709</td>\n",
       "      <td>5.000000</td>\n",
       "      <td>2.517452</td>\n",
       "      <td>1.002478</td>\n",
       "      <td>3.187462</td>\n",
       "      <td>2.297656</td>\n",
       "      <td>5.000000</td>\n",
       "      <td>4.588291</td>\n",
       "      <td>1.556717</td>\n",
       "      <td>1.000000</td>\n",
       "      <td>1.869830</td>\n",
       "    </tr>\n",
       "    <tr>\n",
       "      <th>6</th>\n",
       "      <td>1.000000</td>\n",
       "      <td>1.537530</td>\n",
       "      <td>2.834250</td>\n",
       "      <td>1.268367</td>\n",
       "      <td>5.000000</td>\n",
       "      <td>1.000000</td>\n",
       "      <td>1.033351</td>\n",
       "      <td>3.191445</td>\n",
       "      <td>1.000000</td>\n",
       "      <td>5.000000</td>\n",
       "      <td>2.039830</td>\n",
       "      <td>1.015093</td>\n",
       "      <td>5.000000</td>\n",
       "      <td>1.000000</td>\n",
       "      <td>3.272490</td>\n",
       "      <td>1.000000</td>\n",
       "      <td>2.862581</td>\n",
       "      <td>1.972926</td>\n",
       "      <td>5.000000</td>\n",
       "      <td>2.312966</td>\n",
       "    </tr>\n",
       "    <tr>\n",
       "      <th>7</th>\n",
       "      <td>1.496184</td>\n",
       "      <td>1.709622</td>\n",
       "      <td>1.728150</td>\n",
       "      <td>3.828513</td>\n",
       "      <td>2.400683</td>\n",
       "      <td>3.150617</td>\n",
       "      <td>2.493560</td>\n",
       "      <td>2.527317</td>\n",
       "      <td>1.656217</td>\n",
       "      <td>2.016246</td>\n",
       "      <td>3.458936</td>\n",
       "      <td>3.094872</td>\n",
       "      <td>3.160590</td>\n",
       "      <td>2.752305</td>\n",
       "      <td>3.115967</td>\n",
       "      <td>2.925561</td>\n",
       "      <td>1.000000</td>\n",
       "      <td>4.470052</td>\n",
       "      <td>1.000806</td>\n",
       "      <td>3.530146</td>\n",
       "    </tr>\n",
       "  </tbody>\n",
       "</table>\n",
       "</div>"
      ],
      "text/plain": [
       "   Agro_Industry_Commerce  Arts_Music  Automotive      Baby     Books  \\\n",
       "0                1.935086    1.000000    1.000000  1.000000  1.254345   \n",
       "1                1.692547    2.284460    2.498768  3.206069  2.649180   \n",
       "2                5.000000    5.000000    4.540467  5.000000  1.000000   \n",
       "3                1.262724    1.621992    3.155937  3.762840  1.736784   \n",
       "4                1.217157    2.524629    5.000000  4.963791  4.993576   \n",
       "5                2.394853    2.112719    3.176780  4.096872  1.128354   \n",
       "6                1.000000    1.537530    2.834250  1.268367  5.000000   \n",
       "7                1.496184    1.709622    1.728150  3.828513  2.400683   \n",
       "\n",
       "   Construction_Tools  Fashion_Accessories  Food_Beverage  Furniture  \\\n",
       "0            5.000000             1.000000       2.426519   3.760707   \n",
       "1            3.697451             2.658289       2.028750   3.225938   \n",
       "2            4.138404             5.000000       1.000000   4.570175   \n",
       "3            2.233650             4.197041       1.380708   3.953549   \n",
       "4            2.547691             1.899541       5.000000   2.142282   \n",
       "5            3.883262             3.901867       2.100550   5.000000   \n",
       "6            1.000000             1.033351       3.191445   1.000000   \n",
       "7            3.150617             2.493560       2.527317   1.656217   \n",
       "\n",
       "   Gardening  Health_Beauty      Home  Market_place  Office_Supplies  \\\n",
       "0   3.857371       1.000000  5.000000      1.913965         3.323542   \n",
       "1   1.556333       2.596305  2.326241      3.680303         3.973310   \n",
       "2   3.805839       4.936018  1.000000      1.000000         2.344252   \n",
       "3   1.000000       3.074552  1.907309      2.569620         5.000000   \n",
       "4   4.852802       3.986574  2.314889      1.355550         1.822850   \n",
       "5   2.230709       5.000000  2.517452      1.002478         3.187462   \n",
       "6   5.000000       2.039830  1.015093      5.000000         1.000000   \n",
       "7   2.016246       3.458936  3.094872      3.160590         2.752305   \n",
       "\n",
       "   Party_Supplies  Pet_Supplies  Signaling_Security  Sports_Leisure  \\\n",
       "0        2.213430      2.185212            5.000000        3.174698   \n",
       "1        2.501734      2.463062            2.643784        5.000000   \n",
       "2        1.040554      1.331579            3.511383        1.000000   \n",
       "3        1.000000      2.357585            1.595990        4.472242   \n",
       "4        5.000000      3.464962            4.494529        3.312265   \n",
       "5        2.297656      5.000000            4.588291        1.556717   \n",
       "6        3.272490      1.000000            2.862581        1.972926   \n",
       "7        3.115967      2.925561            1.000000        4.470052   \n",
       "\n",
       "   Technology  Toys_Games  \n",
       "0    1.312064    1.000000  \n",
       "1    1.370734    3.552009  \n",
       "2    1.154920    4.080415  \n",
       "3    1.021056    5.000000  \n",
       "4    1.768510    1.581618  \n",
       "5    1.000000    1.869830  \n",
       "6    5.000000    2.312966  \n",
       "7    1.000806    3.530146  "
      ]
     },
     "execution_count": 174,
     "metadata": {},
     "output_type": "execute_result"
    }
   ],
   "source": [
    "dummy_product=pd.get_dummies(df.product_category,sparse=False)\n",
    "prod_col=dummy_product.columns.to_list()\n",
    "\n",
    "list_agg = {}\n",
    "for col in prod_col:\n",
    "    list_agg[f'{col}'] = 'sum'\n",
    "\n",
    "dummy_product['cluster_labels']=pd.Series(clustering.labels_)\n",
    "\n",
    "df_cat=dummy_product.groupby('cluster_labels').agg(list_agg)\n",
    "\n",
    "cluster_count=dummy_product.cluster_labels.value_counts().sort_index().to_list()\n",
    "for i in range(len(cluster_count)):\n",
    "    df_cat.iloc[i]=(df_cat.iloc[i])/(cluster_count[i])\n",
    "\n",
    "\n",
    "df_mms_cat=pd.DataFrame(mms.fit_transform(df_cat), columns=prod_col)\n",
    "df_mms_cat\n"
   ]
  },
  {
   "cell_type": "code",
   "execution_count": 175,
   "metadata": {},
   "outputs": [
    {
     "data": {
      "application/vnd.plotly.v1+json": {
       "config": {
        "plotlyServerURL": "https://plot.ly"
       },
       "data": [
        {
         "fill": "toself",
         "name": "Cluster 0",
         "r": [
          1.935085899397845,
          1,
          1,
          1,
          1.2543449771502726,
          5,
          1,
          2.426518937910744,
          3.7607069438053173,
          3.8573705885248426,
          1,
          5,
          1.9139647821102397,
          3.3235423812095277,
          2.2134303885396958,
          2.185212299730678,
          5,
          3.174697812850856,
          1.3120641630381578,
          1
         ],
         "theta": [
          "Agro_Industry_Commerce",
          "Arts_Music",
          "Automotive",
          "Baby",
          "Books",
          "Construction_Tools",
          "Fashion_Accessories",
          "Food_Beverage",
          "Furniture",
          "Gardening",
          "Health_Beauty",
          "Home",
          "Market_place",
          "Office_Supplies",
          "Party_Supplies",
          "Pet_Supplies",
          "Signaling_Security",
          "Sports_Leisure",
          "Technology",
          "Toys_Games"
         ],
         "type": "scatterpolar"
        },
        {
         "fill": "toself",
         "name": "Cluster 1",
         "r": [
          1.6925473009680085,
          2.2844603653650695,
          2.49876752634368,
          3.2060689817257955,
          2.6491800463638713,
          3.6974508399573502,
          2.658288852659044,
          2.0287501170042743,
          3.2259377167829975,
          1.5563334184405446,
          2.596304854141862,
          2.326241419220151,
          3.68030337853367,
          3.9733101840733482,
          2.501734354254152,
          2.4630620564999215,
          2.643784471631566,
          4.999999999999999,
          1.3707336687850413,
          3.5520093071032024
         ],
         "theta": [
          "Agro_Industry_Commerce",
          "Arts_Music",
          "Automotive",
          "Baby",
          "Books",
          "Construction_Tools",
          "Fashion_Accessories",
          "Food_Beverage",
          "Furniture",
          "Gardening",
          "Health_Beauty",
          "Home",
          "Market_place",
          "Office_Supplies",
          "Party_Supplies",
          "Pet_Supplies",
          "Signaling_Security",
          "Sports_Leisure",
          "Technology",
          "Toys_Games"
         ],
         "type": "scatterpolar"
        },
        {
         "fill": "toself",
         "name": "Cluster 2",
         "r": [
          5,
          5,
          4.540466762991409,
          5,
          1,
          4.138404095502228,
          5,
          1,
          4.570174735086425,
          3.805838520757434,
          4.936017846906144,
          1,
          1,
          2.3442524897567303,
          1.0405544383173613,
          1.3315791461982718,
          3.5113831393990287,
          1,
          1.1549199622910498,
          4.080414708114374
         ],
         "theta": [
          "Agro_Industry_Commerce",
          "Arts_Music",
          "Automotive",
          "Baby",
          "Books",
          "Construction_Tools",
          "Fashion_Accessories",
          "Food_Beverage",
          "Furniture",
          "Gardening",
          "Health_Beauty",
          "Home",
          "Market_place",
          "Office_Supplies",
          "Party_Supplies",
          "Pet_Supplies",
          "Signaling_Security",
          "Sports_Leisure",
          "Technology",
          "Toys_Games"
         ],
         "type": "scatterpolar"
        },
        {
         "fill": "toself",
         "name": "Cluster 3",
         "r": [
          1.2627241655916017,
          1.6219920795498615,
          3.155936813458054,
          3.762839577323002,
          1.736784151855885,
          2.2336504261109407,
          4.197040823489225,
          1.3807081618012909,
          3.9535487634273627,
          1,
          3.0745521894900643,
          1.9073086902090624,
          2.569620020701438,
          5,
          1,
          2.357585053552708,
          1.5959900634711794,
          4.472241681795764,
          1.0210557955039248,
          4.999999999999999
         ],
         "theta": [
          "Agro_Industry_Commerce",
          "Arts_Music",
          "Automotive",
          "Baby",
          "Books",
          "Construction_Tools",
          "Fashion_Accessories",
          "Food_Beverage",
          "Furniture",
          "Gardening",
          "Health_Beauty",
          "Home",
          "Market_place",
          "Office_Supplies",
          "Party_Supplies",
          "Pet_Supplies",
          "Signaling_Security",
          "Sports_Leisure",
          "Technology",
          "Toys_Games"
         ],
         "type": "scatterpolar"
        },
        {
         "fill": "toself",
         "name": "Cluster 4",
         "r": [
          1.2171566434062255,
          2.5246285009849094,
          5,
          4.963791287655244,
          4.993576473356676,
          2.5476910297398847,
          1.8995406251198106,
          5,
          2.1422820777307408,
          4.852802063275668,
          3.9865739118421866,
          2.314888633802066,
          1.355550448172834,
          1.8228503550127704,
          5,
          3.4649619647396643,
          4.494529342616873,
          3.312264630188632,
          1.7685100422137494,
          1.5816179927118885
         ],
         "theta": [
          "Agro_Industry_Commerce",
          "Arts_Music",
          "Automotive",
          "Baby",
          "Books",
          "Construction_Tools",
          "Fashion_Accessories",
          "Food_Beverage",
          "Furniture",
          "Gardening",
          "Health_Beauty",
          "Home",
          "Market_place",
          "Office_Supplies",
          "Party_Supplies",
          "Pet_Supplies",
          "Signaling_Security",
          "Sports_Leisure",
          "Technology",
          "Toys_Games"
         ],
         "type": "scatterpolar"
        },
        {
         "fill": "toself",
         "name": "Cluster 5",
         "r": [
          2.3948527259079326,
          2.112718859314337,
          3.176779619919053,
          4.096871773774518,
          1.1283540025843874,
          3.8832619568889615,
          3.901866568255899,
          2.1005502798885045,
          5,
          2.230709454076763,
          5.000000000000001,
          2.5174519022938155,
          1.0024777776573806,
          3.1874619061760816,
          2.297656053339903,
          5,
          4.5882908209228335,
          1.556717439610246,
          1,
          1.8698302343355107
         ],
         "theta": [
          "Agro_Industry_Commerce",
          "Arts_Music",
          "Automotive",
          "Baby",
          "Books",
          "Construction_Tools",
          "Fashion_Accessories",
          "Food_Beverage",
          "Furniture",
          "Gardening",
          "Health_Beauty",
          "Home",
          "Market_place",
          "Office_Supplies",
          "Party_Supplies",
          "Pet_Supplies",
          "Signaling_Security",
          "Sports_Leisure",
          "Technology",
          "Toys_Games"
         ],
         "type": "scatterpolar"
        },
        {
         "fill": "toself",
         "name": "Cluster 6",
         "r": [
          1,
          1.5375297867106443,
          2.8342502218278613,
          1.2683671212091463,
          5,
          1,
          1.0333507302304992,
          3.1914452417518793,
          1,
          5,
          2.0398303140570153,
          1.0150926081863902,
          5,
          1,
          3.272490024197486,
          1,
          2.862581220208492,
          1.9729260617168949,
          5,
          2.312966420184636
         ],
         "theta": [
          "Agro_Industry_Commerce",
          "Arts_Music",
          "Automotive",
          "Baby",
          "Books",
          "Construction_Tools",
          "Fashion_Accessories",
          "Food_Beverage",
          "Furniture",
          "Gardening",
          "Health_Beauty",
          "Home",
          "Market_place",
          "Office_Supplies",
          "Party_Supplies",
          "Pet_Supplies",
          "Signaling_Security",
          "Sports_Leisure",
          "Technology",
          "Toys_Games"
         ],
         "type": "scatterpolar"
        },
        {
         "fill": "toself",
         "name": "Cluster 7",
         "r": [
          1.4961844309541825,
          1.7096218790032154,
          1.728149960742138,
          3.8285125757663194,
          2.400682597693107,
          3.1506172101843593,
          2.4935604938765494,
          2.5273169204587806,
          1.656216935228609,
          2.0162464744803366,
          3.458936100580533,
          3.0948719339876374,
          3.1605903659320944,
          2.752305146566367,
          3.1159668770562474,
          2.925560621148587,
          1,
          4.470052265510865,
          1.000806435448132,
          3.530146350645266
         ],
         "theta": [
          "Agro_Industry_Commerce",
          "Arts_Music",
          "Automotive",
          "Baby",
          "Books",
          "Construction_Tools",
          "Fashion_Accessories",
          "Food_Beverage",
          "Furniture",
          "Gardening",
          "Health_Beauty",
          "Home",
          "Market_place",
          "Office_Supplies",
          "Party_Supplies",
          "Pet_Supplies",
          "Signaling_Security",
          "Sports_Leisure",
          "Technology",
          "Toys_Games"
         ],
         "type": "scatterpolar"
        }
       ],
       "layout": {
        "height": 780,
        "polar": {
         "radialaxis": {
          "range": [
           0,
           5
          ],
          "visible": true
         }
        },
        "showlegend": true,
        "template": {
         "data": {
          "bar": [
           {
            "error_x": {
             "color": "#2a3f5f"
            },
            "error_y": {
             "color": "#2a3f5f"
            },
            "marker": {
             "line": {
              "color": "#E5ECF6",
              "width": 0.5
             },
             "pattern": {
              "fillmode": "overlay",
              "size": 10,
              "solidity": 0.2
             }
            },
            "type": "bar"
           }
          ],
          "barpolar": [
           {
            "marker": {
             "line": {
              "color": "#E5ECF6",
              "width": 0.5
             },
             "pattern": {
              "fillmode": "overlay",
              "size": 10,
              "solidity": 0.2
             }
            },
            "type": "barpolar"
           }
          ],
          "carpet": [
           {
            "aaxis": {
             "endlinecolor": "#2a3f5f",
             "gridcolor": "white",
             "linecolor": "white",
             "minorgridcolor": "white",
             "startlinecolor": "#2a3f5f"
            },
            "baxis": {
             "endlinecolor": "#2a3f5f",
             "gridcolor": "white",
             "linecolor": "white",
             "minorgridcolor": "white",
             "startlinecolor": "#2a3f5f"
            },
            "type": "carpet"
           }
          ],
          "choropleth": [
           {
            "colorbar": {
             "outlinewidth": 0,
             "ticks": ""
            },
            "type": "choropleth"
           }
          ],
          "contour": [
           {
            "colorbar": {
             "outlinewidth": 0,
             "ticks": ""
            },
            "colorscale": [
             [
              0,
              "#0d0887"
             ],
             [
              0.1111111111111111,
              "#46039f"
             ],
             [
              0.2222222222222222,
              "#7201a8"
             ],
             [
              0.3333333333333333,
              "#9c179e"
             ],
             [
              0.4444444444444444,
              "#bd3786"
             ],
             [
              0.5555555555555556,
              "#d8576b"
             ],
             [
              0.6666666666666666,
              "#ed7953"
             ],
             [
              0.7777777777777778,
              "#fb9f3a"
             ],
             [
              0.8888888888888888,
              "#fdca26"
             ],
             [
              1,
              "#f0f921"
             ]
            ],
            "type": "contour"
           }
          ],
          "contourcarpet": [
           {
            "colorbar": {
             "outlinewidth": 0,
             "ticks": ""
            },
            "type": "contourcarpet"
           }
          ],
          "heatmap": [
           {
            "colorbar": {
             "outlinewidth": 0,
             "ticks": ""
            },
            "colorscale": [
             [
              0,
              "#0d0887"
             ],
             [
              0.1111111111111111,
              "#46039f"
             ],
             [
              0.2222222222222222,
              "#7201a8"
             ],
             [
              0.3333333333333333,
              "#9c179e"
             ],
             [
              0.4444444444444444,
              "#bd3786"
             ],
             [
              0.5555555555555556,
              "#d8576b"
             ],
             [
              0.6666666666666666,
              "#ed7953"
             ],
             [
              0.7777777777777778,
              "#fb9f3a"
             ],
             [
              0.8888888888888888,
              "#fdca26"
             ],
             [
              1,
              "#f0f921"
             ]
            ],
            "type": "heatmap"
           }
          ],
          "heatmapgl": [
           {
            "colorbar": {
             "outlinewidth": 0,
             "ticks": ""
            },
            "colorscale": [
             [
              0,
              "#0d0887"
             ],
             [
              0.1111111111111111,
              "#46039f"
             ],
             [
              0.2222222222222222,
              "#7201a8"
             ],
             [
              0.3333333333333333,
              "#9c179e"
             ],
             [
              0.4444444444444444,
              "#bd3786"
             ],
             [
              0.5555555555555556,
              "#d8576b"
             ],
             [
              0.6666666666666666,
              "#ed7953"
             ],
             [
              0.7777777777777778,
              "#fb9f3a"
             ],
             [
              0.8888888888888888,
              "#fdca26"
             ],
             [
              1,
              "#f0f921"
             ]
            ],
            "type": "heatmapgl"
           }
          ],
          "histogram": [
           {
            "marker": {
             "pattern": {
              "fillmode": "overlay",
              "size": 10,
              "solidity": 0.2
             }
            },
            "type": "histogram"
           }
          ],
          "histogram2d": [
           {
            "colorbar": {
             "outlinewidth": 0,
             "ticks": ""
            },
            "colorscale": [
             [
              0,
              "#0d0887"
             ],
             [
              0.1111111111111111,
              "#46039f"
             ],
             [
              0.2222222222222222,
              "#7201a8"
             ],
             [
              0.3333333333333333,
              "#9c179e"
             ],
             [
              0.4444444444444444,
              "#bd3786"
             ],
             [
              0.5555555555555556,
              "#d8576b"
             ],
             [
              0.6666666666666666,
              "#ed7953"
             ],
             [
              0.7777777777777778,
              "#fb9f3a"
             ],
             [
              0.8888888888888888,
              "#fdca26"
             ],
             [
              1,
              "#f0f921"
             ]
            ],
            "type": "histogram2d"
           }
          ],
          "histogram2dcontour": [
           {
            "colorbar": {
             "outlinewidth": 0,
             "ticks": ""
            },
            "colorscale": [
             [
              0,
              "#0d0887"
             ],
             [
              0.1111111111111111,
              "#46039f"
             ],
             [
              0.2222222222222222,
              "#7201a8"
             ],
             [
              0.3333333333333333,
              "#9c179e"
             ],
             [
              0.4444444444444444,
              "#bd3786"
             ],
             [
              0.5555555555555556,
              "#d8576b"
             ],
             [
              0.6666666666666666,
              "#ed7953"
             ],
             [
              0.7777777777777778,
              "#fb9f3a"
             ],
             [
              0.8888888888888888,
              "#fdca26"
             ],
             [
              1,
              "#f0f921"
             ]
            ],
            "type": "histogram2dcontour"
           }
          ],
          "mesh3d": [
           {
            "colorbar": {
             "outlinewidth": 0,
             "ticks": ""
            },
            "type": "mesh3d"
           }
          ],
          "parcoords": [
           {
            "line": {
             "colorbar": {
              "outlinewidth": 0,
              "ticks": ""
             }
            },
            "type": "parcoords"
           }
          ],
          "pie": [
           {
            "automargin": true,
            "type": "pie"
           }
          ],
          "scatter": [
           {
            "fillpattern": {
             "fillmode": "overlay",
             "size": 10,
             "solidity": 0.2
            },
            "type": "scatter"
           }
          ],
          "scatter3d": [
           {
            "line": {
             "colorbar": {
              "outlinewidth": 0,
              "ticks": ""
             }
            },
            "marker": {
             "colorbar": {
              "outlinewidth": 0,
              "ticks": ""
             }
            },
            "type": "scatter3d"
           }
          ],
          "scattercarpet": [
           {
            "marker": {
             "colorbar": {
              "outlinewidth": 0,
              "ticks": ""
             }
            },
            "type": "scattercarpet"
           }
          ],
          "scattergeo": [
           {
            "marker": {
             "colorbar": {
              "outlinewidth": 0,
              "ticks": ""
             }
            },
            "type": "scattergeo"
           }
          ],
          "scattergl": [
           {
            "marker": {
             "colorbar": {
              "outlinewidth": 0,
              "ticks": ""
             }
            },
            "type": "scattergl"
           }
          ],
          "scattermapbox": [
           {
            "marker": {
             "colorbar": {
              "outlinewidth": 0,
              "ticks": ""
             }
            },
            "type": "scattermapbox"
           }
          ],
          "scatterpolar": [
           {
            "marker": {
             "colorbar": {
              "outlinewidth": 0,
              "ticks": ""
             }
            },
            "type": "scatterpolar"
           }
          ],
          "scatterpolargl": [
           {
            "marker": {
             "colorbar": {
              "outlinewidth": 0,
              "ticks": ""
             }
            },
            "type": "scatterpolargl"
           }
          ],
          "scatterternary": [
           {
            "marker": {
             "colorbar": {
              "outlinewidth": 0,
              "ticks": ""
             }
            },
            "type": "scatterternary"
           }
          ],
          "surface": [
           {
            "colorbar": {
             "outlinewidth": 0,
             "ticks": ""
            },
            "colorscale": [
             [
              0,
              "#0d0887"
             ],
             [
              0.1111111111111111,
              "#46039f"
             ],
             [
              0.2222222222222222,
              "#7201a8"
             ],
             [
              0.3333333333333333,
              "#9c179e"
             ],
             [
              0.4444444444444444,
              "#bd3786"
             ],
             [
              0.5555555555555556,
              "#d8576b"
             ],
             [
              0.6666666666666666,
              "#ed7953"
             ],
             [
              0.7777777777777778,
              "#fb9f3a"
             ],
             [
              0.8888888888888888,
              "#fdca26"
             ],
             [
              1,
              "#f0f921"
             ]
            ],
            "type": "surface"
           }
          ],
          "table": [
           {
            "cells": {
             "fill": {
              "color": "#EBF0F8"
             },
             "line": {
              "color": "white"
             }
            },
            "header": {
             "fill": {
              "color": "#C8D4E3"
             },
             "line": {
              "color": "white"
             }
            },
            "type": "table"
           }
          ]
         },
         "layout": {
          "annotationdefaults": {
           "arrowcolor": "#2a3f5f",
           "arrowhead": 0,
           "arrowwidth": 1
          },
          "autotypenumbers": "strict",
          "coloraxis": {
           "colorbar": {
            "outlinewidth": 0,
            "ticks": ""
           }
          },
          "colorscale": {
           "diverging": [
            [
             0,
             "#8e0152"
            ],
            [
             0.1,
             "#c51b7d"
            ],
            [
             0.2,
             "#de77ae"
            ],
            [
             0.3,
             "#f1b6da"
            ],
            [
             0.4,
             "#fde0ef"
            ],
            [
             0.5,
             "#f7f7f7"
            ],
            [
             0.6,
             "#e6f5d0"
            ],
            [
             0.7,
             "#b8e186"
            ],
            [
             0.8,
             "#7fbc41"
            ],
            [
             0.9,
             "#4d9221"
            ],
            [
             1,
             "#276419"
            ]
           ],
           "sequential": [
            [
             0,
             "#0d0887"
            ],
            [
             0.1111111111111111,
             "#46039f"
            ],
            [
             0.2222222222222222,
             "#7201a8"
            ],
            [
             0.3333333333333333,
             "#9c179e"
            ],
            [
             0.4444444444444444,
             "#bd3786"
            ],
            [
             0.5555555555555556,
             "#d8576b"
            ],
            [
             0.6666666666666666,
             "#ed7953"
            ],
            [
             0.7777777777777778,
             "#fb9f3a"
            ],
            [
             0.8888888888888888,
             "#fdca26"
            ],
            [
             1,
             "#f0f921"
            ]
           ],
           "sequentialminus": [
            [
             0,
             "#0d0887"
            ],
            [
             0.1111111111111111,
             "#46039f"
            ],
            [
             0.2222222222222222,
             "#7201a8"
            ],
            [
             0.3333333333333333,
             "#9c179e"
            ],
            [
             0.4444444444444444,
             "#bd3786"
            ],
            [
             0.5555555555555556,
             "#d8576b"
            ],
            [
             0.6666666666666666,
             "#ed7953"
            ],
            [
             0.7777777777777778,
             "#fb9f3a"
            ],
            [
             0.8888888888888888,
             "#fdca26"
            ],
            [
             1,
             "#f0f921"
            ]
           ]
          },
          "colorway": [
           "#636efa",
           "#EF553B",
           "#00cc96",
           "#ab63fa",
           "#FFA15A",
           "#19d3f3",
           "#FF6692",
           "#B6E880",
           "#FF97FF",
           "#FECB52"
          ],
          "font": {
           "color": "#2a3f5f"
          },
          "geo": {
           "bgcolor": "white",
           "lakecolor": "white",
           "landcolor": "#E5ECF6",
           "showlakes": true,
           "showland": true,
           "subunitcolor": "white"
          },
          "hoverlabel": {
           "align": "left"
          },
          "hovermode": "closest",
          "mapbox": {
           "style": "light"
          },
          "paper_bgcolor": "white",
          "plot_bgcolor": "#E5ECF6",
          "polar": {
           "angularaxis": {
            "gridcolor": "white",
            "linecolor": "white",
            "ticks": ""
           },
           "bgcolor": "#E5ECF6",
           "radialaxis": {
            "gridcolor": "white",
            "linecolor": "white",
            "ticks": ""
           }
          },
          "scene": {
           "xaxis": {
            "backgroundcolor": "#E5ECF6",
            "gridcolor": "white",
            "gridwidth": 2,
            "linecolor": "white",
            "showbackground": true,
            "ticks": "",
            "zerolinecolor": "white"
           },
           "yaxis": {
            "backgroundcolor": "#E5ECF6",
            "gridcolor": "white",
            "gridwidth": 2,
            "linecolor": "white",
            "showbackground": true,
            "ticks": "",
            "zerolinecolor": "white"
           },
           "zaxis": {
            "backgroundcolor": "#E5ECF6",
            "gridcolor": "white",
            "gridwidth": 2,
            "linecolor": "white",
            "showbackground": true,
            "ticks": "",
            "zerolinecolor": "white"
           }
          },
          "shapedefaults": {
           "line": {
            "color": "#2a3f5f"
           }
          },
          "ternary": {
           "aaxis": {
            "gridcolor": "white",
            "linecolor": "white",
            "ticks": ""
           },
           "baxis": {
            "gridcolor": "white",
            "linecolor": "white",
            "ticks": ""
           },
           "bgcolor": "#E5ECF6",
           "caxis": {
            "gridcolor": "white",
            "linecolor": "white",
            "ticks": ""
           }
          },
          "title": {
           "x": 0.05
          },
          "xaxis": {
           "automargin": true,
           "gridcolor": "white",
           "linecolor": "white",
           "ticks": "",
           "title": {
            "standoff": 15
           },
           "zerolinecolor": "white",
           "zerolinewidth": 2
          },
          "yaxis": {
           "automargin": true,
           "gridcolor": "white",
           "linecolor": "white",
           "ticks": "",
           "title": {
            "standoff": 15
           },
           "zerolinecolor": "white",
           "zerolinewidth": 2
          }
         }
        },
        "width": 780
       }
      }
     },
     "metadata": {},
     "output_type": "display_data"
    }
   ],
   "source": [
    "# Créer une figure en radar pour chaque cluster\n",
    "fig = go.Figure()\n",
    "\n",
    "for cluster, row in df_mms_cat.iterrows():\n",
    "    values = row.values.tolist()\n",
    "    \n",
    "\n",
    "    \n",
    "\n",
    "    fig.add_trace(go.Scatterpolar(\n",
    "        r=values,\n",
    "        theta=prod_col,\n",
    "        fill='toself',\n",
    "        name=f'Cluster {cluster}'\n",
    "    ))\n",
    "\n",
    "# Mettre en forme la figurenum_cols,\n",
    "fig.update_layout(\n",
    "    polar=dict(\n",
    "        radialaxis=dict(\n",
    "            visible=True,\n",
    "            range=[0, 5]\n",
    "        ),\n",
    "    ),\n",
    "    showlegend=True,\n",
    "    width=780,\n",
    "    height=780\n",
    "\n",
    ")\n",
    "\n",
    "# Afficher la figure\n",
    "fig.show()\n",
    "figsize = (60,60)"
   ]
  },
  {
   "cell_type": "code",
   "execution_count": 176,
   "metadata": {},
   "outputs": [
    {
     "data": {
      "text/html": [
       "<div>\n",
       "<style scoped>\n",
       "    .dataframe tbody tr th:only-of-type {\n",
       "        vertical-align: middle;\n",
       "    }\n",
       "\n",
       "    .dataframe tbody tr th {\n",
       "        vertical-align: top;\n",
       "    }\n",
       "\n",
       "    .dataframe thead th {\n",
       "        text-align: right;\n",
       "    }\n",
       "</style>\n",
       "<table border=\"1\" class=\"dataframe\">\n",
       "  <thead>\n",
       "    <tr style=\"text-align: right;\">\n",
       "      <th></th>\n",
       "      <th>index</th>\n",
       "      <th>payment_type</th>\n",
       "      <th>product_category</th>\n",
       "      <th>payment_installments</th>\n",
       "      <th>orders</th>\n",
       "      <th>products</th>\n",
       "      <th>sellers</th>\n",
       "      <th>payment_value</th>\n",
       "      <th>review_score</th>\n",
       "      <th>price</th>\n",
       "      <th>freight_value</th>\n",
       "      <th>order_purchase_timestamp</th>\n",
       "      <th>recency</th>\n",
       "    </tr>\n",
       "  </thead>\n",
       "  <tbody>\n",
       "    <tr>\n",
       "      <th>0</th>\n",
       "      <td>71848</td>\n",
       "      <td>credit_card</td>\n",
       "      <td>Office_Supplies</td>\n",
       "      <td>5</td>\n",
       "      <td>1</td>\n",
       "      <td>1</td>\n",
       "      <td>1</td>\n",
       "      <td>115.22</td>\n",
       "      <td>2.0</td>\n",
       "      <td>86.99</td>\n",
       "      <td>28.23</td>\n",
       "      <td>2016-10</td>\n",
       "      <td>695</td>\n",
       "    </tr>\n",
       "    <tr>\n",
       "      <th>1</th>\n",
       "      <td>50256</td>\n",
       "      <td>credit_card</td>\n",
       "      <td>Sports_Leisure</td>\n",
       "      <td>3</td>\n",
       "      <td>1</td>\n",
       "      <td>1</td>\n",
       "      <td>1</td>\n",
       "      <td>61.16</td>\n",
       "      <td>5.0</td>\n",
       "      <td>49.99</td>\n",
       "      <td>11.17</td>\n",
       "      <td>2016-10</td>\n",
       "      <td>691</td>\n",
       "    </tr>\n",
       "    <tr>\n",
       "      <th>2</th>\n",
       "      <td>14113</td>\n",
       "      <td>credit_card</td>\n",
       "      <td>Sports_Leisure</td>\n",
       "      <td>10</td>\n",
       "      <td>1</td>\n",
       "      <td>1</td>\n",
       "      <td>1</td>\n",
       "      <td>818.12</td>\n",
       "      <td>5.0</td>\n",
       "      <td>649.00</td>\n",
       "      <td>169.12</td>\n",
       "      <td>2016-10</td>\n",
       "      <td>694</td>\n",
       "    </tr>\n",
       "    <tr>\n",
       "      <th>3</th>\n",
       "      <td>11864</td>\n",
       "      <td>boleto</td>\n",
       "      <td>Health_Beauty</td>\n",
       "      <td>1</td>\n",
       "      <td>1</td>\n",
       "      <td>1</td>\n",
       "      <td>1</td>\n",
       "      <td>87.53</td>\n",
       "      <td>4.0</td>\n",
       "      <td>69.90</td>\n",
       "      <td>17.63</td>\n",
       "      <td>2016-10</td>\n",
       "      <td>692</td>\n",
       "    </tr>\n",
       "    <tr>\n",
       "      <th>4</th>\n",
       "      <td>91385</td>\n",
       "      <td>credit_card</td>\n",
       "      <td>Home</td>\n",
       "      <td>6</td>\n",
       "      <td>2</td>\n",
       "      <td>2</td>\n",
       "      <td>2</td>\n",
       "      <td>218.04</td>\n",
       "      <td>5.0</td>\n",
       "      <td>43.65</td>\n",
       "      <td>10.86</td>\n",
       "      <td>2016-10</td>\n",
       "      <td>690</td>\n",
       "    </tr>\n",
       "    <tr>\n",
       "      <th>...</th>\n",
       "      <td>...</td>\n",
       "      <td>...</td>\n",
       "      <td>...</td>\n",
       "      <td>...</td>\n",
       "      <td>...</td>\n",
       "      <td>...</td>\n",
       "      <td>...</td>\n",
       "      <td>...</td>\n",
       "      <td>...</td>\n",
       "      <td>...</td>\n",
       "      <td>...</td>\n",
       "      <td>...</td>\n",
       "      <td>...</td>\n",
       "    </tr>\n",
       "    <tr>\n",
       "      <th>91474</th>\n",
       "      <td>83793</td>\n",
       "      <td>debit_card</td>\n",
       "      <td>Home</td>\n",
       "      <td>1</td>\n",
       "      <td>1</td>\n",
       "      <td>1</td>\n",
       "      <td>1</td>\n",
       "      <td>151.54</td>\n",
       "      <td>5.0</td>\n",
       "      <td>129.99</td>\n",
       "      <td>21.55</td>\n",
       "      <td>2018-08</td>\n",
       "      <td>28</td>\n",
       "    </tr>\n",
       "    <tr>\n",
       "      <th>91475</th>\n",
       "      <td>23285</td>\n",
       "      <td>credit_card</td>\n",
       "      <td>Technology</td>\n",
       "      <td>1</td>\n",
       "      <td>1</td>\n",
       "      <td>1</td>\n",
       "      <td>1</td>\n",
       "      <td>57.60</td>\n",
       "      <td>5.0</td>\n",
       "      <td>49.99</td>\n",
       "      <td>7.61</td>\n",
       "      <td>2018-08</td>\n",
       "      <td>17</td>\n",
       "    </tr>\n",
       "    <tr>\n",
       "      <th>91476</th>\n",
       "      <td>23293</td>\n",
       "      <td>credit_card</td>\n",
       "      <td>Technology</td>\n",
       "      <td>1</td>\n",
       "      <td>1</td>\n",
       "      <td>1</td>\n",
       "      <td>1</td>\n",
       "      <td>62.86</td>\n",
       "      <td>5.0</td>\n",
       "      <td>54.90</td>\n",
       "      <td>7.96</td>\n",
       "      <td>2018-08</td>\n",
       "      <td>22</td>\n",
       "    </tr>\n",
       "    <tr>\n",
       "      <th>91477</th>\n",
       "      <td>55011</td>\n",
       "      <td>credit_card</td>\n",
       "      <td>Fashion_Accessories</td>\n",
       "      <td>3</td>\n",
       "      <td>2</td>\n",
       "      <td>2</td>\n",
       "      <td>2</td>\n",
       "      <td>1089.04</td>\n",
       "      <td>4.0</td>\n",
       "      <td>252.40</td>\n",
       "      <td>19.86</td>\n",
       "      <td>2018-08</td>\n",
       "      <td>25</td>\n",
       "    </tr>\n",
       "    <tr>\n",
       "      <th>91478</th>\n",
       "      <td>45739</td>\n",
       "      <td>boleto</td>\n",
       "      <td>Home</td>\n",
       "      <td>1</td>\n",
       "      <td>1</td>\n",
       "      <td>1</td>\n",
       "      <td>1</td>\n",
       "      <td>30.69</td>\n",
       "      <td>5.0</td>\n",
       "      <td>17.90</td>\n",
       "      <td>12.79</td>\n",
       "      <td>2018-08</td>\n",
       "      <td>10</td>\n",
       "    </tr>\n",
       "  </tbody>\n",
       "</table>\n",
       "<p>91479 rows × 13 columns</p>\n",
       "</div>"
      ],
      "text/plain": [
       "       index payment_type     product_category  payment_installments  orders  \\\n",
       "0      71848  credit_card      Office_Supplies                     5       1   \n",
       "1      50256  credit_card       Sports_Leisure                     3       1   \n",
       "2      14113  credit_card       Sports_Leisure                    10       1   \n",
       "3      11864       boleto        Health_Beauty                     1       1   \n",
       "4      91385  credit_card                 Home                     6       2   \n",
       "...      ...          ...                  ...                   ...     ...   \n",
       "91474  83793   debit_card                 Home                     1       1   \n",
       "91475  23285  credit_card           Technology                     1       1   \n",
       "91476  23293  credit_card           Technology                     1       1   \n",
       "91477  55011  credit_card  Fashion_Accessories                     3       2   \n",
       "91478  45739       boleto                 Home                     1       1   \n",
       "\n",
       "       products  sellers  payment_value  review_score   price  freight_value  \\\n",
       "0             1        1         115.22           2.0   86.99          28.23   \n",
       "1             1        1          61.16           5.0   49.99          11.17   \n",
       "2             1        1         818.12           5.0  649.00         169.12   \n",
       "3             1        1          87.53           4.0   69.90          17.63   \n",
       "4             2        2         218.04           5.0   43.65          10.86   \n",
       "...         ...      ...            ...           ...     ...            ...   \n",
       "91474         1        1         151.54           5.0  129.99          21.55   \n",
       "91475         1        1          57.60           5.0   49.99           7.61   \n",
       "91476         1        1          62.86           5.0   54.90           7.96   \n",
       "91477         2        2        1089.04           4.0  252.40          19.86   \n",
       "91478         1        1          30.69           5.0   17.90          12.79   \n",
       "\n",
       "      order_purchase_timestamp  recency  \n",
       "0                      2016-10      695  \n",
       "1                      2016-10      691  \n",
       "2                      2016-10      694  \n",
       "3                      2016-10      692  \n",
       "4                      2016-10      690  \n",
       "...                        ...      ...  \n",
       "91474                  2018-08       28  \n",
       "91475                  2018-08       17  \n",
       "91476                  2018-08       22  \n",
       "91477                  2018-08       25  \n",
       "91478                  2018-08       10  \n",
       "\n",
       "[91479 rows x 13 columns]"
      ]
     },
     "execution_count": 176,
     "metadata": {},
     "output_type": "execute_result"
    }
   ],
   "source": [
    "df= pd.read_csv('data.csv')\n",
    "df.rename(columns={\"order_item_id\": \"orders\", \"product_id\": \"products\", \"seller_id\":'sellers'}, inplace=True)\n",
    "df['payment_installments']=df['payment_installments'].astype('int64')\n",
    "df= df.drop(['customer_city','customer_state','customer_zip_code_prefix','seller_city','seller_state','customer_unique_id.1','customer_unique_id'], axis=1)\n",
    "df[\"order_purchase_timestamp\"] = pd.to_datetime(df[\"order_purchase_timestamp\"]).dt.strftime('%Y-%m')\n",
    "df=df.sort_values('order_purchase_timestamp').reset_index()\n",
    "df"
   ]
  },
  {
   "cell_type": "code",
   "execution_count": 177,
   "metadata": {},
   "outputs": [],
   "source": [
    "\n",
    "df_ari_t0=df[df['order_purchase_timestamp']<'2017-10']\n",
    "df_ari_t0=df_ari_t0.drop('order_purchase_timestamp',axis=1)\n",
    "\n",
    "df_ari_t1=df[df['order_purchase_timestamp']<'2018-01']\n",
    "df_ari_t1=df_ari_t1.drop('order_purchase_timestamp',axis=1)\n",
    "\n",
    "df_ari_t2=df[df['order_purchase_timestamp']<'2018-04']\n",
    "df_ari_t2=df_ari_t2.drop('order_purchase_timestamp',axis=1)\n",
    "\n",
    "df_ari_t3=df[df['order_purchase_timestamp']<'2018-07']\n",
    "df_ari_t3=df_ari_t3.drop('order_purchase_timestamp',axis=1)\n",
    "\n",
    "df_ari_t4=df[df['order_purchase_timestamp']<'2018-07']\n",
    "df_ari_t4=df_ari_t4.drop('order_purchase_timestamp',axis=1)\n"
   ]
  },
  {
   "cell_type": "code",
   "execution_count": 178,
   "metadata": {},
   "outputs": [
    {
     "data": {
      "text/html": [
       "<div>\n",
       "<style scoped>\n",
       "    .dataframe tbody tr th:only-of-type {\n",
       "        vertical-align: middle;\n",
       "    }\n",
       "\n",
       "    .dataframe tbody tr th {\n",
       "        vertical-align: top;\n",
       "    }\n",
       "\n",
       "    .dataframe thead th {\n",
       "        text-align: right;\n",
       "    }\n",
       "</style>\n",
       "<table border=\"1\" class=\"dataframe\">\n",
       "  <thead>\n",
       "    <tr style=\"text-align: right;\">\n",
       "      <th></th>\n",
       "      <th>index</th>\n",
       "      <th>payment_type</th>\n",
       "      <th>product_category</th>\n",
       "      <th>payment_installments</th>\n",
       "      <th>orders</th>\n",
       "      <th>products</th>\n",
       "      <th>sellers</th>\n",
       "      <th>payment_value</th>\n",
       "      <th>review_score</th>\n",
       "      <th>price</th>\n",
       "      <th>freight_value</th>\n",
       "      <th>recency</th>\n",
       "    </tr>\n",
       "  </thead>\n",
       "  <tbody>\n",
       "    <tr>\n",
       "      <th>0</th>\n",
       "      <td>71848</td>\n",
       "      <td>credit_card</td>\n",
       "      <td>Office_Supplies</td>\n",
       "      <td>5</td>\n",
       "      <td>1</td>\n",
       "      <td>1</td>\n",
       "      <td>1</td>\n",
       "      <td>115.22</td>\n",
       "      <td>2.0</td>\n",
       "      <td>86.99</td>\n",
       "      <td>28.230</td>\n",
       "      <td>695</td>\n",
       "    </tr>\n",
       "    <tr>\n",
       "      <th>1</th>\n",
       "      <td>50256</td>\n",
       "      <td>credit_card</td>\n",
       "      <td>Sports_Leisure</td>\n",
       "      <td>3</td>\n",
       "      <td>1</td>\n",
       "      <td>1</td>\n",
       "      <td>1</td>\n",
       "      <td>61.16</td>\n",
       "      <td>5.0</td>\n",
       "      <td>49.99</td>\n",
       "      <td>11.170</td>\n",
       "      <td>691</td>\n",
       "    </tr>\n",
       "    <tr>\n",
       "      <th>2</th>\n",
       "      <td>14113</td>\n",
       "      <td>credit_card</td>\n",
       "      <td>Sports_Leisure</td>\n",
       "      <td>10</td>\n",
       "      <td>1</td>\n",
       "      <td>1</td>\n",
       "      <td>1</td>\n",
       "      <td>818.12</td>\n",
       "      <td>5.0</td>\n",
       "      <td>649.00</td>\n",
       "      <td>169.120</td>\n",
       "      <td>694</td>\n",
       "    </tr>\n",
       "    <tr>\n",
       "      <th>3</th>\n",
       "      <td>11864</td>\n",
       "      <td>boleto</td>\n",
       "      <td>Health_Beauty</td>\n",
       "      <td>1</td>\n",
       "      <td>1</td>\n",
       "      <td>1</td>\n",
       "      <td>1</td>\n",
       "      <td>87.53</td>\n",
       "      <td>4.0</td>\n",
       "      <td>69.90</td>\n",
       "      <td>17.630</td>\n",
       "      <td>692</td>\n",
       "    </tr>\n",
       "    <tr>\n",
       "      <th>4</th>\n",
       "      <td>91385</td>\n",
       "      <td>credit_card</td>\n",
       "      <td>Home</td>\n",
       "      <td>6</td>\n",
       "      <td>2</td>\n",
       "      <td>2</td>\n",
       "      <td>2</td>\n",
       "      <td>218.04</td>\n",
       "      <td>5.0</td>\n",
       "      <td>43.65</td>\n",
       "      <td>10.860</td>\n",
       "      <td>690</td>\n",
       "    </tr>\n",
       "    <tr>\n",
       "      <th>...</th>\n",
       "      <td>...</td>\n",
       "      <td>...</td>\n",
       "      <td>...</td>\n",
       "      <td>...</td>\n",
       "      <td>...</td>\n",
       "      <td>...</td>\n",
       "      <td>...</td>\n",
       "      <td>...</td>\n",
       "      <td>...</td>\n",
       "      <td>...</td>\n",
       "      <td>...</td>\n",
       "      <td>...</td>\n",
       "    </tr>\n",
       "    <tr>\n",
       "      <th>60474</th>\n",
       "      <td>84068</td>\n",
       "      <td>credit_card</td>\n",
       "      <td>Toys_Games</td>\n",
       "      <td>2</td>\n",
       "      <td>1</td>\n",
       "      <td>1</td>\n",
       "      <td>1</td>\n",
       "      <td>47.43</td>\n",
       "      <td>5.0</td>\n",
       "      <td>35.00</td>\n",
       "      <td>12.430</td>\n",
       "      <td>166</td>\n",
       "    </tr>\n",
       "    <tr>\n",
       "      <th>60475</th>\n",
       "      <td>62820</td>\n",
       "      <td>boleto</td>\n",
       "      <td>Signaling_Security</td>\n",
       "      <td>1</td>\n",
       "      <td>1</td>\n",
       "      <td>1</td>\n",
       "      <td>1</td>\n",
       "      <td>88.36</td>\n",
       "      <td>1.0</td>\n",
       "      <td>69.99</td>\n",
       "      <td>18.370</td>\n",
       "      <td>177</td>\n",
       "    </tr>\n",
       "    <tr>\n",
       "      <th>60476</th>\n",
       "      <td>88993</td>\n",
       "      <td>credit_card</td>\n",
       "      <td>Home</td>\n",
       "      <td>12</td>\n",
       "      <td>2</td>\n",
       "      <td>2</td>\n",
       "      <td>2</td>\n",
       "      <td>912.32</td>\n",
       "      <td>1.0</td>\n",
       "      <td>209.90</td>\n",
       "      <td>18.180</td>\n",
       "      <td>152</td>\n",
       "    </tr>\n",
       "    <tr>\n",
       "      <th>60477</th>\n",
       "      <td>50801</td>\n",
       "      <td>credit_card</td>\n",
       "      <td>Toys_Games</td>\n",
       "      <td>2</td>\n",
       "      <td>1</td>\n",
       "      <td>1</td>\n",
       "      <td>1</td>\n",
       "      <td>51.69</td>\n",
       "      <td>5.0</td>\n",
       "      <td>34.90</td>\n",
       "      <td>16.790</td>\n",
       "      <td>179</td>\n",
       "    </tr>\n",
       "    <tr>\n",
       "      <th>60478</th>\n",
       "      <td>23651</td>\n",
       "      <td>credit_card</td>\n",
       "      <td>Health_Beauty</td>\n",
       "      <td>2</td>\n",
       "      <td>2</td>\n",
       "      <td>2</td>\n",
       "      <td>2</td>\n",
       "      <td>304.66</td>\n",
       "      <td>4.0</td>\n",
       "      <td>61.99</td>\n",
       "      <td>14.175</td>\n",
       "      <td>152</td>\n",
       "    </tr>\n",
       "  </tbody>\n",
       "</table>\n",
       "<p>60479 rows × 12 columns</p>\n",
       "</div>"
      ],
      "text/plain": [
       "       index payment_type    product_category  payment_installments  orders  \\\n",
       "0      71848  credit_card     Office_Supplies                     5       1   \n",
       "1      50256  credit_card      Sports_Leisure                     3       1   \n",
       "2      14113  credit_card      Sports_Leisure                    10       1   \n",
       "3      11864       boleto       Health_Beauty                     1       1   \n",
       "4      91385  credit_card                Home                     6       2   \n",
       "...      ...          ...                 ...                   ...     ...   \n",
       "60474  84068  credit_card          Toys_Games                     2       1   \n",
       "60475  62820       boleto  Signaling_Security                     1       1   \n",
       "60476  88993  credit_card                Home                    12       2   \n",
       "60477  50801  credit_card          Toys_Games                     2       1   \n",
       "60478  23651  credit_card       Health_Beauty                     2       2   \n",
       "\n",
       "       products  sellers  payment_value  review_score   price  freight_value  \\\n",
       "0             1        1         115.22           2.0   86.99         28.230   \n",
       "1             1        1          61.16           5.0   49.99         11.170   \n",
       "2             1        1         818.12           5.0  649.00        169.120   \n",
       "3             1        1          87.53           4.0   69.90         17.630   \n",
       "4             2        2         218.04           5.0   43.65         10.860   \n",
       "...         ...      ...            ...           ...     ...            ...   \n",
       "60474         1        1          47.43           5.0   35.00         12.430   \n",
       "60475         1        1          88.36           1.0   69.99         18.370   \n",
       "60476         2        2         912.32           1.0  209.90         18.180   \n",
       "60477         1        1          51.69           5.0   34.90         16.790   \n",
       "60478         2        2         304.66           4.0   61.99         14.175   \n",
       "\n",
       "       recency  \n",
       "0          695  \n",
       "1          691  \n",
       "2          694  \n",
       "3          692  \n",
       "4          690  \n",
       "...        ...  \n",
       "60474      166  \n",
       "60475      177  \n",
       "60476      152  \n",
       "60477      179  \n",
       "60478      152  \n",
       "\n",
       "[60479 rows x 12 columns]"
      ]
     },
     "execution_count": 178,
     "metadata": {},
     "output_type": "execute_result"
    }
   ],
   "source": [
    "df_ari_t2"
   ]
  },
  {
   "cell_type": "code",
   "execution_count": 179,
   "metadata": {},
   "outputs": [],
   "source": [
    "index=df_ari_t0.index.to_list()"
   ]
  },
  {
   "cell_type": "code",
   "execution_count": 180,
   "metadata": {},
   "outputs": [],
   "source": [
    "func_log = FunctionTransformer(func=np.log1p)\n",
    "func_abs=FunctionTransformer(func=np.abs)\n",
    "\n",
    "pipe_num= make_pipeline(func_abs,func_log)\n",
    "\n",
    "transformer = make_column_transformer(\n",
    "    (OneHotEncoder(sparse=False),make_column_selector(dtype_exclude=np.number)),\n",
    "    (pipe_num,make_column_selector(dtype_include=np.number))\n",
    "    )\n",
    "\n",
    "pipe_pca= make_pipeline(transformer,PCA(n_components=0.95))\n",
    "\n",
    "df_acp_t0=pd.DataFrame(pipe_pca.fit_transform(df_ari_t0))\n",
    "\n",
    "\n",
    "\n",
    "clustering_t0 =KMeans(n_clusters=8).fit(df_acp_t0)\n",
    "df_acp_t0['cluster_labels_t0']=pd.Series(clustering_t0.labels_)\n",
    "df_ari_t0['cluster_labels_t0']=pd.Series(clustering_t0.labels_)\n"
   ]
  },
  {
   "cell_type": "code",
   "execution_count": 181,
   "metadata": {},
   "outputs": [],
   "source": [
    "\n",
    "\n",
    "df_acp_t1=pd.DataFrame(pipe_pca.fit_transform(df_ari_t1))\n",
    "\n",
    "\n",
    "\n",
    "clustering_t1 =KMeans(n_clusters=8).fit(df_acp_t1)\n",
    "df_acp_t1['cluster_labels_t1']=pd.Series(clustering_t1.labels_)\n",
    "df_ari_t1['cluster_labels_t1']=pd.Series(clustering_t1.labels_)\n",
    "\n"
   ]
  },
  {
   "cell_type": "code",
   "execution_count": 182,
   "metadata": {},
   "outputs": [],
   "source": [
    "df_acp_t2=pd.DataFrame(pipe_pca.fit_transform(df_ari_t2))\n",
    "\n",
    "\n",
    "\n",
    "clustering_t2 =KMeans(n_clusters=8).fit(df_acp_t2)\n",
    "df_acp_t2['cluster_labels_t2']=pd.Series(clustering_t2.labels_)\n",
    "df_ari_t2['cluster_labels_t2']=pd.Series(clustering_t2.labels_)\n"
   ]
  },
  {
   "cell_type": "code",
   "execution_count": 183,
   "metadata": {},
   "outputs": [],
   "source": [
    "df_acp_t3=pd.DataFrame(pipe_pca.fit_transform(df_ari_t3))\n",
    "\n",
    "\n",
    "\n",
    "clustering_t3 =KMeans(n_clusters=8).fit(df_acp_t3)\n",
    "df_acp_t3['cluster_labels_t3']=pd.Series(clustering_t3.labels_)\n",
    "df_ari_t3['cluster_labels_t3']=pd.Series(clustering_t3.labels_)\n",
    "\n"
   ]
  },
  {
   "cell_type": "code",
   "execution_count": 184,
   "metadata": {},
   "outputs": [],
   "source": [
    "df_acp_t4=pd.DataFrame(pipe_pca.fit_transform(df_ari_t4))\n",
    "\n",
    "\n",
    "\n",
    "clustering_t4 =KMeans(n_clusters=8).fit(df_acp_t4)\n",
    "df_acp_t4['cluster_labels_t4']=pd.Series(clustering_t4.labels_)\n",
    "df_ari_t4['cluster_labels_t4']=pd.Series(clustering_t4.labels_)"
   ]
  },
  {
   "cell_type": "code",
   "execution_count": 185,
   "metadata": {},
   "outputs": [],
   "source": [
    "cluster_t0=df_ari_t0['cluster_labels_t0'].loc[index].to_list()\n",
    "cluster_t1=df_ari_t1['cluster_labels_t1'].loc[index].to_list()\n",
    "cluster_t2=df_ari_t2['cluster_labels_t2'].loc[index].to_list()\n",
    "cluster_t3=df_ari_t3['cluster_labels_t3'].loc[index].to_list()\n",
    "cluster_t4=df_ari_t4['cluster_labels_t4'].loc[index].to_list()\n",
    "\n"
   ]
  },
  {
   "cell_type": "code",
   "execution_count": 186,
   "metadata": {},
   "outputs": [
    {
     "data": {
      "text/plain": [
       "0.9408080373390357"
      ]
     },
     "execution_count": 186,
     "metadata": {},
     "output_type": "execute_result"
    }
   ],
   "source": [
    "adjusted_rand_score(cluster_t0,cluster_t1)\n",
    "adjusted_rand_score(cluster_t0,cluster_t2)\n",
    "adjusted_rand_score(cluster_t0,cluster_t3)\n",
    "adjusted_rand_score(cluster_t0,cluster_t4)"
   ]
  },
  {
   "cell_type": "code",
   "execution_count": 187,
   "metadata": {},
   "outputs": [],
   "source": [
    "df_ari= pd.DataFrame({'+3 mois':adjusted_rand_score(cluster_t0,cluster_t1),'+6 mois':adjusted_rand_score(cluster_t0,cluster_t2),'+9 mois':adjusted_rand_score(cluster_t0,cluster_t3),'+12 mois':adjusted_rand_score(cluster_t0,cluster_t4)}, index=['score ari'])"
   ]
  },
  {
   "cell_type": "code",
   "execution_count": 188,
   "metadata": {},
   "outputs": [
    {
     "data": {
      "text/html": [
       "<div>\n",
       "<style scoped>\n",
       "    .dataframe tbody tr th:only-of-type {\n",
       "        vertical-align: middle;\n",
       "    }\n",
       "\n",
       "    .dataframe tbody tr th {\n",
       "        vertical-align: top;\n",
       "    }\n",
       "\n",
       "    .dataframe thead th {\n",
       "        text-align: right;\n",
       "    }\n",
       "</style>\n",
       "<table border=\"1\" class=\"dataframe\">\n",
       "  <thead>\n",
       "    <tr style=\"text-align: right;\">\n",
       "      <th></th>\n",
       "      <th>+3 mois</th>\n",
       "      <th>+6 mois</th>\n",
       "      <th>+9 mois</th>\n",
       "      <th>+12 mois</th>\n",
       "    </tr>\n",
       "  </thead>\n",
       "  <tbody>\n",
       "    <tr>\n",
       "      <th>score ari</th>\n",
       "      <td>0.759495</td>\n",
       "      <td>0.918258</td>\n",
       "      <td>0.938936</td>\n",
       "      <td>0.940808</td>\n",
       "    </tr>\n",
       "  </tbody>\n",
       "</table>\n",
       "</div>"
      ],
      "text/plain": [
       "            +3 mois   +6 mois   +9 mois  +12 mois\n",
       "score ari  0.759495  0.918258  0.938936  0.940808"
      ]
     },
     "execution_count": 188,
     "metadata": {},
     "output_type": "execute_result"
    }
   ],
   "source": [
    "df_ari"
   ]
  },
  {
   "cell_type": "code",
   "execution_count": 189,
   "metadata": {},
   "outputs": [
    {
     "data": {
      "image/png": "[encoded data removed]",
      "text/plain": [
       "<Figure size 640x480 with 1 Axes>"
      ]
     },
     "metadata": {},
     "output_type": "display_data"
    }
   ],
   "source": [
    "plt.plot([3,6,9,12],[adjusted_rand_score(cluster_t0,cluster_t1),adjusted_rand_score(cluster_t0,cluster_t2),adjusted_rand_score(cluster_t0,cluster_t3),adjusted_rand_score(cluster_t0,cluster_t4)])\n",
    "\n",
    "\n",
    "plt.xlabel(\"Temps en mois\")\n",
    "plt.ylabel(\"Score ARI\")\n",
    "\n",
    "plt.show()"
   ]
  },
  {
   "cell_type": "code",
   "execution_count": null,
   "metadata": {},
   "outputs": [],
   "source": []
  }
 ],
 "metadata": {
  "kernelspec": {
   "display_name": "datascience_env",
   "language": "python",
   "name": "python3"
  },
  "language_info": {
   "codemirror_mode": {
    "name": "ipython",
    "version": 3
   },
   "file_extension": ".py",
   "mimetype": "text/x-python",
   "name": "python",
   "nbconvert_exporter": "python",
   "pygments_lexer": "ipython3",
   "version": "3.9.12"
  },
  "orig_nbformat": 4,
  "vscode": {
   "interpreter": {
    "hash": "e48bd86671c665102a0c6a972f64dec55f72ec0b4a13e9063e0389fef656118c"
   }
  }
 },
 "nbformat": 4,
 "nbformat_minor": 2
}
