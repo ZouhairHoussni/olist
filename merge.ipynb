{
 "cells": [
  {
   "attachments": {},
   "cell_type": "markdown",
   "metadata": {},
   "source": [
    "## Initialisation :"
   ]
  },
  {
   "cell_type": "code",
   "execution_count": 396,
   "metadata": {},
   "outputs": [],
   "source": [
    "import pandas as pd\n",
    "\n",
    "# lecture des csv sous le format dataframe \n",
    "\n",
    "df_customer = pd.read_csv(\"csv/olist_customers_dataset.csv\")\n",
    "df_geo = pd.read_csv(\"csv/olist_geolocation_dataset.csv\")\n",
    "df_items = pd.read_csv(\"csv/olist_order_items_dataset.csv\")\n",
    "df_payments = pd.read_csv(\"csv/olist_order_payments_dataset.csv\")\n",
    "df_reviews = pd.read_csv(\"csv/olist_order_reviews_dataset.csv\")\n",
    "df_orders = pd.read_csv(\"csv/olist_orders_dataset.csv\")\n",
    "df_products = pd.read_csv(\"csv/olist_products_dataset.csv\")\n",
    "df_sellers = pd.read_csv(\"csv/olist_sellers_dataset.csv\")\n",
    "df_categ = pd.read_csv(\"csv/product_category_name_translation.csv\")"
   ]
  },
  {
   "cell_type": "code",
   "execution_count": 397,
   "metadata": {},
   "outputs": [],
   "source": [
    "# Mettre les dataframes dans un dictionnaire pour facilement les parcourir\n",
    "\n",
    "dict_df = { \"df_customer\" : df_customer,\n",
    "            \"df_geo\" : df_geo,\n",
    "            \"df_items\" : df_items , \n",
    "            \"df_payments\" : df_payments ,\n",
    "            \"df_reviews\" : df_reviews ,\n",
    "            \"df_orders\" : df_orders ,\n",
    "            \"df_products\" : df_products ,\n",
    "            \"df_sellers\" : df_sellers ,\n",
    "            \"df_categ\" : df_categ }\n",
    "\n",
    "# extraction des noms de colonnes de tous les dataframes et les stocker dans un dictionnaire\n",
    "\n",
    "dict_col = {}\n",
    "\n",
    "for key in dict_df:\n",
    "\n",
    "    dict_col[key] = list(dict_df[key].columns)"
   ]
  },
  {
   "attachments": {},
   "cell_type": "markdown",
   "metadata": {},
   "source": [
    "## Sélection des colonnes :"
   ]
  },
  {
   "attachments": {},
   "cell_type": "markdown",
   "metadata": {},
   "source": [
    "### Orders :"
   ]
  },
  {
   "cell_type": "code",
   "execution_count": 398,
   "metadata": {},
   "outputs": [
    {
     "data": {
      "text/plain": [
       "['order_id',\n",
       " 'customer_id',\n",
       " 'order_status',\n",
       " 'order_purchase_timestamp',\n",
       " 'order_approved_at',\n",
       " 'order_delivered_carrier_date',\n",
       " 'order_delivered_customer_date',\n",
       " 'order_estimated_delivery_date']"
      ]
     },
     "execution_count": 398,
     "metadata": {},
     "output_type": "execute_result"
    }
   ],
   "source": [
    "# Les colonnes avant suppression\n",
    "\n",
    "list(df_orders.columns)"
   ]
  },
  {
   "cell_type": "code",
   "execution_count": 399,
   "metadata": {},
   "outputs": [],
   "source": [
    "# suppression des 2 colonnes \"order_approved_at\"et \"order_delivered_carrier_date\"\n",
    "\n",
    "df_orders = df_orders.drop(axis=1,columns=[\"order_approved_at\",\"order_delivered_carrier_date\"])\n"
   ]
  },
  {
   "cell_type": "code",
   "execution_count": 400,
   "metadata": {},
   "outputs": [
    {
     "data": {
      "text/plain": [
       "['order_id',\n",
       " 'customer_id',\n",
       " 'order_status',\n",
       " 'order_purchase_timestamp',\n",
       " 'order_delivered_customer_date',\n",
       " 'order_estimated_delivery_date']"
      ]
     },
     "execution_count": 400,
     "metadata": {},
     "output_type": "execute_result"
    }
   ],
   "source": [
    "# Les colonnes après suppression\n",
    "\n",
    "list(df_orders.columns)"
   ]
  },
  {
   "attachments": {},
   "cell_type": "markdown",
   "metadata": {},
   "source": [
    "### Products :"
   ]
  },
  {
   "cell_type": "code",
   "execution_count": 401,
   "metadata": {},
   "outputs": [
    {
     "data": {
      "text/plain": [
       "['product_id',\n",
       " 'product_category_name',\n",
       " 'product_name_lenght',\n",
       " 'product_description_lenght',\n",
       " 'product_photos_qty',\n",
       " 'product_weight_g',\n",
       " 'product_length_cm',\n",
       " 'product_height_cm',\n",
       " 'product_width_cm']"
      ]
     },
     "execution_count": 401,
     "metadata": {},
     "output_type": "execute_result"
    }
   ],
   "source": [
    "# Les colonnes avant suppression\n",
    "\n",
    "list(df_products.columns)"
   ]
  },
  {
   "cell_type": "code",
   "execution_count": 402,
   "metadata": {},
   "outputs": [],
   "source": [
    "# suppression des 6 colonnes \"product_name_lenght\",\"product_description_lenght\",\"product_weight_g\",\"product_length_cm\",\"product_height_cm\",\"product_width_cm\"\n",
    "\n",
    "df_products = df_products.drop(axis=1,columns=[\"product_name_lenght\",\"product_description_lenght\",\"product_weight_g\",\"product_length_cm\",\"product_height_cm\",\"product_width_cm\"])"
   ]
  },
  {
   "cell_type": "code",
   "execution_count": 403,
   "metadata": {},
   "outputs": [
    {
     "data": {
      "text/plain": [
       "['product_id', 'product_category_name', 'product_photos_qty']"
      ]
     },
     "execution_count": 403,
     "metadata": {},
     "output_type": "execute_result"
    }
   ],
   "source": [
    "# Les colonnes après suppression\n",
    "\n",
    "list(df_products.columns)"
   ]
  },
  {
   "attachments": {},
   "cell_type": "markdown",
   "metadata": {},
   "source": [
    "### Items :"
   ]
  },
  {
   "cell_type": "code",
   "execution_count": 404,
   "metadata": {},
   "outputs": [
    {
     "data": {
      "text/plain": [
       "['order_id',\n",
       " 'order_item_id',\n",
       " 'product_id',\n",
       " 'seller_id',\n",
       " 'shipping_limit_date',\n",
       " 'price',\n",
       " 'freight_value']"
      ]
     },
     "execution_count": 404,
     "metadata": {},
     "output_type": "execute_result"
    }
   ],
   "source": [
    "# Les colonnes avant suppression\n",
    "\n",
    "list(df_items.columns)"
   ]
  },
  {
   "cell_type": "code",
   "execution_count": 405,
   "metadata": {},
   "outputs": [],
   "source": [
    "# suppression de la colonne \"shipping_limit_date\"\n",
    "\n",
    "df_items = df_items.drop(axis=1,columns=\"shipping_limit_date\")"
   ]
  },
  {
   "cell_type": "code",
   "execution_count": 406,
   "metadata": {},
   "outputs": [
    {
     "data": {
      "text/plain": [
       "['order_id',\n",
       " 'order_item_id',\n",
       " 'product_id',\n",
       " 'seller_id',\n",
       " 'price',\n",
       " 'freight_value']"
      ]
     },
     "execution_count": 406,
     "metadata": {},
     "output_type": "execute_result"
    }
   ],
   "source": [
    "# Les colonnes après suppression\n",
    "\n",
    "list(df_items.columns)"
   ]
  },
  {
   "attachments": {},
   "cell_type": "markdown",
   "metadata": {},
   "source": [
    "### Reviews :"
   ]
  },
  {
   "cell_type": "code",
   "execution_count": 407,
   "metadata": {},
   "outputs": [
    {
     "data": {
      "text/plain": [
       "['review_id',\n",
       " 'order_id',\n",
       " 'review_score',\n",
       " 'review_comment_title',\n",
       " 'review_comment_message',\n",
       " 'review_creation_date',\n",
       " 'review_answer_timestamp']"
      ]
     },
     "execution_count": 407,
     "metadata": {},
     "output_type": "execute_result"
    }
   ],
   "source": [
    "# Les colonnes avant suppression\n",
    "\n",
    "list(df_reviews.columns)"
   ]
  },
  {
   "cell_type": "code",
   "execution_count": 408,
   "metadata": {},
   "outputs": [],
   "source": [
    "# suppression de la colonne \"review_comment_title\",\"review_comment_message\" et \"review_creation_date\"\n",
    "\n",
    "df_reviews = df_reviews.drop(axis=1,columns=[\"review_comment_title\",\"review_comment_message\",\"review_creation_date\"])"
   ]
  },
  {
   "cell_type": "code",
   "execution_count": 409,
   "metadata": {},
   "outputs": [
    {
     "data": {
      "text/plain": [
       "['review_id', 'order_id', 'review_score', 'review_answer_timestamp']"
      ]
     },
     "execution_count": 409,
     "metadata": {},
     "output_type": "execute_result"
    }
   ],
   "source": [
    "# Les colonnes après suppression\n",
    "\n",
    "list(df_reviews.columns)"
   ]
  },
  {
   "attachments": {},
   "cell_type": "markdown",
   "metadata": {},
   "source": [
    "### Geo :"
   ]
  },
  {
   "cell_type": "code",
   "execution_count": 410,
   "metadata": {},
   "outputs": [
    {
     "data": {
      "text/plain": [
       "['geolocation_zip_code_prefix',\n",
       " 'geolocation_lat',\n",
       " 'geolocation_lng',\n",
       " 'geolocation_city',\n",
       " 'geolocation_state']"
      ]
     },
     "execution_count": 410,
     "metadata": {},
     "output_type": "execute_result"
    }
   ],
   "source": [
    "# Les colonnes avant suppression\n",
    "\n",
    "list(df_geo.columns)"
   ]
  },
  {
   "cell_type": "code",
   "execution_count": 411,
   "metadata": {},
   "outputs": [],
   "source": [
    "# suppression de la colonne \"review_comment_title\",\"review_comment_message\" et \"review_creation_date\"\n",
    "\n",
    "df_geo = df_geo.drop(axis=1,columns=[\"geolocation_lat\",\"geolocation_lng\"])"
   ]
  },
  {
   "cell_type": "code",
   "execution_count": 412,
   "metadata": {},
   "outputs": [
    {
     "data": {
      "text/plain": [
       "['geolocation_zip_code_prefix', 'geolocation_city', 'geolocation_state']"
      ]
     },
     "execution_count": 412,
     "metadata": {},
     "output_type": "execute_result"
    }
   ],
   "source": [
    "# Les colonnes après suppression\n",
    "\n",
    "list(df_geo.columns)"
   ]
  },
  {
   "attachments": {},
   "cell_type": "markdown",
   "metadata": {},
   "source": [
    "## Merge"
   ]
  },
  {
   "cell_type": "code",
   "execution_count": 413,
   "metadata": {},
   "outputs": [],
   "source": [
    "# merges on 'order_id'\n",
    "\n",
    "df = df_orders.merge(df_payments, how= 'left', on = 'order_id')\n",
    "\n",
    "df = df.merge(df_items, how= 'left', on = 'order_id')\n",
    "\n",
    "df = df.merge(df_reviews, how= 'left', on = 'order_id')\n",
    "\n",
    "# merges on 'customer_id'\n",
    "\n",
    "df = df.merge(df_customer, how= 'left', on = 'customer_id')\n",
    "\n",
    "# merges on 'seller_id'\n",
    "\n",
    "df = df.merge(df_sellers, how= 'left', on = 'seller_id')\n",
    "\n",
    "# merges on 'product_id'\n",
    "\n",
    "df = df.merge(df_products, how= 'left', on = 'product_id')"
   ]
  },
  {
   "attachments": {},
   "cell_type": "markdown",
   "metadata": {},
   "source": [
    "## Analyse :"
   ]
  },
  {
   "cell_type": "code",
   "execution_count": 414,
   "metadata": {},
   "outputs": [],
   "source": [
    "# from pandas_profiling import ProfileReport\n",
    "\n",
    "\n",
    "# profile = ProfileReport(df, title=\"Pandas Profiling Report\")\n",
    "# profile.to_widgets()\n",
    "# profile.to_notebook_iframe()"
   ]
  },
  {
   "attachments": {},
   "cell_type": "markdown",
   "metadata": {},
   "source": [
    "## Nettoyage :"
   ]
  },
  {
   "attachments": {},
   "cell_type": "markdown",
   "metadata": {},
   "source": [
    "### Traduction et regroupement des catégories :"
   ]
  },
  {
   "cell_type": "code",
   "execution_count": 415,
   "metadata": {},
   "outputs": [],
   "source": [
    "# création d'un dictionnaire pour une réduction des catégories\n",
    "\n",
    "categories = {\n",
    "\n",
    " 'health_beauty': 'Health_Beauty',\n",
    " 'perfumery': 'Health_Beauty',\n",
    " 'computers': 'Technology',\n",
    " 'pc_gamer' : 'Technology',\n",
    " 'computers_accessories': 'Technology',\n",
    " 'electronics': 'Technology',\n",
    " 'tablets_printing_image': 'Technology',\n",
    " 'telephony': 'Technology',\n",
    " 'fixed_telephony': 'Technology',\n",
    " 'auto': 'Automotive',\n",
    " 'small_appliances_home_oven_and_coffee': 'Home',\n",
    " 'home_comfort_2': 'Home',\n",
    " 'home_appliances_2': 'Home',\n",
    " 'home_confort': 'Home',\n",
    " 'air_conditioning': 'Home',\n",
    " 'small_appliances': 'Home',\n",
    " 'bed_bath_table': 'Home',\n",
    " 'furniture_decor': 'Home',\n",
    " 'housewares': 'Home',\n",
    " 'home_appliances': 'Home',\n",
    " 'home_comfort': 'Home',\n",
    " 'kitchen_dining_laundry_garden_furniture': 'Home',\n",
    " 'portable_kitchen_food_preparers' : 'Home',\n",
    " 'fashio_female_clothing': 'Fashion_Accessories',\n",
    " 'luggage_accessories': 'Fashion_Accessories',\n",
    " 'fashion_bags_accessories': 'Fashion_Accessories',\n",
    " 'fashion_shoes': 'Fashion_Accessories',\n",
    " 'watches_gifts': 'Fashion_Accessories',\n",
    " 'fashion_male_clothing': 'Fashion_Accessories',\n",
    " 'fashion_female_clothing': 'Fashion_Accessories',\n",
    " 'fashion_childrens_clothes': 'Fashion_Accessories',\n",
    " 'fashion_underwear_beach': 'Fashion_Accessories',\n",
    " 'fashion_sport': 'Fashion_Accessories',\n",
    " 'sports_leisure': 'Sports_Leisure',\n",
    " 'food_drink': 'Food_Beverage',\n",
    " 'la_cuisine': 'Food_Beverage',\n",
    " 'food': 'Food_Beverage',\n",
    " 'drinks': 'Food_Beverage',\n",
    " 'baby': 'Baby',\n",
    " 'diapers_and_hygiene': 'Baby',\n",
    " 'stationery': 'Office_Supplies',\n",
    " 'office_furniture': 'Office_Supplies',\n",
    " 'flowers': 'Gardening',\n",
    " 'costruction_tools_garden': 'Gardening',\n",
    " 'books_general_interest': 'Books',\n",
    " 'books_technical': 'Books',\n",
    " 'books_imported': 'Books',\n",
    " 'cds_dvds_musicals': 'Books',\n",
    " 'dvds_blu_ray': 'Books',\n",
    " 'art': 'Arts_Music',\n",
    " 'audio': 'Arts_Music',\n",
    " 'music': 'Arts_Music',\n",
    " 'arts_and_craftmanship': 'Arts_Music',\n",
    " 'cine_photo': 'Arts_Music',\n",
    " 'musical_instruments': 'Arts_Music',\n",
    " 'toys': 'Toys_Games',\n",
    " 'consoles_games': 'Toys_Games',\n",
    " 'cool_stuff': 'Toys_Games',\n",
    " 'party_supplies': 'Party_Supplies',\n",
    " 'christmas_supplies': 'Party_Supplies',\n",
    " 'home_construction': 'Construction_Tools',\n",
    " 'costruction_tools_tools': 'Construction_Tools',\n",
    " 'construction_tools_construction': 'Construction_Tools',\n",
    " 'garden_tools': 'Construction_Tools',\n",
    " 'construction_tools_lights': 'Construction_Tools',\n",
    " 'construction_tools_safety': 'Construction_Tools',\n",
    " 'pet_shop': 'Pet_Supplies',\n",
    " 'industry_commerce_and_business': 'Agro_Industry_Commerce',\n",
    " 'agro_industry_and_commerce': 'Agro_Industry_Commerce',\n",
    " 'furniture_mattress_and_upholstery': 'Furniture',\n",
    " 'furniture_living_room': 'Furniture',\n",
    " 'furniture_bedroom': 'Furniture',\n",
    " 'market_place': 'Market_place',\n",
    " 'signaling_and_security': 'Signaling_Security',\n",
    " 'security_and_services': 'Signaling_Security'\n",
    " \n",
    " }\n"
   ]
  },
  {
   "cell_type": "code",
   "execution_count": 416,
   "metadata": {},
   "outputs": [
    {
     "data": {
      "text/plain": [
       "{'beleza_saude': 'health_beauty',\n",
       " 'informatica_acessorios': 'computers_accessories',\n",
       " 'automotivo': 'auto',\n",
       " 'cama_mesa_banho': 'bed_bath_table',\n",
       " 'moveis_decoracao': 'furniture_decor',\n",
       " 'esporte_lazer': 'sports_leisure',\n",
       " 'perfumaria': 'perfumery',\n",
       " 'utilidades_domesticas': 'housewares',\n",
       " 'telefonia': 'telephony',\n",
       " 'relogios_presentes': 'watches_gifts',\n",
       " 'alimentos_bebidas': 'food_drink',\n",
       " 'bebes': 'baby',\n",
       " 'papelaria': 'stationery',\n",
       " 'tablets_impressao_imagem': 'tablets_printing_image',\n",
       " 'brinquedos': 'toys',\n",
       " 'telefonia_fixa': 'fixed_telephony',\n",
       " 'ferramentas_jardim': 'garden_tools',\n",
       " 'fashion_bolsas_e_acessorios': 'fashion_bags_accessories',\n",
       " 'eletroportateis': 'small_appliances',\n",
       " 'consoles_games': 'consoles_games',\n",
       " 'audio': 'audio',\n",
       " 'fashion_calcados': 'fashion_shoes',\n",
       " 'cool_stuff': 'cool_stuff',\n",
       " 'malas_acessorios': 'luggage_accessories',\n",
       " 'climatizacao': 'air_conditioning',\n",
       " 'construcao_ferramentas_construcao': 'construction_tools_construction',\n",
       " 'moveis_cozinha_area_de_servico_jantar_e_jardim': 'kitchen_dining_laundry_garden_furniture',\n",
       " 'construcao_ferramentas_jardim': 'costruction_tools_garden',\n",
       " 'fashion_roupa_masculina': 'fashion_male_clothing',\n",
       " 'pet_shop': 'pet_shop',\n",
       " 'moveis_escritorio': 'office_furniture',\n",
       " 'market_place': 'market_place',\n",
       " 'eletronicos': 'electronics',\n",
       " 'eletrodomesticos': 'home_appliances',\n",
       " 'artigos_de_festas': 'party_supplies',\n",
       " 'casa_conforto': 'home_confort',\n",
       " 'construcao_ferramentas_ferramentas': 'costruction_tools_tools',\n",
       " 'agro_industria_e_comercio': 'agro_industry_and_commerce',\n",
       " 'moveis_colchao_e_estofado': 'furniture_mattress_and_upholstery',\n",
       " 'livros_tecnicos': 'books_technical',\n",
       " 'casa_construcao': 'home_construction',\n",
       " 'instrumentos_musicais': 'musical_instruments',\n",
       " 'moveis_sala': 'furniture_living_room',\n",
       " 'construcao_ferramentas_iluminacao': 'construction_tools_lights',\n",
       " 'industria_comercio_e_negocios': 'industry_commerce_and_business',\n",
       " 'alimentos': 'food',\n",
       " 'artes': 'art',\n",
       " 'moveis_quarto': 'furniture_bedroom',\n",
       " 'livros_interesse_geral': 'books_general_interest',\n",
       " 'construcao_ferramentas_seguranca': 'construction_tools_safety',\n",
       " 'fashion_underwear_e_moda_praia': 'fashion_underwear_beach',\n",
       " 'fashion_esporte': 'fashion_sport',\n",
       " 'sinalizacao_e_seguranca': 'signaling_and_security',\n",
       " 'pcs': 'computers',\n",
       " 'artigos_de_natal': 'christmas_supplies',\n",
       " 'fashion_roupa_feminina': 'fashio_female_clothing',\n",
       " 'eletrodomesticos_2': 'home_appliances_2',\n",
       " 'livros_importados': 'books_imported',\n",
       " 'bebidas': 'drinks',\n",
       " 'cine_foto': 'cine_photo',\n",
       " 'la_cuisine': 'la_cuisine',\n",
       " 'musica': 'music',\n",
       " 'casa_conforto_2': 'home_comfort_2',\n",
       " 'portateis_casa_forno_e_cafe': 'small_appliances_home_oven_and_coffee',\n",
       " 'cds_dvds_musicais': 'cds_dvds_musicals',\n",
       " 'dvds_blu_ray': 'dvds_blu_ray',\n",
       " 'flores': 'flowers',\n",
       " 'artes_e_artesanato': 'arts_and_craftmanship',\n",
       " 'fraldas_higiene': 'diapers_and_hygiene',\n",
       " 'fashion_roupa_infanto_juvenil': 'fashion_childrens_clothes',\n",
       " 'seguros_e_servicos': 'security_and_services',\n",
       " 'portateis_cozinha_e_preparadores_de_alimentos': 'portable_kitchen_food_preparers',\n",
       " 'pc_gamer': 'pc_gamer'}"
      ]
     },
     "execution_count": 416,
     "metadata": {},
     "output_type": "execute_result"
    }
   ],
   "source": [
    "# création d'un dictionnaire pour la traduction des catégories en anglais\n",
    "\n",
    "translator = df_categ.set_index('product_category_name')['product_category_name_english'].to_dict()\n",
    "\n",
    "# Ajout des deux catégories manquantes à notre dictionnaire\n",
    "\n",
    "translator[\"portateis_cozinha_e_preparadores_de_alimentos\"] = \"portable_kitchen_food_preparers\"\n",
    "translator[\"pc_gamer\"] =\"pc_gamer\"\n",
    "\n",
    "\n",
    "translator\n"
   ]
  },
  {
   "cell_type": "code",
   "execution_count": 417,
   "metadata": {},
   "outputs": [
    {
     "data": {
      "text/plain": [
       "0                    housewares\n",
       "1                    housewares\n",
       "2                    housewares\n",
       "3                     perfumery\n",
       "4                          auto\n",
       "                  ...          \n",
       "119138                     baby\n",
       "119139        home_appliances_2\n",
       "119140    computers_accessories\n",
       "119141    computers_accessories\n",
       "119142            health_beauty\n",
       "Name: product_category_name, Length: 119143, dtype: object"
      ]
     },
     "execution_count": 417,
     "metadata": {},
     "output_type": "execute_result"
    }
   ],
   "source": [
    "# Traduire la colonne des catégories\n",
    "\n",
    "df[\"product_category_name\"] = df[\"product_category_name\"].map(translator)\n",
    "\n",
    "df[\"product_category_name\"]"
   ]
  },
  {
   "cell_type": "code",
   "execution_count": 418,
   "metadata": {},
   "outputs": [
    {
     "data": {
      "text/plain": [
       "0                  Home\n",
       "1                  Home\n",
       "2                  Home\n",
       "3         Health_Beauty\n",
       "4            Automotive\n",
       "              ...      \n",
       "119138             Baby\n",
       "119139             Home\n",
       "119140       Technology\n",
       "119141       Technology\n",
       "119142    Health_Beauty\n",
       "Name: product_category_name, Length: 119143, dtype: object"
      ]
     },
     "execution_count": 418,
     "metadata": {},
     "output_type": "execute_result"
    }
   ],
   "source": [
    "# réduire le nombre des catégories\n",
    "\n",
    "df[\"product_category_name\"] = df[\"product_category_name\"].map(categories)\n",
    "\n",
    "df[\"product_category_name\"]"
   ]
  },
  {
   "cell_type": "code",
   "execution_count": 419,
   "metadata": {},
   "outputs": [],
   "source": [
    "# transformation colonnes dates\n",
    "\n",
    "time_col = ['order_purchase_timestamp','order_delivered_customer_date','order_estimated_delivery_date','review_answer_timestamp']\n",
    "ref_date = pd.to_datetime('2018-12-31')\n",
    "\n",
    "for col in time_col:\n",
    "    df[col] = pd.to_datetime(df[col])\n",
    "\n",
    "    df[col] = (ref_date -  df[col]).dt.days\n",
    "\n"
   ]
  },
  {
   "cell_type": "code",
   "execution_count": 420,
   "metadata": {},
   "outputs": [
    {
     "data": {
      "text/html": [
       "<div>\n",
       "<style scoped>\n",
       "    .dataframe tbody tr th:only-of-type {\n",
       "        vertical-align: middle;\n",
       "    }\n",
       "\n",
       "    .dataframe tbody tr th {\n",
       "        vertical-align: top;\n",
       "    }\n",
       "\n",
       "    .dataframe thead th {\n",
       "        text-align: right;\n",
       "    }\n",
       "</style>\n",
       "<table border=\"1\" class=\"dataframe\">\n",
       "  <thead>\n",
       "    <tr style=\"text-align: right;\">\n",
       "      <th></th>\n",
       "      <th>order_purchase_timestamp</th>\n",
       "      <th>order_delivered_customer_date</th>\n",
       "      <th>order_estimated_delivery_date</th>\n",
       "      <th>review_answer_timestamp</th>\n",
       "    </tr>\n",
       "  </thead>\n",
       "  <tbody>\n",
       "    <tr>\n",
       "      <th>0</th>\n",
       "      <td>454</td>\n",
       "      <td>446.0</td>\n",
       "      <td>439</td>\n",
       "      <td>444.0</td>\n",
       "    </tr>\n",
       "    <tr>\n",
       "      <th>1</th>\n",
       "      <td>454</td>\n",
       "      <td>446.0</td>\n",
       "      <td>439</td>\n",
       "      <td>444.0</td>\n",
       "    </tr>\n",
       "    <tr>\n",
       "      <th>2</th>\n",
       "      <td>454</td>\n",
       "      <td>446.0</td>\n",
       "      <td>439</td>\n",
       "      <td>444.0</td>\n",
       "    </tr>\n",
       "    <tr>\n",
       "      <th>3</th>\n",
       "      <td>159</td>\n",
       "      <td>145.0</td>\n",
       "      <td>140</td>\n",
       "      <td>144.0</td>\n",
       "    </tr>\n",
       "    <tr>\n",
       "      <th>4</th>\n",
       "      <td>144</td>\n",
       "      <td>135.0</td>\n",
       "      <td>118</td>\n",
       "      <td>130.0</td>\n",
       "    </tr>\n",
       "    <tr>\n",
       "      <th>...</th>\n",
       "      <td>...</td>\n",
       "      <td>...</td>\n",
       "      <td>...</td>\n",
       "      <td>...</td>\n",
       "    </tr>\n",
       "    <tr>\n",
       "      <th>119138</th>\n",
       "      <td>327</td>\n",
       "      <td>305.0</td>\n",
       "      <td>304</td>\n",
       "      <td>303.0</td>\n",
       "    </tr>\n",
       "    <tr>\n",
       "      <th>119139</th>\n",
       "      <td>490</td>\n",
       "      <td>465.0</td>\n",
       "      <td>460</td>\n",
       "      <td>464.0</td>\n",
       "    </tr>\n",
       "    <tr>\n",
       "      <th>119140</th>\n",
       "      <td>356</td>\n",
       "      <td>339.0</td>\n",
       "      <td>319</td>\n",
       "      <td>337.0</td>\n",
       "    </tr>\n",
       "    <tr>\n",
       "      <th>119141</th>\n",
       "      <td>356</td>\n",
       "      <td>339.0</td>\n",
       "      <td>319</td>\n",
       "      <td>337.0</td>\n",
       "    </tr>\n",
       "    <tr>\n",
       "      <th>119142</th>\n",
       "      <td>297</td>\n",
       "      <td>289.0</td>\n",
       "      <td>272</td>\n",
       "      <td>288.0</td>\n",
       "    </tr>\n",
       "  </tbody>\n",
       "</table>\n",
       "<p>119143 rows × 4 columns</p>\n",
       "</div>"
      ],
      "text/plain": [
       "        order_purchase_timestamp  order_delivered_customer_date  \\\n",
       "0                            454                          446.0   \n",
       "1                            454                          446.0   \n",
       "2                            454                          446.0   \n",
       "3                            159                          145.0   \n",
       "4                            144                          135.0   \n",
       "...                          ...                            ...   \n",
       "119138                       327                          305.0   \n",
       "119139                       490                          465.0   \n",
       "119140                       356                          339.0   \n",
       "119141                       356                          339.0   \n",
       "119142                       297                          289.0   \n",
       "\n",
       "        order_estimated_delivery_date  review_answer_timestamp  \n",
       "0                                 439                    444.0  \n",
       "1                                 439                    444.0  \n",
       "2                                 439                    444.0  \n",
       "3                                 140                    144.0  \n",
       "4                                 118                    130.0  \n",
       "...                               ...                      ...  \n",
       "119138                            304                    303.0  \n",
       "119139                            460                    464.0  \n",
       "119140                            319                    337.0  \n",
       "119141                            319                    337.0  \n",
       "119142                            272                    288.0  \n",
       "\n",
       "[119143 rows x 4 columns]"
      ]
     },
     "execution_count": 420,
     "metadata": {},
     "output_type": "execute_result"
    }
   ],
   "source": [
    "df[time_col]"
   ]
  },
  {
   "cell_type": "code",
   "execution_count": 421,
   "metadata": {},
   "outputs": [],
   "source": [
    "# transformation des colonnes zip\n",
    "\n",
    "df['seller_zip_code_prefix'] = df['seller_zip_code_prefix'].astype(str).str[:-2]\n",
    "df['customer_zip_code_prefix'] = df['customer_zip_code_prefix'].astype(str)\n"
   ]
  },
  {
   "cell_type": "code",
   "execution_count": 422,
   "metadata": {},
   "outputs": [],
   "source": [
    "# suppression des lignes où les statut des ordre est indisponible\n",
    "\n",
    "df = df.drop(df[df[\"order_status\"] == \"unavailable\"].index)\n",
    "df = df.dropna()\n",
    "\n"
   ]
  },
  {
   "cell_type": "code",
   "execution_count": 423,
   "metadata": {},
   "outputs": [
    {
     "data": {
      "text/plain": [
       "1.0     57190\n",
       "2.0     22410\n",
       "3.0     12619\n",
       "4.0      8594\n",
       "5.0      5462\n",
       "6.0      3836\n",
       "7.0      1522\n",
       "8.0       757\n",
       "10.0      346\n",
       "9.0       300\n",
       "11.0       73\n",
       "12.0       59\n",
       "13.0       30\n",
       "15.0       11\n",
       "17.0       11\n",
       "14.0        6\n",
       "18.0        4\n",
       "20.0        1\n",
       "19.0        1\n",
       "Name: product_photos_qty, dtype: int64"
      ]
     },
     "execution_count": 423,
     "metadata": {},
     "output_type": "execute_result"
    }
   ],
   "source": [
    "# inspection des valeurs de la colonne des photos des produits\n",
    "\n",
    "df['product_photos_qty'].value_counts()"
   ]
  },
  {
   "cell_type": "code",
   "execution_count": 424,
   "metadata": {},
   "outputs": [],
   "source": [
    "df['product_photos_qty'] = df['product_photos_qty'].where(~(df['product_photos_qty'].isnull()), 0)\n",
    "df['product_photos_qty'] = df['product_photos_qty'].where(~(df['product_photos_qty'] > 7), 7)\n",
    "df['payment_installments'] = df['payment_installments'].where(~(df['payment_installments'].isnull()), 1)\n",
    "df['payment_sequential'] = df['payment_sequential'].where(~(df['payment_sequential'].isnull()), 1)\n"
   ]
  },
  {
   "cell_type": "code",
   "execution_count": 425,
   "metadata": {},
   "outputs": [
    {
     "data": {
      "text/plain": [
       "order_id                         0\n",
       "customer_id                      0\n",
       "order_status                     0\n",
       "order_purchase_timestamp         0\n",
       "order_delivered_customer_date    0\n",
       "order_estimated_delivery_date    0\n",
       "payment_sequential               0\n",
       "payment_type                     0\n",
       "payment_installments             0\n",
       "payment_value                    0\n",
       "order_item_id                    0\n",
       "product_id                       0\n",
       "seller_id                        0\n",
       "price                            0\n",
       "freight_value                    0\n",
       "review_id                        0\n",
       "review_score                     0\n",
       "review_answer_timestamp          0\n",
       "customer_unique_id               0\n",
       "customer_zip_code_prefix         0\n",
       "customer_city                    0\n",
       "customer_state                   0\n",
       "seller_zip_code_prefix           0\n",
       "seller_city                      0\n",
       "seller_state                     0\n",
       "product_category_name            0\n",
       "product_photos_qty               0\n",
       "dtype: int64"
      ]
     },
     "execution_count": 425,
     "metadata": {},
     "output_type": "execute_result"
    }
   ],
   "source": [
    "df.isna().sum()"
   ]
  },
  {
   "cell_type": "code",
   "execution_count": 426,
   "metadata": {},
   "outputs": [],
   "source": [
    "int_col = [\"payment_sequential\",\"payment_installments\",\"order_item_id\",\"review_score\",\"review_answer_timestamp\",\"product_photos_qty\",\"order_delivered_customer_date\"]\n",
    "object_col = [\"order_item_id\",\"customer_zip_code_prefix\"]\n",
    "\n",
    "for col in int_col:\n",
    "    \n",
    "    df[col] = pd.to_numeric(df[col], errors='coerce',downcast='integer')\n"
   ]
  },
  {
   "cell_type": "code",
   "execution_count": 427,
   "metadata": {},
   "outputs": [],
   "source": [
    "df.drop(\"customer_id\",axis=1, inplace=True)\n",
    "df.drop(\"order_status\",axis=1, inplace=True)\n"
   ]
  },
  {
   "cell_type": "code",
   "execution_count": 428,
   "metadata": {},
   "outputs": [
    {
     "name": "stdout",
     "output_type": "stream",
     "text": [
      "<class 'pandas.core.frame.DataFrame'>\n",
      "Int64Index: 113232 entries, 0 to 119142\n",
      "Data columns (total 25 columns):\n",
      " #   Column                         Non-Null Count   Dtype  \n",
      "---  ------                         --------------   -----  \n",
      " 0   order_id                       113232 non-null  object \n",
      " 1   order_purchase_timestamp       113232 non-null  int64  \n",
      " 2   order_delivered_customer_date  113232 non-null  int16  \n",
      " 3   order_estimated_delivery_date  113232 non-null  int64  \n",
      " 4   payment_sequential             113232 non-null  int8   \n",
      " 5   payment_type                   113232 non-null  object \n",
      " 6   payment_installments           113232 non-null  int8   \n",
      " 7   payment_value                  113232 non-null  float64\n",
      " 8   order_item_id                  113232 non-null  int8   \n",
      " 9   product_id                     113232 non-null  object \n",
      " 10  seller_id                      113232 non-null  object \n",
      " 11  price                          113232 non-null  float64\n",
      " 12  freight_value                  113232 non-null  float64\n",
      " 13  review_id                      113232 non-null  object \n",
      " 14  review_score                   113232 non-null  int8   \n",
      " 15  review_answer_timestamp        113232 non-null  int16  \n",
      " 16  customer_unique_id             113232 non-null  object \n",
      " 17  customer_zip_code_prefix       113232 non-null  object \n",
      " 18  customer_city                  113232 non-null  object \n",
      " 19  customer_state                 113232 non-null  object \n",
      " 20  seller_zip_code_prefix         113232 non-null  object \n",
      " 21  seller_city                    113232 non-null  object \n",
      " 22  seller_state                   113232 non-null  object \n",
      " 23  product_category_name          113232 non-null  object \n",
      " 24  product_photos_qty             113232 non-null  int8   \n",
      "dtypes: float64(3), int16(2), int64(2), int8(5), object(13)\n",
      "memory usage: 17.4+ MB\n"
     ]
    }
   ],
   "source": [
    "df.info()"
   ]
  },
  {
   "cell_type": "code",
   "execution_count": 429,
   "metadata": {},
   "outputs": [
    {
     "data": {
      "text/html": [
       "<div>\n",
       "<style scoped>\n",
       "    .dataframe tbody tr th:only-of-type {\n",
       "        vertical-align: middle;\n",
       "    }\n",
       "\n",
       "    .dataframe tbody tr th {\n",
       "        vertical-align: top;\n",
       "    }\n",
       "\n",
       "    .dataframe thead th {\n",
       "        text-align: right;\n",
       "    }\n",
       "</style>\n",
       "<table border=\"1\" class=\"dataframe\">\n",
       "  <thead>\n",
       "    <tr style=\"text-align: right;\">\n",
       "      <th></th>\n",
       "      <th>order_id</th>\n",
       "      <th>order_purchase_timestamp</th>\n",
       "      <th>order_delivered_customer_date</th>\n",
       "      <th>order_estimated_delivery_date</th>\n",
       "      <th>payment_sequential</th>\n",
       "      <th>payment_type</th>\n",
       "      <th>payment_installments</th>\n",
       "      <th>payment_value</th>\n",
       "      <th>order_item_id</th>\n",
       "      <th>product_id</th>\n",
       "      <th>...</th>\n",
       "      <th>review_answer_timestamp</th>\n",
       "      <th>customer_unique_id</th>\n",
       "      <th>customer_zip_code_prefix</th>\n",
       "      <th>customer_city</th>\n",
       "      <th>customer_state</th>\n",
       "      <th>seller_zip_code_prefix</th>\n",
       "      <th>seller_city</th>\n",
       "      <th>seller_state</th>\n",
       "      <th>product_category_name</th>\n",
       "      <th>product_photos_qty</th>\n",
       "    </tr>\n",
       "  </thead>\n",
       "  <tbody>\n",
       "    <tr>\n",
       "      <th>0</th>\n",
       "      <td>e481f51cbdc54678b7cc49136f2d6af7</td>\n",
       "      <td>454</td>\n",
       "      <td>446</td>\n",
       "      <td>439</td>\n",
       "      <td>1</td>\n",
       "      <td>credit_card</td>\n",
       "      <td>1</td>\n",
       "      <td>18.12</td>\n",
       "      <td>1</td>\n",
       "      <td>87285b34884572647811a353c7ac498a</td>\n",
       "      <td>...</td>\n",
       "      <td>444</td>\n",
       "      <td>7c396fd4830fd04220f754e42b4e5bff</td>\n",
       "      <td>3149</td>\n",
       "      <td>sao paulo</td>\n",
       "      <td>SP</td>\n",
       "      <td>9350</td>\n",
       "      <td>maua</td>\n",
       "      <td>SP</td>\n",
       "      <td>Home</td>\n",
       "      <td>4</td>\n",
       "    </tr>\n",
       "    <tr>\n",
       "      <th>1</th>\n",
       "      <td>e481f51cbdc54678b7cc49136f2d6af7</td>\n",
       "      <td>454</td>\n",
       "      <td>446</td>\n",
       "      <td>439</td>\n",
       "      <td>3</td>\n",
       "      <td>voucher</td>\n",
       "      <td>1</td>\n",
       "      <td>2.00</td>\n",
       "      <td>1</td>\n",
       "      <td>87285b34884572647811a353c7ac498a</td>\n",
       "      <td>...</td>\n",
       "      <td>444</td>\n",
       "      <td>7c396fd4830fd04220f754e42b4e5bff</td>\n",
       "      <td>3149</td>\n",
       "      <td>sao paulo</td>\n",
       "      <td>SP</td>\n",
       "      <td>9350</td>\n",
       "      <td>maua</td>\n",
       "      <td>SP</td>\n",
       "      <td>Home</td>\n",
       "      <td>4</td>\n",
       "    </tr>\n",
       "    <tr>\n",
       "      <th>2</th>\n",
       "      <td>e481f51cbdc54678b7cc49136f2d6af7</td>\n",
       "      <td>454</td>\n",
       "      <td>446</td>\n",
       "      <td>439</td>\n",
       "      <td>2</td>\n",
       "      <td>voucher</td>\n",
       "      <td>1</td>\n",
       "      <td>18.59</td>\n",
       "      <td>1</td>\n",
       "      <td>87285b34884572647811a353c7ac498a</td>\n",
       "      <td>...</td>\n",
       "      <td>444</td>\n",
       "      <td>7c396fd4830fd04220f754e42b4e5bff</td>\n",
       "      <td>3149</td>\n",
       "      <td>sao paulo</td>\n",
       "      <td>SP</td>\n",
       "      <td>9350</td>\n",
       "      <td>maua</td>\n",
       "      <td>SP</td>\n",
       "      <td>Home</td>\n",
       "      <td>4</td>\n",
       "    </tr>\n",
       "    <tr>\n",
       "      <th>3</th>\n",
       "      <td>53cdb2fc8bc7dce0b6741e2150273451</td>\n",
       "      <td>159</td>\n",
       "      <td>145</td>\n",
       "      <td>140</td>\n",
       "      <td>1</td>\n",
       "      <td>boleto</td>\n",
       "      <td>1</td>\n",
       "      <td>141.46</td>\n",
       "      <td>1</td>\n",
       "      <td>595fac2a385ac33a80bd5114aec74eb8</td>\n",
       "      <td>...</td>\n",
       "      <td>144</td>\n",
       "      <td>af07308b275d755c9edb36a90c618231</td>\n",
       "      <td>47813</td>\n",
       "      <td>barreiras</td>\n",
       "      <td>BA</td>\n",
       "      <td>31570</td>\n",
       "      <td>belo horizonte</td>\n",
       "      <td>SP</td>\n",
       "      <td>Health_Beauty</td>\n",
       "      <td>1</td>\n",
       "    </tr>\n",
       "    <tr>\n",
       "      <th>4</th>\n",
       "      <td>47770eb9100c2d0c44946d9cf07ec65d</td>\n",
       "      <td>144</td>\n",
       "      <td>135</td>\n",
       "      <td>118</td>\n",
       "      <td>1</td>\n",
       "      <td>credit_card</td>\n",
       "      <td>3</td>\n",
       "      <td>179.12</td>\n",
       "      <td>1</td>\n",
       "      <td>aa4383b373c6aca5d8797843e5594415</td>\n",
       "      <td>...</td>\n",
       "      <td>130</td>\n",
       "      <td>3a653a41f6f9fc3d2a113cf8398680e8</td>\n",
       "      <td>75265</td>\n",
       "      <td>vianopolis</td>\n",
       "      <td>GO</td>\n",
       "      <td>14840</td>\n",
       "      <td>guariba</td>\n",
       "      <td>SP</td>\n",
       "      <td>Automotive</td>\n",
       "      <td>1</td>\n",
       "    </tr>\n",
       "    <tr>\n",
       "      <th>...</th>\n",
       "      <td>...</td>\n",
       "      <td>...</td>\n",
       "      <td>...</td>\n",
       "      <td>...</td>\n",
       "      <td>...</td>\n",
       "      <td>...</td>\n",
       "      <td>...</td>\n",
       "      <td>...</td>\n",
       "      <td>...</td>\n",
       "      <td>...</td>\n",
       "      <td>...</td>\n",
       "      <td>...</td>\n",
       "      <td>...</td>\n",
       "      <td>...</td>\n",
       "      <td>...</td>\n",
       "      <td>...</td>\n",
       "      <td>...</td>\n",
       "      <td>...</td>\n",
       "      <td>...</td>\n",
       "      <td>...</td>\n",
       "      <td>...</td>\n",
       "    </tr>\n",
       "    <tr>\n",
       "      <th>119138</th>\n",
       "      <td>63943bddc261676b46f01ca7ac2f7bd8</td>\n",
       "      <td>327</td>\n",
       "      <td>305</td>\n",
       "      <td>304</td>\n",
       "      <td>1</td>\n",
       "      <td>credit_card</td>\n",
       "      <td>3</td>\n",
       "      <td>195.00</td>\n",
       "      <td>1</td>\n",
       "      <td>f1d4ce8c6dd66c47bbaa8c6781c2a923</td>\n",
       "      <td>...</td>\n",
       "      <td>303</td>\n",
       "      <td>da62f9e57a76d978d02ab5362c509660</td>\n",
       "      <td>11722</td>\n",
       "      <td>praia grande</td>\n",
       "      <td>SP</td>\n",
       "      <td>17602</td>\n",
       "      <td>tupa</td>\n",
       "      <td>SP</td>\n",
       "      <td>Baby</td>\n",
       "      <td>4</td>\n",
       "    </tr>\n",
       "    <tr>\n",
       "      <th>119139</th>\n",
       "      <td>83c1379a015df1e13d02aae0204711ab</td>\n",
       "      <td>490</td>\n",
       "      <td>465</td>\n",
       "      <td>460</td>\n",
       "      <td>1</td>\n",
       "      <td>credit_card</td>\n",
       "      <td>5</td>\n",
       "      <td>271.01</td>\n",
       "      <td>1</td>\n",
       "      <td>b80910977a37536adeddd63663f916ad</td>\n",
       "      <td>...</td>\n",
       "      <td>464</td>\n",
       "      <td>737520a9aad80b3fbbdad19b66b37b30</td>\n",
       "      <td>45920</td>\n",
       "      <td>nova vicosa</td>\n",
       "      <td>BA</td>\n",
       "      <td>8290</td>\n",
       "      <td>sao paulo</td>\n",
       "      <td>SP</td>\n",
       "      <td>Home</td>\n",
       "      <td>2</td>\n",
       "    </tr>\n",
       "    <tr>\n",
       "      <th>119140</th>\n",
       "      <td>11c177c8e97725db2631073c19f07b62</td>\n",
       "      <td>356</td>\n",
       "      <td>339</td>\n",
       "      <td>319</td>\n",
       "      <td>1</td>\n",
       "      <td>credit_card</td>\n",
       "      <td>4</td>\n",
       "      <td>441.16</td>\n",
       "      <td>1</td>\n",
       "      <td>d1c427060a0f73f6b889a5c7c61f2ac4</td>\n",
       "      <td>...</td>\n",
       "      <td>337</td>\n",
       "      <td>5097a5312c8b157bb7be58ae360ef43c</td>\n",
       "      <td>28685</td>\n",
       "      <td>japuiba</td>\n",
       "      <td>RJ</td>\n",
       "      <td>37175</td>\n",
       "      <td>ilicinea</td>\n",
       "      <td>MG</td>\n",
       "      <td>Technology</td>\n",
       "      <td>1</td>\n",
       "    </tr>\n",
       "    <tr>\n",
       "      <th>119141</th>\n",
       "      <td>11c177c8e97725db2631073c19f07b62</td>\n",
       "      <td>356</td>\n",
       "      <td>339</td>\n",
       "      <td>319</td>\n",
       "      <td>1</td>\n",
       "      <td>credit_card</td>\n",
       "      <td>4</td>\n",
       "      <td>441.16</td>\n",
       "      <td>2</td>\n",
       "      <td>d1c427060a0f73f6b889a5c7c61f2ac4</td>\n",
       "      <td>...</td>\n",
       "      <td>337</td>\n",
       "      <td>5097a5312c8b157bb7be58ae360ef43c</td>\n",
       "      <td>28685</td>\n",
       "      <td>japuiba</td>\n",
       "      <td>RJ</td>\n",
       "      <td>37175</td>\n",
       "      <td>ilicinea</td>\n",
       "      <td>MG</td>\n",
       "      <td>Technology</td>\n",
       "      <td>1</td>\n",
       "    </tr>\n",
       "    <tr>\n",
       "      <th>119142</th>\n",
       "      <td>66dea50a8b16d9b4dee7af250b4be1a5</td>\n",
       "      <td>297</td>\n",
       "      <td>289</td>\n",
       "      <td>272</td>\n",
       "      <td>1</td>\n",
       "      <td>debit_card</td>\n",
       "      <td>1</td>\n",
       "      <td>86.86</td>\n",
       "      <td>1</td>\n",
       "      <td>006619bbed68b000c8ba3f8725d5409e</td>\n",
       "      <td>...</td>\n",
       "      <td>288</td>\n",
       "      <td>60350aa974b26ff12caad89e55993bd6</td>\n",
       "      <td>83750</td>\n",
       "      <td>lapa</td>\n",
       "      <td>PR</td>\n",
       "      <td>14407</td>\n",
       "      <td>franca</td>\n",
       "      <td>SP</td>\n",
       "      <td>Health_Beauty</td>\n",
       "      <td>1</td>\n",
       "    </tr>\n",
       "  </tbody>\n",
       "</table>\n",
       "<p>113232 rows × 25 columns</p>\n",
       "</div>"
      ],
      "text/plain": [
       "                                order_id  order_purchase_timestamp  \\\n",
       "0       e481f51cbdc54678b7cc49136f2d6af7                       454   \n",
       "1       e481f51cbdc54678b7cc49136f2d6af7                       454   \n",
       "2       e481f51cbdc54678b7cc49136f2d6af7                       454   \n",
       "3       53cdb2fc8bc7dce0b6741e2150273451                       159   \n",
       "4       47770eb9100c2d0c44946d9cf07ec65d                       144   \n",
       "...                                  ...                       ...   \n",
       "119138  63943bddc261676b46f01ca7ac2f7bd8                       327   \n",
       "119139  83c1379a015df1e13d02aae0204711ab                       490   \n",
       "119140  11c177c8e97725db2631073c19f07b62                       356   \n",
       "119141  11c177c8e97725db2631073c19f07b62                       356   \n",
       "119142  66dea50a8b16d9b4dee7af250b4be1a5                       297   \n",
       "\n",
       "        order_delivered_customer_date  order_estimated_delivery_date  \\\n",
       "0                                 446                            439   \n",
       "1                                 446                            439   \n",
       "2                                 446                            439   \n",
       "3                                 145                            140   \n",
       "4                                 135                            118   \n",
       "...                               ...                            ...   \n",
       "119138                            305                            304   \n",
       "119139                            465                            460   \n",
       "119140                            339                            319   \n",
       "119141                            339                            319   \n",
       "119142                            289                            272   \n",
       "\n",
       "        payment_sequential payment_type  payment_installments  payment_value  \\\n",
       "0                        1  credit_card                     1          18.12   \n",
       "1                        3      voucher                     1           2.00   \n",
       "2                        2      voucher                     1          18.59   \n",
       "3                        1       boleto                     1         141.46   \n",
       "4                        1  credit_card                     3         179.12   \n",
       "...                    ...          ...                   ...            ...   \n",
       "119138                   1  credit_card                     3         195.00   \n",
       "119139                   1  credit_card                     5         271.01   \n",
       "119140                   1  credit_card                     4         441.16   \n",
       "119141                   1  credit_card                     4         441.16   \n",
       "119142                   1   debit_card                     1          86.86   \n",
       "\n",
       "        order_item_id                        product_id  ...  \\\n",
       "0                   1  87285b34884572647811a353c7ac498a  ...   \n",
       "1                   1  87285b34884572647811a353c7ac498a  ...   \n",
       "2                   1  87285b34884572647811a353c7ac498a  ...   \n",
       "3                   1  595fac2a385ac33a80bd5114aec74eb8  ...   \n",
       "4                   1  aa4383b373c6aca5d8797843e5594415  ...   \n",
       "...               ...                               ...  ...   \n",
       "119138              1  f1d4ce8c6dd66c47bbaa8c6781c2a923  ...   \n",
       "119139              1  b80910977a37536adeddd63663f916ad  ...   \n",
       "119140              1  d1c427060a0f73f6b889a5c7c61f2ac4  ...   \n",
       "119141              2  d1c427060a0f73f6b889a5c7c61f2ac4  ...   \n",
       "119142              1  006619bbed68b000c8ba3f8725d5409e  ...   \n",
       "\n",
       "       review_answer_timestamp                customer_unique_id  \\\n",
       "0                          444  7c396fd4830fd04220f754e42b4e5bff   \n",
       "1                          444  7c396fd4830fd04220f754e42b4e5bff   \n",
       "2                          444  7c396fd4830fd04220f754e42b4e5bff   \n",
       "3                          144  af07308b275d755c9edb36a90c618231   \n",
       "4                          130  3a653a41f6f9fc3d2a113cf8398680e8   \n",
       "...                        ...                               ...   \n",
       "119138                     303  da62f9e57a76d978d02ab5362c509660   \n",
       "119139                     464  737520a9aad80b3fbbdad19b66b37b30   \n",
       "119140                     337  5097a5312c8b157bb7be58ae360ef43c   \n",
       "119141                     337  5097a5312c8b157bb7be58ae360ef43c   \n",
       "119142                     288  60350aa974b26ff12caad89e55993bd6   \n",
       "\n",
       "        customer_zip_code_prefix customer_city  customer_state  \\\n",
       "0                           3149     sao paulo              SP   \n",
       "1                           3149     sao paulo              SP   \n",
       "2                           3149     sao paulo              SP   \n",
       "3                          47813     barreiras              BA   \n",
       "4                          75265    vianopolis              GO   \n",
       "...                          ...           ...             ...   \n",
       "119138                     11722  praia grande              SP   \n",
       "119139                     45920   nova vicosa              BA   \n",
       "119140                     28685       japuiba              RJ   \n",
       "119141                     28685       japuiba              RJ   \n",
       "119142                     83750          lapa              PR   \n",
       "\n",
       "        seller_zip_code_prefix     seller_city seller_state  \\\n",
       "0                         9350            maua           SP   \n",
       "1                         9350            maua           SP   \n",
       "2                         9350            maua           SP   \n",
       "3                        31570  belo horizonte           SP   \n",
       "4                        14840         guariba           SP   \n",
       "...                        ...             ...          ...   \n",
       "119138                   17602            tupa           SP   \n",
       "119139                    8290       sao paulo           SP   \n",
       "119140                   37175        ilicinea           MG   \n",
       "119141                   37175        ilicinea           MG   \n",
       "119142                   14407          franca           SP   \n",
       "\n",
       "       product_category_name product_photos_qty  \n",
       "0                       Home                  4  \n",
       "1                       Home                  4  \n",
       "2                       Home                  4  \n",
       "3              Health_Beauty                  1  \n",
       "4                 Automotive                  1  \n",
       "...                      ...                ...  \n",
       "119138                  Baby                  4  \n",
       "119139                  Home                  2  \n",
       "119140            Technology                  1  \n",
       "119141            Technology                  1  \n",
       "119142         Health_Beauty                  1  \n",
       "\n",
       "[113232 rows x 25 columns]"
      ]
     },
     "execution_count": 429,
     "metadata": {},
     "output_type": "execute_result"
    }
   ],
   "source": [
    "df"
   ]
  },
  {
   "cell_type": "code",
   "execution_count": 430,
   "metadata": {},
   "outputs": [],
   "source": [
    "# save the dataframe as csv file\n",
    "\n",
    "df.to_csv(\"Olist.csv\",index=False)"
   ]
  }
 ],
 "metadata": {
  "kernelspec": {
   "display_name": "base",
   "language": "python",
   "name": "python3"
  },
  "language_info": {
   "codemirror_mode": {
    "name": "ipython",
    "version": 3
   },
   "file_extension": ".py",
   "mimetype": "text/x-python",
   "name": "python",
   "nbconvert_exporter": "python",
   "pygments_lexer": "ipython3",
   "version": "3.9.15"
  },
  "orig_nbformat": 4,
  "vscode": {
   "interpreter": {
    "hash": "d25f34363254810493f69e19f8fea8925d807b842d2c9e5aec83143d940402f1"
   }
  }
 },
 "nbformat": 4,
 "nbformat_minor": 2
}
