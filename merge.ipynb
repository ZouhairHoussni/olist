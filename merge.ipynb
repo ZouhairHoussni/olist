{
 "cells": [
  {
   "attachments": {},
   "cell_type": "markdown",
   "metadata": {},
   "source": [
    "## Initialisation :"
   ]
  },
  {
   "cell_type": "code",
   "execution_count": 105,
   "metadata": {},
   "outputs": [],
   "source": [
    "import pandas as pd\n",
    "\n",
    "# lecture des csv sous le format dataframe \n",
    "\n",
    "df_customer = pd.read_csv(\"csv/olist_customers_dataset.csv\")\n",
    "df_geo = pd.read_csv(\"csv/olist_geolocation_dataset.csv\")\n",
    "df_items = pd.read_csv(\"csv/olist_order_items_dataset.csv\")\n",
    "df_payments = pd.read_csv(\"csv/olist_order_payments_dataset.csv\")\n",
    "df_reviews = pd.read_csv(\"csv/olist_order_reviews_dataset.csv\")\n",
    "df_orders = pd.read_csv(\"csv/olist_orders_dataset.csv\")\n",
    "df_products = pd.read_csv(\"csv/olist_products_dataset.csv\")\n",
    "df_sellers = pd.read_csv(\"csv/olist_sellers_dataset.csv\")\n",
    "df_categ = pd.read_csv(\"csv/product_category_name_translation.csv\")"
   ]
  },
  {
   "cell_type": "code",
   "execution_count": 106,
   "metadata": {},
   "outputs": [],
   "source": [
    "# Mettre les dataframes dans un dictionnaire pour facilement les parcourir\n",
    "\n",
    "dict_df = { \"df_customer\" : df_customer,\n",
    "            \"df_geo\" : df_geo,\n",
    "            \"df_items\" : df_items , \n",
    "            \"df_payments\" : df_payments ,\n",
    "            \"df_reviews\" : df_reviews ,\n",
    "            \"df_orders\" : df_orders ,\n",
    "            \"df_products\" : df_products ,\n",
    "            \"df_sellers\" : df_sellers ,\n",
    "            \"df_categ\" : df_categ }\n",
    "\n",
    "# extraction des noms de colonnes de tous les dataframes et les stocker dans un dictionnaire\n",
    "\n",
    "dict_col = {}\n",
    "\n",
    "for key in dict_df:\n",
    "\n",
    "    dict_col[key] = list(dict_df[key].columns)"
   ]
  },
  {
   "attachments": {},
   "cell_type": "markdown",
   "metadata": {},
   "source": [
    "## Sélection des colonnes :"
   ]
  },
  {
   "attachments": {},
   "cell_type": "markdown",
   "metadata": {},
   "source": [
    "### Orders :"
   ]
  },
  {
   "cell_type": "code",
   "execution_count": 107,
   "metadata": {},
   "outputs": [
    {
     "data": {
      "text/plain": [
       "['order_id',\n",
       " 'customer_id',\n",
       " 'order_status',\n",
       " 'order_purchase_timestamp',\n",
       " 'order_approved_at',\n",
       " 'order_delivered_carrier_date',\n",
       " 'order_delivered_customer_date',\n",
       " 'order_estimated_delivery_date']"
      ]
     },
     "execution_count": 107,
     "metadata": {},
     "output_type": "execute_result"
    }
   ],
   "source": [
    "# Les colonnes avant suppression\n",
    "\n",
    "list(df_orders.columns)"
   ]
  },
  {
   "cell_type": "code",
   "execution_count": 108,
   "metadata": {},
   "outputs": [],
   "source": [
    "# suppression des 2 colonnes \"order_approved_at\"et \"order_delivered_carrier_date\"\n",
    "\n",
    "df_orders = df_orders.drop(axis=1,columns=[\"order_approved_at\",\"order_delivered_carrier_date\"])\n"
   ]
  },
  {
   "cell_type": "code",
   "execution_count": 109,
   "metadata": {},
   "outputs": [
    {
     "data": {
      "text/plain": [
       "['order_id',\n",
       " 'customer_id',\n",
       " 'order_status',\n",
       " 'order_purchase_timestamp',\n",
       " 'order_delivered_customer_date',\n",
       " 'order_estimated_delivery_date']"
      ]
     },
     "execution_count": 109,
     "metadata": {},
     "output_type": "execute_result"
    }
   ],
   "source": [
    "# Les colonnes après suppression\n",
    "\n",
    "list(df_orders.columns)"
   ]
  },
  {
   "attachments": {},
   "cell_type": "markdown",
   "metadata": {},
   "source": [
    "### Products :"
   ]
  },
  {
   "cell_type": "code",
   "execution_count": 110,
   "metadata": {},
   "outputs": [
    {
     "data": {
      "text/plain": [
       "['product_id',\n",
       " 'product_category_name',\n",
       " 'product_name_lenght',\n",
       " 'product_description_lenght',\n",
       " 'product_photos_qty',\n",
       " 'product_weight_g',\n",
       " 'product_length_cm',\n",
       " 'product_height_cm',\n",
       " 'product_width_cm']"
      ]
     },
     "execution_count": 110,
     "metadata": {},
     "output_type": "execute_result"
    }
   ],
   "source": [
    "# Les colonnes avant suppression\n",
    "\n",
    "list(df_products.columns)"
   ]
  },
  {
   "cell_type": "code",
   "execution_count": 111,
   "metadata": {},
   "outputs": [],
   "source": [
    "# suppression des 6 colonnes \"product_name_lenght\",\"product_description_lenght\",\"product_weight_g\",\"product_length_cm\",\"product_height_cm\",\"product_width_cm\"\n",
    "\n",
    "df_products = df_products.drop(axis=1,columns=[\"product_name_lenght\",\"product_description_lenght\",\"product_weight_g\",\"product_length_cm\",\"product_height_cm\",\"product_width_cm\"])"
   ]
  },
  {
   "cell_type": "code",
   "execution_count": 112,
   "metadata": {},
   "outputs": [
    {
     "data": {
      "text/plain": [
       "['product_id', 'product_category_name', 'product_photos_qty']"
      ]
     },
     "execution_count": 112,
     "metadata": {},
     "output_type": "execute_result"
    }
   ],
   "source": [
    "# Les colonnes après suppression\n",
    "\n",
    "list(df_products.columns)"
   ]
  },
  {
   "attachments": {},
   "cell_type": "markdown",
   "metadata": {},
   "source": [
    "### Items :"
   ]
  },
  {
   "cell_type": "code",
   "execution_count": 113,
   "metadata": {},
   "outputs": [
    {
     "data": {
      "text/plain": [
       "['order_id',\n",
       " 'order_item_id',\n",
       " 'product_id',\n",
       " 'seller_id',\n",
       " 'shipping_limit_date',\n",
       " 'price',\n",
       " 'freight_value']"
      ]
     },
     "execution_count": 113,
     "metadata": {},
     "output_type": "execute_result"
    }
   ],
   "source": [
    "# Les colonnes avant suppression\n",
    "\n",
    "list(df_items.columns)"
   ]
  },
  {
   "cell_type": "code",
   "execution_count": 114,
   "metadata": {},
   "outputs": [],
   "source": [
    "# suppression de la colonne \"shipping_limit_date\"\n",
    "\n",
    "df_items = df_items.drop(axis=1,columns=\"shipping_limit_date\")"
   ]
  },
  {
   "cell_type": "code",
   "execution_count": 115,
   "metadata": {},
   "outputs": [
    {
     "data": {
      "text/plain": [
       "['order_id',\n",
       " 'order_item_id',\n",
       " 'product_id',\n",
       " 'seller_id',\n",
       " 'price',\n",
       " 'freight_value']"
      ]
     },
     "execution_count": 115,
     "metadata": {},
     "output_type": "execute_result"
    }
   ],
   "source": [
    "# Les colonnes après suppression\n",
    "\n",
    "list(df_items.columns)"
   ]
  },
  {
   "attachments": {},
   "cell_type": "markdown",
   "metadata": {},
   "source": [
    "### Reviews :"
   ]
  },
  {
   "cell_type": "code",
   "execution_count": 116,
   "metadata": {},
   "outputs": [
    {
     "data": {
      "text/plain": [
       "['review_id',\n",
       " 'order_id',\n",
       " 'review_score',\n",
       " 'review_comment_title',\n",
       " 'review_comment_message',\n",
       " 'review_creation_date',\n",
       " 'review_answer_timestamp']"
      ]
     },
     "execution_count": 116,
     "metadata": {},
     "output_type": "execute_result"
    }
   ],
   "source": [
    "# Les colonnes avant suppression\n",
    "\n",
    "list(df_reviews.columns)"
   ]
  },
  {
   "cell_type": "code",
   "execution_count": 117,
   "metadata": {},
   "outputs": [],
   "source": [
    "# suppression de la colonne \"review_comment_title\",\"review_comment_message\" et \"review_creation_date\"\n",
    "\n",
    "df_reviews = df_reviews.drop(axis=1,columns=[\"review_comment_title\",\"review_comment_message\",\"review_creation_date\"])"
   ]
  },
  {
   "cell_type": "code",
   "execution_count": 118,
   "metadata": {},
   "outputs": [
    {
     "data": {
      "text/plain": [
       "['review_id', 'order_id', 'review_score', 'review_answer_timestamp']"
      ]
     },
     "execution_count": 118,
     "metadata": {},
     "output_type": "execute_result"
    }
   ],
   "source": [
    "# Les colonnes après suppression\n",
    "\n",
    "list(df_reviews.columns)"
   ]
  },
  {
   "attachments": {},
   "cell_type": "markdown",
   "metadata": {},
   "source": [
    "### Geo :"
   ]
  },
  {
   "cell_type": "code",
   "execution_count": 119,
   "metadata": {},
   "outputs": [
    {
     "data": {
      "text/plain": [
       "['geolocation_zip_code_prefix',\n",
       " 'geolocation_lat',\n",
       " 'geolocation_lng',\n",
       " 'geolocation_city',\n",
       " 'geolocation_state']"
      ]
     },
     "execution_count": 119,
     "metadata": {},
     "output_type": "execute_result"
    }
   ],
   "source": [
    "# Les colonnes avant suppression\n",
    "\n",
    "list(df_geo.columns)"
   ]
  },
  {
   "cell_type": "code",
   "execution_count": 120,
   "metadata": {},
   "outputs": [],
   "source": [
    "# suppression de la colonne \"review_comment_title\",\"review_comment_message\" et \"review_creation_date\"\n",
    "\n",
    "df_geo = df_geo.drop(axis=1,columns=[\"geolocation_lat\",\"geolocation_lng\"])"
   ]
  },
  {
   "cell_type": "code",
   "execution_count": 121,
   "metadata": {},
   "outputs": [
    {
     "data": {
      "text/plain": [
       "['geolocation_zip_code_prefix', 'geolocation_city', 'geolocation_state']"
      ]
     },
     "execution_count": 121,
     "metadata": {},
     "output_type": "execute_result"
    }
   ],
   "source": [
    "# Les colonnes après suppression\n",
    "\n",
    "list(df_geo.columns)"
   ]
  },
  {
   "attachments": {},
   "cell_type": "markdown",
   "metadata": {},
   "source": [
    "## Merge"
   ]
  },
  {
   "cell_type": "code",
   "execution_count": 122,
   "metadata": {},
   "outputs": [],
   "source": [
    "# merges on 'order_id'\n",
    "\n",
    "df = df_orders.merge(df_payments, how= 'left', on = 'order_id')\n",
    "\n",
    "df = df.merge(df_items, how= 'left', on = 'order_id')\n",
    "\n",
    "df = df.merge(df_reviews, how= 'left', on = 'order_id')\n",
    "\n",
    "# merges on 'customer_id'\n",
    "\n",
    "df = df.merge(df_customer, how= 'left', on = 'customer_id')\n",
    "\n",
    "# merges on 'seller_id'\n",
    "\n",
    "df = df.merge(df_sellers, how= 'left', on = 'seller_id')\n",
    "\n",
    "# merges on 'product_id'\n",
    "\n",
    "df = df.merge(df_products, how= 'left', on = 'product_id')"
   ]
  },
  {
   "cell_type": "code",
   "execution_count": 123,
   "metadata": {},
   "outputs": [
    {
     "name": "stdout",
     "output_type": "stream",
     "text": [
      "<class 'pandas.core.frame.DataFrame'>\n",
      "Int64Index: 119143 entries, 0 to 119142\n",
      "Data columns (total 27 columns):\n",
      " #   Column                         Non-Null Count   Dtype  \n",
      "---  ------                         --------------   -----  \n",
      " 0   order_id                       119143 non-null  object \n",
      " 1   customer_id                    119143 non-null  object \n",
      " 2   order_status                   119143 non-null  object \n",
      " 3   order_purchase_timestamp       119143 non-null  object \n",
      " 4   order_delivered_customer_date  115722 non-null  object \n",
      " 5   order_estimated_delivery_date  119143 non-null  object \n",
      " 6   payment_sequential             119140 non-null  float64\n",
      " 7   payment_type                   119140 non-null  object \n",
      " 8   payment_installments           119140 non-null  float64\n",
      " 9   payment_value                  119140 non-null  float64\n",
      " 10  order_item_id                  118310 non-null  float64\n",
      " 11  product_id                     118310 non-null  object \n",
      " 12  seller_id                      118310 non-null  object \n",
      " 13  price                          118310 non-null  float64\n",
      " 14  freight_value                  118310 non-null  float64\n",
      " 15  review_id                      118146 non-null  object \n",
      " 16  review_score                   118146 non-null  float64\n",
      " 17  review_answer_timestamp        118146 non-null  object \n",
      " 18  customer_unique_id             119143 non-null  object \n",
      " 19  customer_zip_code_prefix       119143 non-null  int64  \n",
      " 20  customer_city                  119143 non-null  object \n",
      " 21  customer_state                 119143 non-null  object \n",
      " 22  seller_zip_code_prefix         118310 non-null  float64\n",
      " 23  seller_city                    118310 non-null  object \n",
      " 24  seller_state                   118310 non-null  object \n",
      " 25  product_category_name          116601 non-null  object \n",
      " 26  product_photos_qty             116601 non-null  float64\n",
      "dtypes: float64(9), int64(1), object(17)\n",
      "memory usage: 25.5+ MB\n"
     ]
    }
   ],
   "source": [
    "df.info()"
   ]
  },
  {
   "attachments": {},
   "cell_type": "markdown",
   "metadata": {},
   "source": [
    "## Analyse :"
   ]
  },
  {
   "cell_type": "code",
   "execution_count": 124,
   "metadata": {},
   "outputs": [],
   "source": [
    "# from pandas_profiling import ProfileReport\n",
    "\n",
    "\n",
    "# profile = ProfileReport(df, title=\"Pandas Profiling Report\")\n",
    "# profile.to_widgets()\n",
    "# profile.to_notebook_iframe()"
   ]
  },
  {
   "attachments": {},
   "cell_type": "markdown",
   "metadata": {},
   "source": [
    "## Nettoyage :"
   ]
  },
  {
   "attachments": {},
   "cell_type": "markdown",
   "metadata": {},
   "source": [
    "### Traduction et regroupement des catégories :"
   ]
  },
  {
   "cell_type": "code",
   "execution_count": 125,
   "metadata": {},
   "outputs": [
    {
     "data": {
      "text/plain": [
       "75"
      ]
     },
     "execution_count": 125,
     "metadata": {},
     "output_type": "execute_result"
    }
   ],
   "source": [
    "# création d'un dictionnaire pour une réduction des catégories\n",
    "\n",
    "categories = {\n",
    "\n",
    " 'health_beauty': 'Health_Beauty',\n",
    " 'perfumery': 'Health_Beauty',\n",
    " 'computers': 'Technology',\n",
    " 'pc_gamer' : 'Technology',\n",
    " 'computers_accessories': 'Technology',\n",
    " 'electronics': 'Technology',\n",
    " 'tablets_printing_image': 'Technology',\n",
    " 'telephony': 'Technology',\n",
    " 'fixed_telephony': 'Technology',\n",
    " 'auto': 'Automotive',\n",
    " 'small_appliances_home_oven_and_coffee': 'Home',\n",
    " 'home_comfort_2': 'Home',\n",
    " 'home_appliances_2': 'Home',\n",
    " 'home_confort': 'Home',\n",
    " 'air_conditioning': 'Home',\n",
    " 'small_appliances': 'Home',\n",
    " 'bed_bath_table': 'Home',\n",
    " 'furniture_decor': 'Home',\n",
    " 'housewares': 'Home',\n",
    " 'home_appliances': 'Home',\n",
    " 'home_comfort': 'Home',\n",
    " 'kitchen_dining_laundry_garden_furniture': 'Home',\n",
    " 'portable_kitchen_food_preparers' : 'Home',\n",
    " 'fashio_female_clothing': 'Fashion_Accessories',\n",
    " 'luggage_accessories': 'Fashion_Accessories',\n",
    " 'fashion_bags_accessories': 'Fashion_Accessories',\n",
    " 'fashion_shoes': 'Fashion_Accessories',\n",
    " 'watches_gifts': 'Fashion_Accessories',\n",
    " 'fashion_male_clothing': 'Fashion_Accessories',\n",
    " 'fashion_female_clothing': 'Fashion_Accessories',\n",
    " 'fashion_childrens_clothes': 'Fashion_Accessories',\n",
    " 'fashion_underwear_beach': 'Fashion_Accessories',\n",
    " 'fashion_sport': 'Fashion_Accessories',\n",
    " 'sports_leisure': 'Sports_Leisure',\n",
    " 'food_drink': 'Food_Beverage',\n",
    " 'la_cuisine': 'Food_Beverage',\n",
    " 'food': 'Food_Beverage',\n",
    " 'drinks': 'Food_Beverage',\n",
    " 'baby': 'Baby',\n",
    " 'diapers_and_hygiene': 'Baby',\n",
    " 'stationery': 'Office_Supplies',\n",
    " 'office_furniture': 'Office_Supplies',\n",
    " 'flowers': 'Gardening',\n",
    " 'costruction_tools_garden': 'Gardening',\n",
    " 'books_general_interest': 'Books',\n",
    " 'books_technical': 'Books',\n",
    " 'books_imported': 'Books',\n",
    " 'cds_dvds_musicals': 'Books',\n",
    " 'dvds_blu_ray': 'Books',\n",
    " 'art': 'Arts_Music',\n",
    " 'audio': 'Arts_Music',\n",
    " 'music': 'Arts_Music',\n",
    " 'arts_and_craftmanship': 'Arts_Music',\n",
    " 'cine_photo': 'Arts_Music',\n",
    " 'musical_instruments': 'Arts_Music',\n",
    " 'toys': 'Toys_Games',\n",
    " 'consoles_games': 'Toys_Games',\n",
    " 'cool_stuff': 'Toys_Games',\n",
    " 'party_supplies': 'Party_Supplies',\n",
    " 'christmas_supplies': 'Party_Supplies',\n",
    " 'home_construction': 'Construction_Tools',\n",
    " 'costruction_tools_tools': 'Construction_Tools',\n",
    " 'construction_tools_construction': 'Construction_Tools',\n",
    " 'garden_tools': 'Construction_Tools',\n",
    " 'construction_tools_lights': 'Construction_Tools',\n",
    " 'construction_tools_safety': 'Construction_Tools',\n",
    " 'pet_shop': 'Pet_Supplies',\n",
    " 'industry_commerce_and_business': 'Agro_Industry_Commerce',\n",
    " 'agro_industry_and_commerce': 'Agro_Industry_Commerce',\n",
    " 'furniture_mattress_and_upholstery': 'Furniture',\n",
    " 'furniture_living_room': 'Furniture',\n",
    " 'furniture_bedroom': 'Furniture',\n",
    " 'market_place': 'Market_place',\n",
    " 'signaling_and_security': 'Signaling_Security',\n",
    " 'security_and_services': 'Signaling_Security'\n",
    " \n",
    " }\n",
    "\n",
    "len(categories)"
   ]
  },
  {
   "cell_type": "code",
   "execution_count": 126,
   "metadata": {},
   "outputs": [
    {
     "data": {
      "text/plain": [
       "{'beleza_saude': 'health_beauty',\n",
       " 'informatica_acessorios': 'computers_accessories',\n",
       " 'automotivo': 'auto',\n",
       " 'cama_mesa_banho': 'bed_bath_table',\n",
       " 'moveis_decoracao': 'furniture_decor',\n",
       " 'esporte_lazer': 'sports_leisure',\n",
       " 'perfumaria': 'perfumery',\n",
       " 'utilidades_domesticas': 'housewares',\n",
       " 'telefonia': 'telephony',\n",
       " 'relogios_presentes': 'watches_gifts',\n",
       " 'alimentos_bebidas': 'food_drink',\n",
       " 'bebes': 'baby',\n",
       " 'papelaria': 'stationery',\n",
       " 'tablets_impressao_imagem': 'tablets_printing_image',\n",
       " 'brinquedos': 'toys',\n",
       " 'telefonia_fixa': 'fixed_telephony',\n",
       " 'ferramentas_jardim': 'garden_tools',\n",
       " 'fashion_bolsas_e_acessorios': 'fashion_bags_accessories',\n",
       " 'eletroportateis': 'small_appliances',\n",
       " 'consoles_games': 'consoles_games',\n",
       " 'audio': 'audio',\n",
       " 'fashion_calcados': 'fashion_shoes',\n",
       " 'cool_stuff': 'cool_stuff',\n",
       " 'malas_acessorios': 'luggage_accessories',\n",
       " 'climatizacao': 'air_conditioning',\n",
       " 'construcao_ferramentas_construcao': 'construction_tools_construction',\n",
       " 'moveis_cozinha_area_de_servico_jantar_e_jardim': 'kitchen_dining_laundry_garden_furniture',\n",
       " 'construcao_ferramentas_jardim': 'costruction_tools_garden',\n",
       " 'fashion_roupa_masculina': 'fashion_male_clothing',\n",
       " 'pet_shop': 'pet_shop',\n",
       " 'moveis_escritorio': 'office_furniture',\n",
       " 'market_place': 'market_place',\n",
       " 'eletronicos': 'electronics',\n",
       " 'eletrodomesticos': 'home_appliances',\n",
       " 'artigos_de_festas': 'party_supplies',\n",
       " 'casa_conforto': 'home_confort',\n",
       " 'construcao_ferramentas_ferramentas': 'costruction_tools_tools',\n",
       " 'agro_industria_e_comercio': 'agro_industry_and_commerce',\n",
       " 'moveis_colchao_e_estofado': 'furniture_mattress_and_upholstery',\n",
       " 'livros_tecnicos': 'books_technical',\n",
       " 'casa_construcao': 'home_construction',\n",
       " 'instrumentos_musicais': 'musical_instruments',\n",
       " 'moveis_sala': 'furniture_living_room',\n",
       " 'construcao_ferramentas_iluminacao': 'construction_tools_lights',\n",
       " 'industria_comercio_e_negocios': 'industry_commerce_and_business',\n",
       " 'alimentos': 'food',\n",
       " 'artes': 'art',\n",
       " 'moveis_quarto': 'furniture_bedroom',\n",
       " 'livros_interesse_geral': 'books_general_interest',\n",
       " 'construcao_ferramentas_seguranca': 'construction_tools_safety',\n",
       " 'fashion_underwear_e_moda_praia': 'fashion_underwear_beach',\n",
       " 'fashion_esporte': 'fashion_sport',\n",
       " 'sinalizacao_e_seguranca': 'signaling_and_security',\n",
       " 'pcs': 'computers',\n",
       " 'artigos_de_natal': 'christmas_supplies',\n",
       " 'fashion_roupa_feminina': 'fashio_female_clothing',\n",
       " 'eletrodomesticos_2': 'home_appliances_2',\n",
       " 'livros_importados': 'books_imported',\n",
       " 'bebidas': 'drinks',\n",
       " 'cine_foto': 'cine_photo',\n",
       " 'la_cuisine': 'la_cuisine',\n",
       " 'musica': 'music',\n",
       " 'casa_conforto_2': 'home_comfort_2',\n",
       " 'portateis_casa_forno_e_cafe': 'small_appliances_home_oven_and_coffee',\n",
       " 'cds_dvds_musicais': 'cds_dvds_musicals',\n",
       " 'dvds_blu_ray': 'dvds_blu_ray',\n",
       " 'flores': 'flowers',\n",
       " 'artes_e_artesanato': 'arts_and_craftmanship',\n",
       " 'fraldas_higiene': 'diapers_and_hygiene',\n",
       " 'fashion_roupa_infanto_juvenil': 'fashion_childrens_clothes',\n",
       " 'seguros_e_servicos': 'security_and_services',\n",
       " 'portateis_cozinha_e_preparadores_de_alimentos': 'portable_kitchen_food_preparers',\n",
       " 'pc_gamer': 'pc_gamer'}"
      ]
     },
     "execution_count": 126,
     "metadata": {},
     "output_type": "execute_result"
    }
   ],
   "source": [
    "# création d'un dictionnaire pour la traduction des catégories en anglais\n",
    "\n",
    "translator = df_categ.set_index('product_category_name')['product_category_name_english'].to_dict()\n",
    "\n",
    "# Ajout des deux catégories manquantes à notre dictionnaire\n",
    "\n",
    "translator[\"portateis_cozinha_e_preparadores_de_alimentos\"] = \"portable_kitchen_food_preparers\"\n",
    "translator[\"pc_gamer\"] =\"pc_gamer\"\n",
    "\n",
    "\n",
    "translator\n"
   ]
  },
  {
   "cell_type": "code",
   "execution_count": 127,
   "metadata": {},
   "outputs": [
    {
     "data": {
      "text/plain": [
       "0                    housewares\n",
       "1                    housewares\n",
       "2                    housewares\n",
       "3                     perfumery\n",
       "4                          auto\n",
       "                  ...          \n",
       "119138                     baby\n",
       "119139        home_appliances_2\n",
       "119140    computers_accessories\n",
       "119141    computers_accessories\n",
       "119142            health_beauty\n",
       "Name: product_category_name, Length: 119143, dtype: object"
      ]
     },
     "execution_count": 127,
     "metadata": {},
     "output_type": "execute_result"
    }
   ],
   "source": [
    "# Traduire la colonne des catégories\n",
    "\n",
    "df[\"product_category_name\"] = df[\"product_category_name\"].map(translator)\n",
    "\n",
    "df[\"product_category_name\"]"
   ]
  },
  {
   "cell_type": "code",
   "execution_count": 128,
   "metadata": {},
   "outputs": [
    {
     "data": {
      "text/plain": [
       "0                  Home\n",
       "1                  Home\n",
       "2                  Home\n",
       "3         Health_Beauty\n",
       "4            Automotive\n",
       "              ...      \n",
       "119138             Baby\n",
       "119139             Home\n",
       "119140       Technology\n",
       "119141       Technology\n",
       "119142    Health_Beauty\n",
       "Name: product_category_name, Length: 119143, dtype: object"
      ]
     },
     "execution_count": 128,
     "metadata": {},
     "output_type": "execute_result"
    }
   ],
   "source": [
    "# réduire le nombre des catégories\n",
    "\n",
    "df[\"product_category_name\"] = df[\"product_category_name\"].map(categories)\n",
    "\n",
    "df[\"product_category_name\"]"
   ]
  },
  {
   "cell_type": "code",
   "execution_count": 129,
   "metadata": {},
   "outputs": [],
   "source": [
    "# transformation des colonnes zip\n",
    "\n",
    "df['seller_zip_code_prefix'] = df['seller_zip_code_prefix'].astype(str).str[:-2]\n",
    "df['customer_zip_code_prefix'] = df['customer_zip_code_prefix'].astype(str)\n"
   ]
  },
  {
   "cell_type": "code",
   "execution_count": 130,
   "metadata": {},
   "outputs": [],
   "source": [
    "# suppression des lignes où les statut des ordre est indisponible\n",
    "\n",
    "df = df.drop(df[df[\"order_status\"] == \"unavailable\"].index)\n",
    "df = df.dropna()\n",
    "\n"
   ]
  },
  {
   "cell_type": "code",
   "execution_count": 131,
   "metadata": {},
   "outputs": [
    {
     "data": {
      "text/plain": [
       "1.0     57190\n",
       "2.0     22410\n",
       "3.0     12619\n",
       "4.0      8594\n",
       "5.0      5462\n",
       "6.0      3836\n",
       "7.0      1522\n",
       "8.0       757\n",
       "10.0      346\n",
       "9.0       300\n",
       "11.0       73\n",
       "12.0       59\n",
       "13.0       30\n",
       "15.0       11\n",
       "17.0       11\n",
       "14.0        6\n",
       "18.0        4\n",
       "20.0        1\n",
       "19.0        1\n",
       "Name: product_photos_qty, dtype: int64"
      ]
     },
     "execution_count": 131,
     "metadata": {},
     "output_type": "execute_result"
    }
   ],
   "source": [
    "# inspection des valeurs de la colonne des photos des produits\n",
    "\n",
    "df['product_photos_qty'].value_counts()"
   ]
  },
  {
   "cell_type": "code",
   "execution_count": 132,
   "metadata": {},
   "outputs": [],
   "source": [
    "df['product_photos_qty'] = df['product_photos_qty'].where(~(df['product_photos_qty'].isnull()), 0)\n",
    "df['product_photos_qty'] = df['product_photos_qty'].where(~(df['product_photos_qty'] > 7), 7)\n",
    "df['payment_installments'] = df['payment_installments'].where(~(df['payment_installments'].isnull()), 1)\n",
    "df['payment_sequential'] = df['payment_sequential'].where(~(df['payment_sequential'].isnull()), 1)\n"
   ]
  },
  {
   "cell_type": "code",
   "execution_count": 133,
   "metadata": {},
   "outputs": [
    {
     "data": {
      "text/plain": [
       "order_id                         0\n",
       "customer_id                      0\n",
       "order_status                     0\n",
       "order_purchase_timestamp         0\n",
       "order_delivered_customer_date    0\n",
       "order_estimated_delivery_date    0\n",
       "payment_sequential               0\n",
       "payment_type                     0\n",
       "payment_installments             0\n",
       "payment_value                    0\n",
       "order_item_id                    0\n",
       "product_id                       0\n",
       "seller_id                        0\n",
       "price                            0\n",
       "freight_value                    0\n",
       "review_id                        0\n",
       "review_score                     0\n",
       "review_answer_timestamp          0\n",
       "customer_unique_id               0\n",
       "customer_zip_code_prefix         0\n",
       "customer_city                    0\n",
       "customer_state                   0\n",
       "seller_zip_code_prefix           0\n",
       "seller_city                      0\n",
       "seller_state                     0\n",
       "product_category_name            0\n",
       "product_photos_qty               0\n",
       "dtype: int64"
      ]
     },
     "execution_count": 133,
     "metadata": {},
     "output_type": "execute_result"
    }
   ],
   "source": [
    "df.isna().sum()"
   ]
  },
  {
   "cell_type": "code",
   "execution_count": 134,
   "metadata": {},
   "outputs": [],
   "source": [
    "int_col = [\"payment_sequential\",\"payment_installments\",\"order_item_id\",\"review_score\",\"product_photos_qty\"]\n",
    "object_col = [\"order_item_id\",\"customer_zip_code_prefix\"]\n",
    "\n",
    "for col in int_col:\n",
    "    \n",
    "    df[col] = pd.to_numeric(df[col], errors='coerce',downcast='integer')\n"
   ]
  },
  {
   "cell_type": "code",
   "execution_count": 135,
   "metadata": {},
   "outputs": [],
   "source": [
    "df.drop(\"customer_id\",axis=1, inplace=True)\n",
    "df.drop(\"order_status\",axis=1, inplace=True)\n"
   ]
  },
  {
   "cell_type": "code",
   "execution_count": 136,
   "metadata": {},
   "outputs": [],
   "source": [
    "# save the dataframe as csv file\n",
    "time_col = ['order_purchase_timestamp','order_delivered_customer_date','order_estimated_delivery_date','review_answer_timestamp']\n",
    "for i in time_col:\n",
    "    df[i] = pd.to_datetime(df[i]).dt.strftime('%Y-%m-%d')\n",
    "\n",
    "df.to_csv(\"Olist_brute.csv\",index=False)\n",
    "\n"
   ]
  },
  {
   "cell_type": "code",
   "execution_count": 137,
   "metadata": {},
   "outputs": [],
   "source": [
    "# transformation colonnes dates\n",
    "\n",
    "time_col = ['order_purchase_timestamp','order_delivered_customer_date','order_estimated_delivery_date','review_answer_timestamp']\n",
    "ref_date = pd.to_datetime('2018-12-31')\n",
    "\n",
    "for col in time_col:\n",
    "    df[col] = pd.to_datetime(df[col])\n",
    "\n",
    "    df[col] = (ref_date -  df[col]).dt.days\n",
    "\n"
   ]
  },
  {
   "cell_type": "code",
   "execution_count": 138,
   "metadata": {},
   "outputs": [],
   "source": [
    "# save the dataframe as csv file\n",
    "\n",
    "df.to_csv(\"Olist.csv\",index=False)"
   ]
  },
  {
   "cell_type": "code",
   "execution_count": 140,
   "metadata": {},
   "outputs": [
    {
     "name": "stdout",
     "output_type": "stream",
     "text": [
      "<class 'pandas.core.frame.DataFrame'>\n",
      "Int64Index: 113232 entries, 0 to 119142\n",
      "Data columns (total 25 columns):\n",
      " #   Column                         Non-Null Count   Dtype  \n",
      "---  ------                         --------------   -----  \n",
      " 0   order_id                       113232 non-null  object \n",
      " 1   order_purchase_timestamp       113232 non-null  int64  \n",
      " 2   order_delivered_customer_date  113232 non-null  int64  \n",
      " 3   order_estimated_delivery_date  113232 non-null  int64  \n",
      " 4   payment_sequential             113232 non-null  int8   \n",
      " 5   payment_type                   113232 non-null  object \n",
      " 6   payment_installments           113232 non-null  int8   \n",
      " 7   payment_value                  113232 non-null  float64\n",
      " 8   order_item_id                  113232 non-null  int8   \n",
      " 9   product_id                     113232 non-null  object \n",
      " 10  seller_id                      113232 non-null  object \n",
      " 11  price                          113232 non-null  float64\n",
      " 12  freight_value                  113232 non-null  float64\n",
      " 13  review_id                      113232 non-null  object \n",
      " 14  review_score                   113232 non-null  int8   \n",
      " 15  review_answer_timestamp        113232 non-null  int64  \n",
      " 16  customer_unique_id             113232 non-null  object \n",
      " 17  customer_zip_code_prefix       113232 non-null  object \n",
      " 18  customer_city                  113232 non-null  object \n",
      " 19  customer_state                 113232 non-null  object \n",
      " 20  seller_zip_code_prefix         113232 non-null  object \n",
      " 21  seller_city                    113232 non-null  object \n",
      " 22  seller_state                   113232 non-null  object \n",
      " 23  product_category_name          113232 non-null  object \n",
      " 24  product_photos_qty             113232 non-null  int8   \n",
      "dtypes: float64(3), int64(4), int8(5), object(13)\n",
      "memory usage: 18.7+ MB\n"
     ]
    }
   ],
   "source": [
    "df.info()"
   ]
  }
 ],
 "metadata": {
  "kernelspec": {
   "display_name": "base",
   "language": "python",
   "name": "python3"
  },
  "language_info": {
   "codemirror_mode": {
    "name": "ipython",
    "version": 3
   },
   "file_extension": ".py",
   "mimetype": "text/x-python",
   "name": "python",
   "nbconvert_exporter": "python",
   "pygments_lexer": "ipython3",
   "version": "3.9.15"
  },
  "orig_nbformat": 4,
  "vscode": {
   "interpreter": {
    "hash": "d25f34363254810493f69e19f8fea8925d807b842d2c9e5aec83143d940402f1"
   }
  }
 },
 "nbformat": 4,
 "nbformat_minor": 2
}
